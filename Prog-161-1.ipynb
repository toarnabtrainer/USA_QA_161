{
 "cells": [
  {
   "cell_type": "markdown",
   "id": "c297acd1-d9a1-4769-8a72-5370999395c0",
   "metadata": {},
   "source": [
    "## Introduction to Python"
   ]
  },
  {
   "cell_type": "markdown",
   "id": "03ac3bb4-845e-4c68-becc-dfc66c02b07c",
   "metadata": {},
   "source": [
    "### Python Inputs and Outputs"
   ]
  },
  {
   "cell_type": "code",
   "execution_count": 2,
   "id": "73a3682c-fce9-4f7e-8e92-d9d6b3189024",
   "metadata": {},
   "outputs": [
    {
     "name": "stdin",
     "output_type": "stream",
     "text": [
      "Please enter the first integer:  200\n",
      "Please enter the second integer:  300\n"
     ]
    },
    {
     "name": "stdout",
     "output_type": "stream",
     "text": [
      "200 <class 'str'> 300 <class 'str'>\n",
      "So the result is 200300\n",
      "End of the program...\n"
     ]
    }
   ],
   "source": [
    "num1 = input(\"Please enter the first integer: \")\n",
    "num2 = input(\"Please enter the second integer: \")\n",
    "print (num1, type(num1), num2, type(num2))\n",
    "result = num1 + num2\n",
    "print (\"So the result is\", result)\n",
    "print (\"End of the program...\")"
   ]
  },
  {
   "cell_type": "code",
   "execution_count": 3,
   "id": "e8fe0b64-f8d2-4b61-9abc-9fde714533ab",
   "metadata": {},
   "outputs": [
    {
     "name": "stdin",
     "output_type": "stream",
     "text": [
      "Please enter the first integer:  200\n",
      "Please enter the second integer:  300\n"
     ]
    },
    {
     "name": "stdout",
     "output_type": "stream",
     "text": [
      "200 <class 'int'> 300 <class 'int'>\n",
      "So the result is 500\n",
      "End of the program...\n"
     ]
    }
   ],
   "source": [
    "num1 = int(input(\"Please enter the first integer: \"))\n",
    "num2 = int(input(\"Please enter the second integer: \"))\n",
    "print (num1, type(num1), num2, type(num2))\n",
    "result = num1 + num2\n",
    "print (\"So the result is\", result)\n",
    "print (\"End of the program...\")"
   ]
  },
  {
   "cell_type": "code",
   "execution_count": 4,
   "id": "2740f8c4-00d2-438e-8a5d-d741dc40cb4e",
   "metadata": {},
   "outputs": [
    {
     "name": "stdin",
     "output_type": "stream",
     "text": [
      "Please enter the first integer:  300\n",
      "Please enter the second integer:  400\n"
     ]
    }
   ],
   "source": [
    "num1 = int(input(\"Please enter the first integer: \"))\n",
    "num2 = int(input(\"Please enter the second integer: \"))\n",
    "result = num1 + num2"
   ]
  },
  {
   "cell_type": "code",
   "execution_count": 21,
   "id": "6682aae2-bc20-495d-876a-fc731734a12f",
   "metadata": {},
   "outputs": [
    {
     "name": "stdout",
     "output_type": "stream",
     "text": [
      "So 300 + 400 = 700\n",
      "So 300 + 400 = 700\n",
      "So 300 + 400 = 700\n",
      "So 300 + 400 = 700\n",
      "So 300 + 400 = 700\n",
      "So 300 + 400 = 700\n",
      "So 300 + 400 = 700\n",
      "So 300 + 400 = 700\n",
      "So 300 + 400 = 700.000000\n",
      "So 300 + 400 = 700.000000\n",
      "So 300 + 400 =   700.00\n",
      "So 300 + 400 = 700\n"
     ]
    }
   ],
   "source": [
    "print (\"So\", num1, \"+\", num2, \"=\", result)\n",
    "print (\"So \" + str(num1) + \" + \" + str(num2) + \" = \" + str(result))\n",
    "print (\"So {} + {} = {}\".format(num1, num2, result))      # {} indicates variable place holder\n",
    "print (\"So {0} + {1} = {2}\".format(num1, num2, result))   # using indexed place holder\n",
    "print (\"So {2} + {1} = {0}\".format(result, num2, num1))\n",
    "print (\"So {fnum} + {snum} = {tot}\".format(fnum = num1, snum = num2, tot = result))  # labelled place holder\n",
    "print (\"So {fnum} + {snum} = {tot}\".format(tot = result, snum = num2, fnum = num1))\n",
    "print (\"So %d + %d = %d\"%(num1, num2, result))  # %d means decimal i.e. integer number\n",
    "print (\"So %d + %d = %f\"%(num1, num2, result))  # %f means float\n",
    "print (\"So %d + %d = %10.6f\"%(num1, num2, result))\n",
    "print (\"So %d + %d = %8.2f\"%(num1, num2, result))\n",
    "print (f\"So {num1} + {num2} = {result}\")  # smart formatting available from Python 2.7 onwards"
   ]
  },
  {
   "cell_type": "code",
   "execution_count": null,
   "id": "46477977-06bc-469e-ba00-83221a30a02c",
   "metadata": {},
   "outputs": [],
   "source": []
  },
  {
   "cell_type": "code",
   "execution_count": null,
   "id": "68d73c8d-654c-4678-9888-8783f5ed7d25",
   "metadata": {},
   "outputs": [],
   "source": []
  }
 ],
 "metadata": {
  "kernelspec": {
   "display_name": "Python 3",
   "language": "python",
   "name": "python3"
  },
  "language_info": {
   "codemirror_mode": {
    "name": "ipython",
    "version": 3
   },
   "file_extension": ".py",
   "mimetype": "text/x-python",
   "name": "python",
   "nbconvert_exporter": "python",
   "pygments_lexer": "ipython3",
   "version": "3.8.8"
  }
 },
 "nbformat": 4,
 "nbformat_minor": 5
}
