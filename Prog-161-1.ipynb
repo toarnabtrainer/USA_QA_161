{
 "cells": [
  {
   "cell_type": "markdown",
   "id": "c297acd1-d9a1-4769-8a72-5370999395c0",
   "metadata": {},
   "source": [
    "## Introduction to Python"
   ]
  },
  {
   "cell_type": "markdown",
   "id": "03ac3bb4-845e-4c68-becc-dfc66c02b07c",
   "metadata": {},
   "source": [
    "### Python Inputs and Outputs"
   ]
  },
  {
   "cell_type": "code",
   "execution_count": 2,
   "id": "73a3682c-fce9-4f7e-8e92-d9d6b3189024",
   "metadata": {},
   "outputs": [
    {
     "name": "stdin",
     "output_type": "stream",
     "text": [
      "Please enter the first integer:  200\n",
      "Please enter the second integer:  300\n"
     ]
    },
    {
     "name": "stdout",
     "output_type": "stream",
     "text": [
      "200 <class 'str'> 300 <class 'str'>\n",
      "So the result is 200300\n",
      "End of the program...\n"
     ]
    }
   ],
   "source": [
    "num1 = input(\"Please enter the first integer: \")\n",
    "num2 = input(\"Please enter the second integer: \")\n",
    "print (num1, type(num1), num2, type(num2))\n",
    "result = num1 + num2\n",
    "print (\"So the result is\", result)\n",
    "print (\"End of the program...\")"
   ]
  },
  {
   "cell_type": "code",
   "execution_count": 3,
   "id": "e8fe0b64-f8d2-4b61-9abc-9fde714533ab",
   "metadata": {},
   "outputs": [
    {
     "name": "stdin",
     "output_type": "stream",
     "text": [
      "Please enter the first integer:  200\n",
      "Please enter the second integer:  300\n"
     ]
    },
    {
     "name": "stdout",
     "output_type": "stream",
     "text": [
      "200 <class 'int'> 300 <class 'int'>\n",
      "So the result is 500\n",
      "End of the program...\n"
     ]
    }
   ],
   "source": [
    "num1 = int(input(\"Please enter the first integer: \"))\n",
    "num2 = int(input(\"Please enter the second integer: \"))\n",
    "print (num1, type(num1), num2, type(num2))\n",
    "result = num1 + num2\n",
    "print (\"So the result is\", result)\n",
    "print (\"End of the program...\")"
   ]
  },
  {
   "cell_type": "code",
   "execution_count": 4,
   "id": "2740f8c4-00d2-438e-8a5d-d741dc40cb4e",
   "metadata": {},
   "outputs": [
    {
     "name": "stdin",
     "output_type": "stream",
     "text": [
      "Please enter the first integer:  300\n",
      "Please enter the second integer:  400\n"
     ]
    }
   ],
   "source": [
    "num1 = int(input(\"Please enter the first integer: \"))\n",
    "num2 = int(input(\"Please enter the second integer: \"))\n",
    "result = num1 + num2"
   ]
  },
  {
   "cell_type": "code",
   "execution_count": 21,
   "id": "6682aae2-bc20-495d-876a-fc731734a12f",
   "metadata": {},
   "outputs": [
    {
     "name": "stdout",
     "output_type": "stream",
     "text": [
      "So 300 + 400 = 700\n",
      "So 300 + 400 = 700\n",
      "So 300 + 400 = 700\n",
      "So 300 + 400 = 700\n",
      "So 300 + 400 = 700\n",
      "So 300 + 400 = 700\n",
      "So 300 + 400 = 700\n",
      "So 300 + 400 = 700\n",
      "So 300 + 400 = 700.000000\n",
      "So 300 + 400 = 700.000000\n",
      "So 300 + 400 =   700.00\n",
      "So 300 + 400 = 700\n"
     ]
    }
   ],
   "source": [
    "print (\"So\", num1, \"+\", num2, \"=\", result)\n",
    "print (\"So \" + str(num1) + \" + \" + str(num2) + \" = \" + str(result))\n",
    "print (\"So {} + {} = {}\".format(num1, num2, result))      # {} indicates variable place holder\n",
    "print (\"So {0} + {1} = {2}\".format(num1, num2, result))   # using indexed place holder\n",
    "print (\"So {2} + {1} = {0}\".format(result, num2, num1))\n",
    "print (\"So {fnum} + {snum} = {tot}\".format(fnum = num1, snum = num2, tot = result))  # labelled place holder\n",
    "print (\"So {fnum} + {snum} = {tot}\".format(tot = result, snum = num2, fnum = num1))\n",
    "print (\"So %d + %d = %d\"%(num1, num2, result))  # %d means decimal i.e. integer number\n",
    "print (\"So %d + %d = %f\"%(num1, num2, result))  # %f means float\n",
    "print (\"So %d + %d = %10.6f\"%(num1, num2, result))\n",
    "print (\"So %d + %d = %8.2f\"%(num1, num2, result))\n",
    "print (f\"So {num1} + {num2} = {result}\")  # smart formatting available from Python 2.7 onwards"
   ]
  },
  {
   "cell_type": "markdown",
   "id": "7b62f3fe-7ad4-4013-923a-ffb67c7d9aee",
   "metadata": {},
   "source": [
    "### Python Operators"
   ]
  },
  {
   "cell_type": "code",
   "execution_count": 22,
   "id": "68d73c8d-654c-4678-9888-8783f5ed7d25",
   "metadata": {},
   "outputs": [
    {
     "name": "stdout",
     "output_type": "stream",
     "text": [
      "140\n",
      "60\n",
      "4000\n",
      "2.5\n",
      "2\n",
      "20\n",
      "100000000\n"
     ]
    }
   ],
   "source": [
    "# Arithmetic Operators: + - * / // % **\n",
    "print (100 + 40)   # addition\n",
    "print (100 - 40)   # subtraction\n",
    "print (100 * 40)   # multiplication\n",
    "print (100 / 40)   # float division\n",
    "print (100 // 40)  # integer division\n",
    "print (100 % 40)   # modulus, remainder of the division\n",
    "print (100 ** 4)   # exponentiation"
   ]
  },
  {
   "cell_type": "code",
   "execution_count": 31,
   "id": "2491ee66-e1f8-4418-97c7-c6c53a6a37dd",
   "metadata": {},
   "outputs": [
    {
     "name": "stdout",
     "output_type": "stream",
     "text": [
      "True False\n",
      "True True\n",
      "True False False True\n",
      "False True\n"
     ]
    }
   ],
   "source": [
    "# logical Operators: and or not\n",
    "print (10 > 5 and 10 > 7, 10 > 5 and 7 > 10)\n",
    "print (10 > 5 or 10 > 7, 10 > 5 or 7 > 10)\n",
    "print (10 > 5, not 10 > 5, 5 > 10, not 5 > 10)\n",
    "print (not True, not False)"
   ]
  },
  {
   "cell_type": "code",
   "execution_count": 30,
   "id": "c5388d1e-3e01-4e7c-9df8-71b5831fbeeb",
   "metadata": {},
   "outputs": [
    {
     "name": "stdout",
     "output_type": "stream",
     "text": [
      "True True True True True True\n"
     ]
    }
   ],
   "source": [
    "# Relational Operators: < <= > >= != ==\n",
    "print (100 > 5, 100 >= 5, 100 < 300, 100 <= 300, 100 != 300, 100 == 100)"
   ]
  },
  {
   "cell_type": "code",
   "execution_count": 34,
   "id": "8ce53a23-57e3-417e-afee-230f4a8c1dfa",
   "metadata": {},
   "outputs": [
    {
     "name": "stdout",
     "output_type": "stream",
     "text": [
      "300\n",
      "600\n"
     ]
    }
   ],
   "source": [
    "# Assignment Operators: = Special Assignment Operators: += -= *= /= //= %= **=\n",
    "var1 = 100\n",
    "var1 = var1 * 3    # assignment statement\n",
    "print (var1)\n",
    "var1 *= 2\n",
    "print (var1)"
   ]
  },
  {
   "cell_type": "code",
   "execution_count": 35,
   "id": "f0d03bcc-52a7-4bf3-be75-50743b551f90",
   "metadata": {},
   "outputs": [
    {
     "name": "stdout",
     "output_type": "stream",
     "text": [
      "100 Even\n",
      "105 Odd\n"
     ]
    }
   ],
   "source": [
    "# Operator Classifications\n",
    "# Unary Operator (one operand): +100 -300\n",
    "# Binary Operator (two operands): 100 + 400  600 * 4\n",
    "# ternary operator (three operands, true part, condition, false part)\n",
    "num1 = 100\n",
    "result = \"Even\" if (num1 % 2 == 0) else \"Odd\"\n",
    "print (num1, result)\n",
    "\n",
    "num1 = 105\n",
    "result = \"Even\" if (num1 % 2 == 0) else \"Odd\"\n",
    "print (num1, result)"
   ]
  },
  {
   "cell_type": "code",
   "execution_count": null,
   "id": "3837c528-1479-4ee6-ae9d-ad12e68d022f",
   "metadata": {},
   "outputs": [],
   "source": [
    "# Anaconda - Jupyter Lab\n",
    "# Home Work: Do a study on \"Bitwise Operators\": & | ~ ^"
   ]
  },
  {
   "cell_type": "markdown",
   "id": "8338faaf-932a-486b-8f12-22677f4a75fe",
   "metadata": {},
   "source": [
    "### Conditional Statements"
   ]
  },
  {
   "cell_type": "code",
   "execution_count": 36,
   "id": "df20d9a2-0493-47fa-8d5e-a8d103a79ee8",
   "metadata": {},
   "outputs": [
    {
     "name": "stdin",
     "output_type": "stream",
     "text": [
      "Please enter the first number:  100\n",
      "Please enter the second number:  300\n",
      "Please enter the third number:  200\n"
     ]
    },
    {
     "name": "stdout",
     "output_type": "stream",
     "text": [
      "So the second number is the maximum number...\n",
      "So the maximum number is 300...\n",
      "End of the program...\n"
     ]
    }
   ],
   "source": [
    "# Take three numbers from the user input and find the maximum of three input numbers.\n",
    "num1 = int(input(\"Please enter the first number: \"))\n",
    "num2 = int(input(\"Please enter the second number: \"))\n",
    "num3 = int(input(\"Please enter the third number: \"))\n",
    "if (num1 > num2):\n",
    "    if (num1 > num3):\n",
    "        print (\"So the first number is the maximum number...\")\n",
    "        print (f\"So the maximum number is {num1}...\")\n",
    "    else:\n",
    "        print (\"So the third number is the maximum number...\")\n",
    "        print (f\"So the maximum number is {num3}...\")\n",
    "elif (num2 > num3):\n",
    "    print (\"So the second number is the maximum number...\")\n",
    "    print (f\"So the maximum number is {num2}...\")\n",
    "else:\n",
    "    print (\"So the third number is the maximum number...\")\n",
    "    print (f\"So the maximum number is {num3}...\")\n",
    "print (\"End of the program...\")"
   ]
  },
  {
   "cell_type": "code",
   "execution_count": null,
   "id": "0ed581c8-0310-4401-8790-6d3a63e05291",
   "metadata": {},
   "outputs": [],
   "source": [
    "# home Work: Take three numbers from the user input and find the second maximum of three input numbers.\n",
    "\n",
    "input num1, num2, num3\n",
    "\n",
    "Step 1.\n",
    "Compare num1 and num2, and keep the maximum of them in max1 and other number in max2\n",
    "\n",
    "Step 2.\n",
    "Now we shall deal with max1, max2 and num3\n",
    "\n",
    "                         max1         max2\n",
    "                         500          200\n",
    "        num3 ->    700         300          100\n",
    "        2nd Max -> 500         300          200\n",
    "                   max1        num3         max2"
   ]
  },
  {
   "cell_type": "markdown",
   "id": "d13dcec0-88f0-4789-b7d5-51b6c14481ef",
   "metadata": {},
   "source": [
    "### Looping in Python"
   ]
  },
  {
   "cell_type": "code",
   "execution_count": 40,
   "id": "1f66c841-e394-43b9-a29a-65b7957d8735",
   "metadata": {},
   "outputs": [
    {
     "name": "stdout",
     "output_type": "stream",
     "text": [
      "Executing for i = 0...\n",
      "Executing for i = 1...\n",
      "Executing for i = 2...\n",
      "Executing for i = 3...\n",
      "Executing for i = 4...\n",
      "Executing for i = 5...\n",
      "Executing for i = 6...\n",
      "Executing for i = 7...\n",
      "Executing for i = 8...\n",
      "Executing for i = 9...\n",
      "Executing the ELSE block...\n",
      "End of the program...\n"
     ]
    }
   ],
   "source": [
    "# for i in range(10):\n",
    "# for i in range(0, 10):\n",
    "for i in range(0, 10, 1):\n",
    "    print (f\"Executing for i = {i}...\")\n",
    "else:\n",
    "    print (\"Executing the ELSE block...\")\n",
    "print (\"End of the program...\")"
   ]
  },
  {
   "cell_type": "code",
   "execution_count": 41,
   "id": "6b820fd7-003a-4d5f-862a-5392b792aaea",
   "metadata": {},
   "outputs": [
    {
     "name": "stdout",
     "output_type": "stream",
     "text": [
      "Executing for i = 1...\n",
      "Executing for i = 3...\n",
      "Executing for i = 5...\n",
      "Executing for i = 7...\n",
      "Executing for i = 9...\n",
      "Executing the ELSE block...\n",
      "End of the program...\n"
     ]
    }
   ],
   "source": [
    "for i in range(1, 10, 2):\n",
    "    print (f\"Executing for i = {i}...\")\n",
    "else:\n",
    "    print (\"Executing the ELSE block...\")\n",
    "print (\"End of the program...\")"
   ]
  },
  {
   "cell_type": "code",
   "execution_count": 42,
   "id": "9a78a60a-dd3c-4cf3-bf58-3a33e8fb9e0f",
   "metadata": {},
   "outputs": [
    {
     "name": "stdout",
     "output_type": "stream",
     "text": [
      "Executing for i = 10...\n",
      "Executing for i = 8...\n",
      "Executing for i = 6...\n",
      "Executing for i = 4...\n",
      "Executing for i = 2...\n",
      "Executing the ELSE block...\n",
      "End of the program...\n"
     ]
    }
   ],
   "source": [
    "for i in range(10, 1, -2):\n",
    "    print (f\"Executing for i = {i}...\")\n",
    "else:\n",
    "    print (\"Executing the ELSE block...\")\n",
    "print (\"End of the program...\")"
   ]
  },
  {
   "cell_type": "code",
   "execution_count": 46,
   "id": "792246be-4cc7-43ea-aa4b-54e2cd713baa",
   "metadata": {},
   "outputs": [
    {
     "name": "stdout",
     "output_type": "stream",
     "text": [
      "Executing for i = 1...\n",
      "Executing for i = 2...\n",
      "Executing for i = 3...\n",
      "Executing for i = 4...\n",
      "Executing for i = 5...\n",
      "Executing for i = 6...\n",
      "Executing for i = 7...\n",
      "Exiting from the loop...\n",
      "End of the program...\n"
     ]
    }
   ],
   "source": [
    "for i in range(1, 10):\n",
    "    print (f\"Executing for i = {i}...\")\n",
    "    if (i == 7):\n",
    "        print (\"Exiting from the loop...\")\n",
    "        break\n",
    "else:\n",
    "    print (\"Executing the ELSE block...\")\n",
    "print (\"End of the program...\")"
   ]
  },
  {
   "cell_type": "code",
   "execution_count": 50,
   "id": "3ce9b5b3-ecfb-40cc-8744-321a8c7aa7e8",
   "metadata": {},
   "outputs": [
    {
     "name": "stdin",
     "output_type": "stream",
     "text": [
      "Please enter one integer number:  21\n"
     ]
    },
    {
     "name": "stdout",
     "output_type": "stream",
     "text": [
      "21 is NOT a Prime Number...\n",
      "End of the program...\n"
     ]
    }
   ],
   "source": [
    "num = int(input(\"Please enter one integer number: \"))\n",
    "for i in range(2, num):\n",
    "    if (num % i == 0):\n",
    "        print (f\"{num} is NOT a Prime Number...\")\n",
    "        break\n",
    "else:\n",
    "    print (f\"{num} is a Prime Number...\")\n",
    "print (\"End of the program...\")"
   ]
  },
  {
   "cell_type": "code",
   "execution_count": 59,
   "id": "9e0e3fa0-e584-46cd-8578-f054b9d6333b",
   "metadata": {},
   "outputs": [
    {
     "name": "stdout",
     "output_type": "stream",
     "text": [
      "Executing for i = 1...\n",
      "Executing for i = 2...\n",
      "Executing for i = 3...\n",
      "Executing for i = 4...\n",
      "Going again for the next looping\n",
      "Executing for i = 6...\n",
      "Going again for the next looping\n",
      "Executing for i = 8...\n",
      "Executing for i = 9...\n",
      "Executing for i = 10...\n",
      "Executing the ELSE Block...\n",
      "End of the program...\n"
     ]
    }
   ],
   "source": [
    "for i in range(1, 11):\n",
    "    if (i == 5 or i == 7):\n",
    "        print (\"Going again for the next looping\")\n",
    "        continue\n",
    "    else:\n",
    "        pass   # statement place holder\n",
    "    print (f\"Executing for i = {i}...\")\n",
    "else:\n",
    "    print (\"Executing the ELSE Block...\")\n",
    "print (\"End of the program...\")"
   ]
  },
  {
   "cell_type": "code",
   "execution_count": 60,
   "id": "331b44fd-c881-483d-ab35-a7a435259e13",
   "metadata": {},
   "outputs": [],
   "source": [
    "for i in range(10):\n",
    "    pass"
   ]
  },
  {
   "cell_type": "code",
   "execution_count": 61,
   "id": "cdc7ae3e-6175-49c7-a4a5-350e2bcf4652",
   "metadata": {},
   "outputs": [
    {
     "name": "stdout",
     "output_type": "stream",
     "text": [
      "Looping for i = 1...\n",
      "Looping for i = 2...\n",
      "Looping for i = 3...\n",
      "Looping for i = 4...\n",
      "Looping for i = 5...\n",
      "Looping for i = 6...\n",
      "Looping for i = 7...\n",
      "Looping for i = 8...\n",
      "Looping for i = 9...\n",
      "Looping for i = 10...\n",
      "Executing the ELSE Block...\n",
      "End of the program...\n"
     ]
    }
   ],
   "source": [
    "i = 1\n",
    "while (i <= 10):\n",
    "    print (f\"Looping for i = {i}...\")\n",
    "    i += 1\n",
    "else:\n",
    "    print (\"Executing the ELSE Block...\")\n",
    "print (\"End of the program...\")"
   ]
  },
  {
   "cell_type": "code",
   "execution_count": 64,
   "id": "1d8ab06b-7d7c-4ddb-a321-1c8940b0fd36",
   "metadata": {},
   "outputs": [
    {
     "name": "stdout",
     "output_type": "stream",
     "text": [
      "Visit Doctor...\n",
      "Good Morning...\n",
      "Day Number: 1 and Medicine Number: 1...\n",
      "Day Number: 1 and Medicine Number: 2...\n",
      "Day Number: 1 and Medicine Number: 3...\n",
      "Good Night...\n",
      "--------------------------------\n",
      "Good Morning...\n",
      "Day Number: 2 and Medicine Number: 1...\n",
      "Day Number: 2 and Medicine Number: 2...\n",
      "Day Number: 2 and Medicine Number: 3...\n",
      "Good Night...\n",
      "--------------------------------\n",
      "Good Morning...\n",
      "Day Number: 3 and Medicine Number: 1...\n",
      "Day Number: 3 and Medicine Number: 2...\n",
      "Day Number: 3 and Medicine Number: 3...\n",
      "Good Night...\n",
      "--------------------------------\n",
      "Good Morning...\n",
      "Day Number: 4 and Medicine Number: 1...\n",
      "Day Number: 4 and Medicine Number: 2...\n",
      "Day Number: 4 and Medicine Number: 3...\n",
      "Good Night...\n",
      "--------------------------------\n",
      "Good Morning...\n",
      "Day Number: 5 and Medicine Number: 1...\n",
      "Day Number: 5 and Medicine Number: 2...\n",
      "Day Number: 5 and Medicine Number: 3...\n",
      "Good Night...\n",
      "--------------------------------\n",
      "So total number of mecines consumed will be 15...\n",
      "Thahks to Doctor...\n"
     ]
    }
   ],
   "source": [
    "# nested loop\n",
    "print (\"Visit Doctor...\")    # 1 time\n",
    "medicount = 0\n",
    "for day in range(1, 6):\n",
    "    print (\"Good Morning...\")    # 5 times\n",
    "    for medi in range(1, 4):\n",
    "        print (f\"Day Number: {day} and Medicine Number: {medi}...\")    # 15 times\n",
    "        medicount += 1    # 15 times\n",
    "    print (\"Good Night...\")    # 5 times\n",
    "    print (\"--------------------------------\")    # 5 times\n",
    "print (f\"So total number of mecines consumed will be {medicount}...\")    # 1 time\n",
    "print (\"Thahks to Doctor...\")    # 1 time"
   ]
  },
  {
   "cell_type": "markdown",
   "id": "62ae1dc9-3699-4a6f-9144-3e63e534cb37",
   "metadata": {},
   "source": [
    "### User Defined Functions"
   ]
  },
  {
   "cell_type": "code",
   "execution_count": 67,
   "id": "c7bdd62b-678c-4c19-bed1-c92e77ec101b",
   "metadata": {},
   "outputs": [
    {
     "name": "stdout",
     "output_type": "stream",
     "text": [
      "Welcome to all...Welcome to all...Welcome to all...\n",
      "Welcome to all...Welcome to all...Welcome to all...\n",
      "Welcome to all...Welcome to all...Welcome to all...\n"
     ]
    }
   ],
   "source": [
    "def funct1():\n",
    "    print (\"Welcome to all...\" * 3)\n",
    "    \n",
    "funct1()\n",
    "funct1()\n",
    "funct1()"
   ]
  },
  {
   "cell_type": "code",
   "execution_count": 70,
   "id": "f8da1ae0-1484-49d9-a09e-2efaf7aabdac",
   "metadata": {},
   "outputs": [
    {
     "name": "stdout",
     "output_type": "stream",
     "text": [
      "Welcome Welcome Welcome \n",
      "Good Bye Good Bye Good Bye Good Bye Good Bye \n",
      "Hello Hello Hello Hello Hello Hello Hello \n"
     ]
    }
   ],
   "source": [
    "def funct2(msg, times):\n",
    "    print (msg * times)\n",
    "\n",
    "funct2(\"Welcome \", 3)\n",
    "funct2(\"Good Bye \", 5)\n",
    "funct2(\"Hello \", 7)"
   ]
  },
  {
   "cell_type": "code",
   "execution_count": 71,
   "id": "c3998809-aeb4-40fa-9502-aef1a3114b67",
   "metadata": {},
   "outputs": [
    {
     "name": "stdout",
     "output_type": "stream",
     "text": [
      "Welcome Welcome Welcome \n",
      "Good Bye Good Bye Good Bye Good Bye Good Bye \n",
      "Hello Hello Hello Hello Hello Hello Hello \n"
     ]
    }
   ],
   "source": [
    "def funct3(msg, times):\n",
    "    return msg * times\n",
    "\n",
    "result = funct3(\"Welcome \", 3)\n",
    "print (result)\n",
    "result = funct3(\"Good Bye \", 5)\n",
    "print (result)\n",
    "result = funct3(\"Hello \", 7)\n",
    "print (result)"
   ]
  },
  {
   "cell_type": "code",
   "execution_count": 82,
   "id": "016e1912-a5b9-4ff3-9697-67b66009836d",
   "metadata": {},
   "outputs": [
    {
     "name": "stdout",
     "output_type": "stream",
     "text": [
      "par1 = 100, par2 = 200 and par3 = 300\n",
      "par1 = 100, par2 = 200 and par3 = 333\n",
      "par1 = 100, par2 = 222 and par3 = 333\n",
      "par1 = 111, par2 = 222 and par3 = 333\n",
      "par1 = 100, par2 = 222 and par3 = 300\n"
     ]
    }
   ],
   "source": [
    "# parameters with default arguments\n",
    "def funct4(par1 = 111, par2 = 222, par3 = 333):   # positional parameters\n",
    "    print (f\"par1 = {par1}, par2 = {par2} and par3 = {par3}\")\n",
    "    \n",
    "funct4(100, 200, 300)   # positional arguments\n",
    "funct4(100, 200)\n",
    "funct4(100)\n",
    "funct4()\n",
    "funct4(par3 = 300, par1 = 100)"
   ]
  },
  {
   "cell_type": "code",
   "execution_count": 79,
   "id": "eb69f728-8bce-4955-b810-819bff1efdae",
   "metadata": {},
   "outputs": [
    {
     "name": "stdout",
     "output_type": "stream",
     "text": [
      "Welcome Welcome Welcome \n",
      "Good Bye Good Bye Good Bye Good Bye Good Bye \n",
      "Hello Hello Hello Hello Hello Hello Hello \n",
      "No Message No Message No Message \n"
     ]
    }
   ],
   "source": [
    "def funct5(msg = \"No Message \", times = 3):\n",
    "    return msg * times\n",
    "\n",
    "result = funct5(\"Welcome \", 3)\n",
    "print (result)\n",
    "result = funct5(\"Good Bye \", 5)\n",
    "print (result)\n",
    "result = funct5(\"Hello \", 7)\n",
    "print (result)\n",
    "result = funct5()\n",
    "print (result)"
   ]
  },
  {
   "cell_type": "code",
   "execution_count": 84,
   "id": "1a9b5900-fe98-4509-8492-01f9a33c6ad1",
   "metadata": {},
   "outputs": [
    {
     "name": "stdout",
     "output_type": "stream",
     "text": [
      "Happy New Year\n",
      "Happy Happy \n",
      "500\n",
      "200\n"
     ]
    }
   ],
   "source": [
    "def funct6(par1, par2 = None):\n",
    "    if (par2 == None):\n",
    "    # if (par2 is None):\n",
    "        return (par1 + par1)\n",
    "    else:\n",
    "        return (par1 + par2)\n",
    "    \n",
    "result = funct6(\"Happy \", \"New Year\")\n",
    "print (result)\n",
    "result = funct6(\"Happy \")\n",
    "print (result)\n",
    "result = funct6(100, 400)\n",
    "print (result)\n",
    "result = funct6(100)\n",
    "print (result)"
   ]
  },
  {
   "cell_type": "code",
   "execution_count": 91,
   "id": "faebf2d7-b34d-488e-8aa3-48dafd0e0526",
   "metadata": {},
   "outputs": [
    {
     "name": "stdout",
     "output_type": "stream",
     "text": [
      "So total = 140, Difference = 60, Product = 4000 and Quotient = 2.5...\n",
      "(140, 60, 4000, 2.5) <class 'tuple'> 4\n",
      "So total = 140, Difference = 60, Product = 4000 and Quotient = 2.5...\n"
     ]
    }
   ],
   "source": [
    "def funct7(num1, num2):\n",
    "    add = num1 + num2\n",
    "    sub = num1 - num2\n",
    "    prod = num1 * num2\n",
    "    quot = num1 / num2\n",
    "    return add, sub, prod, quot\n",
    "\n",
    "aa, ss, pp, qq = funct7(100, 40)\n",
    "print (f\"So total = {aa}, Difference = {ss}, Product = {pp} and Quotient = {qq}...\")\n",
    "r = funct7(100, 40)\n",
    "print (r, type(r), len(r))\n",
    "print (f\"So total = {r[0]}, Difference = {r[1]}, Product = {r[2]} and Quotient = {r[3]}...\")"
   ]
  },
  {
   "cell_type": "code",
   "execution_count": null,
   "id": "53f5f311-47d1-4e7a-8649-9ffacfae6380",
   "metadata": {},
   "outputs": [],
   "source": [
    "HOME WORK:\n",
    "----------\n",
    "Write the function body of fact_cal(num) which returns the factorial of num\n",
    "i.e. fact_cal(5) will return 120\n",
    "i.e. fact_cal(4) will return 24"
   ]
  },
  {
   "cell_type": "code",
   "execution_count": null,
   "id": "2b356e5f-d0b8-4e8d-b9c8-47cb07e8a93f",
   "metadata": {},
   "outputs": [],
   "source": []
  },
  {
   "cell_type": "code",
   "execution_count": null,
   "id": "97b0ce0b-e749-4f0e-a4ac-c04eec7e8022",
   "metadata": {},
   "outputs": [],
   "source": []
  },
  {
   "cell_type": "code",
   "execution_count": null,
   "id": "d08d2696-e5ec-4ad9-b292-af2d29e33090",
   "metadata": {},
   "outputs": [],
   "source": []
  }
 ],
 "metadata": {
  "kernelspec": {
   "display_name": "Python 3",
   "language": "python",
   "name": "python3"
  },
  "language_info": {
   "codemirror_mode": {
    "name": "ipython",
    "version": 3
   },
   "file_extension": ".py",
   "mimetype": "text/x-python",
   "name": "python",
   "nbconvert_exporter": "python",
   "pygments_lexer": "ipython3",
   "version": "3.8.8"
  }
 },
 "nbformat": 4,
 "nbformat_minor": 5
}
