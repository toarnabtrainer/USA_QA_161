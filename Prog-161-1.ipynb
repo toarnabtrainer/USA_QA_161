{
 "cells": [
  {
   "cell_type": "markdown",
   "id": "c297acd1-d9a1-4769-8a72-5370999395c0",
   "metadata": {},
   "source": [
    "## Introduction to Python"
   ]
  },
  {
   "cell_type": "markdown",
   "id": "03ac3bb4-845e-4c68-becc-dfc66c02b07c",
   "metadata": {},
   "source": [
    "### Python Inputs and Outputs"
   ]
  },
  {
   "cell_type": "code",
   "execution_count": 2,
   "id": "73a3682c-fce9-4f7e-8e92-d9d6b3189024",
   "metadata": {},
   "outputs": [
    {
     "name": "stdin",
     "output_type": "stream",
     "text": [
      "Please enter the first integer:  200\n",
      "Please enter the second integer:  300\n"
     ]
    },
    {
     "name": "stdout",
     "output_type": "stream",
     "text": [
      "200 <class 'str'> 300 <class 'str'>\n",
      "So the result is 200300\n",
      "End of the program...\n"
     ]
    }
   ],
   "source": [
    "num1 = input(\"Please enter the first integer: \")\n",
    "num2 = input(\"Please enter the second integer: \")\n",
    "print (num1, type(num1), num2, type(num2))\n",
    "result = num1 + num2\n",
    "print (\"So the result is\", result)\n",
    "print (\"End of the program...\")"
   ]
  },
  {
   "cell_type": "code",
   "execution_count": 3,
   "id": "e8fe0b64-f8d2-4b61-9abc-9fde714533ab",
   "metadata": {},
   "outputs": [
    {
     "name": "stdin",
     "output_type": "stream",
     "text": [
      "Please enter the first integer:  200\n",
      "Please enter the second integer:  300\n"
     ]
    },
    {
     "name": "stdout",
     "output_type": "stream",
     "text": [
      "200 <class 'int'> 300 <class 'int'>\n",
      "So the result is 500\n",
      "End of the program...\n"
     ]
    }
   ],
   "source": [
    "num1 = int(input(\"Please enter the first integer: \"))\n",
    "num2 = int(input(\"Please enter the second integer: \"))\n",
    "print (num1, type(num1), num2, type(num2))\n",
    "result = num1 + num2\n",
    "print (\"So the result is\", result)\n",
    "print (\"End of the program...\")"
   ]
  },
  {
   "cell_type": "code",
   "execution_count": 4,
   "id": "2740f8c4-00d2-438e-8a5d-d741dc40cb4e",
   "metadata": {},
   "outputs": [
    {
     "name": "stdin",
     "output_type": "stream",
     "text": [
      "Please enter the first integer:  300\n",
      "Please enter the second integer:  400\n"
     ]
    }
   ],
   "source": [
    "num1 = int(input(\"Please enter the first integer: \"))\n",
    "num2 = int(input(\"Please enter the second integer: \"))\n",
    "result = num1 + num2"
   ]
  },
  {
   "cell_type": "code",
   "execution_count": 21,
   "id": "6682aae2-bc20-495d-876a-fc731734a12f",
   "metadata": {},
   "outputs": [
    {
     "name": "stdout",
     "output_type": "stream",
     "text": [
      "So 300 + 400 = 700\n",
      "So 300 + 400 = 700\n",
      "So 300 + 400 = 700\n",
      "So 300 + 400 = 700\n",
      "So 300 + 400 = 700\n",
      "So 300 + 400 = 700\n",
      "So 300 + 400 = 700\n",
      "So 300 + 400 = 700\n",
      "So 300 + 400 = 700.000000\n",
      "So 300 + 400 = 700.000000\n",
      "So 300 + 400 =   700.00\n",
      "So 300 + 400 = 700\n"
     ]
    }
   ],
   "source": [
    "print (\"So\", num1, \"+\", num2, \"=\", result)\n",
    "print (\"So \" + str(num1) + \" + \" + str(num2) + \" = \" + str(result))\n",
    "print (\"So {} + {} = {}\".format(num1, num2, result))      # {} indicates variable place holder\n",
    "print (\"So {0} + {1} = {2}\".format(num1, num2, result))   # using indexed place holder\n",
    "print (\"So {2} + {1} = {0}\".format(result, num2, num1))\n",
    "print (\"So {fnum} + {snum} = {tot}\".format(fnum = num1, snum = num2, tot = result))  # labelled place holder\n",
    "print (\"So {fnum} + {snum} = {tot}\".format(tot = result, snum = num2, fnum = num1))\n",
    "print (\"So %d + %d = %d\"%(num1, num2, result))  # %d means decimal i.e. integer number\n",
    "print (\"So %d + %d = %f\"%(num1, num2, result))  # %f means float\n",
    "print (\"So %d + %d = %10.6f\"%(num1, num2, result))\n",
    "print (\"So %d + %d = %8.2f\"%(num1, num2, result))\n",
    "print (f\"So {num1} + {num2} = {result}\")  # smart formatting available from Python 2.7 onwards"
   ]
  },
  {
   "cell_type": "markdown",
   "id": "7b62f3fe-7ad4-4013-923a-ffb67c7d9aee",
   "metadata": {},
   "source": [
    "### Python Operators"
   ]
  },
  {
   "cell_type": "code",
   "execution_count": 22,
   "id": "68d73c8d-654c-4678-9888-8783f5ed7d25",
   "metadata": {},
   "outputs": [
    {
     "name": "stdout",
     "output_type": "stream",
     "text": [
      "140\n",
      "60\n",
      "4000\n",
      "2.5\n",
      "2\n",
      "20\n",
      "100000000\n"
     ]
    }
   ],
   "source": [
    "# Arithmetic Operators: + - * / // % **\n",
    "print (100 + 40)   # addition\n",
    "print (100 - 40)   # subtraction\n",
    "print (100 * 40)   # multiplication\n",
    "print (100 / 40)   # float division\n",
    "print (100 // 40)  # integer division\n",
    "print (100 % 40)   # modulus, remainder of the division\n",
    "print (100 ** 4)   # exponentiation"
   ]
  },
  {
   "cell_type": "code",
   "execution_count": 31,
   "id": "2491ee66-e1f8-4418-97c7-c6c53a6a37dd",
   "metadata": {},
   "outputs": [
    {
     "name": "stdout",
     "output_type": "stream",
     "text": [
      "True False\n",
      "True True\n",
      "True False False True\n",
      "False True\n"
     ]
    }
   ],
   "source": [
    "# logical Operators: and or not\n",
    "print (10 > 5 and 10 > 7, 10 > 5 and 7 > 10)\n",
    "print (10 > 5 or 10 > 7, 10 > 5 or 7 > 10)\n",
    "print (10 > 5, not 10 > 5, 5 > 10, not 5 > 10)\n",
    "print (not True, not False)"
   ]
  },
  {
   "cell_type": "code",
   "execution_count": 30,
   "id": "c5388d1e-3e01-4e7c-9df8-71b5831fbeeb",
   "metadata": {},
   "outputs": [
    {
     "name": "stdout",
     "output_type": "stream",
     "text": [
      "True True True True True True\n"
     ]
    }
   ],
   "source": [
    "# Relational Operators: < <= > >= != ==\n",
    "print (100 > 5, 100 >= 5, 100 < 300, 100 <= 300, 100 != 300, 100 == 100)"
   ]
  },
  {
   "cell_type": "code",
   "execution_count": 34,
   "id": "8ce53a23-57e3-417e-afee-230f4a8c1dfa",
   "metadata": {},
   "outputs": [
    {
     "name": "stdout",
     "output_type": "stream",
     "text": [
      "300\n",
      "600\n"
     ]
    }
   ],
   "source": [
    "# Assignment Operators: = Special Assignment Operators: += -= *= /= //= %= **=\n",
    "var1 = 100\n",
    "var1 = var1 * 3    # assignment statement\n",
    "print (var1)\n",
    "var1 *= 2\n",
    "print (var1)"
   ]
  },
  {
   "cell_type": "code",
   "execution_count": 35,
   "id": "f0d03bcc-52a7-4bf3-be75-50743b551f90",
   "metadata": {},
   "outputs": [
    {
     "name": "stdout",
     "output_type": "stream",
     "text": [
      "100 Even\n",
      "105 Odd\n"
     ]
    }
   ],
   "source": [
    "# Operator Classifications\n",
    "# Unary Operator (one operand): +100 -300\n",
    "# Binary Operator (two operands): 100 + 400  600 * 4\n",
    "# ternary operator (three operands, true part, condition, false part)\n",
    "num1 = 100\n",
    "result = \"Even\" if (num1 % 2 == 0) else \"Odd\"\n",
    "print (num1, result)\n",
    "\n",
    "num1 = 105\n",
    "result = \"Even\" if (num1 % 2 == 0) else \"Odd\"\n",
    "print (num1, result)"
   ]
  },
  {
   "cell_type": "code",
   "execution_count": null,
   "id": "3837c528-1479-4ee6-ae9d-ad12e68d022f",
   "metadata": {},
   "outputs": [],
   "source": [
    "# Anaconda - Jupyter Lab\n",
    "# Home Work: Do a study on \"Bitwise Operators\": & | ~ ^"
   ]
  },
  {
   "cell_type": "markdown",
   "id": "8338faaf-932a-486b-8f12-22677f4a75fe",
   "metadata": {},
   "source": [
    "### Conditional Statements"
   ]
  },
  {
   "cell_type": "code",
   "execution_count": 36,
   "id": "df20d9a2-0493-47fa-8d5e-a8d103a79ee8",
   "metadata": {},
   "outputs": [
    {
     "name": "stdin",
     "output_type": "stream",
     "text": [
      "Please enter the first number:  100\n",
      "Please enter the second number:  300\n",
      "Please enter the third number:  200\n"
     ]
    },
    {
     "name": "stdout",
     "output_type": "stream",
     "text": [
      "So the second number is the maximum number...\n",
      "So the maximum number is 300...\n",
      "End of the program...\n"
     ]
    }
   ],
   "source": [
    "# Take three numbers from the user input and find the maximum of three input numbers.\n",
    "num1 = int(input(\"Please enter the first number: \"))\n",
    "num2 = int(input(\"Please enter the second number: \"))\n",
    "num3 = int(input(\"Please enter the third number: \"))\n",
    "if (num1 > num2):\n",
    "    if (num1 > num3):\n",
    "        print (\"So the first number is the maximum number...\")\n",
    "        print (f\"So the maximum number is {num1}...\")\n",
    "    else:\n",
    "        print (\"So the third number is the maximum number...\")\n",
    "        print (f\"So the maximum number is {num3}...\")\n",
    "elif (num2 > num3):\n",
    "    print (\"So the second number is the maximum number...\")\n",
    "    print (f\"So the maximum number is {num2}...\")\n",
    "else:\n",
    "    print (\"So the third number is the maximum number...\")\n",
    "    print (f\"So the maximum number is {num3}...\")\n",
    "print (\"End of the program...\")"
   ]
  },
  {
   "cell_type": "code",
   "execution_count": null,
   "id": "0ed581c8-0310-4401-8790-6d3a63e05291",
   "metadata": {},
   "outputs": [],
   "source": [
    "# home Work: Take three numbers from the user input and find the second maximum of three input numbers.\n",
    "\n",
    "input num1, num2, num3\n",
    "\n",
    "Step 1.\n",
    "Compare num1 and num2, and keep the maximum of them in max1 and other number in max2\n",
    "\n",
    "Step 2.\n",
    "Now we shall deal with max1, max2 and num3\n",
    "\n",
    "                         max1         max2\n",
    "                         500          200\n",
    "        num3 ->    700         300          100\n",
    "        2nd Max -> 500         300          200\n",
    "                   max1        num3         max2"
   ]
  },
  {
   "cell_type": "code",
   "execution_count": 1,
   "id": "59d75862-c87a-445e-a0a2-600349e94ca5",
   "metadata": {},
   "outputs": [
    {
     "name": "stdin",
     "output_type": "stream",
     "text": [
      "Please enter the first number:  300\n",
      "Please enter the second number:  100\n",
      "Please enter the third number:  200\n"
     ]
    },
    {
     "name": "stdout",
     "output_type": "stream",
     "text": [
      "So the second maximum number is 200\n",
      "\n",
      "End of the program...\n"
     ]
    }
   ],
   "source": [
    "num1 = int(input(\"Please enter the first number: \"))\n",
    "num2 = int(input(\"Please enter the second number: \"))\n",
    "num3 = int(input(\"Please enter the third number: \"))\n",
    "\n",
    "if (num1 > num2): max1 = num1; max2 = num2\n",
    "else: max1 = num2; max2 = num1\n",
    "\n",
    "if (num3 > max1): print (\"So the second maximum number is\", max1)\n",
    "elif (num3 > max2): print (\"So the second maximum number is\", num3)\n",
    "else: print (\"So the second maximum number is\", max2)\n",
    "\n",
    "print (\"\\nEnd of the program...\")"
   ]
  },
  {
   "cell_type": "markdown",
   "id": "d13dcec0-88f0-4789-b7d5-51b6c14481ef",
   "metadata": {},
   "source": [
    "### Looping in Python"
   ]
  },
  {
   "cell_type": "code",
   "execution_count": 40,
   "id": "1f66c841-e394-43b9-a29a-65b7957d8735",
   "metadata": {},
   "outputs": [
    {
     "name": "stdout",
     "output_type": "stream",
     "text": [
      "Executing for i = 0...\n",
      "Executing for i = 1...\n",
      "Executing for i = 2...\n",
      "Executing for i = 3...\n",
      "Executing for i = 4...\n",
      "Executing for i = 5...\n",
      "Executing for i = 6...\n",
      "Executing for i = 7...\n",
      "Executing for i = 8...\n",
      "Executing for i = 9...\n",
      "Executing the ELSE block...\n",
      "End of the program...\n"
     ]
    }
   ],
   "source": [
    "# for i in range(10):\n",
    "# for i in range(0, 10):\n",
    "for i in range(0, 10, 1):\n",
    "    print (f\"Executing for i = {i}...\")\n",
    "else:\n",
    "    print (\"Executing the ELSE block...\")\n",
    "print (\"End of the program...\")"
   ]
  },
  {
   "cell_type": "code",
   "execution_count": 41,
   "id": "6b820fd7-003a-4d5f-862a-5392b792aaea",
   "metadata": {},
   "outputs": [
    {
     "name": "stdout",
     "output_type": "stream",
     "text": [
      "Executing for i = 1...\n",
      "Executing for i = 3...\n",
      "Executing for i = 5...\n",
      "Executing for i = 7...\n",
      "Executing for i = 9...\n",
      "Executing the ELSE block...\n",
      "End of the program...\n"
     ]
    }
   ],
   "source": [
    "for i in range(1, 10, 2):\n",
    "    print (f\"Executing for i = {i}...\")\n",
    "else:\n",
    "    print (\"Executing the ELSE block...\")\n",
    "print (\"End of the program...\")"
   ]
  },
  {
   "cell_type": "code",
   "execution_count": 42,
   "id": "9a78a60a-dd3c-4cf3-bf58-3a33e8fb9e0f",
   "metadata": {},
   "outputs": [
    {
     "name": "stdout",
     "output_type": "stream",
     "text": [
      "Executing for i = 10...\n",
      "Executing for i = 8...\n",
      "Executing for i = 6...\n",
      "Executing for i = 4...\n",
      "Executing for i = 2...\n",
      "Executing the ELSE block...\n",
      "End of the program...\n"
     ]
    }
   ],
   "source": [
    "for i in range(10, 1, -2):\n",
    "    print (f\"Executing for i = {i}...\")\n",
    "else:\n",
    "    print (\"Executing the ELSE block...\")\n",
    "print (\"End of the program...\")"
   ]
  },
  {
   "cell_type": "code",
   "execution_count": 46,
   "id": "792246be-4cc7-43ea-aa4b-54e2cd713baa",
   "metadata": {},
   "outputs": [
    {
     "name": "stdout",
     "output_type": "stream",
     "text": [
      "Executing for i = 1...\n",
      "Executing for i = 2...\n",
      "Executing for i = 3...\n",
      "Executing for i = 4...\n",
      "Executing for i = 5...\n",
      "Executing for i = 6...\n",
      "Executing for i = 7...\n",
      "Exiting from the loop...\n",
      "End of the program...\n"
     ]
    }
   ],
   "source": [
    "for i in range(1, 10):\n",
    "    print (f\"Executing for i = {i}...\")\n",
    "    if (i == 7):\n",
    "        print (\"Exiting from the loop...\")\n",
    "        break\n",
    "else:\n",
    "    print (\"Executing the ELSE block...\")\n",
    "print (\"End of the program...\")"
   ]
  },
  {
   "cell_type": "code",
   "execution_count": 50,
   "id": "3ce9b5b3-ecfb-40cc-8744-321a8c7aa7e8",
   "metadata": {},
   "outputs": [
    {
     "name": "stdin",
     "output_type": "stream",
     "text": [
      "Please enter one integer number:  21\n"
     ]
    },
    {
     "name": "stdout",
     "output_type": "stream",
     "text": [
      "21 is NOT a Prime Number...\n",
      "End of the program...\n"
     ]
    }
   ],
   "source": [
    "num = int(input(\"Please enter one integer number: \"))\n",
    "for i in range(2, num):\n",
    "    if (num % i == 0):\n",
    "        print (f\"{num} is NOT a Prime Number...\")\n",
    "        break\n",
    "else:\n",
    "    print (f\"{num} is a Prime Number...\")\n",
    "print (\"End of the program...\")"
   ]
  },
  {
   "cell_type": "code",
   "execution_count": 59,
   "id": "9e0e3fa0-e584-46cd-8578-f054b9d6333b",
   "metadata": {},
   "outputs": [
    {
     "name": "stdout",
     "output_type": "stream",
     "text": [
      "Executing for i = 1...\n",
      "Executing for i = 2...\n",
      "Executing for i = 3...\n",
      "Executing for i = 4...\n",
      "Going again for the next looping\n",
      "Executing for i = 6...\n",
      "Going again for the next looping\n",
      "Executing for i = 8...\n",
      "Executing for i = 9...\n",
      "Executing for i = 10...\n",
      "Executing the ELSE Block...\n",
      "End of the program...\n"
     ]
    }
   ],
   "source": [
    "for i in range(1, 11):\n",
    "    if (i == 5 or i == 7):\n",
    "        print (\"Going again for the next looping\")\n",
    "        continue\n",
    "    else:\n",
    "        pass   # statement place holder\n",
    "    print (f\"Executing for i = {i}...\")\n",
    "else:\n",
    "    print (\"Executing the ELSE Block...\")\n",
    "print (\"End of the program...\")"
   ]
  },
  {
   "cell_type": "code",
   "execution_count": 60,
   "id": "331b44fd-c881-483d-ab35-a7a435259e13",
   "metadata": {},
   "outputs": [],
   "source": [
    "for i in range(10):\n",
    "    pass"
   ]
  },
  {
   "cell_type": "code",
   "execution_count": 61,
   "id": "cdc7ae3e-6175-49c7-a4a5-350e2bcf4652",
   "metadata": {},
   "outputs": [
    {
     "name": "stdout",
     "output_type": "stream",
     "text": [
      "Looping for i = 1...\n",
      "Looping for i = 2...\n",
      "Looping for i = 3...\n",
      "Looping for i = 4...\n",
      "Looping for i = 5...\n",
      "Looping for i = 6...\n",
      "Looping for i = 7...\n",
      "Looping for i = 8...\n",
      "Looping for i = 9...\n",
      "Looping for i = 10...\n",
      "Executing the ELSE Block...\n",
      "End of the program...\n"
     ]
    }
   ],
   "source": [
    "i = 1\n",
    "while (i <= 10):\n",
    "    print (f\"Looping for i = {i}...\")\n",
    "    i += 1\n",
    "else:\n",
    "    print (\"Executing the ELSE Block...\")\n",
    "print (\"End of the program...\")"
   ]
  },
  {
   "cell_type": "code",
   "execution_count": 64,
   "id": "1d8ab06b-7d7c-4ddb-a321-1c8940b0fd36",
   "metadata": {},
   "outputs": [
    {
     "name": "stdout",
     "output_type": "stream",
     "text": [
      "Visit Doctor...\n",
      "Good Morning...\n",
      "Day Number: 1 and Medicine Number: 1...\n",
      "Day Number: 1 and Medicine Number: 2...\n",
      "Day Number: 1 and Medicine Number: 3...\n",
      "Good Night...\n",
      "--------------------------------\n",
      "Good Morning...\n",
      "Day Number: 2 and Medicine Number: 1...\n",
      "Day Number: 2 and Medicine Number: 2...\n",
      "Day Number: 2 and Medicine Number: 3...\n",
      "Good Night...\n",
      "--------------------------------\n",
      "Good Morning...\n",
      "Day Number: 3 and Medicine Number: 1...\n",
      "Day Number: 3 and Medicine Number: 2...\n",
      "Day Number: 3 and Medicine Number: 3...\n",
      "Good Night...\n",
      "--------------------------------\n",
      "Good Morning...\n",
      "Day Number: 4 and Medicine Number: 1...\n",
      "Day Number: 4 and Medicine Number: 2...\n",
      "Day Number: 4 and Medicine Number: 3...\n",
      "Good Night...\n",
      "--------------------------------\n",
      "Good Morning...\n",
      "Day Number: 5 and Medicine Number: 1...\n",
      "Day Number: 5 and Medicine Number: 2...\n",
      "Day Number: 5 and Medicine Number: 3...\n",
      "Good Night...\n",
      "--------------------------------\n",
      "So total number of mecines consumed will be 15...\n",
      "Thahks to Doctor...\n"
     ]
    }
   ],
   "source": [
    "# nested loop\n",
    "print (\"Visit Doctor...\")    # 1 time\n",
    "medicount = 0\n",
    "for day in range(1, 6):\n",
    "    print (\"Good Morning...\")    # 5 times\n",
    "    for medi in range(1, 4):\n",
    "        print (f\"Day Number: {day} and Medicine Number: {medi}...\")    # 15 times\n",
    "        medicount += 1    # 15 times\n",
    "    print (\"Good Night...\")    # 5 times\n",
    "    print (\"--------------------------------\")    # 5 times\n",
    "print (f\"So total number of mecines consumed will be {medicount}...\")    # 1 time\n",
    "print (\"Thahks to Doctor...\")    # 1 time"
   ]
  },
  {
   "cell_type": "markdown",
   "id": "62ae1dc9-3699-4a6f-9144-3e63e534cb37",
   "metadata": {},
   "source": [
    "### User Defined Functions"
   ]
  },
  {
   "cell_type": "code",
   "execution_count": 67,
   "id": "c7bdd62b-678c-4c19-bed1-c92e77ec101b",
   "metadata": {},
   "outputs": [
    {
     "name": "stdout",
     "output_type": "stream",
     "text": [
      "Welcome to all...Welcome to all...Welcome to all...\n",
      "Welcome to all...Welcome to all...Welcome to all...\n",
      "Welcome to all...Welcome to all...Welcome to all...\n"
     ]
    }
   ],
   "source": [
    "def funct1():\n",
    "    print (\"Welcome to all...\" * 3)\n",
    "    \n",
    "funct1()\n",
    "funct1()\n",
    "funct1()"
   ]
  },
  {
   "cell_type": "code",
   "execution_count": 70,
   "id": "f8da1ae0-1484-49d9-a09e-2efaf7aabdac",
   "metadata": {},
   "outputs": [
    {
     "name": "stdout",
     "output_type": "stream",
     "text": [
      "Welcome Welcome Welcome \n",
      "Good Bye Good Bye Good Bye Good Bye Good Bye \n",
      "Hello Hello Hello Hello Hello Hello Hello \n"
     ]
    }
   ],
   "source": [
    "def funct2(msg, times):\n",
    "    print (msg * times)\n",
    "\n",
    "funct2(\"Welcome \", 3)\n",
    "funct2(\"Good Bye \", 5)\n",
    "funct2(\"Hello \", 7)"
   ]
  },
  {
   "cell_type": "code",
   "execution_count": 71,
   "id": "c3998809-aeb4-40fa-9502-aef1a3114b67",
   "metadata": {},
   "outputs": [
    {
     "name": "stdout",
     "output_type": "stream",
     "text": [
      "Welcome Welcome Welcome \n",
      "Good Bye Good Bye Good Bye Good Bye Good Bye \n",
      "Hello Hello Hello Hello Hello Hello Hello \n"
     ]
    }
   ],
   "source": [
    "def funct3(msg, times):\n",
    "    return msg * times\n",
    "\n",
    "result = funct3(\"Welcome \", 3)\n",
    "print (result)\n",
    "result = funct3(\"Good Bye \", 5)\n",
    "print (result)\n",
    "result = funct3(\"Hello \", 7)\n",
    "print (result)"
   ]
  },
  {
   "cell_type": "code",
   "execution_count": 82,
   "id": "016e1912-a5b9-4ff3-9697-67b66009836d",
   "metadata": {},
   "outputs": [
    {
     "name": "stdout",
     "output_type": "stream",
     "text": [
      "par1 = 100, par2 = 200 and par3 = 300\n",
      "par1 = 100, par2 = 200 and par3 = 333\n",
      "par1 = 100, par2 = 222 and par3 = 333\n",
      "par1 = 111, par2 = 222 and par3 = 333\n",
      "par1 = 100, par2 = 222 and par3 = 300\n"
     ]
    }
   ],
   "source": [
    "# parameters with default arguments\n",
    "def funct4(par1 = 111, par2 = 222, par3 = 333):   # positional parameters\n",
    "    print (f\"par1 = {par1}, par2 = {par2} and par3 = {par3}\")\n",
    "    \n",
    "funct4(100, 200, 300)   # positional arguments\n",
    "funct4(100, 200)\n",
    "funct4(100)\n",
    "funct4()\n",
    "funct4(par3 = 300, par1 = 100)"
   ]
  },
  {
   "cell_type": "code",
   "execution_count": 79,
   "id": "eb69f728-8bce-4955-b810-819bff1efdae",
   "metadata": {},
   "outputs": [
    {
     "name": "stdout",
     "output_type": "stream",
     "text": [
      "Welcome Welcome Welcome \n",
      "Good Bye Good Bye Good Bye Good Bye Good Bye \n",
      "Hello Hello Hello Hello Hello Hello Hello \n",
      "No Message No Message No Message \n"
     ]
    }
   ],
   "source": [
    "def funct5(msg = \"No Message \", times = 3):\n",
    "    return msg * times\n",
    "\n",
    "result = funct5(\"Welcome \", 3)\n",
    "print (result)\n",
    "result = funct5(\"Good Bye \", 5)\n",
    "print (result)\n",
    "result = funct5(\"Hello \", 7)\n",
    "print (result)\n",
    "result = funct5()\n",
    "print (result)"
   ]
  },
  {
   "cell_type": "code",
   "execution_count": 84,
   "id": "1a9b5900-fe98-4509-8492-01f9a33c6ad1",
   "metadata": {},
   "outputs": [
    {
     "name": "stdout",
     "output_type": "stream",
     "text": [
      "Happy New Year\n",
      "Happy Happy \n",
      "500\n",
      "200\n"
     ]
    }
   ],
   "source": [
    "def funct6(par1, par2 = None):\n",
    "    if (par2 == None):\n",
    "    # if (par2 is None):\n",
    "        return (par1 + par1)\n",
    "    else:\n",
    "        return (par1 + par2)\n",
    "    \n",
    "result = funct6(\"Happy \", \"New Year\")\n",
    "print (result)\n",
    "result = funct6(\"Happy \")\n",
    "print (result)\n",
    "result = funct6(100, 400)\n",
    "print (result)\n",
    "result = funct6(100)\n",
    "print (result)"
   ]
  },
  {
   "cell_type": "code",
   "execution_count": 91,
   "id": "faebf2d7-b34d-488e-8aa3-48dafd0e0526",
   "metadata": {},
   "outputs": [
    {
     "name": "stdout",
     "output_type": "stream",
     "text": [
      "So total = 140, Difference = 60, Product = 4000 and Quotient = 2.5...\n",
      "(140, 60, 4000, 2.5) <class 'tuple'> 4\n",
      "So total = 140, Difference = 60, Product = 4000 and Quotient = 2.5...\n"
     ]
    }
   ],
   "source": [
    "def funct7(num1, num2):\n",
    "    add = num1 + num2\n",
    "    sub = num1 - num2\n",
    "    prod = num1 * num2\n",
    "    quot = num1 / num2\n",
    "    return add, sub, prod, quot\n",
    "\n",
    "aa, ss, pp, qq = funct7(100, 40)\n",
    "print (f\"So total = {aa}, Difference = {ss}, Product = {pp} and Quotient = {qq}...\")\n",
    "r = funct7(100, 40)\n",
    "print (r, type(r), len(r))\n",
    "print (f\"So total = {r[0]}, Difference = {r[1]}, Product = {r[2]} and Quotient = {r[3]}...\")"
   ]
  },
  {
   "cell_type": "code",
   "execution_count": null,
   "id": "53f5f311-47d1-4e7a-8649-9ffacfae6380",
   "metadata": {},
   "outputs": [],
   "source": [
    "HOME WORK:\n",
    "----------\n",
    "Write the function body of fact_cal(num) which returns the factorial of num\n",
    "i.e. fact_cal(5) will return 120\n",
    "i.e. fact_cal(4) will return 24"
   ]
  },
  {
   "cell_type": "code",
   "execution_count": 7,
   "id": "2b356e5f-d0b8-4e8d-b9c8-47cb07e8a93f",
   "metadata": {},
   "outputs": [
    {
     "name": "stdout",
     "output_type": "stream",
     "text": [
      "Looping for i = 2...\n",
      "Looping for i = 3...\n",
      "Looping for i = 4...\n",
      "So the factorial of 5 is 120...\n",
      "\n",
      "Looping for i = 2...\n",
      "Looping for i = 3...\n",
      "So the factorial of 4 is 24...\n"
     ]
    }
   ],
   "source": [
    "# non-recursive factorial calculation function\n",
    "def fact_cal_nr(num):\n",
    "    if (num == 0 or num == 1): return 1\n",
    "    fact = num\n",
    "    for i in range(2, num):\n",
    "        print (f\"Looping for i = {i}...\")\n",
    "        fact = fact * i\n",
    "    return fact\n",
    "\n",
    "n = 5\n",
    "print (f\"So the factorial of {n} is {fact_cal_nr(n)}...\")\n",
    "print ()\n",
    "n = 4\n",
    "print (f\"So the factorial of {n} is {fact_cal_nr(n)}...\")"
   ]
  },
  {
   "cell_type": "code",
   "execution_count": 9,
   "id": "97b0ce0b-e749-4f0e-a4ac-c04eec7e8022",
   "metadata": {},
   "outputs": [
    {
     "name": "stdout",
     "output_type": "stream",
     "text": [
      "So the factorial of 5 is 120...\n",
      "\n",
      "So the factorial of 4 is 24...\n"
     ]
    }
   ],
   "source": [
    "# recursive factorial calculation function\n",
    "def fact_cal_r(num):\n",
    "    if (num == 0 or num == 1): return 1   # base case: means for certain inputs outputs are pre-known to us\n",
    "    return num * fact_cal_r(num - 1)      # recursive case: function will call itself, n! = n * (n - 1)!, 5! = 5 * 4!\n",
    "\n",
    "n = 5\n",
    "print (f\"So the factorial of {n} is {fact_cal_r(n)}...\")\n",
    "print ()\n",
    "n = 4\n",
    "print (f\"So the factorial of {n} is {fact_cal_r(n)}...\")"
   ]
  },
  {
   "cell_type": "code",
   "execution_count": 10,
   "id": "d08d2696-e5ec-4ad9-b292-af2d29e33090",
   "metadata": {},
   "outputs": [
    {
     "name": "stdout",
     "output_type": "stream",
     "text": [
      "<class 'function'>\n",
      "25\n",
      "36\n"
     ]
    }
   ],
   "source": [
    "# Lambda function, anonymous function\n",
    "my_square = lambda n: n * n   # here my_square is a function reference variable\n",
    "\n",
    "print (type(my_square))\n",
    "print (my_square(5))\n",
    "print (my_square(6))"
   ]
  },
  {
   "cell_type": "code",
   "execution_count": 11,
   "id": "ca94e8b3-a19a-4583-bc1b-af9efaa18d70",
   "metadata": {},
   "outputs": [
    {
     "name": "stdout",
     "output_type": "stream",
     "text": [
      "<class 'function'>\n",
      "90\n",
      "1000\n"
     ]
    }
   ],
   "source": [
    "# Lambda function, anonymous function\n",
    "my_addition = lambda n1, n2: n1 + n2   # here my_square is a function reference variable\n",
    "\n",
    "print (type(my_addition))\n",
    "print (my_addition(50, 40))\n",
    "print (my_addition(600, 400))"
   ]
  },
  {
   "cell_type": "code",
   "execution_count": 12,
   "id": "b5e590a4-f17b-424a-acd9-2693167413a6",
   "metadata": {},
   "outputs": [
    {
     "name": "stdout",
     "output_type": "stream",
     "text": [
      "120\n",
      "720\n"
     ]
    }
   ],
   "source": [
    "# recursive lambda function to calculate the factorial of a given number\n",
    "lambda_fact_r = lambda num: 1 if (num == 0 or num == 1) else num * lambda_fact_r(num - 1)\n",
    "\n",
    "print (lambda_fact_r(5))\n",
    "print (lambda_fact_r(6))"
   ]
  },
  {
   "cell_type": "markdown",
   "id": "5e7e5a30-a1be-4170-820d-5c3f86a0166c",
   "metadata": {},
   "source": [
    "### Dealing with Math Module"
   ]
  },
  {
   "cell_type": "code",
   "execution_count": 13,
   "id": "e2bb5076-b472-4c3c-948a-115cb2c860a6",
   "metadata": {},
   "outputs": [],
   "source": [
    "# importing math module\n",
    "import math"
   ]
  },
  {
   "cell_type": "code",
   "execution_count": 28,
   "id": "c9743ccc-bd07-4021-a3d9-0ece0fbec86f",
   "metadata": {},
   "outputs": [
    {
     "name": "stdout",
     "output_type": "stream",
     "text": [
      "0.0 0.0 0.0 1.0 0.0\n",
      "120 720 10.0 10.954451150103322\n",
      "11 11 10 10\n",
      "1000.0 1000 1000.0\n",
      "10.0 14.142135623730951\n",
      "3.141592653589793 2.718281828459045 6.283185307179586\n",
      "4.605170185988092 4.605170185988092\n",
      "2.9999999999999996 3.0\n",
      "10.0 10.0\n",
      "So GCD and LCM of 100 and 70 are 10, 700\n"
     ]
    }
   ],
   "source": [
    "print (math.sin(0), math.sinh(0), math.asin(0), math.cos(0), math.tan(0))\n",
    "print (math.factorial(5), math.factorial(6), math.sqrt(100), math.sqrt(120))\n",
    "print (math.ceil(10.1), math.ceil(10.9), math.floor(10.1), math.floor(10.9))\n",
    "print (math.pow(10, 3), 10 ** 3, 10.0 ** 3)\n",
    "print (math.sqrt(100), math.sqrt(200))\n",
    "print (math.pi, math.e, math.tau)\n",
    "print (math.log(100), math.log(100, math.e))\n",
    "print (math.log(1000, 10), math.log10(1000))\n",
    "print (math.log(1024, 2), math.log2(1024))\n",
    "num1 = 100\n",
    "num2 = 70\n",
    "gcd = math.gcd(num1, num2)\n",
    "lcm = (num1 * num2) // gcd\n",
    "print (f\"So GCD and LCM of {num1} and {num2} are {gcd}, {lcm}\")"
   ]
  },
  {
   "cell_type": "code",
   "execution_count": 29,
   "id": "d7ed0376-f095-4a13-9af8-8f4e5827817c",
   "metadata": {},
   "outputs": [
    {
     "name": "stdout",
     "output_type": "stream",
     "text": [
      "Help on built-in module math:\n",
      "\n",
      "NAME\n",
      "    math\n",
      "\n",
      "DESCRIPTION\n",
      "    This module provides access to the mathematical functions\n",
      "    defined by the C standard.\n",
      "\n",
      "FUNCTIONS\n",
      "    acos(x, /)\n",
      "        Return the arc cosine (measured in radians) of x.\n",
      "    \n",
      "    acosh(x, /)\n",
      "        Return the inverse hyperbolic cosine of x.\n",
      "    \n",
      "    asin(x, /)\n",
      "        Return the arc sine (measured in radians) of x.\n",
      "    \n",
      "    asinh(x, /)\n",
      "        Return the inverse hyperbolic sine of x.\n",
      "    \n",
      "    atan(x, /)\n",
      "        Return the arc tangent (measured in radians) of x.\n",
      "    \n",
      "    atan2(y, x, /)\n",
      "        Return the arc tangent (measured in radians) of y/x.\n",
      "        \n",
      "        Unlike atan(y/x), the signs of both x and y are considered.\n",
      "    \n",
      "    atanh(x, /)\n",
      "        Return the inverse hyperbolic tangent of x.\n",
      "    \n",
      "    ceil(x, /)\n",
      "        Return the ceiling of x as an Integral.\n",
      "        \n",
      "        This is the smallest integer >= x.\n",
      "    \n",
      "    comb(n, k, /)\n",
      "        Number of ways to choose k items from n items without repetition and without order.\n",
      "        \n",
      "        Evaluates to n! / (k! * (n - k)!) when k <= n and evaluates\n",
      "        to zero when k > n.\n",
      "        \n",
      "        Also called the binomial coefficient because it is equivalent\n",
      "        to the coefficient of k-th term in polynomial expansion of the\n",
      "        expression (1 + x)**n.\n",
      "        \n",
      "        Raises TypeError if either of the arguments are not integers.\n",
      "        Raises ValueError if either of the arguments are negative.\n",
      "    \n",
      "    copysign(x, y, /)\n",
      "        Return a float with the magnitude (absolute value) of x but the sign of y.\n",
      "        \n",
      "        On platforms that support signed zeros, copysign(1.0, -0.0)\n",
      "        returns -1.0.\n",
      "    \n",
      "    cos(x, /)\n",
      "        Return the cosine of x (measured in radians).\n",
      "    \n",
      "    cosh(x, /)\n",
      "        Return the hyperbolic cosine of x.\n",
      "    \n",
      "    degrees(x, /)\n",
      "        Convert angle x from radians to degrees.\n",
      "    \n",
      "    dist(p, q, /)\n",
      "        Return the Euclidean distance between two points p and q.\n",
      "        \n",
      "        The points should be specified as sequences (or iterables) of\n",
      "        coordinates.  Both inputs must have the same dimension.\n",
      "        \n",
      "        Roughly equivalent to:\n",
      "            sqrt(sum((px - qx) ** 2.0 for px, qx in zip(p, q)))\n",
      "    \n",
      "    erf(x, /)\n",
      "        Error function at x.\n",
      "    \n",
      "    erfc(x, /)\n",
      "        Complementary error function at x.\n",
      "    \n",
      "    exp(x, /)\n",
      "        Return e raised to the power of x.\n",
      "    \n",
      "    expm1(x, /)\n",
      "        Return exp(x)-1.\n",
      "        \n",
      "        This function avoids the loss of precision involved in the direct evaluation of exp(x)-1 for small x.\n",
      "    \n",
      "    fabs(x, /)\n",
      "        Return the absolute value of the float x.\n",
      "    \n",
      "    factorial(x, /)\n",
      "        Find x!.\n",
      "        \n",
      "        Raise a ValueError if x is negative or non-integral.\n",
      "    \n",
      "    floor(x, /)\n",
      "        Return the floor of x as an Integral.\n",
      "        \n",
      "        This is the largest integer <= x.\n",
      "    \n",
      "    fmod(x, y, /)\n",
      "        Return fmod(x, y), according to platform C.\n",
      "        \n",
      "        x % y may differ.\n",
      "    \n",
      "    frexp(x, /)\n",
      "        Return the mantissa and exponent of x, as pair (m, e).\n",
      "        \n",
      "        m is a float and e is an int, such that x = m * 2.**e.\n",
      "        If x is 0, m and e are both 0.  Else 0.5 <= abs(m) < 1.0.\n",
      "    \n",
      "    fsum(seq, /)\n",
      "        Return an accurate floating point sum of values in the iterable seq.\n",
      "        \n",
      "        Assumes IEEE-754 floating point arithmetic.\n",
      "    \n",
      "    gamma(x, /)\n",
      "        Gamma function at x.\n",
      "    \n",
      "    gcd(x, y, /)\n",
      "        greatest common divisor of x and y\n",
      "    \n",
      "    hypot(...)\n",
      "        hypot(*coordinates) -> value\n",
      "        \n",
      "        Multidimensional Euclidean distance from the origin to a point.\n",
      "        \n",
      "        Roughly equivalent to:\n",
      "            sqrt(sum(x**2 for x in coordinates))\n",
      "        \n",
      "        For a two dimensional point (x, y), gives the hypotenuse\n",
      "        using the Pythagorean theorem:  sqrt(x*x + y*y).\n",
      "        \n",
      "        For example, the hypotenuse of a 3/4/5 right triangle is:\n",
      "        \n",
      "            >>> hypot(3.0, 4.0)\n",
      "            5.0\n",
      "    \n",
      "    isclose(a, b, *, rel_tol=1e-09, abs_tol=0.0)\n",
      "        Determine whether two floating point numbers are close in value.\n",
      "        \n",
      "          rel_tol\n",
      "            maximum difference for being considered \"close\", relative to the\n",
      "            magnitude of the input values\n",
      "          abs_tol\n",
      "            maximum difference for being considered \"close\", regardless of the\n",
      "            magnitude of the input values\n",
      "        \n",
      "        Return True if a is close in value to b, and False otherwise.\n",
      "        \n",
      "        For the values to be considered close, the difference between them\n",
      "        must be smaller than at least one of the tolerances.\n",
      "        \n",
      "        -inf, inf and NaN behave similarly to the IEEE 754 Standard.  That\n",
      "        is, NaN is not close to anything, even itself.  inf and -inf are\n",
      "        only close to themselves.\n",
      "    \n",
      "    isfinite(x, /)\n",
      "        Return True if x is neither an infinity nor a NaN, and False otherwise.\n",
      "    \n",
      "    isinf(x, /)\n",
      "        Return True if x is a positive or negative infinity, and False otherwise.\n",
      "    \n",
      "    isnan(x, /)\n",
      "        Return True if x is a NaN (not a number), and False otherwise.\n",
      "    \n",
      "    isqrt(n, /)\n",
      "        Return the integer part of the square root of the input.\n",
      "    \n",
      "    ldexp(x, i, /)\n",
      "        Return x * (2**i).\n",
      "        \n",
      "        This is essentially the inverse of frexp().\n",
      "    \n",
      "    lgamma(x, /)\n",
      "        Natural logarithm of absolute value of Gamma function at x.\n",
      "    \n",
      "    log(...)\n",
      "        log(x, [base=math.e])\n",
      "        Return the logarithm of x to the given base.\n",
      "        \n",
      "        If the base not specified, returns the natural logarithm (base e) of x.\n",
      "    \n",
      "    log10(x, /)\n",
      "        Return the base 10 logarithm of x.\n",
      "    \n",
      "    log1p(x, /)\n",
      "        Return the natural logarithm of 1+x (base e).\n",
      "        \n",
      "        The result is computed in a way which is accurate for x near zero.\n",
      "    \n",
      "    log2(x, /)\n",
      "        Return the base 2 logarithm of x.\n",
      "    \n",
      "    modf(x, /)\n",
      "        Return the fractional and integer parts of x.\n",
      "        \n",
      "        Both results carry the sign of x and are floats.\n",
      "    \n",
      "    perm(n, k=None, /)\n",
      "        Number of ways to choose k items from n items without repetition and with order.\n",
      "        \n",
      "        Evaluates to n! / (n - k)! when k <= n and evaluates\n",
      "        to zero when k > n.\n",
      "        \n",
      "        If k is not specified or is None, then k defaults to n\n",
      "        and the function returns n!.\n",
      "        \n",
      "        Raises TypeError if either of the arguments are not integers.\n",
      "        Raises ValueError if either of the arguments are negative.\n",
      "    \n",
      "    pow(x, y, /)\n",
      "        Return x**y (x to the power of y).\n",
      "    \n",
      "    prod(iterable, /, *, start=1)\n",
      "        Calculate the product of all the elements in the input iterable.\n",
      "        \n",
      "        The default start value for the product is 1.\n",
      "        \n",
      "        When the iterable is empty, return the start value.  This function is\n",
      "        intended specifically for use with numeric values and may reject\n",
      "        non-numeric types.\n",
      "    \n",
      "    radians(x, /)\n",
      "        Convert angle x from degrees to radians.\n",
      "    \n",
      "    remainder(x, y, /)\n",
      "        Difference between x and the closest integer multiple of y.\n",
      "        \n",
      "        Return x - n*y where n*y is the closest integer multiple of y.\n",
      "        In the case where x is exactly halfway between two multiples of\n",
      "        y, the nearest even value of n is used. The result is always exact.\n",
      "    \n",
      "    sin(x, /)\n",
      "        Return the sine of x (measured in radians).\n",
      "    \n",
      "    sinh(x, /)\n",
      "        Return the hyperbolic sine of x.\n",
      "    \n",
      "    sqrt(x, /)\n",
      "        Return the square root of x.\n",
      "    \n",
      "    tan(x, /)\n",
      "        Return the tangent of x (measured in radians).\n",
      "    \n",
      "    tanh(x, /)\n",
      "        Return the hyperbolic tangent of x.\n",
      "    \n",
      "    trunc(x, /)\n",
      "        Truncates the Real x to the nearest Integral toward 0.\n",
      "        \n",
      "        Uses the __trunc__ magic method.\n",
      "\n",
      "DATA\n",
      "    e = 2.718281828459045\n",
      "    inf = inf\n",
      "    nan = nan\n",
      "    pi = 3.141592653589793\n",
      "    tau = 6.283185307179586\n",
      "\n",
      "FILE\n",
      "    (built-in)\n",
      "\n",
      "\n"
     ]
    }
   ],
   "source": [
    "help(math)"
   ]
  },
  {
   "cell_type": "code",
   "execution_count": 30,
   "id": "c5cb15f9-a747-4bf8-8839-c3b8fa375d38",
   "metadata": {},
   "outputs": [
    {
     "name": "stdout",
     "output_type": "stream",
     "text": [
      "Help on built-in function pow in module math:\n",
      "\n",
      "pow(x, y, /)\n",
      "    Return x**y (x to the power of y).\n",
      "\n"
     ]
    }
   ],
   "source": [
    "help(math.pow)"
   ]
  },
  {
   "cell_type": "code",
   "execution_count": 33,
   "id": "6c28cf26-c9e1-4881-8690-ea3e18b03aa4",
   "metadata": {},
   "outputs": [
    {
     "name": "stdout",
     "output_type": "stream",
     "text": [
      "10.0 10 10.0\n"
     ]
    }
   ],
   "source": [
    "print (math.remainder(100, 30), 100 % 30, 100.0 % 30)"
   ]
  },
  {
   "cell_type": "markdown",
   "id": "3e37ce69-acb5-4e8a-b35f-bd35d65643a3",
   "metadata": {},
   "source": [
    "### String Processing"
   ]
  },
  {
   "cell_type": "code",
   "execution_count": null,
   "id": "e37c8b37-9648-4dca-80a3-9c454d7a4235",
   "metadata": {},
   "outputs": [],
   "source": [
    "# index from left to right ->   0  1  2  3  4  5  6  7  8  9\n",
    "# mystr =                       u  n  i  v  e  r  s  i  t  y\n",
    "# index from right to left -> -10 -9 -8 -7 -6 -5 -4 -3 -2 -1"
   ]
  },
  {
   "cell_type": "code",
   "execution_count": 39,
   "id": "72cf9c27-de2a-4eff-bb07-3e320bb9a73b",
   "metadata": {},
   "outputs": [
    {
     "name": "stdout",
     "output_type": "stream",
     "text": [
      "university 10 2845625133296 <class 'str'>\n",
      "v v s s\n",
      "ver ver ver ver\n",
      "univer univer sity sity\n"
     ]
    }
   ],
   "source": [
    "mystr = \"university\"\n",
    "print (mystr, len(mystr), id(mystr), type(mystr))\n",
    "print (mystr[3], mystr[-7], mystr[6], mystr[-4])   # indexing\n",
    "print (mystr[3:6], mystr[-7:-4], mystr[3:-4], mystr[-7:6])   # slicing\n",
    "print (mystr[:6], mystr[:-4], mystr[6:], mystr[-4:])"
   ]
  },
  {
   "cell_type": "code",
   "execution_count": 44,
   "id": "b74c88a0-289b-4c54-b2dc-a3738322c061",
   "metadata": {},
   "outputs": [
    {
     "name": "stdout",
     "output_type": "stream",
     "text": [
      "calCUttA uniVersiTy 19\n",
      "CALCUTTA UNIVERSITY\n",
      "calcutta university\n",
      "CALcuTTa UNIvERSItY\n",
      "Calcutta university\n",
      "Calcutta University\n",
      "     calCUttA uniVersiTy      \n",
      "     Calcutta University      \n"
     ]
    }
   ],
   "source": [
    "mystr = \"calCUttA uniVersiTy\"\n",
    "print (mystr, len(mystr))\n",
    "print (mystr.upper())\n",
    "print (mystr.lower())\n",
    "print (mystr.swapcase())\n",
    "print (mystr.capitalize())\n",
    "print (mystr.title())\n",
    "print (mystr.center(30))\n",
    "print (mystr.title().center(30))"
   ]
  },
  {
   "cell_type": "code",
   "execution_count": 46,
   "id": "52c802bf-582e-4453-bfa9-573fc9ed74df",
   "metadata": {},
   "outputs": [
    {
     "name": "stdout",
     "output_type": "stream",
     "text": [
      "      calcutta    university     32\n",
      "calcutta    university\n",
      "calcutta    university    \n",
      "      calcutta    university\n"
     ]
    }
   ],
   "source": [
    "mystr = \"      calcutta    university    \"\n",
    "print (mystr, len(mystr))\n",
    "print (mystr.strip())\n",
    "print (mystr.lstrip())\n",
    "print (mystr.rstrip())"
   ]
  },
  {
   "cell_type": "code",
   "execution_count": 47,
   "id": "7ce68eaa-522c-4e3e-b8b2-f568a19cf238",
   "metadata": {},
   "outputs": [
    {
     "name": "stdout",
     "output_type": "stream",
     "text": [
      "#@#@#calcutta    university##@@ 31\n",
      "calcutta    university\n",
      "calcutta    university##@@\n",
      "#@#@#calcutta    university\n"
     ]
    }
   ],
   "source": [
    "mystr = \"#@#@#calcutta    university##@@\"\n",
    "print (mystr, len(mystr))\n",
    "print (mystr.strip(\"#@\"))\n",
    "print (mystr.lstrip(\"@#\"))\n",
    "print (mystr.rstrip(\"#@\"))"
   ]
  },
  {
   "cell_type": "code",
   "execution_count": 50,
   "id": "d2cdd7de-1f75-4246-9fba-02e2d992f915",
   "metadata": {},
   "outputs": [
    {
     "name": "stdout",
     "output_type": "stream",
     "text": [
      "Ram is a very good boy\n",
      "['Ram', 'is', 'a', 'very', 'good', 'boy']\n",
      "['Ram', 'is', 'a', 'very', 'good', 'boy']\n",
      "['R', 'm is ', ' very good boy']\n"
     ]
    }
   ],
   "source": [
    "mystr = \"Ram is a very good boy\"\n",
    "print (mystr)\n",
    "my_words = mystr.split()\n",
    "print (my_words)\n",
    "my_words = mystr.split(\" \")\n",
    "print (my_words)\n",
    "my_words = mystr.split(\"a\")\n",
    "print (my_words)"
   ]
  },
  {
   "cell_type": "code",
   "execution_count": 52,
   "id": "145bcdf6-ba0a-413a-8a6e-579460166a76",
   "metadata": {},
   "outputs": [
    {
     "name": "stdout",
     "output_type": "stream",
     "text": [
      "Ram is a very good boy\n",
      "Ram, is, a, very, good, boy\n",
      "Ram - is - a - very - good - boy\n"
     ]
    }
   ],
   "source": [
    "my_word = ['Ram', 'is', 'a', 'very', 'good', 'boy']\n",
    "mystr = \" \".join(my_word)\n",
    "print (mystr)\n",
    "mystr = \", \".join(my_word)\n",
    "print (mystr)\n",
    "mystr = \" - \".join(my_word)\n",
    "print (mystr)"
   ]
  },
  {
   "cell_type": "code",
   "execution_count": 54,
   "id": "58118526-f6ca-49ec-b293-537889b1e6c3",
   "metadata": {},
   "outputs": [
    {
     "name": "stdout",
     "output_type": "stream",
     "text": [
      "u\n",
      "n\n",
      "i\n",
      "v\n",
      "e\n",
      "r\n",
      "s\n",
      "i\n",
      "t\n",
      "y\n",
      "4 6\n"
     ]
    }
   ],
   "source": [
    "mystr = \"university\"\n",
    "vcount = 0\n",
    "for ch in mystr:\n",
    "    print (ch)\n",
    "    if (ch in \"aeiou\"):\n",
    "        vcount += 1\n",
    "print (vcount, len(mystr) - vcount)"
   ]
  },
  {
   "cell_type": "code",
   "execution_count": 55,
   "id": "5be4f4d4-7a53-4e97-be70-5b535499b6e1",
   "metadata": {},
   "outputs": [
    {
     "name": "stdout",
     "output_type": "stream",
     "text": [
      "u\n",
      "n\n",
      "i\n",
      "v\n",
      "e\n",
      "r\n",
      "s\n",
      "i\n",
      "t\n",
      "y\n",
      "4 6\n"
     ]
    }
   ],
   "source": [
    "mystr = \"university\"\n",
    "vcount = 0\n",
    "for i in range(len(mystr)):\n",
    "    print (mystr[i])\n",
    "    if (mystr[i] in \"aeiou\"):\n",
    "        vcount += 1\n",
    "print (vcount, len(mystr) - vcount)"
   ]
  },
  {
   "cell_type": "code",
   "execution_count": 1,
   "id": "88c6d5dd-3eea-4b28-b5fb-c0c7407c40b4",
   "metadata": {},
   "outputs": [
    {
     "name": "stdout",
     "output_type": "stream",
     "text": [
      "university <class 'str'>\n",
      "3\n",
      "-1\n",
      "3\n",
      "-1\n"
     ]
    }
   ],
   "source": [
    "mystr = \"university\"\n",
    "print (mystr, type(mystr))\n",
    "print (mystr.find(\"ver\"))\n",
    "print (mystr.find(\"Ver\"))\n",
    "print (mystr.upper().find(\"VER\"))\n",
    "print (mystr.find(\"wxyz\"))"
   ]
  },
  {
   "cell_type": "markdown",
   "id": "bb0864d7-3fef-464f-b888-b784b0bcfcfe",
   "metadata": {},
   "source": [
    "### List Processing"
   ]
  },
  {
   "cell_type": "code",
   "execution_count": 2,
   "id": "e93829ff-8c6c-460e-bfc3-4fbff0ccb47b",
   "metadata": {},
   "outputs": [
    {
     "name": "stdout",
     "output_type": "stream",
     "text": [
      "[100, 300, 400, 200, 600] 5 <class 'list'> 1648427118656\n",
      "600 100\n",
      "1600 320.0\n"
     ]
    }
   ],
   "source": [
    "list1 = [100, 300, 400, 200, 600]\n",
    "print (list1, len(list1), type(list1), id(list1))\n",
    "print (max(list1), min(list1))\n",
    "print (sum(list1), sum(list1) / len(list1))"
   ]
  },
  {
   "cell_type": "code",
   "execution_count": 6,
   "id": "67ce17e9-b4f9-48ca-b560-0ac35b16c9a2",
   "metadata": {},
   "outputs": [
    {
     "name": "stdout",
     "output_type": "stream",
     "text": [
      "['pineapple', 'apple', 'banana', 'mango', 'lemon'] 5 <class 'list'> 1648427170752\n",
      "pineapple apple\n"
     ]
    },
    {
     "ename": "TypeError",
     "evalue": "unsupported operand type(s) for +: 'int' and 'str'",
     "output_type": "error",
     "traceback": [
      "\u001b[1;31m---------------------------------------------------------------------------\u001b[0m",
      "\u001b[1;31mTypeError\u001b[0m                                 Traceback (most recent call last)",
      "\u001b[1;32m<ipython-input-6-30dff64c23dd>\u001b[0m in \u001b[0;36m<module>\u001b[1;34m\u001b[0m\n\u001b[0;32m      2\u001b[0m \u001b[0mprint\u001b[0m \u001b[1;33m(\u001b[0m\u001b[0mlist1\u001b[0m\u001b[1;33m,\u001b[0m \u001b[0mlen\u001b[0m\u001b[1;33m(\u001b[0m\u001b[0mlist1\u001b[0m\u001b[1;33m)\u001b[0m\u001b[1;33m,\u001b[0m \u001b[0mtype\u001b[0m\u001b[1;33m(\u001b[0m\u001b[0mlist1\u001b[0m\u001b[1;33m)\u001b[0m\u001b[1;33m,\u001b[0m \u001b[0mid\u001b[0m\u001b[1;33m(\u001b[0m\u001b[0mlist1\u001b[0m\u001b[1;33m)\u001b[0m\u001b[1;33m)\u001b[0m\u001b[1;33m\u001b[0m\u001b[1;33m\u001b[0m\u001b[0m\n\u001b[0;32m      3\u001b[0m \u001b[0mprint\u001b[0m \u001b[1;33m(\u001b[0m\u001b[0mmax\u001b[0m\u001b[1;33m(\u001b[0m\u001b[0mlist1\u001b[0m\u001b[1;33m)\u001b[0m\u001b[1;33m,\u001b[0m \u001b[0mmin\u001b[0m\u001b[1;33m(\u001b[0m\u001b[0mlist1\u001b[0m\u001b[1;33m)\u001b[0m\u001b[1;33m)\u001b[0m\u001b[1;33m\u001b[0m\u001b[1;33m\u001b[0m\u001b[0m\n\u001b[1;32m----> 4\u001b[1;33m \u001b[0mprint\u001b[0m \u001b[1;33m(\u001b[0m\u001b[0msum\u001b[0m\u001b[1;33m(\u001b[0m\u001b[0mlist1\u001b[0m\u001b[1;33m)\u001b[0m\u001b[1;33m,\u001b[0m \u001b[0msum\u001b[0m\u001b[1;33m(\u001b[0m\u001b[0mlist1\u001b[0m\u001b[1;33m)\u001b[0m \u001b[1;33m/\u001b[0m \u001b[0mlen\u001b[0m\u001b[1;33m(\u001b[0m\u001b[0mlist1\u001b[0m\u001b[1;33m)\u001b[0m\u001b[1;33m)\u001b[0m\u001b[1;33m\u001b[0m\u001b[1;33m\u001b[0m\u001b[0m\n\u001b[0m",
      "\u001b[1;31mTypeError\u001b[0m: unsupported operand type(s) for +: 'int' and 'str'"
     ]
    }
   ],
   "source": [
    "list1 = [\"pineapple\", \"apple\", \"banana\", \"mango\", \"lemon\"]\n",
    "print (list1, len(list1), type(list1), id(list1))\n",
    "print (max(list1), min(list1))\n",
    "# print (sum(list1), sum(list1) / len(list1))"
   ]
  },
  {
   "cell_type": "code",
   "execution_count": 11,
   "id": "0788cb61-20c5-48d8-bcb2-d3e18390b92e",
   "metadata": {},
   "outputs": [
    {
     "name": "stdout",
     "output_type": "stream",
     "text": [
      "['pineapple', 'apple', 100, 'banana', 300, 'mango', 'lemon'] 7 <class 'list'> 1648433630336\n"
     ]
    }
   ],
   "source": [
    "list1 = [\"pineapple\", \"apple\", 100, \"banana\", 300, \"mango\", \"lemon\"]\n",
    "print (list1, len(list1), type(list1), id(list1))\n",
    "# print (max(list1), min(list1))\n",
    "# print (sum(list1), sum(list1) / len(list1))"
   ]
  },
  {
   "cell_type": "code",
   "execution_count": 25,
   "id": "41bd6290-9dba-4c77-ad9d-32e3a67849d6",
   "metadata": {},
   "outputs": [
    {
     "name": "stdout",
     "output_type": "stream",
     "text": [
      "['pineapple', 'apple', 'banana'] 3\n",
      "['pineapple', 'apple', 'banana', 'mango'] 4\n",
      "['pineapple', 'apple', 'lemon', 'banana', 'mango'] 5\n"
     ]
    }
   ],
   "source": [
    "# insert operation\n",
    "list1 = [\"pineapple\", \"apple\", \"banana\"]\n",
    "print (list1, len(list1))\n",
    "list1.append(\"mango\")\n",
    "print (list1, len(list1))\n",
    "list1.insert(2, \"lemon\")\n",
    "print (list1, len(list1))"
   ]
  },
  {
   "cell_type": "code",
   "execution_count": 26,
   "id": "54b7bce4-b0be-4b06-a76f-bd35c93bf4d6",
   "metadata": {},
   "outputs": [
    {
     "name": "stdout",
     "output_type": "stream",
     "text": [
      "['pineapple', 'apple', 'lemon', 'banana', 'mango'] 5\n",
      "[] 0\n"
     ]
    }
   ],
   "source": [
    "# delete operation\n",
    "list1 = ['pineapple', 'apple', 'lemon', 'banana', 'mango']\n",
    "print (list1, len(list1))\n",
    "list1.clear()\n",
    "print (list1, len(list1))"
   ]
  },
  {
   "cell_type": "code",
   "execution_count": 27,
   "id": "597f04db-c659-4196-bab1-30f43d9fbc78",
   "metadata": {},
   "outputs": [
    {
     "name": "stdout",
     "output_type": "stream",
     "text": [
      "['pineapple', 'apple', 'lemon', 'banana', 'mango'] 5\n"
     ]
    },
    {
     "ename": "NameError",
     "evalue": "name 'list1' is not defined",
     "output_type": "error",
     "traceback": [
      "\u001b[1;31m---------------------------------------------------------------------------\u001b[0m",
      "\u001b[1;31mNameError\u001b[0m                                 Traceback (most recent call last)",
      "\u001b[1;32m<ipython-input-27-710c76bc0b2a>\u001b[0m in \u001b[0;36m<module>\u001b[1;34m\u001b[0m\n\u001b[0;32m      2\u001b[0m \u001b[0mprint\u001b[0m \u001b[1;33m(\u001b[0m\u001b[0mlist1\u001b[0m\u001b[1;33m,\u001b[0m \u001b[0mlen\u001b[0m\u001b[1;33m(\u001b[0m\u001b[0mlist1\u001b[0m\u001b[1;33m)\u001b[0m\u001b[1;33m)\u001b[0m\u001b[1;33m\u001b[0m\u001b[1;33m\u001b[0m\u001b[0m\n\u001b[0;32m      3\u001b[0m \u001b[1;32mdel\u001b[0m \u001b[0mlist1\u001b[0m\u001b[1;33m\u001b[0m\u001b[1;33m\u001b[0m\u001b[0m\n\u001b[1;32m----> 4\u001b[1;33m \u001b[0mprint\u001b[0m \u001b[1;33m(\u001b[0m\u001b[0mlist1\u001b[0m\u001b[1;33m,\u001b[0m \u001b[0mlen\u001b[0m\u001b[1;33m(\u001b[0m\u001b[0mlist1\u001b[0m\u001b[1;33m)\u001b[0m\u001b[1;33m)\u001b[0m\u001b[1;33m\u001b[0m\u001b[1;33m\u001b[0m\u001b[0m\n\u001b[0m",
      "\u001b[1;31mNameError\u001b[0m: name 'list1' is not defined"
     ]
    }
   ],
   "source": [
    "list1 = ['pineapple', 'apple', 'lemon', 'banana', 'mango']\n",
    "print (list1, len(list1))\n",
    "del list1\n",
    "print (list1, len(list1))"
   ]
  },
  {
   "cell_type": "code",
   "execution_count": 28,
   "id": "76641a33-f389-4392-a967-6ec952590008",
   "metadata": {},
   "outputs": [
    {
     "name": "stdout",
     "output_type": "stream",
     "text": [
      "['pineapple', 'apple', 'lemon', 'banana', 'mango'] 5\n",
      "mango\n",
      "['pineapple', 'apple', 'lemon', 'banana'] 4\n",
      "banana\n",
      "['pineapple', 'apple', 'lemon'] 3\n",
      "lemon\n",
      "['pineapple', 'apple'] 2\n"
     ]
    }
   ],
   "source": [
    "list1 = ['pineapple', 'apple', 'lemon', 'banana', 'mango']\n",
    "print (list1, len(list1))\n",
    "print (list1.pop())\n",
    "print (list1, len(list1))\n",
    "print (list1.pop())\n",
    "print (list1, len(list1))\n",
    "print (list1.pop())\n",
    "print (list1, len(list1))"
   ]
  },
  {
   "cell_type": "code",
   "execution_count": 29,
   "id": "f5470e73-c634-44a6-9348-5873da8f1aa5",
   "metadata": {},
   "outputs": [
    {
     "name": "stdout",
     "output_type": "stream",
     "text": [
      "['pineapple', 'apple', 'lemon', 'banana', 'mango'] 5\n",
      "lemon\n",
      "['pineapple', 'apple', 'banana', 'mango'] 4\n",
      "apple\n",
      "['pineapple', 'banana', 'mango'] 3\n",
      "mango\n",
      "['pineapple', 'banana'] 2\n"
     ]
    }
   ],
   "source": [
    "list1 = ['pineapple', 'apple', 'lemon', 'banana', 'mango']\n",
    "print (list1, len(list1))\n",
    "print (list1.pop(2))\n",
    "print (list1, len(list1))\n",
    "print (list1.pop(1))\n",
    "print (list1, len(list1))\n",
    "print (list1.pop(2))\n",
    "print (list1, len(list1))"
   ]
  },
  {
   "cell_type": "code",
   "execution_count": 33,
   "id": "ef94330e-f1c7-4746-a3df-29b6992cf1d7",
   "metadata": {},
   "outputs": [
    {
     "name": "stdout",
     "output_type": "stream",
     "text": [
      "['pineapple', 'apple', 'lemon', 'banana', 'mango'] 5\n",
      "['pineapple', 'apple', 'banana', 'mango'] 4\n",
      "['pineapple', 'apple', 'mango'] 3\n"
     ]
    }
   ],
   "source": [
    "list1 = ['pineapple', 'apple', 'lemon', 'banana', 'mango']\n",
    "print (list1, len(list1))\n",
    "list1.remove('lemon')\n",
    "print (list1, len(list1))\n",
    "list1.remove('banana')\n",
    "print (list1, len(list1))"
   ]
  },
  {
   "cell_type": "code",
   "execution_count": 34,
   "id": "c7aa6049-93ba-4091-b936-a7e36485ff75",
   "metadata": {},
   "outputs": [
    {
     "name": "stdout",
     "output_type": "stream",
     "text": [
      "['pineapple', 'apple', 'lemon', 'banana', 'mango'] 5\n",
      "['pineapple', 'apple', 'lime', 'banana', 'mango'] 5\n"
     ]
    }
   ],
   "source": [
    "# update operation\n",
    "list1 = ['pineapple', 'apple', 'lemon', 'banana', 'mango']\n",
    "print (list1, len(list1))\n",
    "list1[2] = \"lime\"\n",
    "print (list1, len(list1))"
   ]
  },
  {
   "cell_type": "code",
   "execution_count": 38,
   "id": "9b377ac4-72d9-4a1b-8d8d-09794405e71b",
   "metadata": {},
   "outputs": [
    {
     "name": "stdout",
     "output_type": "stream",
     "text": [
      "['pineapple', 'apple', 'lemon', 'banana', 'mango'] 5\n",
      "['apple', 'banana', 'lemon', 'mango', 'pineapple'] 5\n"
     ]
    }
   ],
   "source": [
    "list1 = ['pineapple', 'apple', 'lemon', 'banana', 'mango']\n",
    "print (list1, len(list1))\n",
    "list1.sort(reverse = False)\n",
    "print (list1, len(list1))"
   ]
  },
  {
   "cell_type": "code",
   "execution_count": 37,
   "id": "db0e4a16-1637-4920-a64a-f6ec1269d2ef",
   "metadata": {},
   "outputs": [
    {
     "name": "stdout",
     "output_type": "stream",
     "text": [
      "Help on built-in function sort:\n",
      "\n",
      "sort(*, key=None, reverse=False) method of builtins.list instance\n",
      "    Sort the list in ascending order and return None.\n",
      "    \n",
      "    The sort is in-place (i.e. the list itself is modified) and stable (i.e. the\n",
      "    order of two equal elements is maintained).\n",
      "    \n",
      "    If a key function is given, apply it once to each list item and sort them,\n",
      "    ascending or descending, according to their function values.\n",
      "    \n",
      "    The reverse flag can be set to sort in descending order.\n",
      "\n"
     ]
    }
   ],
   "source": [
    "help(list1.sort)"
   ]
  },
  {
   "cell_type": "code",
   "execution_count": 39,
   "id": "4241e044-7e9f-4673-8d2e-2b666affc8c0",
   "metadata": {},
   "outputs": [
    {
     "name": "stdout",
     "output_type": "stream",
     "text": [
      "['pineapple', 'apple', 'lemon', 'banana', 'mango'] 5\n",
      "1\n",
      "3\n"
     ]
    },
    {
     "ename": "ValueError",
     "evalue": "'coconut' is not in list",
     "output_type": "error",
     "traceback": [
      "\u001b[1;31m---------------------------------------------------------------------------\u001b[0m",
      "\u001b[1;31mValueError\u001b[0m                                Traceback (most recent call last)",
      "\u001b[1;32m<ipython-input-39-eb8180f93736>\u001b[0m in \u001b[0;36m<module>\u001b[1;34m\u001b[0m\n\u001b[0;32m      3\u001b[0m \u001b[0mprint\u001b[0m \u001b[1;33m(\u001b[0m\u001b[0mlist1\u001b[0m\u001b[1;33m.\u001b[0m\u001b[0mindex\u001b[0m\u001b[1;33m(\u001b[0m\u001b[1;34m'apple'\u001b[0m\u001b[1;33m)\u001b[0m\u001b[1;33m)\u001b[0m\u001b[1;33m\u001b[0m\u001b[1;33m\u001b[0m\u001b[0m\n\u001b[0;32m      4\u001b[0m \u001b[0mprint\u001b[0m \u001b[1;33m(\u001b[0m\u001b[0mlist1\u001b[0m\u001b[1;33m.\u001b[0m\u001b[0mindex\u001b[0m\u001b[1;33m(\u001b[0m\u001b[1;34m'banana'\u001b[0m\u001b[1;33m)\u001b[0m\u001b[1;33m)\u001b[0m\u001b[1;33m\u001b[0m\u001b[1;33m\u001b[0m\u001b[0m\n\u001b[1;32m----> 5\u001b[1;33m \u001b[0mprint\u001b[0m \u001b[1;33m(\u001b[0m\u001b[0mlist1\u001b[0m\u001b[1;33m.\u001b[0m\u001b[0mindex\u001b[0m\u001b[1;33m(\u001b[0m\u001b[1;34m'coconut'\u001b[0m\u001b[1;33m)\u001b[0m\u001b[1;33m)\u001b[0m\u001b[1;33m\u001b[0m\u001b[1;33m\u001b[0m\u001b[0m\n\u001b[0m",
      "\u001b[1;31mValueError\u001b[0m: 'coconut' is not in list"
     ]
    }
   ],
   "source": [
    "list1 = ['pineapple', 'apple', 'lemon', 'banana', 'mango']\n",
    "print (list1, len(list1))\n",
    "print (list1.index('apple'))\n",
    "print (list1.index('banana'))\n",
    "print (list1.index('coconut'))"
   ]
  },
  {
   "cell_type": "code",
   "execution_count": 42,
   "id": "57f9eebf-5f5c-4d5b-824e-3c9f96882018",
   "metadata": {},
   "outputs": [
    {
     "name": "stdout",
     "output_type": "stream",
     "text": [
      "['pineapple', 'apple', 'lemon'] 3\n",
      "['banana', 'mango'] 2\n",
      "['banana', 'mango', 'pineapple', 'apple', 'lemon'] 5\n"
     ]
    }
   ],
   "source": [
    "list1 = ['pineapple', 'apple', 'lemon']\n",
    "print (list1, len(list1))\n",
    "list2 = ['banana', 'mango']\n",
    "print (list2, len(list2))\n",
    "list2.extend(list1)\n",
    "print (list2, len(list2))"
   ]
  },
  {
   "cell_type": "code",
   "execution_count": 48,
   "id": "6cfa48d6-afa3-4768-a5bb-efcceddba592",
   "metadata": {},
   "outputs": [
    {
     "name": "stdout",
     "output_type": "stream",
     "text": [
      "['pineapple', 'apple', 'lemon'] 3\n",
      "['banana', 'mango'] 2\n",
      "['pineapple', 'apple', 'lemon', 'banana', 'mango'] 5\n",
      "[['pineapple', 'apple', 'lemon'], ['banana', 'mango']] 2\n",
      "['banana', 'mango'] apple app\n"
     ]
    }
   ],
   "source": [
    "list1 = ['pineapple', 'apple', 'lemon']\n",
    "print (list1, len(list1))\n",
    "list2 = ['banana', 'mango']\n",
    "print (list2, len(list2))\n",
    "list3 = list1 + list2\n",
    "print (list3, len(list3))\n",
    "list3 = [list1, list2]\n",
    "print (list3, len(list3))\n",
    "print (list3[1], list3[0][1], list3[0][1][:3])"
   ]
  },
  {
   "cell_type": "code",
   "execution_count": 49,
   "id": "9d250132-596b-4fb5-9dd3-e917164d3031",
   "metadata": {},
   "outputs": [
    {
     "name": "stdout",
     "output_type": "stream",
     "text": [
      "['pineapple', 'apple', 'pineapple', 'apple', 'pineapple', 'apple', 'pineapple', 'apple', 'lemon'] 9\n",
      "4\n",
      "1\n",
      "4\n"
     ]
    }
   ],
   "source": [
    "list1 = ['pineapple', 'apple', 'pineapple', 'apple', 'pineapple', 'apple', 'pineapple', 'apple', 'lemon']\n",
    "print (list1, len(list1))\n",
    "print (list1.count('pineapple'))\n",
    "print (list1.count('lemon'))\n",
    "print (list1.count('apple'))"
   ]
  },
  {
   "cell_type": "code",
   "execution_count": 15,
   "id": "c6c6d1fe-25bf-42f2-9391-c4ff91401c0a",
   "metadata": {},
   "outputs": [
    {
     "name": "stdout",
     "output_type": "stream",
     "text": [
      "100 140723539555216\n",
      "100 140723539555216\n",
      "100 140723539555216\n"
     ]
    }
   ],
   "source": [
    "# if the variable values are ranging between -5 to 256 then variables will have same id\n",
    "var1 = 100\n",
    "var2 = 100\n",
    "var3 = var1\n",
    "print (var1, id(var1))\n",
    "print (var2, id(var2))\n",
    "print (var3, id(var3))"
   ]
  },
  {
   "cell_type": "code",
   "execution_count": 18,
   "id": "6bd0e687-cc1a-4027-b0a0-c05f8f964449",
   "metadata": {},
   "outputs": [
    {
     "name": "stdout",
     "output_type": "stream",
     "text": [
      "257 1648426768720\n",
      "257 1648434399536\n",
      "257 1648426768720\n"
     ]
    }
   ],
   "source": [
    "var1 = 257\n",
    "var2 = 257\n",
    "var3 = var1\n",
    "print (var1, id(var1))\n",
    "print (var2, id(var2))\n",
    "print (var3, id(var3))"
   ]
  },
  {
   "cell_type": "code",
   "execution_count": 20,
   "id": "1acb8af4-0eee-406a-8b17-a5f31e61c93e",
   "metadata": {},
   "outputs": [
    {
     "name": "stdout",
     "output_type": "stream",
     "text": [
      "-6 1648434397456\n",
      "-6 1648434399536\n",
      "-6 1648434397456\n"
     ]
    }
   ],
   "source": [
    "var1 = -6\n",
    "var2 = -6\n",
    "var3 = var1\n",
    "print (var1, id(var1))\n",
    "print (var2, id(var2))\n",
    "print (var3, id(var3))"
   ]
  },
  {
   "cell_type": "code",
   "execution_count": 23,
   "id": "cb24aba8-93ee-4a4d-9d1c-a3dee324bee0",
   "metadata": {},
   "outputs": [
    {
     "name": "stdout",
     "output_type": "stream",
     "text": [
      "school 1648425897904\n",
      "school 1648425897904\n",
      "school 1648425897904\n"
     ]
    }
   ],
   "source": [
    "var1 = \"school\"\n",
    "var2 = \"school\"\n",
    "var3 = var1\n",
    "print (var1, id(var1))\n",
    "print (var2, id(var2))\n",
    "print (var3, id(var3))"
   ]
  },
  {
   "cell_type": "markdown",
   "id": "cc8db74e-c56e-4514-bc48-d7eb2109d865",
   "metadata": {},
   "source": [
    "### Tuple Processing"
   ]
  },
  {
   "cell_type": "code",
   "execution_count": 3,
   "id": "24205807-1014-4f16-89f4-1dccb2f71797",
   "metadata": {},
   "outputs": [
    {
     "name": "stdout",
     "output_type": "stream",
     "text": [
      "(100, 300, 400, 200, 600) 5 <class 'tuple'> 1648408228864\n",
      "600 100\n",
      "1600 320.0\n"
     ]
    }
   ],
   "source": [
    "tuple1 = (100, 300, 400, 200, 600)\n",
    "print (tuple1, len(tuple1), type(tuple1), id(tuple1))\n",
    "print (max(tuple1), min(tuple1))\n",
    "print (sum(tuple1), sum(tuple1) / len(tuple1))"
   ]
  },
  {
   "cell_type": "code",
   "execution_count": 8,
   "id": "8e9ab65d-daac-4b3d-bce0-f89f331c28f8",
   "metadata": {},
   "outputs": [
    {
     "name": "stdout",
     "output_type": "stream",
     "text": [
      "('pineapple', 'apple', 'banana', 'mango', 'lemon') 5 <class 'tuple'> 1648408228864\n",
      "pineapple apple\n"
     ]
    }
   ],
   "source": [
    "tuple1 = (\"pineapple\", \"apple\", \"banana\", \"mango\", \"lemon\")\n",
    "print (tuple1, len(tuple1), type(tuple1), id(tuple1))\n",
    "print (max(tuple1), min(tuple1))\n",
    "# print (sum(tuple1), sum(tuple1) / len(tuple1))"
   ]
  },
  {
   "cell_type": "code",
   "execution_count": 14,
   "id": "4396b9c3-6cca-4032-9e07-a95d7a991ac5",
   "metadata": {},
   "outputs": [
    {
     "name": "stdout",
     "output_type": "stream",
     "text": [
      "('pineapple', 'apple', 100, 'banana', 300, 'mango', 'lemon') 7 <class 'tuple'> 1648426912448\n"
     ]
    }
   ],
   "source": [
    "tuple1 = (\"pineapple\", \"apple\", 100, \"banana\", 300, \"mango\", \"lemon\")\n",
    "print (tuple1, len(tuple1), type(tuple1), id(tuple1))\n",
    "# print (max(tuple1), min(tuple1))\n",
    "# print (sum(tuple1), sum(tuple1) / len(tuple1))"
   ]
  },
  {
   "cell_type": "code",
   "execution_count": null,
   "id": "36cb7701-698e-4553-b9f1-ff89f76bdefb",
   "metadata": {},
   "outputs": [],
   "source": [
    "tuple1 = (100, 300, 400, 200, 600)\n",
    "print (tuple1, len(tuple1), type(tuple1), id(tuple1))\n",
    "print (max(tuple1), min(tuple1))\n",
    "print (sum(tuple1), sum(tuple1) / len(tuple1))"
   ]
  },
  {
   "cell_type": "code",
   "execution_count": 50,
   "id": "32c3d0b8-2b2b-4d97-9051-5307cf5cdde8",
   "metadata": {},
   "outputs": [
    {
     "name": "stdout",
     "output_type": "stream",
     "text": [
      "('pineapple', 'apple', 'pineapple', 'apple', 'pineapple', 'apple', 'pineapple', 'apple', 'lemon') 9\n",
      "4\n",
      "1\n",
      "4\n"
     ]
    }
   ],
   "source": [
    "tuple1 = ('pineapple', 'apple', 'pineapple', 'apple', 'pineapple', 'apple', 'pineapple', 'apple', 'lemon')\n",
    "print (tuple1, len(tuple1))\n",
    "print (tuple1.count('pineapple'))\n",
    "print (tuple1.count('lemon'))\n",
    "print (tuple1.count('apple'))"
   ]
  },
  {
   "cell_type": "code",
   "execution_count": 56,
   "id": "1b8cbbdc-f018-4036-8908-a33ff8565fae",
   "metadata": {},
   "outputs": [
    {
     "name": "stdout",
     "output_type": "stream",
     "text": [
      "('pineapple', 'apple', 'pineapple', 'apple', 'pineapple', 'apple', 'pineapple', 'apple', 'lemon') 9\n",
      "0\n",
      "2\n",
      "4\n",
      "8\n"
     ]
    },
    {
     "ename": "ValueError",
     "evalue": "tuple.index(x): x not in tuple",
     "output_type": "error",
     "traceback": [
      "\u001b[1;31m---------------------------------------------------------------------------\u001b[0m",
      "\u001b[1;31mValueError\u001b[0m                                Traceback (most recent call last)",
      "\u001b[1;32m<ipython-input-56-d1e21c867140>\u001b[0m in \u001b[0;36m<module>\u001b[1;34m\u001b[0m\n\u001b[0;32m      5\u001b[0m \u001b[0mprint\u001b[0m \u001b[1;33m(\u001b[0m\u001b[0mtuple1\u001b[0m\u001b[1;33m.\u001b[0m\u001b[0mindex\u001b[0m\u001b[1;33m(\u001b[0m\u001b[1;34m'pineapple'\u001b[0m\u001b[1;33m,\u001b[0m \u001b[1;36m3\u001b[0m\u001b[1;33m)\u001b[0m\u001b[1;33m)\u001b[0m\u001b[1;33m\u001b[0m\u001b[1;33m\u001b[0m\u001b[0m\n\u001b[0;32m      6\u001b[0m \u001b[0mprint\u001b[0m \u001b[1;33m(\u001b[0m\u001b[0mtuple1\u001b[0m\u001b[1;33m.\u001b[0m\u001b[0mindex\u001b[0m\u001b[1;33m(\u001b[0m\u001b[1;34m'lemon'\u001b[0m\u001b[1;33m)\u001b[0m\u001b[1;33m)\u001b[0m\u001b[1;33m\u001b[0m\u001b[1;33m\u001b[0m\u001b[0m\n\u001b[1;32m----> 7\u001b[1;33m \u001b[0mprint\u001b[0m \u001b[1;33m(\u001b[0m\u001b[0mtuple1\u001b[0m\u001b[1;33m.\u001b[0m\u001b[0mindex\u001b[0m\u001b[1;33m(\u001b[0m\u001b[1;34m'apples'\u001b[0m\u001b[1;33m)\u001b[0m\u001b[1;33m)\u001b[0m\u001b[1;33m\u001b[0m\u001b[1;33m\u001b[0m\u001b[0m\n\u001b[0m",
      "\u001b[1;31mValueError\u001b[0m: tuple.index(x): x not in tuple"
     ]
    }
   ],
   "source": [
    "tuple1 = ('pineapple', 'apple', 'pineapple', 'apple', 'pineapple', 'apple', 'pineapple', 'apple', 'lemon')\n",
    "print (tuple1, len(tuple1))\n",
    "print (tuple1.index('pineapple'))\n",
    "print (tuple1.index('pineapple', 1))\n",
    "print (tuple1.index('pineapple', 3))\n",
    "print (tuple1.index('lemon'))\n",
    "print (tuple1.index('apples'))"
   ]
  },
  {
   "cell_type": "code",
   "execution_count": 51,
   "id": "cf32f20e-4643-4ad8-a3be-78dfb6c0d9eb",
   "metadata": {},
   "outputs": [
    {
     "name": "stdout",
     "output_type": "stream",
     "text": [
      "A <class 'str'> 1\n",
      "A <class 'str'> 1\n"
     ]
    }
   ],
   "source": [
    "mystr = \"A\"\n",
    "print (mystr, type(mystr), len(mystr))\n",
    "mystr = 'A'\n",
    "print (mystr, type(mystr), len(mystr))"
   ]
  },
  {
   "cell_type": "code",
   "execution_count": 62,
   "id": "bf3d3f1d-26e9-42c8-8fcc-fc4e49ba54f2",
   "metadata": {},
   "outputs": [
    {
     "name": "stdout",
     "output_type": "stream",
     "text": [
      "('pineapple', 'apple', 'banana', 'mango', 'lemon') 5 <class 'tuple'> 1648407941584\n",
      "['pineapple', 'apple', 'banana', 'mango', 'lemon'] 5 <class 'list'> 1648426965888\n",
      "['pineapple', 'apple', 'lemon', 'mango', 'lemon'] 5 <class 'list'> 1648426965888\n",
      "('pineapple', 'apple', 'lemon', 'mango', 'lemon') 5 <class 'tuple'> 1648408010320\n"
     ]
    }
   ],
   "source": [
    "tuple1 = (\"pineapple\", \"apple\", \"banana\", \"mango\", \"lemon\")\n",
    "print (tuple1, len(tuple1), type(tuple1), id(tuple1))\n",
    "# tuple1[2] = \"lemon\"\n",
    "list1 = list(tuple1)\n",
    "print (list1, len(list1), type(list1), id(list1))\n",
    "list1[2] = \"lemon\"\n",
    "print (list1, len(list1), type(list1), id(list1))\n",
    "tuple1 = tuple(list1)\n",
    "print (tuple1, len(tuple1), type(tuple1), id(tuple1))"
   ]
  },
  {
   "cell_type": "markdown",
   "id": "d572e99b-8989-4f9d-a716-cca1e79ef8f4",
   "metadata": {},
   "source": [
    "### Dictionary Processing"
   ]
  },
  {
   "cell_type": "code",
   "execution_count": 67,
   "id": "2b44320a-b73e-48c2-8457-e4e1f35cdbc3",
   "metadata": {},
   "outputs": [
    {
     "name": "stdout",
     "output_type": "stream",
     "text": [
      "{'banana': 'green', 'apple': 'red', 'pineapple': 'green', 'coconut': 'brown'} 4 <class 'dict'> 4\n",
      "dict_keys(['banana', 'apple', 'pineapple', 'coconut'])\n",
      "dict_values(['green', 'red', 'green', 'brown'])\n",
      "dict_items([('banana', 'green'), ('apple', 'red'), ('pineapple', 'green'), ('coconut', 'brown')])\n"
     ]
    }
   ],
   "source": [
    "dict1 = {\"banana\":\"yellow\", \"apple\":\"red\", \"pineapple\":\"green\", \"coconut\":\"brown\", \"banana\":\"green\"}\n",
    "print (dict1, len(dict1), type(dict1), len(dict1))\n",
    "print (dict1.keys())\n",
    "print (dict1.values())\n",
    "print (dict1.items())    # returns list of tuples"
   ]
  },
  {
   "cell_type": "code",
   "execution_count": 74,
   "id": "9cdf71f4-5f19-42e5-8d79-ed6eecd8c95d",
   "metadata": {},
   "outputs": [
    {
     "name": "stdout",
     "output_type": "stream",
     "text": [
      "{'banana': 'yellow', 'apple': 'red', 'pineapple': 'green', 'coconut': 'brown'} 4 <class 'dict'> 4\n",
      "yellow\n",
      "red\n",
      "yellow\n",
      "red\n",
      "None\n",
      "Not Available\n"
     ]
    },
    {
     "ename": "KeyError",
     "evalue": "'guava'",
     "output_type": "error",
     "traceback": [
      "\u001b[1;31m---------------------------------------------------------------------------\u001b[0m",
      "\u001b[1;31mKeyError\u001b[0m                                  Traceback (most recent call last)",
      "\u001b[1;32m<ipython-input-74-1b0ccddd6a79>\u001b[0m in \u001b[0;36m<module>\u001b[1;34m\u001b[0m\n\u001b[0;32m      7\u001b[0m \u001b[0mprint\u001b[0m \u001b[1;33m(\u001b[0m\u001b[0mdict1\u001b[0m\u001b[1;33m.\u001b[0m\u001b[0mget\u001b[0m\u001b[1;33m(\u001b[0m\u001b[1;34m\"guava\"\u001b[0m\u001b[1;33m)\u001b[0m\u001b[1;33m)\u001b[0m\u001b[1;33m\u001b[0m\u001b[1;33m\u001b[0m\u001b[0m\n\u001b[0;32m      8\u001b[0m \u001b[0mprint\u001b[0m \u001b[1;33m(\u001b[0m\u001b[0mdict1\u001b[0m\u001b[1;33m.\u001b[0m\u001b[0mget\u001b[0m\u001b[1;33m(\u001b[0m\u001b[1;34m\"guava\"\u001b[0m\u001b[1;33m,\u001b[0m \u001b[1;34m\"Not Available\"\u001b[0m\u001b[1;33m)\u001b[0m\u001b[1;33m)\u001b[0m\u001b[1;33m\u001b[0m\u001b[1;33m\u001b[0m\u001b[0m\n\u001b[1;32m----> 9\u001b[1;33m \u001b[0mprint\u001b[0m \u001b[1;33m(\u001b[0m\u001b[0mdict1\u001b[0m\u001b[1;33m[\u001b[0m\u001b[1;34m\"guava\"\u001b[0m\u001b[1;33m]\u001b[0m\u001b[1;33m)\u001b[0m\u001b[1;33m\u001b[0m\u001b[1;33m\u001b[0m\u001b[0m\n\u001b[0m",
      "\u001b[1;31mKeyError\u001b[0m: 'guava'"
     ]
    }
   ],
   "source": [
    "dict1 = {\"banana\":\"yellow\", \"apple\":\"red\", \"pineapple\":\"green\", \"coconut\":\"brown\"}\n",
    "print (dict1, len(dict1), type(dict1), len(dict1))\n",
    "print (dict1[\"banana\"])\n",
    "print (dict1[\"apple\"])\n",
    "print (dict1.get(\"banana\"))\n",
    "print (dict1.get(\"apple\"))\n",
    "print (dict1.get(\"guava\"))\n",
    "print (dict1.get(\"guava\", \"Not Available\"))\n",
    "print (dict1[\"guava\"])"
   ]
  },
  {
   "cell_type": "code",
   "execution_count": 77,
   "id": "eaa21735-1876-4d8b-9465-00e573dd95d0",
   "metadata": {},
   "outputs": [
    {
     "name": "stdout",
     "output_type": "stream",
     "text": [
      "{'banana': 'yellow', 'apple': 'red', 'pineapple': 'green', 'coconut': 'brown'} 4 <class 'dict'> 4\n",
      "{'banana': 'yellow', 'apple': 'red', 'pineapple': 'green', 'coconut': 'brown', 'guava': 'green'} 5 <class 'dict'> 5\n",
      "{'banana': 'green', 'apple': 'red', 'pineapple': 'green', 'coconut': 'brown', 'guava': 'green'} 5 <class 'dict'> 5\n"
     ]
    }
   ],
   "source": [
    "# insert and update operation\n",
    "dict1 = {\"banana\":\"yellow\", \"apple\":\"red\", \"pineapple\":\"green\", \"coconut\":\"brown\"}\n",
    "print (dict1, len(dict1), type(dict1), len(dict1))\n",
    "dict1['guava'] = \"green\"    # insert operation\n",
    "print (dict1, len(dict1), type(dict1), len(dict1))\n",
    "dict1['banana'] = \"green\"    # update operation\n",
    "print (dict1, len(dict1), type(dict1), len(dict1))"
   ]
  },
  {
   "cell_type": "code",
   "execution_count": 78,
   "id": "d3dae98e-81a0-4de5-927d-07a7aa060582",
   "metadata": {},
   "outputs": [
    {
     "name": "stdout",
     "output_type": "stream",
     "text": [
      "{'banana': 'yellow', 'apple': 'red', 'pineapple': 'green', 'coconut': 'brown'} 4 <class 'dict'> 4\n",
      "{} 0 <class 'dict'> 0\n"
     ]
    }
   ],
   "source": [
    "# remove operation\n",
    "dict1 = {\"banana\":\"yellow\", \"apple\":\"red\", \"pineapple\":\"green\", \"coconut\":\"brown\"}\n",
    "print (dict1, len(dict1), type(dict1), len(dict1))\n",
    "dict1.clear()\n",
    "print (dict1, len(dict1), type(dict1), len(dict1))"
   ]
  },
  {
   "cell_type": "code",
   "execution_count": 79,
   "id": "15f8b812-596a-49c2-9ee0-c440550d99eb",
   "metadata": {},
   "outputs": [
    {
     "name": "stdout",
     "output_type": "stream",
     "text": [
      "{'banana': 'yellow', 'apple': 'red', 'pineapple': 'green', 'coconut': 'brown'} 4 <class 'dict'> 4\n"
     ]
    },
    {
     "ename": "NameError",
     "evalue": "name 'dict1' is not defined",
     "output_type": "error",
     "traceback": [
      "\u001b[1;31m---------------------------------------------------------------------------\u001b[0m",
      "\u001b[1;31mNameError\u001b[0m                                 Traceback (most recent call last)",
      "\u001b[1;32m<ipython-input-79-576e0ff93cf2>\u001b[0m in \u001b[0;36m<module>\u001b[1;34m\u001b[0m\n\u001b[0;32m      2\u001b[0m \u001b[0mprint\u001b[0m \u001b[1;33m(\u001b[0m\u001b[0mdict1\u001b[0m\u001b[1;33m,\u001b[0m \u001b[0mlen\u001b[0m\u001b[1;33m(\u001b[0m\u001b[0mdict1\u001b[0m\u001b[1;33m)\u001b[0m\u001b[1;33m,\u001b[0m \u001b[0mtype\u001b[0m\u001b[1;33m(\u001b[0m\u001b[0mdict1\u001b[0m\u001b[1;33m)\u001b[0m\u001b[1;33m,\u001b[0m \u001b[0mlen\u001b[0m\u001b[1;33m(\u001b[0m\u001b[0mdict1\u001b[0m\u001b[1;33m)\u001b[0m\u001b[1;33m)\u001b[0m\u001b[1;33m\u001b[0m\u001b[1;33m\u001b[0m\u001b[0m\n\u001b[0;32m      3\u001b[0m \u001b[1;32mdel\u001b[0m \u001b[0mdict1\u001b[0m\u001b[1;33m\u001b[0m\u001b[1;33m\u001b[0m\u001b[0m\n\u001b[1;32m----> 4\u001b[1;33m \u001b[0mprint\u001b[0m \u001b[1;33m(\u001b[0m\u001b[0mdict1\u001b[0m\u001b[1;33m,\u001b[0m \u001b[0mlen\u001b[0m\u001b[1;33m(\u001b[0m\u001b[0mdict1\u001b[0m\u001b[1;33m)\u001b[0m\u001b[1;33m,\u001b[0m \u001b[0mtype\u001b[0m\u001b[1;33m(\u001b[0m\u001b[0mdict1\u001b[0m\u001b[1;33m)\u001b[0m\u001b[1;33m,\u001b[0m \u001b[0mlen\u001b[0m\u001b[1;33m(\u001b[0m\u001b[0mdict1\u001b[0m\u001b[1;33m)\u001b[0m\u001b[1;33m)\u001b[0m\u001b[1;33m\u001b[0m\u001b[1;33m\u001b[0m\u001b[0m\n\u001b[0m",
      "\u001b[1;31mNameError\u001b[0m: name 'dict1' is not defined"
     ]
    }
   ],
   "source": [
    "dict1 = {\"banana\":\"yellow\", \"apple\":\"red\", \"pineapple\":\"green\", \"coconut\":\"brown\"}\n",
    "print (dict1, len(dict1), type(dict1), len(dict1))\n",
    "del dict1\n",
    "print (dict1, len(dict1), type(dict1), len(dict1))"
   ]
  },
  {
   "cell_type": "code",
   "execution_count": 83,
   "id": "b70b7768-fadf-4f81-9219-e3648b0a2e3a",
   "metadata": {},
   "outputs": [
    {
     "name": "stdout",
     "output_type": "stream",
     "text": [
      "{'banana': 'yellow', 'apple': 'red', 'pineapple': 'green', 'coconut': 'brown'} 4 <class 'dict'> 4\n",
      "{'banana': 'yellow', 'pineapple': 'green', 'coconut': 'brown'} 3 <class 'dict'> 3\n",
      "green\n",
      "{'banana': 'yellow', 'coconut': 'brown'} 2 <class 'dict'> 2\n",
      "('coconut', 'brown')\n",
      "{'banana': 'yellow'} 1 <class 'dict'> 1\n",
      "('banana', 'yellow')\n",
      "{} 0 <class 'dict'> 0\n"
     ]
    }
   ],
   "source": [
    "dict1 = {\"banana\":\"yellow\", \"apple\":\"red\", \"pineapple\":\"green\", \"coconut\":\"brown\"}\n",
    "print (dict1, len(dict1), type(dict1), len(dict1))\n",
    "del dict1['apple']\n",
    "print (dict1, len(dict1), type(dict1), len(dict1))\n",
    "print (dict1.pop('pineapple'))\n",
    "print (dict1, len(dict1), type(dict1), len(dict1))\n",
    "print (dict1.popitem())\n",
    "print (dict1, len(dict1), type(dict1), len(dict1))\n",
    "print (dict1.popitem())\n",
    "print (dict1, len(dict1), type(dict1), len(dict1))"
   ]
  },
  {
   "cell_type": "code",
   "execution_count": 88,
   "id": "0941353e-9193-40b8-b86f-8ba522c56584",
   "metadata": {},
   "outputs": [
    {
     "name": "stdout",
     "output_type": "stream",
     "text": [
      "{'Key1': 103, 'Key2': 103, 'Key3': 103, 'Key4': 103} 4 <class 'dict'> 4\n",
      "{'Key1': [100, 300, 350, 500], 'Key2': [100, 300, 350, 500], 'Key3': [100, 300, 350, 500], 'Key4': [100, 300, 350, 500]} 4 <class 'dict'> 4\n"
     ]
    }
   ],
   "source": [
    "mykeys = [\"Key1\", \"Key2\", \"Key3\", \"Key4\"]\n",
    "value = 103\n",
    "dict1 = dict.fromkeys(mykeys, value)\n",
    "print (dict1, len(dict1), type(dict1), len(dict1))\n",
    "value = [100, 300, 350, 500]\n",
    "dict1 = dict.fromkeys(mykeys, value)\n",
    "print (dict1, len(dict1), type(dict1), len(dict1))"
   ]
  },
  {
   "cell_type": "code",
   "execution_count": 86,
   "id": "f06bdf70-5353-4cc1-a287-848ef210f657",
   "metadata": {},
   "outputs": [
    {
     "name": "stdout",
     "output_type": "stream",
     "text": [
      "{'banana': 'yellow', 'apple': 'red'} 2 <class 'dict'> 2\n",
      "{'pineapple': 'green', 'coconut': 'brown'} 2 <class 'dict'> 2\n",
      "{'banana': 'yellow', 'apple': 'red', 'pineapple': 'green', 'coconut': 'brown'} 4 <class 'dict'> 4\n"
     ]
    }
   ],
   "source": [
    "dict1 = {\"banana\":\"yellow\", \"apple\":\"red\"}\n",
    "print (dict1, len(dict1), type(dict1), len(dict1))\n",
    "dict2 = {\"pineapple\":\"green\", \"coconut\":\"brown\"}\n",
    "print (dict2, len(dict2), type(dict2), len(dict2))\n",
    "dict1.update(dict2)\n",
    "print (dict1, len(dict1), type(dict1), len(dict1))"
   ]
  },
  {
   "cell_type": "code",
   "execution_count": 96,
   "id": "386bb4a6-af78-468c-9f7c-4fa158b6e89e",
   "metadata": {},
   "outputs": [
    {
     "name": "stdout",
     "output_type": "stream",
     "text": [
      "['banana', 'apple', 'pineapple', 'coconut', 'mango'] 5 <class 'list'> 5\n",
      "['yellow', 'red', 'green', 'brown'] 4 <class 'list'> 4\n",
      "<zip object at 0x0000017FCE195F00> <class 'zip'>\n",
      "[('banana', 'yellow'), ('apple', 'red'), ('pineapple', 'green'), ('coconut', 'brown')] <class 'list'>\n",
      "(('banana', 'yellow'), ('apple', 'red'), ('pineapple', 'green'), ('coconut', 'brown')) <class 'tuple'>\n",
      "{'banana': 'yellow', 'apple': 'red', 'pineapple': 'green', 'coconut': 'brown'} <class 'dict'>\n",
      "{'banana': 'yellow', 'apple': 'red', 'pineapple': 'green', 'coconut': 'brown'} <class 'dict'>\n"
     ]
    }
   ],
   "source": [
    "fruits = [\"banana\", \"apple\", \"pineapple\", \"coconut\", \"mango\"]\n",
    "print (fruits, len(fruits), type(fruits), len(fruits))\n",
    "colors = [\"yellow\", \"red\", \"green\", \"brown\"]\n",
    "print (colors, len(colors), type(colors), len(colors))\n",
    "result = zip(fruits, colors)\n",
    "print (result, type(result))\n",
    "result = list(zip(fruits, colors))\n",
    "print (result, type(result))\n",
    "result = tuple(zip(fruits, colors))\n",
    "print (result, type(result))\n",
    "result = dict(zip(fruits, colors))\n",
    "print (result, type(result))\n",
    "result = dict(list(zip(fruits, colors)))\n",
    "print (result, type(result))"
   ]
  },
  {
   "cell_type": "code",
   "execution_count": null,
   "id": "6cf24206-1f37-4ab6-ae2c-c003dd3f0457",
   "metadata": {},
   "outputs": [],
   "source": [
    "Class Assignment:\n",
    "Take n number of numbers from the user and put them in two separate lists\n",
    "considering whether the numbers are Even or Odd numbers.\n",
    "Example:\n",
    "    \n",
    "input n = 5\n",
    "input list1 = [11, 33, 22, 44, 55]\n",
    "\n",
    "output will be:\n",
    "odd_list = [11, 33, 55]\n",
    "even_list = [22, 44]"
   ]
  },
  {
   "cell_type": "markdown",
   "id": "c972a744-72b8-4f67-8587-b5ad7ade4ba7",
   "metadata": {},
   "source": [
    "### set processing"
   ]
  },
  {
   "cell_type": "code",
   "execution_count": null,
   "id": "34be6d7b-0bc1-4bbd-96bf-b0b4f3d79332",
   "metadata": {},
   "outputs": [],
   "source": []
  },
  {
   "cell_type": "code",
   "execution_count": null,
   "id": "c6fd21d7-acfb-4b54-b5ea-26da3631f8bc",
   "metadata": {},
   "outputs": [],
   "source": []
  },
  {
   "cell_type": "code",
   "execution_count": null,
   "id": "8ba9dae9-a06d-4fff-9261-09aaa1e715f9",
   "metadata": {},
   "outputs": [],
   "source": []
  },
  {
   "cell_type": "code",
   "execution_count": null,
   "id": "67bc7a43-94dc-4ec4-83d4-edd9e106df7f",
   "metadata": {},
   "outputs": [],
   "source": []
  },
  {
   "cell_type": "markdown",
   "id": "43bed213-cb35-4f5d-afa4-28dc6d013d00",
   "metadata": {},
   "source": [
    "### frozen-set processing"
   ]
  },
  {
   "cell_type": "code",
   "execution_count": null,
   "id": "34951dda-bbf4-4fe0-89da-b4d265585ead",
   "metadata": {},
   "outputs": [],
   "source": []
  },
  {
   "cell_type": "code",
   "execution_count": null,
   "id": "61190a6b-23c5-4d36-aa48-6256c8cb4cc1",
   "metadata": {},
   "outputs": [],
   "source": []
  },
  {
   "cell_type": "code",
   "execution_count": null,
   "id": "dc26077f-b364-4c5a-a1b0-efc7e3c7d0ca",
   "metadata": {},
   "outputs": [],
   "source": []
  },
  {
   "cell_type": "code",
   "execution_count": null,
   "id": "1fac1356-41cd-4def-abaa-6df35d3058dc",
   "metadata": {},
   "outputs": [],
   "source": []
  },
  {
   "cell_type": "code",
   "execution_count": null,
   "id": "a06adc41-5c40-4327-aa4c-a204710e46ad",
   "metadata": {},
   "outputs": [],
   "source": []
  },
  {
   "cell_type": "code",
   "execution_count": null,
   "id": "8b88f6a2-5dfc-4c98-a511-3b45fd590d4b",
   "metadata": {},
   "outputs": [],
   "source": []
  },
  {
   "cell_type": "code",
   "execution_count": null,
   "id": "a94c7dbd-9289-414d-824c-24c400e07e38",
   "metadata": {},
   "outputs": [],
   "source": []
  },
  {
   "cell_type": "code",
   "execution_count": null,
   "id": "2dbd1bb7-7332-4179-9b65-dcdd76c4b73a",
   "metadata": {},
   "outputs": [],
   "source": []
  },
  {
   "cell_type": "code",
   "execution_count": null,
   "id": "b587951e-cdb4-4618-a13c-140dec0b466a",
   "metadata": {},
   "outputs": [],
   "source": []
  },
  {
   "cell_type": "code",
   "execution_count": null,
   "id": "b70abd3e-9b96-4fb9-a44f-eff4f039f74a",
   "metadata": {},
   "outputs": [],
   "source": []
  },
  {
   "cell_type": "code",
   "execution_count": null,
   "id": "0f59b778-aa36-4334-be2e-68417e847d47",
   "metadata": {},
   "outputs": [],
   "source": []
  },
  {
   "cell_type": "code",
   "execution_count": null,
   "id": "c2bf6a53-0402-4c87-8c63-92fcffb63765",
   "metadata": {},
   "outputs": [],
   "source": []
  },
  {
   "cell_type": "code",
   "execution_count": null,
   "id": "d3c206ca-2881-472f-8521-8f954a3bb70e",
   "metadata": {},
   "outputs": [],
   "source": []
  },
  {
   "cell_type": "code",
   "execution_count": null,
   "id": "2c71f2b9-714b-4577-8632-c8ec851bdfb8",
   "metadata": {},
   "outputs": [],
   "source": []
  },
  {
   "cell_type": "code",
   "execution_count": null,
   "id": "4709e26e-89c6-482b-9bc8-e61eca807e7b",
   "metadata": {},
   "outputs": [],
   "source": []
  }
 ],
 "metadata": {
  "kernelspec": {
   "display_name": "Python 3",
   "language": "python",
   "name": "python3"
  },
  "language_info": {
   "codemirror_mode": {
    "name": "ipython",
    "version": 3
   },
   "file_extension": ".py",
   "mimetype": "text/x-python",
   "name": "python",
   "nbconvert_exporter": "python",
   "pygments_lexer": "ipython3",
   "version": "3.8.8"
  }
 },
 "nbformat": 4,
 "nbformat_minor": 5
}
