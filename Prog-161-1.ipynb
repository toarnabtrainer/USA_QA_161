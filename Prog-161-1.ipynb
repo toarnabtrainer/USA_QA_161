{
 "cells": [
  {
   "cell_type": "markdown",
   "id": "c297acd1-d9a1-4769-8a72-5370999395c0",
   "metadata": {},
   "source": [
    "## Introduction to Python"
   ]
  },
  {
   "cell_type": "markdown",
   "id": "03ac3bb4-845e-4c68-becc-dfc66c02b07c",
   "metadata": {},
   "source": [
    "### Python Inputs and Outputs"
   ]
  },
  {
   "cell_type": "code",
   "execution_count": 2,
   "id": "73a3682c-fce9-4f7e-8e92-d9d6b3189024",
   "metadata": {},
   "outputs": [
    {
     "name": "stdin",
     "output_type": "stream",
     "text": [
      "Please enter the first integer:  200\n",
      "Please enter the second integer:  300\n"
     ]
    },
    {
     "name": "stdout",
     "output_type": "stream",
     "text": [
      "200 <class 'str'> 300 <class 'str'>\n",
      "So the result is 200300\n",
      "End of the program...\n"
     ]
    }
   ],
   "source": [
    "num1 = input(\"Please enter the first integer: \")\n",
    "num2 = input(\"Please enter the second integer: \")\n",
    "print (num1, type(num1), num2, type(num2))\n",
    "result = num1 + num2\n",
    "print (\"So the result is\", result)\n",
    "print (\"End of the program...\")"
   ]
  },
  {
   "cell_type": "code",
   "execution_count": 3,
   "id": "e8fe0b64-f8d2-4b61-9abc-9fde714533ab",
   "metadata": {},
   "outputs": [
    {
     "name": "stdin",
     "output_type": "stream",
     "text": [
      "Please enter the first integer:  200\n",
      "Please enter the second integer:  300\n"
     ]
    },
    {
     "name": "stdout",
     "output_type": "stream",
     "text": [
      "200 <class 'int'> 300 <class 'int'>\n",
      "So the result is 500\n",
      "End of the program...\n"
     ]
    }
   ],
   "source": [
    "num1 = int(input(\"Please enter the first integer: \"))\n",
    "num2 = int(input(\"Please enter the second integer: \"))\n",
    "print (num1, type(num1), num2, type(num2))\n",
    "result = num1 + num2\n",
    "print (\"So the result is\", result)\n",
    "print (\"End of the program...\")"
   ]
  },
  {
   "cell_type": "code",
   "execution_count": 4,
   "id": "2740f8c4-00d2-438e-8a5d-d741dc40cb4e",
   "metadata": {},
   "outputs": [
    {
     "name": "stdin",
     "output_type": "stream",
     "text": [
      "Please enter the first integer:  300\n",
      "Please enter the second integer:  400\n"
     ]
    }
   ],
   "source": [
    "num1 = int(input(\"Please enter the first integer: \"))\n",
    "num2 = int(input(\"Please enter the second integer: \"))\n",
    "result = num1 + num2"
   ]
  },
  {
   "cell_type": "code",
   "execution_count": 21,
   "id": "6682aae2-bc20-495d-876a-fc731734a12f",
   "metadata": {},
   "outputs": [
    {
     "name": "stdout",
     "output_type": "stream",
     "text": [
      "So 300 + 400 = 700\n",
      "So 300 + 400 = 700\n",
      "So 300 + 400 = 700\n",
      "So 300 + 400 = 700\n",
      "So 300 + 400 = 700\n",
      "So 300 + 400 = 700\n",
      "So 300 + 400 = 700\n",
      "So 300 + 400 = 700\n",
      "So 300 + 400 = 700.000000\n",
      "So 300 + 400 = 700.000000\n",
      "So 300 + 400 =   700.00\n",
      "So 300 + 400 = 700\n"
     ]
    }
   ],
   "source": [
    "print (\"So\", num1, \"+\", num2, \"=\", result)\n",
    "print (\"So \" + str(num1) + \" + \" + str(num2) + \" = \" + str(result))\n",
    "print (\"So {} + {} = {}\".format(num1, num2, result))      # {} indicates variable place holder\n",
    "print (\"So {0} + {1} = {2}\".format(num1, num2, result))   # using indexed place holder\n",
    "print (\"So {2} + {1} = {0}\".format(result, num2, num1))\n",
    "print (\"So {fnum} + {snum} = {tot}\".format(fnum = num1, snum = num2, tot = result))  # labelled place holder\n",
    "print (\"So {fnum} + {snum} = {tot}\".format(tot = result, snum = num2, fnum = num1))\n",
    "print (\"So %d + %d = %d\"%(num1, num2, result))  # %d means decimal i.e. integer number\n",
    "print (\"So %d + %d = %f\"%(num1, num2, result))  # %f means float\n",
    "print (\"So %d + %d = %10.6f\"%(num1, num2, result))\n",
    "print (\"So %d + %d = %8.2f\"%(num1, num2, result))\n",
    "print (f\"So {num1} + {num2} = {result}\")  # smart formatting available from Python 2.7 onwards"
   ]
  },
  {
   "cell_type": "markdown",
   "id": "7b62f3fe-7ad4-4013-923a-ffb67c7d9aee",
   "metadata": {},
   "source": [
    "### Python Operators"
   ]
  },
  {
   "cell_type": "code",
   "execution_count": 22,
   "id": "68d73c8d-654c-4678-9888-8783f5ed7d25",
   "metadata": {},
   "outputs": [
    {
     "name": "stdout",
     "output_type": "stream",
     "text": [
      "140\n",
      "60\n",
      "4000\n",
      "2.5\n",
      "2\n",
      "20\n",
      "100000000\n"
     ]
    }
   ],
   "source": [
    "# Arithmetic Operators: + - * / // % **\n",
    "print (100 + 40)   # addition\n",
    "print (100 - 40)   # subtraction\n",
    "print (100 * 40)   # multiplication\n",
    "print (100 / 40)   # float division\n",
    "print (100 // 40)  # integer division\n",
    "print (100 % 40)   # modulus, remainder of the division\n",
    "print (100 ** 4)   # exponentiation"
   ]
  },
  {
   "cell_type": "code",
   "execution_count": 31,
   "id": "2491ee66-e1f8-4418-97c7-c6c53a6a37dd",
   "metadata": {},
   "outputs": [
    {
     "name": "stdout",
     "output_type": "stream",
     "text": [
      "True False\n",
      "True True\n",
      "True False False True\n",
      "False True\n"
     ]
    }
   ],
   "source": [
    "# logical Operators: and or not\n",
    "print (10 > 5 and 10 > 7, 10 > 5 and 7 > 10)\n",
    "print (10 > 5 or 10 > 7, 10 > 5 or 7 > 10)\n",
    "print (10 > 5, not 10 > 5, 5 > 10, not 5 > 10)\n",
    "print (not True, not False)"
   ]
  },
  {
   "cell_type": "code",
   "execution_count": 30,
   "id": "c5388d1e-3e01-4e7c-9df8-71b5831fbeeb",
   "metadata": {},
   "outputs": [
    {
     "name": "stdout",
     "output_type": "stream",
     "text": [
      "True True True True True True\n"
     ]
    }
   ],
   "source": [
    "# Relational Operators: < <= > >= != ==\n",
    "print (100 > 5, 100 >= 5, 100 < 300, 100 <= 300, 100 != 300, 100 == 100)"
   ]
  },
  {
   "cell_type": "code",
   "execution_count": 34,
   "id": "8ce53a23-57e3-417e-afee-230f4a8c1dfa",
   "metadata": {},
   "outputs": [
    {
     "name": "stdout",
     "output_type": "stream",
     "text": [
      "300\n",
      "600\n"
     ]
    }
   ],
   "source": [
    "# Assignment Operators: = Special Assignment Operators: += -= *= /= //= %= **=\n",
    "var1 = 100\n",
    "var1 = var1 * 3    # assignment statement\n",
    "print (var1)\n",
    "var1 *= 2\n",
    "print (var1)"
   ]
  },
  {
   "cell_type": "code",
   "execution_count": 35,
   "id": "f0d03bcc-52a7-4bf3-be75-50743b551f90",
   "metadata": {},
   "outputs": [
    {
     "name": "stdout",
     "output_type": "stream",
     "text": [
      "100 Even\n",
      "105 Odd\n"
     ]
    }
   ],
   "source": [
    "# Operator Classifications\n",
    "# Unary Operator (one operand): +100 -300\n",
    "# Binary Operator (two operands): 100 + 400  600 * 4\n",
    "# ternary operator (three operands, true part, condition, false part)\n",
    "num1 = 100\n",
    "result = \"Even\" if (num1 % 2 == 0) else \"Odd\"\n",
    "print (num1, result)\n",
    "\n",
    "num1 = 105\n",
    "result = \"Even\" if (num1 % 2 == 0) else \"Odd\"\n",
    "print (num1, result)"
   ]
  },
  {
   "cell_type": "code",
   "execution_count": null,
   "id": "3837c528-1479-4ee6-ae9d-ad12e68d022f",
   "metadata": {},
   "outputs": [],
   "source": [
    "# Anaconda - Jupyter Lab\n",
    "# Home Work: Do a study on \"Bitwise Operators\": & | ~ ^"
   ]
  },
  {
   "cell_type": "markdown",
   "id": "8338faaf-932a-486b-8f12-22677f4a75fe",
   "metadata": {},
   "source": [
    "### Conditional Statements"
   ]
  },
  {
   "cell_type": "code",
   "execution_count": 36,
   "id": "df20d9a2-0493-47fa-8d5e-a8d103a79ee8",
   "metadata": {},
   "outputs": [
    {
     "name": "stdin",
     "output_type": "stream",
     "text": [
      "Please enter the first number:  100\n",
      "Please enter the second number:  300\n",
      "Please enter the third number:  200\n"
     ]
    },
    {
     "name": "stdout",
     "output_type": "stream",
     "text": [
      "So the second number is the maximum number...\n",
      "So the maximum number is 300...\n",
      "End of the program...\n"
     ]
    }
   ],
   "source": [
    "# Take three numbers from the user input and find the maximum of three input numbers.\n",
    "num1 = int(input(\"Please enter the first number: \"))\n",
    "num2 = int(input(\"Please enter the second number: \"))\n",
    "num3 = int(input(\"Please enter the third number: \"))\n",
    "if (num1 > num2):\n",
    "    if (num1 > num3):\n",
    "        print (\"So the first number is the maximum number...\")\n",
    "        print (f\"So the maximum number is {num1}...\")\n",
    "    else:\n",
    "        print (\"So the third number is the maximum number...\")\n",
    "        print (f\"So the maximum number is {num3}...\")\n",
    "elif (num2 > num3):\n",
    "    print (\"So the second number is the maximum number...\")\n",
    "    print (f\"So the maximum number is {num2}...\")\n",
    "else:\n",
    "    print (\"So the third number is the maximum number...\")\n",
    "    print (f\"So the maximum number is {num3}...\")\n",
    "print (\"End of the program...\")"
   ]
  },
  {
   "cell_type": "code",
   "execution_count": null,
   "id": "0ed581c8-0310-4401-8790-6d3a63e05291",
   "metadata": {},
   "outputs": [],
   "source": [
    "# home Work: Take three numbers from the user input and find the second maximum of three input numbers."
   ]
  },
  {
   "cell_type": "code",
   "execution_count": null,
   "id": "1d5957d7-63cd-4f98-a05e-d7230386d864",
   "metadata": {},
   "outputs": [],
   "source": []
  }
 ],
 "metadata": {
  "kernelspec": {
   "display_name": "Python 3",
   "language": "python",
   "name": "python3"
  },
  "language_info": {
   "codemirror_mode": {
    "name": "ipython",
    "version": 3
   },
   "file_extension": ".py",
   "mimetype": "text/x-python",
   "name": "python",
   "nbconvert_exporter": "python",
   "pygments_lexer": "ipython3",
   "version": "3.8.8"
  }
 },
 "nbformat": 4,
 "nbformat_minor": 5
}
