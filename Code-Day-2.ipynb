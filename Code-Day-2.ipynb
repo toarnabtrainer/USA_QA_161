{
 "cells": [
  {
   "cell_type": "markdown",
   "id": "1db71b78-20e3-4f7d-8118-3b2b6fd72d24",
   "metadata": {},
   "source": [
    "### Importing Modules"
   ]
  },
  {
   "cell_type": "code",
   "execution_count": 1,
   "id": "31f3feb5-4e40-4ca4-b712-b40c4c1892cc",
   "metadata": {},
   "outputs": [],
   "source": [
    "# importing required modules\n",
    "import math"
   ]
  },
  {
   "cell_type": "code",
   "execution_count": 21,
   "id": "4fa8d6c3-8ec6-4212-9c5f-777956d46dd3",
   "metadata": {},
   "outputs": [
    {
     "name": "stdout",
     "output_type": "stream",
     "text": [
      "0.0 1.0 0.0 0.0 1.0 0.0\n",
      "10.0 10.0 31.622776601683793 31.622776601683793\n",
      "3.141592653589793 2.718281828459045 6.283185307179586\n",
      "5 5 40 18000.0\n",
      "4.605170185988092 4.605170185988092\n",
      "10.0 10.0\n",
      "2.9999999999999996 3.0\n",
      "120 720\n",
      "10000.0 10000 10000.0\n"
     ]
    }
   ],
   "source": [
    "print (math.sin(0), math.cos(0), math.tan(0), math.sinh(0), math.cosh(0), math.asin(0))\n",
    "print (math.sqrt(100), 100 ** 0.5, math.sqrt(1000), 1000 ** 0.5)\n",
    "print (math.pi, math.e, math.tau)\n",
    "print (math.gcd(100, 5), math.gcd(100, 45), math.gcd(1000, 720), (1000 * 720) / math.gcd(1000, 720))\n",
    "print (math.log(100), math.log(100, math.e))\n",
    "print (math.log(1024, 2), math.log2(1024))\n",
    "print (math.log(1000, 10), math.log10(1000))\n",
    "print (math.factorial(5), math.factorial(6))\n",
    "print (math.pow(100, 2), 100 ** 2, 100.0 ** 2)"
   ]
  },
  {
   "cell_type": "code",
   "execution_count": 27,
   "id": "f5c767ec-f115-4d6d-97c9-c0d8fb4b6397",
   "metadata": {},
   "outputs": [
    {
     "name": "stdout",
     "output_type": "stream",
     "text": [
      "100.4987562112089\n",
      "100.4987562112089\n",
      "10 10 11 11\n"
     ]
    }
   ],
   "source": [
    "print (math.dist((100, 30), (200, 40)))\n",
    "print (math.sqrt((100 - 200) ** 2 + (30 - 40) ** 2))\n",
    "print (math.floor(10.1), math.floor(10.9), math.ceil(10.1), math.ceil(10.9))"
   ]
  },
  {
   "cell_type": "code",
   "execution_count": 28,
   "id": "30978014-2aa0-4738-af98-950c03a65e31",
   "metadata": {},
   "outputs": [
    {
     "data": {
      "text/plain": [
       "10000.0"
      ]
     },
     "execution_count": 28,
     "metadata": {},
     "output_type": "execute_result"
    }
   ],
   "source": [
    "math.pow(100, 2)"
   ]
  },
  {
   "cell_type": "code",
   "execution_count": 22,
   "id": "2661e387-dff6-4827-b02e-4c626a1f4f2d",
   "metadata": {},
   "outputs": [
    {
     "name": "stdout",
     "output_type": "stream",
     "text": [
      "Help on built-in function pow in module math:\n",
      "\n",
      "pow(x, y, /)\n",
      "    Return x**y (x to the power of y).\n",
      "\n"
     ]
    }
   ],
   "source": [
    "help(math.pow)"
   ]
  },
  {
   "cell_type": "code",
   "execution_count": 23,
   "id": "49284ab2-abf5-408a-88c6-c9e836ebd25b",
   "metadata": {},
   "outputs": [
    {
     "name": "stdout",
     "output_type": "stream",
     "text": [
      "Help on built-in module math:\n",
      "\n",
      "NAME\n",
      "    math\n",
      "\n",
      "DESCRIPTION\n",
      "    This module provides access to the mathematical functions\n",
      "    defined by the C standard.\n",
      "\n",
      "FUNCTIONS\n",
      "    acos(x, /)\n",
      "        Return the arc cosine (measured in radians) of x.\n",
      "    \n",
      "    acosh(x, /)\n",
      "        Return the inverse hyperbolic cosine of x.\n",
      "    \n",
      "    asin(x, /)\n",
      "        Return the arc sine (measured in radians) of x.\n",
      "    \n",
      "    asinh(x, /)\n",
      "        Return the inverse hyperbolic sine of x.\n",
      "    \n",
      "    atan(x, /)\n",
      "        Return the arc tangent (measured in radians) of x.\n",
      "    \n",
      "    atan2(y, x, /)\n",
      "        Return the arc tangent (measured in radians) of y/x.\n",
      "        \n",
      "        Unlike atan(y/x), the signs of both x and y are considered.\n",
      "    \n",
      "    atanh(x, /)\n",
      "        Return the inverse hyperbolic tangent of x.\n",
      "    \n",
      "    ceil(x, /)\n",
      "        Return the ceiling of x as an Integral.\n",
      "        \n",
      "        This is the smallest integer >= x.\n",
      "    \n",
      "    comb(n, k, /)\n",
      "        Number of ways to choose k items from n items without repetition and without order.\n",
      "        \n",
      "        Evaluates to n! / (k! * (n - k)!) when k <= n and evaluates\n",
      "        to zero when k > n.\n",
      "        \n",
      "        Also called the binomial coefficient because it is equivalent\n",
      "        to the coefficient of k-th term in polynomial expansion of the\n",
      "        expression (1 + x)**n.\n",
      "        \n",
      "        Raises TypeError if either of the arguments are not integers.\n",
      "        Raises ValueError if either of the arguments are negative.\n",
      "    \n",
      "    copysign(x, y, /)\n",
      "        Return a float with the magnitude (absolute value) of x but the sign of y.\n",
      "        \n",
      "        On platforms that support signed zeros, copysign(1.0, -0.0)\n",
      "        returns -1.0.\n",
      "    \n",
      "    cos(x, /)\n",
      "        Return the cosine of x (measured in radians).\n",
      "    \n",
      "    cosh(x, /)\n",
      "        Return the hyperbolic cosine of x.\n",
      "    \n",
      "    degrees(x, /)\n",
      "        Convert angle x from radians to degrees.\n",
      "    \n",
      "    dist(p, q, /)\n",
      "        Return the Euclidean distance between two points p and q.\n",
      "        \n",
      "        The points should be specified as sequences (or iterables) of\n",
      "        coordinates.  Both inputs must have the same dimension.\n",
      "        \n",
      "        Roughly equivalent to:\n",
      "            sqrt(sum((px - qx) ** 2.0 for px, qx in zip(p, q)))\n",
      "    \n",
      "    erf(x, /)\n",
      "        Error function at x.\n",
      "    \n",
      "    erfc(x, /)\n",
      "        Complementary error function at x.\n",
      "    \n",
      "    exp(x, /)\n",
      "        Return e raised to the power of x.\n",
      "    \n",
      "    expm1(x, /)\n",
      "        Return exp(x)-1.\n",
      "        \n",
      "        This function avoids the loss of precision involved in the direct evaluation of exp(x)-1 for small x.\n",
      "    \n",
      "    fabs(x, /)\n",
      "        Return the absolute value of the float x.\n",
      "    \n",
      "    factorial(x, /)\n",
      "        Find x!.\n",
      "        \n",
      "        Raise a ValueError if x is negative or non-integral.\n",
      "    \n",
      "    floor(x, /)\n",
      "        Return the floor of x as an Integral.\n",
      "        \n",
      "        This is the largest integer <= x.\n",
      "    \n",
      "    fmod(x, y, /)\n",
      "        Return fmod(x, y), according to platform C.\n",
      "        \n",
      "        x % y may differ.\n",
      "    \n",
      "    frexp(x, /)\n",
      "        Return the mantissa and exponent of x, as pair (m, e).\n",
      "        \n",
      "        m is a float and e is an int, such that x = m * 2.**e.\n",
      "        If x is 0, m and e are both 0.  Else 0.5 <= abs(m) < 1.0.\n",
      "    \n",
      "    fsum(seq, /)\n",
      "        Return an accurate floating point sum of values in the iterable seq.\n",
      "        \n",
      "        Assumes IEEE-754 floating point arithmetic.\n",
      "    \n",
      "    gamma(x, /)\n",
      "        Gamma function at x.\n",
      "    \n",
      "    gcd(x, y, /)\n",
      "        greatest common divisor of x and y\n",
      "    \n",
      "    hypot(...)\n",
      "        hypot(*coordinates) -> value\n",
      "        \n",
      "        Multidimensional Euclidean distance from the origin to a point.\n",
      "        \n",
      "        Roughly equivalent to:\n",
      "            sqrt(sum(x**2 for x in coordinates))\n",
      "        \n",
      "        For a two dimensional point (x, y), gives the hypotenuse\n",
      "        using the Pythagorean theorem:  sqrt(x*x + y*y).\n",
      "        \n",
      "        For example, the hypotenuse of a 3/4/5 right triangle is:\n",
      "        \n",
      "            >>> hypot(3.0, 4.0)\n",
      "            5.0\n",
      "    \n",
      "    isclose(a, b, *, rel_tol=1e-09, abs_tol=0.0)\n",
      "        Determine whether two floating point numbers are close in value.\n",
      "        \n",
      "          rel_tol\n",
      "            maximum difference for being considered \"close\", relative to the\n",
      "            magnitude of the input values\n",
      "          abs_tol\n",
      "            maximum difference for being considered \"close\", regardless of the\n",
      "            magnitude of the input values\n",
      "        \n",
      "        Return True if a is close in value to b, and False otherwise.\n",
      "        \n",
      "        For the values to be considered close, the difference between them\n",
      "        must be smaller than at least one of the tolerances.\n",
      "        \n",
      "        -inf, inf and NaN behave similarly to the IEEE 754 Standard.  That\n",
      "        is, NaN is not close to anything, even itself.  inf and -inf are\n",
      "        only close to themselves.\n",
      "    \n",
      "    isfinite(x, /)\n",
      "        Return True if x is neither an infinity nor a NaN, and False otherwise.\n",
      "    \n",
      "    isinf(x, /)\n",
      "        Return True if x is a positive or negative infinity, and False otherwise.\n",
      "    \n",
      "    isnan(x, /)\n",
      "        Return True if x is a NaN (not a number), and False otherwise.\n",
      "    \n",
      "    isqrt(n, /)\n",
      "        Return the integer part of the square root of the input.\n",
      "    \n",
      "    ldexp(x, i, /)\n",
      "        Return x * (2**i).\n",
      "        \n",
      "        This is essentially the inverse of frexp().\n",
      "    \n",
      "    lgamma(x, /)\n",
      "        Natural logarithm of absolute value of Gamma function at x.\n",
      "    \n",
      "    log(...)\n",
      "        log(x, [base=math.e])\n",
      "        Return the logarithm of x to the given base.\n",
      "        \n",
      "        If the base not specified, returns the natural logarithm (base e) of x.\n",
      "    \n",
      "    log10(x, /)\n",
      "        Return the base 10 logarithm of x.\n",
      "    \n",
      "    log1p(x, /)\n",
      "        Return the natural logarithm of 1+x (base e).\n",
      "        \n",
      "        The result is computed in a way which is accurate for x near zero.\n",
      "    \n",
      "    log2(x, /)\n",
      "        Return the base 2 logarithm of x.\n",
      "    \n",
      "    modf(x, /)\n",
      "        Return the fractional and integer parts of x.\n",
      "        \n",
      "        Both results carry the sign of x and are floats.\n",
      "    \n",
      "    perm(n, k=None, /)\n",
      "        Number of ways to choose k items from n items without repetition and with order.\n",
      "        \n",
      "        Evaluates to n! / (n - k)! when k <= n and evaluates\n",
      "        to zero when k > n.\n",
      "        \n",
      "        If k is not specified or is None, then k defaults to n\n",
      "        and the function returns n!.\n",
      "        \n",
      "        Raises TypeError if either of the arguments are not integers.\n",
      "        Raises ValueError if either of the arguments are negative.\n",
      "    \n",
      "    pow(x, y, /)\n",
      "        Return x**y (x to the power of y).\n",
      "    \n",
      "    prod(iterable, /, *, start=1)\n",
      "        Calculate the product of all the elements in the input iterable.\n",
      "        \n",
      "        The default start value for the product is 1.\n",
      "        \n",
      "        When the iterable is empty, return the start value.  This function is\n",
      "        intended specifically for use with numeric values and may reject\n",
      "        non-numeric types.\n",
      "    \n",
      "    radians(x, /)\n",
      "        Convert angle x from degrees to radians.\n",
      "    \n",
      "    remainder(x, y, /)\n",
      "        Difference between x and the closest integer multiple of y.\n",
      "        \n",
      "        Return x - n*y where n*y is the closest integer multiple of y.\n",
      "        In the case where x is exactly halfway between two multiples of\n",
      "        y, the nearest even value of n is used. The result is always exact.\n",
      "    \n",
      "    sin(x, /)\n",
      "        Return the sine of x (measured in radians).\n",
      "    \n",
      "    sinh(x, /)\n",
      "        Return the hyperbolic sine of x.\n",
      "    \n",
      "    sqrt(x, /)\n",
      "        Return the square root of x.\n",
      "    \n",
      "    tan(x, /)\n",
      "        Return the tangent of x (measured in radians).\n",
      "    \n",
      "    tanh(x, /)\n",
      "        Return the hyperbolic tangent of x.\n",
      "    \n",
      "    trunc(x, /)\n",
      "        Truncates the Real x to the nearest Integral toward 0.\n",
      "        \n",
      "        Uses the __trunc__ magic method.\n",
      "\n",
      "DATA\n",
      "    e = 2.718281828459045\n",
      "    inf = inf\n",
      "    nan = nan\n",
      "    pi = 3.141592653589793\n",
      "    tau = 6.283185307179586\n",
      "\n",
      "FILE\n",
      "    (built-in)\n",
      "\n",
      "\n"
     ]
    }
   ],
   "source": [
    "help(math)"
   ]
  },
  {
   "cell_type": "markdown",
   "id": "9dd612ed-0a44-4350-ae89-012309be868d",
   "metadata": {},
   "source": [
    "### String Processing"
   ]
  },
  {
   "cell_type": "code",
   "execution_count": null,
   "id": "a13c311a-0938-48a1-ba03-b16c3d09c07a",
   "metadata": {},
   "outputs": [],
   "source": [
    "index left to right ->  0   1   2   3   4   5   6   7   8   9\n",
    "               mystr =  u   n   i   v   e   r   s   i   t   y\n",
    "index right to left ->-10  -9  -8  -7  -6  -5  -4  -3  -2  -1 "
   ]
  },
  {
   "cell_type": "code",
   "execution_count": 48,
   "id": "d4b480dd-1544-41e5-852a-85f73398ff1f",
   "metadata": {},
   "outputs": [
    {
     "name": "stdout",
     "output_type": "stream",
     "text": [
      "university 10 <class 'str'> 2239112646000\n",
      "v v i i r r\n",
      "niversi niversi niversi niversi\n",
      "uni uni sity sity\n",
      "ver ver ver ver\n",
      "uiest nvriy tseiu yirvn\n",
      "ytisrevinu\n"
     ]
    }
   ],
   "source": [
    "mystr = \"university\"\n",
    "print (mystr, len(mystr), type(mystr), id(mystr))\n",
    "\n",
    "# indexing\n",
    "print (mystr[3], mystr[-7], mystr[7], mystr[-3], mystr[5], mystr[-5])\n",
    "\n",
    "# slicing or sub-string retrieval\n",
    "print (mystr[1:8], mystr[-9:-2], mystr[1:-2], mystr[-9:8])\n",
    "print (mystr[:3], mystr[:-7], mystr[6:], mystr[-4:])\n",
    "print (mystr[3:6], mystr[-7:-4], mystr[3:-4], mystr[-7:6])\n",
    "print (mystr[::2], mystr[1::2], mystr[8::-2], mystr[9::-2])\n",
    "print (mystr[::-1])"
   ]
  },
  {
   "cell_type": "code",
   "execution_count": 50,
   "id": "e8bd547e-c863-46d5-934a-d1ebf02c3551",
   "metadata": {},
   "outputs": [
    {
     "name": "stdout",
     "output_type": "stream",
     "text": [
      "caLCuTTa unIVerSitY 19 <class 'str'> 2239125625792\n",
      "CALCUTTA UNIVERSITY\n",
      "calcutta university\n",
      "Calcutta University\n",
      "Calcutta university\n",
      "CAlcUttA UNivERsITy\n",
      "          caLCuTTa unIVerSitY           \n",
      "               CALCUTTA UNIVERSITY                \n"
     ]
    }
   ],
   "source": [
    "mystr = \"caLCuTTa unIVerSitY\"\n",
    "print (mystr, len(mystr), type(mystr), id(mystr))\n",
    "print (mystr.upper())\n",
    "print (mystr.lower())\n",
    "print (mystr.title())\n",
    "print (mystr.capitalize())\n",
    "print (mystr.swapcase())\n",
    "print (mystr.center(40))\n",
    "print (mystr.upper().center(50))"
   ]
  },
  {
   "cell_type": "code",
   "execution_count": 58,
   "id": "cc421a82-7e43-447a-b564-2732c74240a7",
   "metadata": {},
   "outputs": [
    {
     "name": "stdout",
     "output_type": "stream",
     "text": [
      "4\n",
      "4\n",
      "4\n",
      "11\n",
      "11\n",
      "11\n",
      "-1\n",
      "-1\n"
     ]
    }
   ],
   "source": [
    "mystr = \"charity begins at home\"\n",
    "print (mystr.find(\"i\"))\n",
    "print (mystr.find(\"ity\"))\n",
    "print (mystr.find(\"i\", 3))\n",
    "print (mystr.find(\"i\", 5))\n",
    "print (mystr.find(\"i\", 11))\n",
    "print (mystr.find(\"ins\", 11))\n",
    "print (mystr.find(\"ins\", 11, 13))\n",
    "print (mystr.find(\"i\", 12))"
   ]
  },
  {
   "cell_type": "code",
   "execution_count": 60,
   "id": "e457c23b-8c8c-4d3d-8469-a90b55448e00",
   "metadata": {},
   "outputs": [
    {
     "name": "stdout",
     "output_type": "stream",
     "text": [
      "4\n",
      "4\n",
      "4\n",
      "11\n",
      "11\n",
      "11\n"
     ]
    },
    {
     "ename": "ValueError",
     "evalue": "substring not found",
     "output_type": "error",
     "traceback": [
      "\u001b[1;31m---------------------------------------------------------------------------\u001b[0m",
      "\u001b[1;31mValueError\u001b[0m                                Traceback (most recent call last)",
      "\u001b[1;32m<ipython-input-60-79d7d54bad68>\u001b[0m in \u001b[0;36m<module>\u001b[1;34m\u001b[0m\n\u001b[0;32m      6\u001b[0m \u001b[0mprint\u001b[0m \u001b[1;33m(\u001b[0m\u001b[0mmystr\u001b[0m\u001b[1;33m.\u001b[0m\u001b[0mindex\u001b[0m\u001b[1;33m(\u001b[0m\u001b[1;34m\"i\"\u001b[0m\u001b[1;33m,\u001b[0m \u001b[1;36m11\u001b[0m\u001b[1;33m)\u001b[0m\u001b[1;33m)\u001b[0m\u001b[1;33m\u001b[0m\u001b[1;33m\u001b[0m\u001b[0m\n\u001b[0;32m      7\u001b[0m \u001b[0mprint\u001b[0m \u001b[1;33m(\u001b[0m\u001b[0mmystr\u001b[0m\u001b[1;33m.\u001b[0m\u001b[0mindex\u001b[0m\u001b[1;33m(\u001b[0m\u001b[1;34m\"ins\"\u001b[0m\u001b[1;33m,\u001b[0m \u001b[1;36m11\u001b[0m\u001b[1;33m)\u001b[0m\u001b[1;33m)\u001b[0m\u001b[1;33m\u001b[0m\u001b[1;33m\u001b[0m\u001b[0m\n\u001b[1;32m----> 8\u001b[1;33m \u001b[0mprint\u001b[0m \u001b[1;33m(\u001b[0m\u001b[0mmystr\u001b[0m\u001b[1;33m.\u001b[0m\u001b[0mindex\u001b[0m\u001b[1;33m(\u001b[0m\u001b[1;34m\"ins\"\u001b[0m\u001b[1;33m,\u001b[0m \u001b[1;36m11\u001b[0m\u001b[1;33m,\u001b[0m \u001b[1;36m13\u001b[0m\u001b[1;33m)\u001b[0m\u001b[1;33m)\u001b[0m\u001b[1;33m\u001b[0m\u001b[1;33m\u001b[0m\u001b[0m\n\u001b[0m\u001b[0;32m      9\u001b[0m \u001b[0mprint\u001b[0m \u001b[1;33m(\u001b[0m\u001b[0mmystr\u001b[0m\u001b[1;33m.\u001b[0m\u001b[0mfind\u001b[0m\u001b[1;33m(\u001b[0m\u001b[1;34m\"i\"\u001b[0m\u001b[1;33m,\u001b[0m \u001b[1;36m12\u001b[0m\u001b[1;33m)\u001b[0m\u001b[1;33m)\u001b[0m\u001b[1;33m\u001b[0m\u001b[1;33m\u001b[0m\u001b[0m\n",
      "\u001b[1;31mValueError\u001b[0m: substring not found"
     ]
    }
   ],
   "source": [
    "mystr = \"charity begins at home\"\n",
    "print (mystr.index(\"i\"))\n",
    "print (mystr.index(\"ity\"))\n",
    "print (mystr.index(\"i\", 3))\n",
    "print (mystr.index(\"i\", 5))\n",
    "print (mystr.index(\"i\", 11))\n",
    "print (mystr.index(\"ins\", 11))\n",
    "print (mystr.index(\"ins\", 11, 13))\n",
    "print (mystr.find(\"i\", 12))"
   ]
  },
  {
   "cell_type": "code",
   "execution_count": 62,
   "id": "104d6016-e13d-479e-8879-0aa363daafd5",
   "metadata": {},
   "outputs": [
    {
     "name": "stdout",
     "output_type": "stream",
     "text": [
      "4\n",
      "4\n",
      "4\n",
      "11\n",
      "11\n",
      "11\n",
      "Unsuccessful searching has taken place...\n",
      "End of the program...\n"
     ]
    }
   ],
   "source": [
    "try:\n",
    "    mystr = \"charity begins at home\"\n",
    "    print (mystr.index(\"i\"))\n",
    "    print (mystr.index(\"ity\"))\n",
    "    print (mystr.index(\"i\", 3))\n",
    "    print (mystr.index(\"i\", 5))\n",
    "    print (mystr.index(\"i\", 11))\n",
    "    print (mystr.index(\"ins\", 11))\n",
    "    print (mystr.index(\"ins\", 11, 13))\n",
    "    print (mystr.index(\"i\", 12))\n",
    "except ValueError as ve:\n",
    "    print (\"Unsuccessful searching has taken place...\")\n",
    "print (\"End of the program...\")"
   ]
  },
  {
   "cell_type": "code",
   "execution_count": 67,
   "id": "3833923a-0b5c-42fa-8d02-12ae960f8bf9",
   "metadata": {},
   "outputs": [
    {
     "name": "stdout",
     "output_type": "stream",
     "text": [
      "    calcutta    university      31 <class 'str'> 2239125626112\n",
      "calcutta    university 22\n",
      "calcutta    university      27\n",
      "    calcutta    university 26\n",
      "calcutta    university      27\n"
     ]
    }
   ],
   "source": [
    "mystr = \"    calcutta    university     \"\n",
    "print (mystr, len(mystr), type(mystr), id(mystr))\n",
    "print (mystr.strip(), len(mystr.strip()))\n",
    "print (mystr.lstrip(), len(mystr.lstrip()))\n",
    "print (mystr.rstrip(), len(mystr.rstrip()))\n",
    "print (mystr.lstrip(\" \"), len(mystr.lstrip(\" \")))"
   ]
  },
  {
   "cell_type": "code",
   "execution_count": 68,
   "id": "030f094b-fd0f-4867-ad2b-4d7b318ebe88",
   "metadata": {},
   "outputs": [
    {
     "name": "stdout",
     "output_type": "stream",
     "text": [
      "##@@calcutta#@#@university#@@@# 31 <class 'str'> 2239126809376\n",
      "calcutta#@#@university 22\n",
      "calcutta#@#@university#@@@# 27\n",
      "##@@calcutta#@#@university 26\n"
     ]
    }
   ],
   "source": [
    "mystr = \"##@@calcutta#@#@university#@@@#\"\n",
    "print (mystr, len(mystr), type(mystr), id(mystr))\n",
    "print (mystr.strip(\"@#\"), len(mystr.strip(\"@#\")))\n",
    "print (mystr.lstrip(\"@#\"), len(mystr.lstrip(\"@#\")))\n",
    "print (mystr.rstrip(\"@#\"), len(mystr.rstrip(\"@#\")))"
   ]
  },
  {
   "cell_type": "code",
   "execution_count": 70,
   "id": "5d0f8873-bd31-4904-868f-906d626e1daf",
   "metadata": {},
   "outputs": [
    {
     "name": "stdout",
     "output_type": "stream",
     "text": [
      "calcutta university\n",
      "Calcutta University\n"
     ]
    }
   ],
   "source": [
    "str1 = \"calcutta\"\n",
    "str2 = \"university\"\n",
    "result = str1 + \" \" + str2\n",
    "print (result)\n",
    "result = (str1 + \" \" + str2).title()\n",
    "print (result)"
   ]
  },
  {
   "cell_type": "code",
   "execution_count": 77,
   "id": "662cefc3-2b2b-4c8d-b854-69a5cdba927d",
   "metadata": {},
   "outputs": [
    {
     "name": "stdout",
     "output_type": "stream",
     "text": [
      "charity begins at home 22 <class 'str'> 2239127265808\n",
      "True\n",
      "False\n",
      "True\n",
      "True\n",
      "False\n",
      "True\n"
     ]
    }
   ],
   "source": [
    "mystr = \"charity begins at home\"\n",
    "print (mystr, len(mystr), type(mystr), id(mystr))\n",
    "print (mystr.startswith(\"cha\"))\n",
    "print (mystr.startswith(\"beg\"))\n",
    "print (mystr.startswith(\"beg\", 8))\n",
    "print (mystr.startswith(\"beg\", 8, 20))\n",
    "print (mystr.startswith(\"beg\", 8, 9))\n",
    "print (mystr.startswith(\"beg\", 8, 11))"
   ]
  },
  {
   "cell_type": "code",
   "execution_count": 82,
   "id": "bc8bc027-8271-4e17-aa95-8c2c90837325",
   "metadata": {},
   "outputs": [
    {
     "name": "stdout",
     "output_type": "stream",
     "text": [
      "charity begins at home 22 <class 'str'> 2239116604240\n",
      "True\n",
      "False\n",
      "True\n",
      "True\n",
      "False\n"
     ]
    }
   ],
   "source": [
    "mystr = \"charity begins at home\"\n",
    "print (mystr, len(mystr), type(mystr), id(mystr))\n",
    "print (mystr.endswith(\"ome\"))\n",
    "print (mystr.endswith(\"gins\"))\n",
    "print (mystr.endswith(\"gins\", 0, 14))\n",
    "print (mystr.endswith(\"gins\", 10, 14))\n",
    "print (mystr.endswith(\"gins\", 11, 14))"
   ]
  },
  {
   "cell_type": "code",
   "execution_count": 83,
   "id": "c8655982-8910-4568-a944-4eb2282cf95a",
   "metadata": {},
   "outputs": [
    {
     "name": "stdout",
     "output_type": "stream",
     "text": [
      "m\n",
      "a\n",
      "d\n",
      "a\n",
      "m\n"
     ]
    }
   ],
   "source": [
    "mystr = \"madam\"\n",
    "for ch in mystr:\n",
    "    print (ch)"
   ]
  },
  {
   "cell_type": "code",
   "execution_count": 84,
   "id": "f97254c4-eb86-4ba8-b4c4-cb91b44e4aae",
   "metadata": {},
   "outputs": [
    {
     "name": "stdout",
     "output_type": "stream",
     "text": [
      "m\n",
      "a\n",
      "d\n",
      "a\n",
      "m\n"
     ]
    }
   ],
   "source": [
    "mystr = \"madam\"\n",
    "for i in range(len(mystr)):\n",
    "    print (mystr[i])"
   ]
  },
  {
   "cell_type": "code",
   "execution_count": 88,
   "id": "afa77b0a-dc7f-4bca-bb67-3252f9c5bc35",
   "metadata": {},
   "outputs": [
    {
     "name": "stdout",
     "output_type": "stream",
     "text": [
      "charity begins at home 22 <class 'str'> 2239116604800\n",
      "['charity', 'begins', 'at', 'home'] 4 <class 'list'> 2239123067008\n",
      "['charity', 'begins', 'at', 'home'] 4 <class 'list'> 2239119990464\n",
      "['char', 'ty beg', 'ns at home'] 3 <class 'list'> 2239122641984\n"
     ]
    }
   ],
   "source": [
    "mystr = \"charity begins at home\"\n",
    "print (mystr, len(mystr), type(mystr), id(mystr))\n",
    "list1 = mystr.split()\n",
    "print (list1, len(list1), type(list1), id(list1))\n",
    "list1 = mystr.split(\" \")\n",
    "print (list1, len(list1), type(list1), id(list1))\n",
    "list1 = mystr.split(\"i\")\n",
    "print (list1, len(list1), type(list1), id(list1))"
   ]
  },
  {
   "cell_type": "code",
   "execution_count": 91,
   "id": "14ce6f93-f3a8-498d-bf52-f8083c33d1ba",
   "metadata": {},
   "outputs": [
    {
     "name": "stdout",
     "output_type": "stream",
     "text": [
      "['charity', 'begins', 'at', 'home'] 4 <class 'list'> 2239120428288\n",
      "charity begins at home\n",
      "charity - begins - at - home\n",
      "charity, begins, at, home\n"
     ]
    }
   ],
   "source": [
    "list1 = ['charity', 'begins', 'at', 'home']\n",
    "print (list1, len(list1), type(list1), id(list1))\n",
    "mystr = \" \".join(list1)\n",
    "print (mystr)\n",
    "mystr = \" - \".join(list1)\n",
    "print (mystr)\n",
    "mystr = \", \".join(list1)\n",
    "print (mystr)"
   ]
  },
  {
   "cell_type": "code",
   "execution_count": 96,
   "id": "03fd2378-7865-4bb7-ae64-86f39f3d513b",
   "metadata": {},
   "outputs": [
    {
     "name": "stdout",
     "output_type": "stream",
     "text": [
      "university 10\n",
      "True True False False False\n",
      "1234 4\n",
      "False True True True True\n",
      "0xab 4\n",
      "False True False False False\n",
      "university1234 14\n",
      "False True False False False\n",
      "university@1234 15\n",
      "False False False False False\n"
     ]
    }
   ],
   "source": [
    "mystr = \"university\"\n",
    "print (mystr, len(mystr))\n",
    "print (mystr.isalpha(), mystr.isalnum(), mystr.isnumeric(), mystr.isdigit(), mystr.isdecimal())\n",
    "mystr = \"1234\"\n",
    "print (mystr, len(mystr))\n",
    "print (mystr.isalpha(), mystr.isalnum(), mystr.isnumeric(), mystr.isdigit(), mystr.isdecimal())\n",
    "mystr = \"0xab\"\n",
    "print (mystr, len(mystr))\n",
    "print (mystr.isalpha(), mystr.isalnum(), mystr.isnumeric(), mystr.isdigit(), mystr.isdecimal())\n",
    "mystr = \"university1234\"\n",
    "print (mystr, len(mystr))\n",
    "print (mystr.isalpha(), mystr.isalnum(), mystr.isnumeric(), mystr.isdigit(), mystr.isdecimal())\n",
    "mystr = \"university@1234\"\n",
    "print (mystr, len(mystr))\n",
    "print (mystr.isalpha(), mystr.isalnum(), mystr.isnumeric(), mystr.isdigit(), mystr.isdecimal())"
   ]
  },
  {
   "cell_type": "code",
   "execution_count": 99,
   "id": "bf75f509-f03e-465c-804d-58ae752c37d4",
   "metadata": {},
   "outputs": [
    {
     "name": "stdout",
     "output_type": "stream",
     "text": [
      "True False False\n",
      "True True True\n",
      "False False False\n"
     ]
    }
   ],
   "source": [
    "mystr = \"四\"  # go to Google Translator and translate digit 4 to Chinese digit symbol\n",
    "print (mystr.isnumeric(), mystr.isdigit(), mystr.isdecimal())\n",
    "mystr = \"123\"\n",
    "print (mystr.isnumeric(), mystr.isdigit(), mystr.isdecimal())\n",
    "# isdecimal is subset of isdigit and is subset of isnumeric\n",
    "mystr = \"123.5\"\n",
    "print (mystr.isnumeric(), mystr.isdigit(), mystr.isdecimal())"
   ]
  },
  {
   "cell_type": "code",
   "execution_count": 104,
   "id": "d133c44e-eae8-4ce2-813b-5b66f757d89b",
   "metadata": {},
   "outputs": [
    {
     "name": "stdout",
     "output_type": "stream",
     "text": [
      "university 10\n",
      "2 1 0\n",
      "unxversxty\n",
      "university 10\n",
      "unxversxty 10\n"
     ]
    }
   ],
   "source": [
    "mystr = \"university\"\n",
    "print (mystr, len(mystr))\n",
    "print (mystr.count(\"i\"), mystr.count(\"v\"), mystr.count(\"I\"))\n",
    "print (mystr.replace(\"i\", \"x\"))\n",
    "print (mystr, len(mystr))\n",
    "mystr = mystr.replace(\"i\", \"x\")\n",
    "print (mystr, len(mystr))"
   ]
  },
  {
   "cell_type": "code",
   "execution_count": 108,
   "id": "5b082a3e-793d-40c0-99e1-a115d8b2fcd9",
   "metadata": {},
   "outputs": [
    {
     "name": "stdout",
     "output_type": "stream",
     "text": [
      "M D K C G\n",
      "M D K C Gandhi\n"
     ]
    }
   ],
   "source": [
    "# Assignment:\n",
    "# -----------\n",
    "# Input: moHan dAs kaRAM chANd ganDhi\n",
    "# Output: M D K C Gandhi\n",
    "\n",
    "mystr = \"moHan dAs kaRAM chANd ganDhi\"\n",
    "flag = 1\n",
    "outputstr = \"\"\n",
    "for i in range(len(mystr)):\n",
    "    ch = mystr[i]\n",
    "    if (flag == 1):\n",
    "        outputstr += ch.upper()\n",
    "        position = i\n",
    "        flag = 0\n",
    "    if (ch == \" \"):\n",
    "        flag = 1\n",
    "        outputstr += \" \"\n",
    "print (outputstr)\n",
    "outputstr += mystr[position + 1:].lower()\n",
    "print (outputstr)"
   ]
  },
  {
   "cell_type": "code",
   "execution_count": 111,
   "id": "82375a84-e107-45cb-a524-307674ef09de",
   "metadata": {},
   "outputs": [
    {
     "name": "stdout",
     "output_type": "stream",
     "text": [
      "Original String is: moHan dAs kaRAM chANd ganDhi...\n",
      "Processed string is: M. D. K. C. Gandhi...\n",
      "End of the program...\n"
     ]
    }
   ],
   "source": [
    "def my_str_processing(mystr):\n",
    "    flag = 1\n",
    "    outputstr = \"\"\n",
    "    for i in range(len(mystr)):\n",
    "        ch = mystr[i]\n",
    "        if (flag == 1):\n",
    "            outputstr += ch.upper()\n",
    "            position = i\n",
    "            flag = 0\n",
    "        if (ch == \" \"):\n",
    "            flag = 1\n",
    "            outputstr += \". \"\n",
    "    outputstr += mystr[position + 1:].lower()\n",
    "    return outputstr\n",
    "\n",
    "name_str = \"moHan dAs kaRAM chANd ganDhi\"\n",
    "result_str = my_str_processing(name_str)\n",
    "print (f\"Original String is: {name_str}...\")\n",
    "print (f\"Processed string is: {result_str}...\")\n",
    "print (\"End of the program...\")"
   ]
  },
  {
   "cell_type": "code",
   "execution_count": 162,
   "id": "c907363f-46f0-49ba-a81f-df49462e2e23",
   "metadata": {},
   "outputs": [
    {
     "name": "stdout",
     "output_type": "stream",
     "text": [
      "university 10\n"
     ]
    },
    {
     "ename": "NameError",
     "evalue": "name 'mystr' is not defined",
     "output_type": "error",
     "traceback": [
      "\u001b[1;31m---------------------------------------------------------------------------\u001b[0m",
      "\u001b[1;31mNameError\u001b[0m                                 Traceback (most recent call last)",
      "\u001b[1;32m<ipython-input-162-3b66c2b0a4e8>\u001b[0m in \u001b[0;36m<module>\u001b[1;34m\u001b[0m\n\u001b[0;32m      2\u001b[0m \u001b[0mprint\u001b[0m \u001b[1;33m(\u001b[0m\u001b[0mmystr\u001b[0m\u001b[1;33m,\u001b[0m \u001b[0mlen\u001b[0m\u001b[1;33m(\u001b[0m\u001b[0mmystr\u001b[0m\u001b[1;33m)\u001b[0m\u001b[1;33m)\u001b[0m\u001b[1;33m\u001b[0m\u001b[1;33m\u001b[0m\u001b[0m\n\u001b[0;32m      3\u001b[0m \u001b[1;32mdel\u001b[0m \u001b[0mmystr\u001b[0m\u001b[1;33m\u001b[0m\u001b[1;33m\u001b[0m\u001b[0m\n\u001b[1;32m----> 4\u001b[1;33m \u001b[0mprint\u001b[0m \u001b[1;33m(\u001b[0m\u001b[0mmystr\u001b[0m\u001b[1;33m,\u001b[0m \u001b[0mlen\u001b[0m\u001b[1;33m(\u001b[0m\u001b[0mmystr\u001b[0m\u001b[1;33m)\u001b[0m\u001b[1;33m)\u001b[0m\u001b[1;33m\u001b[0m\u001b[1;33m\u001b[0m\u001b[0m\n\u001b[0m",
      "\u001b[1;31mNameError\u001b[0m: name 'mystr' is not defined"
     ]
    }
   ],
   "source": [
    "mystr = \"university\"\n",
    "print (mystr, len(mystr))\n",
    "del mystr\n",
    "print (mystr, len(mystr))"
   ]
  },
  {
   "cell_type": "code",
   "execution_count": 166,
   "id": "e5a53820-c97b-47a8-9e90-d974999248a9",
   "metadata": {},
   "outputs": [
    {
     "name": "stdout",
     "output_type": "stream",
     "text": [
      "[] 0 <class 'list'>\n",
      "() 0 <class 'tuple'>\n",
      "{} 0 <class 'dict'>\n",
      "set() 0 <class 'set'>\n"
     ]
    }
   ],
   "source": [
    "# dealing with empty collections\n",
    "var1 = []\n",
    "print (var1, len(var1), type(var1))\n",
    "var1 = ()\n",
    "print (var1, len(var1), type(var1))\n",
    "var1 = {}\n",
    "print (var1, len(var1), type(var1))\n",
    "var1 = set()\n",
    "print (var1, len(var1), type(var1))"
   ]
  },
  {
   "cell_type": "code",
   "execution_count": null,
   "id": "24b119ad-ea47-482a-a1da-e0c3c0f60437",
   "metadata": {},
   "outputs": [],
   "source": [
    "Class Assignment - 2 / Day-2\n",
    "----------------------------\n",
    "Take a sentence from the user as input. The sentence may contain upper case and lower case \n",
    "characters and special characters. Find the number of vowels and consonants in the given sentence."
   ]
  },
  {
   "cell_type": "code",
   "execution_count": 183,
   "id": "919eb0cc-9ee3-4838-8d58-9ed279e7cc50",
   "metadata": {},
   "outputs": [
    {
     "name": "stdin",
     "output_type": "stream",
     "text": [
      "Please enter your sentence:  Ram is a good boy.\n"
     ]
    },
    {
     "name": "stdout",
     "output_type": "stream",
     "text": [
      "So the vowel count is 6 and consonant count is 7...\n",
      "End of the program...\n"
     ]
    }
   ],
   "source": [
    "mystr = input(\"Please enter your sentence: \").lower()\n",
    "vcount = ccount = 0\n",
    "for ch in mystr:\n",
    "    if (ch.isalpha()):\n",
    "        if (ch in \"aeiou\"): vcount += 1\n",
    "        else: ccount += 1\n",
    "print (f\"So the vowel count is {vcount} and consonant count is {ccount}...\")\n",
    "print (\"End of the program...\")"
   ]
  },
  {
   "cell_type": "markdown",
   "id": "481830bc-83da-420e-bbae-8d3f446df53d",
   "metadata": {},
   "source": [
    "### List Processing"
   ]
  },
  {
   "cell_type": "code",
   "execution_count": 114,
   "id": "c46bb46c-cd1d-4ade-ad73-16e7e7263191",
   "metadata": {},
   "outputs": [
    {
     "name": "stdout",
     "output_type": "stream",
     "text": [
      "[100, 400, 300, 200, 700] 5 <class 'list'> 2239120137344\n",
      "700 100\n",
      "1700 340.0\n"
     ]
    }
   ],
   "source": [
    "list1 = [100, 400, 300, 200, 700]\n",
    "print (list1, len(list1), type(list1), id(list1))\n",
    "print (max(list1), min(list1))\n",
    "print (sum(list1), sum(list1) / len(list1))"
   ]
  },
  {
   "cell_type": "code",
   "execution_count": 117,
   "id": "9036ae92-7859-448b-a8fe-c44b97eda26a",
   "metadata": {},
   "outputs": [
    {
     "name": "stdout",
     "output_type": "stream",
     "text": [
      "[100, 400, True, 300, 200, False, 700] 7 <class 'list'> 2239122553536\n",
      "700 False\n",
      "1701 243.0\n"
     ]
    }
   ],
   "source": [
    "list1 = [100, 400, True, 300, 200, False, 700]\n",
    "print (list1, len(list1), type(list1), id(list1))\n",
    "print (max(list1), min(list1))\n",
    "print (sum(list1), sum(list1) / len(list1))"
   ]
  },
  {
   "cell_type": "code",
   "execution_count": 116,
   "id": "abc65bf7-8bc3-4f48-a388-9399bb53d4df",
   "metadata": {},
   "outputs": [
    {
     "name": "stdout",
     "output_type": "stream",
     "text": [
      "['sunday', 'monday', 'friday', 'saturday', 'Tuesday'] 5 <class 'list'> 2239122133696\n",
      "sunday Tuesday\n"
     ]
    },
    {
     "ename": "TypeError",
     "evalue": "unsupported operand type(s) for +: 'int' and 'str'",
     "output_type": "error",
     "traceback": [
      "\u001b[1;31m---------------------------------------------------------------------------\u001b[0m",
      "\u001b[1;31mTypeError\u001b[0m                                 Traceback (most recent call last)",
      "\u001b[1;32m<ipython-input-116-9edfb873e412>\u001b[0m in \u001b[0;36m<module>\u001b[1;34m\u001b[0m\n\u001b[0;32m      2\u001b[0m \u001b[0mprint\u001b[0m \u001b[1;33m(\u001b[0m\u001b[0mlist1\u001b[0m\u001b[1;33m,\u001b[0m \u001b[0mlen\u001b[0m\u001b[1;33m(\u001b[0m\u001b[0mlist1\u001b[0m\u001b[1;33m)\u001b[0m\u001b[1;33m,\u001b[0m \u001b[0mtype\u001b[0m\u001b[1;33m(\u001b[0m\u001b[0mlist1\u001b[0m\u001b[1;33m)\u001b[0m\u001b[1;33m,\u001b[0m \u001b[0mid\u001b[0m\u001b[1;33m(\u001b[0m\u001b[0mlist1\u001b[0m\u001b[1;33m)\u001b[0m\u001b[1;33m)\u001b[0m\u001b[1;33m\u001b[0m\u001b[1;33m\u001b[0m\u001b[0m\n\u001b[0;32m      3\u001b[0m \u001b[0mprint\u001b[0m \u001b[1;33m(\u001b[0m\u001b[0mmax\u001b[0m\u001b[1;33m(\u001b[0m\u001b[0mlist1\u001b[0m\u001b[1;33m)\u001b[0m\u001b[1;33m,\u001b[0m \u001b[0mmin\u001b[0m\u001b[1;33m(\u001b[0m\u001b[0mlist1\u001b[0m\u001b[1;33m)\u001b[0m\u001b[1;33m)\u001b[0m\u001b[1;33m\u001b[0m\u001b[1;33m\u001b[0m\u001b[0m\n\u001b[1;32m----> 4\u001b[1;33m \u001b[0mprint\u001b[0m \u001b[1;33m(\u001b[0m\u001b[0msum\u001b[0m\u001b[1;33m(\u001b[0m\u001b[0mlist1\u001b[0m\u001b[1;33m)\u001b[0m\u001b[1;33m,\u001b[0m \u001b[0msum\u001b[0m\u001b[1;33m(\u001b[0m\u001b[0mlist1\u001b[0m\u001b[1;33m)\u001b[0m \u001b[1;33m/\u001b[0m \u001b[0mlen\u001b[0m\u001b[1;33m(\u001b[0m\u001b[0mlist1\u001b[0m\u001b[1;33m)\u001b[0m\u001b[1;33m)\u001b[0m\u001b[1;33m\u001b[0m\u001b[1;33m\u001b[0m\u001b[0m\n\u001b[0m",
      "\u001b[1;31mTypeError\u001b[0m: unsupported operand type(s) for +: 'int' and 'str'"
     ]
    }
   ],
   "source": [
    "list1 = [\"sunday\", \"monday\", 'friday', 'saturday', 'Tuesday']\n",
    "print (list1, len(list1), type(list1), id(list1))\n",
    "print (max(list1), min(list1))\n",
    "print (sum(list1), sum(list1) / len(list1))"
   ]
  },
  {
   "cell_type": "code",
   "execution_count": 119,
   "id": "ae0d06cc-1465-4f10-8774-46b99124421d",
   "metadata": {},
   "outputs": [
    {
     "name": "stdout",
     "output_type": "stream",
     "text": [
      "[100, 400, True, 'Tuesday', 300, 'Wednesday', 200, False, 700] 9 <class 'list'> 2239122554304\n"
     ]
    },
    {
     "ename": "TypeError",
     "evalue": "'>' not supported between instances of 'str' and 'int'",
     "output_type": "error",
     "traceback": [
      "\u001b[1;31m---------------------------------------------------------------------------\u001b[0m",
      "\u001b[1;31mTypeError\u001b[0m                                 Traceback (most recent call last)",
      "\u001b[1;32m<ipython-input-119-db3c7036fd23>\u001b[0m in \u001b[0;36m<module>\u001b[1;34m\u001b[0m\n\u001b[0;32m      1\u001b[0m \u001b[0mlist1\u001b[0m \u001b[1;33m=\u001b[0m \u001b[1;33m[\u001b[0m\u001b[1;36m100\u001b[0m\u001b[1;33m,\u001b[0m \u001b[1;36m400\u001b[0m\u001b[1;33m,\u001b[0m \u001b[1;32mTrue\u001b[0m\u001b[1;33m,\u001b[0m \u001b[1;34m\"Tuesday\"\u001b[0m\u001b[1;33m,\u001b[0m \u001b[1;36m300\u001b[0m\u001b[1;33m,\u001b[0m \u001b[1;34m\"Wednesday\"\u001b[0m\u001b[1;33m,\u001b[0m \u001b[1;36m200\u001b[0m\u001b[1;33m,\u001b[0m \u001b[1;32mFalse\u001b[0m\u001b[1;33m,\u001b[0m \u001b[1;36m700\u001b[0m\u001b[1;33m]\u001b[0m\u001b[1;33m\u001b[0m\u001b[1;33m\u001b[0m\u001b[0m\n\u001b[0;32m      2\u001b[0m \u001b[0mprint\u001b[0m \u001b[1;33m(\u001b[0m\u001b[0mlist1\u001b[0m\u001b[1;33m,\u001b[0m \u001b[0mlen\u001b[0m\u001b[1;33m(\u001b[0m\u001b[0mlist1\u001b[0m\u001b[1;33m)\u001b[0m\u001b[1;33m,\u001b[0m \u001b[0mtype\u001b[0m\u001b[1;33m(\u001b[0m\u001b[0mlist1\u001b[0m\u001b[1;33m)\u001b[0m\u001b[1;33m,\u001b[0m \u001b[0mid\u001b[0m\u001b[1;33m(\u001b[0m\u001b[0mlist1\u001b[0m\u001b[1;33m)\u001b[0m\u001b[1;33m)\u001b[0m\u001b[1;33m\u001b[0m\u001b[1;33m\u001b[0m\u001b[0m\n\u001b[1;32m----> 3\u001b[1;33m \u001b[0mprint\u001b[0m \u001b[1;33m(\u001b[0m\u001b[0mmax\u001b[0m\u001b[1;33m(\u001b[0m\u001b[0mlist1\u001b[0m\u001b[1;33m)\u001b[0m\u001b[1;33m,\u001b[0m \u001b[0mmin\u001b[0m\u001b[1;33m(\u001b[0m\u001b[0mlist1\u001b[0m\u001b[1;33m)\u001b[0m\u001b[1;33m)\u001b[0m\u001b[1;33m\u001b[0m\u001b[1;33m\u001b[0m\u001b[0m\n\u001b[0m\u001b[0;32m      4\u001b[0m \u001b[0mprint\u001b[0m \u001b[1;33m(\u001b[0m\u001b[0msum\u001b[0m\u001b[1;33m(\u001b[0m\u001b[0mlist1\u001b[0m\u001b[1;33m)\u001b[0m\u001b[1;33m,\u001b[0m \u001b[0msum\u001b[0m\u001b[1;33m(\u001b[0m\u001b[0mlist1\u001b[0m\u001b[1;33m)\u001b[0m \u001b[1;33m/\u001b[0m \u001b[0mlen\u001b[0m\u001b[1;33m(\u001b[0m\u001b[0mlist1\u001b[0m\u001b[1;33m)\u001b[0m\u001b[1;33m)\u001b[0m\u001b[1;33m\u001b[0m\u001b[1;33m\u001b[0m\u001b[0m\n",
      "\u001b[1;31mTypeError\u001b[0m: '>' not supported between instances of 'str' and 'int'"
     ]
    }
   ],
   "source": [
    "list1 = [100, 400, True, \"Tuesday\", 300, \"Wednesday\", 200, False, 700]\n",
    "print (list1, len(list1), type(list1), id(list1))\n",
    "print (max(list1), min(list1))\n",
    "print (sum(list1), sum(list1) / len(list1))"
   ]
  },
  {
   "cell_type": "code",
   "execution_count": 132,
   "id": "d198f8a0-400e-48ac-819e-46f545b60546",
   "metadata": {},
   "outputs": [
    {
     "name": "stdout",
     "output_type": "stream",
     "text": [
      "['Monday', 'Tuesday', 'Wednesday', 'Thursday', 'Friday'] 5 <class 'list'> 2239122136768\n",
      "Wednesday Wednesday Thursday Thursday\n",
      "nes nes\n",
      "['Wednesday', 'Thursday', 'Friday'] ['Wednesday', 'Thursday', 'Friday']\n",
      "['Monday', 'Tuesday', 'Wednesday'] ['Monday', 'Tuesday', 'Wednesday']\n"
     ]
    }
   ],
   "source": [
    "# Indexing and slicing\n",
    "# L ro R ->  0         1          2            3           4\n",
    "list1 =    [\"Monday\", \"Tuesday\", \"Wednesday\", \"Thursday\", \"Friday\"]\n",
    "# R to L -> -5        -4         -3           -2          -1\n",
    "print (list1, len(list1), type(list1), id(list1))\n",
    "print (list1[2], list1[-3], list1[3], list1[-2])\n",
    "print (list1[2][3:6], list1[-3][-6:-3])\n",
    "print (list1[2:], list1[-3:])\n",
    "print (list1[:3], list1[:-2])"
   ]
  },
  {
   "cell_type": "code",
   "execution_count": 136,
   "id": "d88e098f-c195-4b1a-b8a2-9c3507af826d",
   "metadata": {},
   "outputs": [
    {
     "name": "stdout",
     "output_type": "stream",
     "text": [
      "['Monday', 'Tuesday', 'Wednesday', 'Thursday', 'Friday'] 5 <class 'list'> 2239122824320\n",
      "['Mango', 'Pineapple', 'Guava', 'Lime'] 4 <class 'list'> 2239122135168\n",
      "['Monday', 'Tuesday', 'Wednesday', 'Thursday', 'Friday', 'Mango', 'Pineapple', 'Guava', 'Lime'] 9 <class 'list'> 2239120134720\n"
     ]
    }
   ],
   "source": [
    "list1 = [\"Monday\", \"Tuesday\", \"Wednesday\", \"Thursday\", \"Friday\"]\n",
    "list2 = [\"Mango\", \"Pineapple\", \"Guava\", \"Lime\"]\n",
    "print (list1, len(list1), type(list1), id(list1))\n",
    "print (list2, len(list2), type(list2), id(list2))\n",
    "list3 = list1 + list2      # list concatenation\n",
    "print (list3, len(list3), type(list3), id(list3))"
   ]
  },
  {
   "cell_type": "code",
   "execution_count": 142,
   "id": "1fd685d8-ad2c-4c2e-bde1-e05b31db115f",
   "metadata": {},
   "outputs": [
    {
     "name": "stdout",
     "output_type": "stream",
     "text": [
      "['Monday', 'Tuesday', 'Wednesday', 'Thursday', 'Friday'] 5 <class 'list'> 2239123383744\n",
      "['Mango', 'Pineapple', 'Guava', 'Lime'] 4 <class 'list'> 2239113668864\n",
      "[['Monday', 'Tuesday', 'Wednesday', 'Thursday', 'Friday'], ['Mango', 'Pineapple', 'Guava', 'Lime']] 2 <class 'list'> 2239118090944\n",
      "5 4\n",
      "['Pineapple', 'Guava'] ['Wednesday', 'Thursday']\n",
      "nes\n"
     ]
    }
   ],
   "source": [
    "list1 = [\"Monday\", \"Tuesday\", \"Wednesday\", \"Thursday\", \"Friday\"]\n",
    "list2 = [\"Mango\", \"Pineapple\", \"Guava\", \"Lime\"]\n",
    "print (list1, len(list1), type(list1), id(list1))\n",
    "print (list2, len(list2), type(list2), id(list2))\n",
    "list3 = [list1, list2]      # list of lists\n",
    "print (list3, len(list3), type(list3), id(list3))\n",
    "print (len(list3[0]), len(list3[1]))\n",
    "print (list3[1][1:3], list3[0][2:4])\n",
    "print (list3[0][2][3:6])"
   ]
  },
  {
   "cell_type": "code",
   "execution_count": 147,
   "id": "f5478e33-396a-4110-87bb-e7827c32c90b",
   "metadata": {},
   "outputs": [
    {
     "name": "stdout",
     "output_type": "stream",
     "text": [
      "['Mango', 'Pineapple'] 2 <class 'list'> 2239122811904\n",
      "['Mango', 'Pineapple', 'Guava'] 3 <class 'list'> 2239122811904\n",
      "['Mango', 'Pineapple', 'Guava', 'Lime'] 4 <class 'list'> 2239122811904\n",
      "['Mango', 'Pineapple', 'Guava', 'Lime', 'Lemon'] 5 <class 'list'> 2239122811904\n"
     ]
    }
   ],
   "source": [
    "# insert operation on list\n",
    "list1 = [\"Mango\", \"Pineapple\"]\n",
    "print (list1, len(list1), type(list1), id(list1))\n",
    "list1.append(\"Guava\")\n",
    "print (list1, len(list1), type(list1), id(list1))\n",
    "list1.append(\"Lime\")\n",
    "print (list1, len(list1), type(list1), id(list1))\n",
    "list1.append(\"Lemon\")\n",
    "print (list1, len(list1), type(list1), id(list1))"
   ]
  },
  {
   "cell_type": "code",
   "execution_count": 149,
   "id": "2e7a00a6-db1b-4d4a-9b4b-280c773762d3",
   "metadata": {},
   "outputs": [
    {
     "name": "stdout",
     "output_type": "stream",
     "text": [
      "['Mango', 'Pineapple'] 2 <class 'list'> 2239120715456\n",
      "['Mango', 'Coconut', 'Pineapple'] 3 <class 'list'> 2239120715456\n",
      "['Mango', 'Coconut', 'Banana', 'Pineapple'] 4 <class 'list'> 2239120715456\n",
      "['Mango', 'Mango', 'Coconut', 'Banana', 'Pineapple'] 5 <class 'list'> 2239120715456\n"
     ]
    }
   ],
   "source": [
    "list1 = [\"Mango\", \"Pineapple\"]\n",
    "print (list1, len(list1), type(list1), id(list1))\n",
    "list1.insert(1, \"Coconut\")\n",
    "print (list1, len(list1), type(list1), id(list1))\n",
    "list1.insert(2, \"Banana\")\n",
    "print (list1, len(list1), type(list1), id(list1))\n",
    "list1.insert(0, \"Mango\")\n",
    "print (list1, len(list1), type(list1), id(list1))"
   ]
  },
  {
   "cell_type": "code",
   "execution_count": 152,
   "id": "9f56a0a9-97a1-47b5-aa09-421a2c3fc3f6",
   "metadata": {},
   "outputs": [
    {
     "name": "stdout",
     "output_type": "stream",
     "text": [
      "['Mango', 'Pineapple'] 2 <class 'list'> 2239123537152\n",
      "['Coconut', 'Banana', 'Lime'] 3 <class 'list'> 2239123553344\n",
      "['Mango', 'Pineapple', 'Coconut', 'Banana', 'Lime'] 5 <class 'list'> 2239123537152\n",
      "['Coconut', 'Banana', 'Lime'] 3 <class 'list'> 2239123553344\n"
     ]
    }
   ],
   "source": [
    "list1 = [\"Mango\", \"Pineapple\"]\n",
    "print (list1, len(list1), type(list1), id(list1))\n",
    "list2 = ['Coconut', 'Banana', 'Lime']\n",
    "print (list2, len(list2), type(list2), id(list2))\n",
    "# list1 = list1 + list2\n",
    "list1.extend(list2)\n",
    "print (list1, len(list1), type(list1), id(list1))\n",
    "print (list2, len(list2), type(list2), id(list2))"
   ]
  },
  {
   "cell_type": "code",
   "execution_count": 153,
   "id": "d149e529-bb48-462b-9b15-0a5a20d7d8e3",
   "metadata": {},
   "outputs": [
    {
     "name": "stdout",
     "output_type": "stream",
     "text": [
      "['Mango', 'Pineapple', 'Coconut', 'Banana', 'Lime'] 5 <class 'list'> 2239112107968\n",
      "Lime\n",
      "['Mango', 'Pineapple', 'Coconut', 'Banana'] 4 <class 'list'> 2239112107968\n",
      "Banana\n",
      "['Mango', 'Pineapple', 'Coconut'] 3 <class 'list'> 2239112107968\n",
      "Coconut\n",
      "['Mango', 'Pineapple'] 2 <class 'list'> 2239112107968\n"
     ]
    }
   ],
   "source": [
    "# deletion operation on list\n",
    "list1 = ['Mango', 'Pineapple', 'Coconut', 'Banana', 'Lime']\n",
    "print (list1, len(list1), type(list1), id(list1))\n",
    "print (list1.pop())\n",
    "print (list1, len(list1), type(list1), id(list1))\n",
    "print (list1.pop())\n",
    "print (list1, len(list1), type(list1), id(list1))\n",
    "print (list1.pop())\n",
    "print (list1, len(list1), type(list1), id(list1))"
   ]
  },
  {
   "cell_type": "code",
   "execution_count": 156,
   "id": "a9517af6-09e6-4d9f-a3b6-d42e455f8157",
   "metadata": {},
   "outputs": [
    {
     "name": "stdout",
     "output_type": "stream",
     "text": [
      "['Mango', 'Pineapple', 'Coconut', 'Banana', 'Lime'] 5 <class 'list'> 2239096237312\n",
      "Coconut\n",
      "['Mango', 'Pineapple', 'Banana', 'Lime'] 4 <class 'list'> 2239096237312\n",
      "Mango\n",
      "['Pineapple', 'Banana', 'Lime'] 3 <class 'list'> 2239096237312\n",
      "Banana\n",
      "['Pineapple', 'Lime'] 2 <class 'list'> 2239096237312\n"
     ]
    }
   ],
   "source": [
    "list1 = ['Mango', 'Pineapple', 'Coconut', 'Banana', 'Lime']\n",
    "print (list1, len(list1), type(list1), id(list1))\n",
    "print (list1.pop(2))\n",
    "print (list1, len(list1), type(list1), id(list1))\n",
    "print (list1.pop(0))\n",
    "print (list1, len(list1), type(list1), id(list1))\n",
    "print (list1.pop(1))\n",
    "print (list1, len(list1), type(list1), id(list1))"
   ]
  },
  {
   "cell_type": "code",
   "execution_count": 157,
   "id": "f184910a-9c18-4498-a33f-ab24f4f8b309",
   "metadata": {},
   "outputs": [
    {
     "name": "stdout",
     "output_type": "stream",
     "text": [
      "['Mango', 'Pineapple', 'Coconut', 'Banana', 'Lime'] 5 <class 'list'> 2239117824448\n",
      "[] 0 <class 'list'> 2239117824448\n"
     ]
    }
   ],
   "source": [
    "list1 = ['Mango', 'Pineapple', 'Coconut', 'Banana', 'Lime']\n",
    "print (list1, len(list1), type(list1), id(list1))\n",
    "list1.clear()\n",
    "print (list1, len(list1), type(list1), id(list1))"
   ]
  },
  {
   "cell_type": "code",
   "execution_count": 161,
   "id": "cacc2e3f-729e-4b22-9525-e836a03c063a",
   "metadata": {},
   "outputs": [
    {
     "name": "stdout",
     "output_type": "stream",
     "text": [
      "['Mango', 'Pineapple', 'Coconut', 'Banana', 'Lime'] 5 <class 'list'> 2239096237120\n",
      "['Mango', 'Pineapple', 'Banana', 'Lime'] 4 <class 'list'> 2239096237120\n",
      "['Pineapple', 'Banana', 'Lime'] 3 <class 'list'> 2239096237120\n"
     ]
    },
    {
     "ename": "NameError",
     "evalue": "name 'list1' is not defined",
     "output_type": "error",
     "traceback": [
      "\u001b[1;31m---------------------------------------------------------------------------\u001b[0m",
      "\u001b[1;31mNameError\u001b[0m                                 Traceback (most recent call last)",
      "\u001b[1;32m<ipython-input-161-e3cefd63bb62>\u001b[0m in \u001b[0;36m<module>\u001b[1;34m\u001b[0m\n\u001b[0;32m      6\u001b[0m \u001b[0mprint\u001b[0m \u001b[1;33m(\u001b[0m\u001b[0mlist1\u001b[0m\u001b[1;33m,\u001b[0m \u001b[0mlen\u001b[0m\u001b[1;33m(\u001b[0m\u001b[0mlist1\u001b[0m\u001b[1;33m)\u001b[0m\u001b[1;33m,\u001b[0m \u001b[0mtype\u001b[0m\u001b[1;33m(\u001b[0m\u001b[0mlist1\u001b[0m\u001b[1;33m)\u001b[0m\u001b[1;33m,\u001b[0m \u001b[0mid\u001b[0m\u001b[1;33m(\u001b[0m\u001b[0mlist1\u001b[0m\u001b[1;33m)\u001b[0m\u001b[1;33m)\u001b[0m\u001b[1;33m\u001b[0m\u001b[1;33m\u001b[0m\u001b[0m\n\u001b[0;32m      7\u001b[0m \u001b[1;32mdel\u001b[0m \u001b[0mlist1\u001b[0m\u001b[1;33m\u001b[0m\u001b[1;33m\u001b[0m\u001b[0m\n\u001b[1;32m----> 8\u001b[1;33m \u001b[0mprint\u001b[0m \u001b[1;33m(\u001b[0m\u001b[0mlist1\u001b[0m\u001b[1;33m,\u001b[0m \u001b[0mlen\u001b[0m\u001b[1;33m(\u001b[0m\u001b[0mlist1\u001b[0m\u001b[1;33m)\u001b[0m\u001b[1;33m,\u001b[0m \u001b[0mtype\u001b[0m\u001b[1;33m(\u001b[0m\u001b[0mlist1\u001b[0m\u001b[1;33m)\u001b[0m\u001b[1;33m,\u001b[0m \u001b[0mid\u001b[0m\u001b[1;33m(\u001b[0m\u001b[0mlist1\u001b[0m\u001b[1;33m)\u001b[0m\u001b[1;33m)\u001b[0m\u001b[1;33m\u001b[0m\u001b[1;33m\u001b[0m\u001b[0m\n\u001b[0m",
      "\u001b[1;31mNameError\u001b[0m: name 'list1' is not defined"
     ]
    }
   ],
   "source": [
    "list1 = ['Mango', 'Pineapple', 'Coconut', 'Banana', 'Lime']\n",
    "print (list1, len(list1), type(list1), id(list1))\n",
    "del list1[2]\n",
    "print (list1, len(list1), type(list1), id(list1))\n",
    "del list1[0]\n",
    "print (list1, len(list1), type(list1), id(list1))\n",
    "del list1\n",
    "print (list1, len(list1), type(list1), id(list1))"
   ]
  },
  {
   "cell_type": "code",
   "execution_count": 173,
   "id": "a9e75a3d-251b-4958-b442-c9611001e798",
   "metadata": {},
   "outputs": [
    {
     "name": "stdout",
     "output_type": "stream",
     "text": [
      "['Mango', 'Pineapple', 'Coconut', 'Banana', 'Lime'] 5 <class 'list'> 2239123536448\n",
      "['Mango', 'Coconut', 'Banana', 'Lime'] 4 <class 'list'> 2239123536448\n",
      "['Mango', 'Coconut', 'Lime'] 3 <class 'list'> 2239123536448\n",
      "['Mango', 'Coconut'] 2 <class 'list'> 2239123536448\n"
     ]
    },
    {
     "ename": "ValueError",
     "evalue": "list.remove(x): x not in list",
     "output_type": "error",
     "traceback": [
      "\u001b[1;31m---------------------------------------------------------------------------\u001b[0m",
      "\u001b[1;31mValueError\u001b[0m                                Traceback (most recent call last)",
      "\u001b[1;32m<ipython-input-173-ee6d19741d19>\u001b[0m in \u001b[0;36m<module>\u001b[1;34m\u001b[0m\n\u001b[0;32m      7\u001b[0m \u001b[0mlist1\u001b[0m\u001b[1;33m.\u001b[0m\u001b[0mremove\u001b[0m\u001b[1;33m(\u001b[0m\u001b[1;34m\"Lime\"\u001b[0m\u001b[1;33m)\u001b[0m\u001b[1;33m\u001b[0m\u001b[1;33m\u001b[0m\u001b[0m\n\u001b[0;32m      8\u001b[0m \u001b[0mprint\u001b[0m \u001b[1;33m(\u001b[0m\u001b[0mlist1\u001b[0m\u001b[1;33m,\u001b[0m \u001b[0mlen\u001b[0m\u001b[1;33m(\u001b[0m\u001b[0mlist1\u001b[0m\u001b[1;33m)\u001b[0m\u001b[1;33m,\u001b[0m \u001b[0mtype\u001b[0m\u001b[1;33m(\u001b[0m\u001b[0mlist1\u001b[0m\u001b[1;33m)\u001b[0m\u001b[1;33m,\u001b[0m \u001b[0mid\u001b[0m\u001b[1;33m(\u001b[0m\u001b[0mlist1\u001b[0m\u001b[1;33m)\u001b[0m\u001b[1;33m)\u001b[0m\u001b[1;33m\u001b[0m\u001b[1;33m\u001b[0m\u001b[0m\n\u001b[1;32m----> 9\u001b[1;33m \u001b[0mlist1\u001b[0m\u001b[1;33m.\u001b[0m\u001b[0mremove\u001b[0m\u001b[1;33m(\u001b[0m\u001b[1;34m\"Pineapple\"\u001b[0m\u001b[1;33m)\u001b[0m\u001b[1;33m\u001b[0m\u001b[1;33m\u001b[0m\u001b[0m\n\u001b[0m\u001b[0;32m     10\u001b[0m \u001b[0mprint\u001b[0m \u001b[1;33m(\u001b[0m\u001b[0mlist1\u001b[0m\u001b[1;33m,\u001b[0m \u001b[0mlen\u001b[0m\u001b[1;33m(\u001b[0m\u001b[0mlist1\u001b[0m\u001b[1;33m)\u001b[0m\u001b[1;33m,\u001b[0m \u001b[0mtype\u001b[0m\u001b[1;33m(\u001b[0m\u001b[0mlist1\u001b[0m\u001b[1;33m)\u001b[0m\u001b[1;33m,\u001b[0m \u001b[0mid\u001b[0m\u001b[1;33m(\u001b[0m\u001b[0mlist1\u001b[0m\u001b[1;33m)\u001b[0m\u001b[1;33m)\u001b[0m\u001b[1;33m\u001b[0m\u001b[1;33m\u001b[0m\u001b[0m\n",
      "\u001b[1;31mValueError\u001b[0m: list.remove(x): x not in list"
     ]
    }
   ],
   "source": [
    "list1 = ['Mango', 'Pineapple', 'Coconut', 'Banana', 'Lime']\n",
    "print (list1, len(list1), type(list1), id(list1))\n",
    "list1.remove(\"Pineapple\")\n",
    "print (list1, len(list1), type(list1), id(list1))\n",
    "list1.remove(\"Banana\")\n",
    "print (list1, len(list1), type(list1), id(list1))\n",
    "list1.remove(\"Lime\")\n",
    "print (list1, len(list1), type(list1), id(list1))\n",
    "list1.remove(\"Pineapple\")\n",
    "print (list1, len(list1), type(list1), id(list1))"
   ]
  },
  {
   "cell_type": "code",
   "execution_count": 174,
   "id": "5adfda75-3ca6-4e13-9d81-c4f9bf606485",
   "metadata": {},
   "outputs": [
    {
     "name": "stdout",
     "output_type": "stream",
     "text": [
      "['Mango', 'Pineapple', 'Coconut', 'Banana', 'Lime'] 5 <class 'list'> 2239118703488\n",
      "['Himsagar', 'Pineapple', 'Coconut', 'Banana', 'Lime'] 5 <class 'list'> 2239118703488\n",
      "['Himsagar', 'Pineapple', 'Coconut', 'Sweet Banana', 'Lime'] 5 <class 'list'> 2239118703488\n"
     ]
    }
   ],
   "source": [
    "# update operation on list\n",
    "list1 = ['Mango', 'Pineapple', 'Coconut', 'Banana', 'Lime']\n",
    "print (list1, len(list1), type(list1), id(list1))\n",
    "list1[0] = \"Himsagar\"\n",
    "print (list1, len(list1), type(list1), id(list1))\n",
    "list1[3] = \"Sweet Banana\"\n",
    "print (list1, len(list1), type(list1), id(list1))"
   ]
  },
  {
   "cell_type": "code",
   "execution_count": 189,
   "id": "bd355077-fb89-4e12-8019-59916761788a",
   "metadata": {},
   "outputs": [
    {
     "name": "stdout",
     "output_type": "stream",
     "text": [
      "['Mango', 'Pineapple', 'Coconut', 'Banana', 'Lime'] 5 <class 'list'> 2239117114112\n",
      "['Lime', 'Banana', 'Coconut', 'Pineapple', 'Mango'] 5 <class 'list'> 2239117114112\n"
     ]
    }
   ],
   "source": [
    "# reverse of a list\n",
    "list1 = ['Mango', 'Pineapple', 'Coconut', 'Banana', 'Lime']\n",
    "print (list1, len(list1), type(list1), id(list1))\n",
    "list1.reverse()\n",
    "print (list1, len(list1), type(list1), id(list1))"
   ]
  },
  {
   "cell_type": "code",
   "execution_count": 190,
   "id": "772e9944-ead4-4704-a114-7577f54a1cc0",
   "metadata": {},
   "outputs": [
    {
     "name": "stdout",
     "output_type": "stream",
     "text": [
      "['Mango', 'Pineapple', 'Coconut', 'Banana', 'Lime'] 5 <class 'list'> 2239122633472\n",
      "['Banana', 'Coconut', 'Lime', 'Mango', 'Pineapple'] 5 <class 'list'> 2239122633472\n",
      "['Pineapple', 'Mango', 'Lime', 'Coconut', 'Banana'] 5 <class 'list'> 2239122633472\n"
     ]
    }
   ],
   "source": [
    "# sorting of a list\n",
    "list1 = ['Mango', 'Pineapple', 'Coconut', 'Banana', 'Lime']\n",
    "print (list1, len(list1), type(list1), id(list1))\n",
    "list1.sort()\n",
    "print (list1, len(list1), type(list1), id(list1))\n",
    "list1.reverse()\n",
    "print (list1, len(list1), type(list1), id(list1))"
   ]
  },
  {
   "cell_type": "code",
   "execution_count": 191,
   "id": "375a1f0a-e708-4914-8cb1-e1abc513e0d4",
   "metadata": {},
   "outputs": [
    {
     "name": "stdout",
     "output_type": "stream",
     "text": [
      "['Mango', 'Pineapple', 'Coconut', 'Banana', 'Lime'] 5 <class 'list'> 2239120508672\n",
      "['Pineapple', 'Mango', 'Lime', 'Coconut', 'Banana'] 5 <class 'list'> 2239120508672\n"
     ]
    }
   ],
   "source": [
    "list1 = ['Mango', 'Pineapple', 'Coconut', 'Banana', 'Lime']\n",
    "print (list1, len(list1), type(list1), id(list1))\n",
    "list1.sort(reverse = True)\n",
    "print (list1, len(list1), type(list1), id(list1))"
   ]
  },
  {
   "cell_type": "code",
   "execution_count": 193,
   "id": "931d11a5-fbe1-42e7-ad9d-68722549c8e7",
   "metadata": {},
   "outputs": [
    {
     "name": "stdout",
     "output_type": "stream",
     "text": [
      "['Mango', 'Pineapple', 'Coconut', 'Banana', 'Lime'] 5 <class 'list'> 2239115688064\n",
      "['Banana', 'Coconut', 'Lime', 'Mango', 'Pineapple'] 5 <class 'list'> 2239115643968\n",
      "['Pineapple', 'Mango', 'Lime', 'Coconut', 'Banana'] 5 <class 'list'> 2239115711232\n"
     ]
    }
   ],
   "source": [
    "list1 = ['Mango', 'Pineapple', 'Coconut', 'Banana', 'Lime']\n",
    "print (list1, len(list1), type(list1), id(list1))\n",
    "list1 = sorted(list1)\n",
    "print (list1, len(list1), type(list1), id(list1))\n",
    "list1 = sorted(list1, reverse = True)\n",
    "print (list1, len(list1), type(list1), id(list1))"
   ]
  },
  {
   "cell_type": "code",
   "execution_count": 196,
   "id": "6d9b95d8-ca58-47e1-986f-6c358b1faa14",
   "metadata": {},
   "outputs": [
    {
     "name": "stdout",
     "output_type": "stream",
     "text": [
      "True False\n",
      "True True\n"
     ]
    }
   ],
   "source": [
    "list1 = [True, False, True, True]\n",
    "print (any(list1), all(list1))\n",
    "list1 = [True, True, True, True]\n",
    "print (any(list1), all(list1))"
   ]
  },
  {
   "cell_type": "code",
   "execution_count": 202,
   "id": "fd92d87a-a5c6-4d1e-a03d-39c94acbf37c",
   "metadata": {},
   "outputs": [
    {
     "name": "stdout",
     "output_type": "stream",
     "text": [
      "['Mango', 'Pineapple', 'Coconut', 'Banana', 'Pineapple', 'Coconut', 'Banana', 'Lime'] 8 <class 'list'> 2239122797888\n",
      "2\n",
      "1\n",
      "2\n",
      "0\n"
     ]
    }
   ],
   "source": [
    "list1 = ['Mango', 'Pineapple', 'Coconut', 'Banana', 'Pineapple', 'Coconut', 'Banana', 'Lime']\n",
    "print (list1, len(list1), type(list1), id(list1))\n",
    "print (list1.count('Pineapple'))\n",
    "print (list1.count('Mango'))\n",
    "print (list1.count('Coconut'))\n",
    "print (list1.count('coconut'))"
   ]
  },
  {
   "cell_type": "code",
   "execution_count": 206,
   "id": "16fe94f4-e598-4d5b-873e-37b63c373d0a",
   "metadata": {},
   "outputs": [
    {
     "name": "stdout",
     "output_type": "stream",
     "text": [
      "['Mango', 'Pineapple', 'Coconut', 'Banana', 'Pineapple', 'Coconut', 'Banana', 'Lime'] 8 <class 'list'> 2239115623744\n",
      "1\n",
      "1\n",
      "4\n"
     ]
    },
    {
     "ename": "ValueError",
     "evalue": "'Pineapple' is not in list",
     "output_type": "error",
     "traceback": [
      "\u001b[1;31m---------------------------------------------------------------------------\u001b[0m",
      "\u001b[1;31mValueError\u001b[0m                                Traceback (most recent call last)",
      "\u001b[1;32m<ipython-input-206-0af3c4b490c7>\u001b[0m in \u001b[0;36m<module>\u001b[1;34m\u001b[0m\n\u001b[0;32m      4\u001b[0m \u001b[0mprint\u001b[0m \u001b[1;33m(\u001b[0m\u001b[0mlist1\u001b[0m\u001b[1;33m.\u001b[0m\u001b[0mindex\u001b[0m\u001b[1;33m(\u001b[0m\u001b[1;34m\"Pineapple\"\u001b[0m\u001b[1;33m,\u001b[0m \u001b[1;36m0\u001b[0m\u001b[1;33m)\u001b[0m\u001b[1;33m)\u001b[0m\u001b[1;33m\u001b[0m\u001b[1;33m\u001b[0m\u001b[0m\n\u001b[0;32m      5\u001b[0m \u001b[0mprint\u001b[0m \u001b[1;33m(\u001b[0m\u001b[0mlist1\u001b[0m\u001b[1;33m.\u001b[0m\u001b[0mindex\u001b[0m\u001b[1;33m(\u001b[0m\u001b[1;34m\"Pineapple\"\u001b[0m\u001b[1;33m,\u001b[0m \u001b[1;36m2\u001b[0m\u001b[1;33m)\u001b[0m\u001b[1;33m)\u001b[0m\u001b[1;33m\u001b[0m\u001b[1;33m\u001b[0m\u001b[0m\n\u001b[1;32m----> 6\u001b[1;33m \u001b[0mprint\u001b[0m \u001b[1;33m(\u001b[0m\u001b[0mlist1\u001b[0m\u001b[1;33m.\u001b[0m\u001b[0mindex\u001b[0m\u001b[1;33m(\u001b[0m\u001b[1;34m\"Pineapple\"\u001b[0m\u001b[1;33m,\u001b[0m \u001b[1;36m5\u001b[0m\u001b[1;33m)\u001b[0m\u001b[1;33m)\u001b[0m\u001b[1;33m\u001b[0m\u001b[1;33m\u001b[0m\u001b[0m\n\u001b[0m",
      "\u001b[1;31mValueError\u001b[0m: 'Pineapple' is not in list"
     ]
    }
   ],
   "source": [
    "list1 = ['Mango', 'Pineapple', 'Coconut', 'Banana', 'Pineapple', 'Coconut', 'Banana', 'Lime']\n",
    "print (list1, len(list1), type(list1), id(list1))\n",
    "print (list1.index(\"Pineapple\"))\n",
    "print (list1.index(\"Pineapple\", 0))\n",
    "print (list1.index(\"Pineapple\", 2))\n",
    "print (list1.index(\"Pineapple\", 5))"
   ]
  },
  {
   "cell_type": "code",
   "execution_count": 207,
   "id": "1a07fcc5-d624-4ec3-a077-f4fbb6c85fd5",
   "metadata": {},
   "outputs": [
    {
     "name": "stdout",
     "output_type": "stream",
     "text": [
      "mississippi 11 <class 'str'> 2239118918064\n",
      "['m', 'i', 's', 's', 'i', 's', 's', 'i', 'p', 'p', 'i'] 11 <class 'list'> 2239114770688\n"
     ]
    }
   ],
   "source": [
    "mystr = \"mississippi\"\n",
    "print (mystr, len(mystr), type(mystr), id(mystr))\n",
    "list1 = list(mystr)\n",
    "print (list1, len(list1), type(list1), id(list1))"
   ]
  },
  {
   "cell_type": "code",
   "execution_count": 212,
   "id": "c940933c-736c-4e4a-90d6-16e6b9167726",
   "metadata": {},
   "outputs": [
    {
     "name": "stdout",
     "output_type": "stream",
     "text": [
      "[11, 22, 33, 44, 55, 66, 77, 88] 8 <class 'list'> 2239122745088\n",
      "[111, 122, 133, 144, 155, 166, 177, 188] 8 <class 'list'> 2239122745088\n"
     ]
    }
   ],
   "source": [
    "def list_function(llist):\n",
    "    for i in range(len(llist)):\n",
    "        llist[i] += 100\n",
    "        \n",
    "list1 = [11, 22, 33, 44, 55, 66, 77, 88]\n",
    "print (list1, len(list1), type(list1), id(list1))\n",
    "list_function(list1)\n",
    "print (list1, len(list1), type(list1), id(list1))"
   ]
  },
  {
   "cell_type": "code",
   "execution_count": 216,
   "id": "0649013e-dca8-4b69-a1fd-5f1e9b943dde",
   "metadata": {},
   "outputs": [
    {
     "name": "stdout",
     "output_type": "stream",
     "text": [
      "[11, 22, 33, 44, 55, 66, 77, 88] 8 <class 'list'> 2239115946880\n",
      "[11, 22, 33, 44, 55, 66, 77, 88] 8 <class 'list'> 2239115946880\n",
      "[9999, 22, 33, 44, 55, 66, 77, 88] 8 <class 'list'> 2239115946880\n",
      "[9999, 22, 33, 44, 55, 66, 77, 88] 8 <class 'list'> 2239115946880\n"
     ]
    }
   ],
   "source": [
    "list1 = [11, 22, 33, 44, 55, 66, 77, 88]\n",
    "print (list1, len(list1), type(list1), id(list1))\n",
    "list2 = list1\n",
    "print (list2, len(list2), type(list2), id(list2))\n",
    "list1[0] = 9999\n",
    "print (list1, len(list1), type(list1), id(list1))\n",
    "print (list2, len(list2), type(list2), id(list2))"
   ]
  },
  {
   "cell_type": "code",
   "execution_count": 217,
   "id": "93118ad2-28d4-4cfc-800a-817e0d4c4e5b",
   "metadata": {},
   "outputs": [
    {
     "name": "stdout",
     "output_type": "stream",
     "text": [
      "[11, 22, 33, 44, 55, 66, 77, 88] 8 <class 'list'> 2239122732928\n",
      "[33, 44, 55] 3 <class 'list'> 2239113409344\n",
      "[11, 22, 33, 9999, 55, 66, 77, 88] 8 <class 'list'> 2239122732928\n",
      "[33, 44, 55] 3 <class 'list'> 2239113409344\n"
     ]
    }
   ],
   "source": [
    "list1 = [11, 22, 33, 44, 55, 66, 77, 88]\n",
    "print (list1, len(list1), type(list1), id(list1))\n",
    "list2 = list1[2:5]\n",
    "print (list2, len(list2), type(list2), id(list2))\n",
    "list1[3] = 9999\n",
    "print (list1, len(list1), type(list1), id(list1))\n",
    "print (list2, len(list2), type(list2), id(list2))"
   ]
  },
  {
   "cell_type": "code",
   "execution_count": 218,
   "id": "a8198876-2f9c-406e-bec6-cc780f43e0ab",
   "metadata": {},
   "outputs": [
    {
     "name": "stdout",
     "output_type": "stream",
     "text": [
      "[11, 22, 33, 44, 55, 66, 77, 88] 8 <class 'list'> 2239118610048\n",
      "[11, 22, 33, 44, 55, 66, 77, 88] 8 <class 'list'> 2239113409344\n",
      "[9999, 22, 33, 44, 55, 66, 77, 88] 8 <class 'list'> 2239118610048\n",
      "[11, 22, 33, 44, 55, 66, 77, 88] 8 <class 'list'> 2239113409344\n"
     ]
    }
   ],
   "source": [
    "list1 = [11, 22, 33, 44, 55, 66, 77, 88]\n",
    "print (list1, len(list1), type(list1), id(list1))\n",
    "list2[:] = list1\n",
    "print (list2, len(list2), type(list2), id(list2))\n",
    "list1[0] = 9999\n",
    "print (list1, len(list1), type(list1), id(list1))\n",
    "print (list2, len(list2), type(list2), id(list2))"
   ]
  },
  {
   "cell_type": "code",
   "execution_count": 219,
   "id": "b335700a-414b-46a4-b4c3-5199b73cf2a2",
   "metadata": {},
   "outputs": [
    {
     "name": "stdout",
     "output_type": "stream",
     "text": [
      "[11, 22, 33, 44, 55, 66, 77, 88] 8 <class 'list'> 2239122989696\n",
      "[11, 22, 33, 44, 55, 66, 77, 88] 8 <class 'list'> 2239095438016\n",
      "[9999, 22, 33, 44, 55, 66, 77, 88] 8 <class 'list'> 2239122989696\n",
      "[11, 22, 33, 44, 55, 66, 77, 88] 8 <class 'list'> 2239095438016\n"
     ]
    }
   ],
   "source": [
    "list1 = [11, 22, 33, 44, 55, 66, 77, 88]\n",
    "print (list1, len(list1), type(list1), id(list1))\n",
    "list2 = list1.copy()\n",
    "print (list2, len(list2), type(list2), id(list2))\n",
    "list1[0] = 9999\n",
    "print (list1, len(list1), type(list1), id(list1))\n",
    "print (list2, len(list2), type(list2), id(list2))"
   ]
  },
  {
   "cell_type": "code",
   "execution_count": null,
   "id": "17b3a46e-0b32-4d31-8934-078f0df8ddbc",
   "metadata": {},
   "outputs": [],
   "source": [
    "Class Assignment - 3 / Day-2\n",
    "----------------------------\n",
    "Take n number of integers from the user and put them in a list and sort them and print them.\n",
    "Now take one by one number from the newly created list and put them in two lists, even_list and odd_list\n",
    "depending upon the fact whether the number is even or odd respectively. And print both two lists."
   ]
  },
  {
   "cell_type": "code",
   "execution_count": 268,
   "id": "084a8ac3-f1fe-4ce8-b755-df07c0600185",
   "metadata": {},
   "outputs": [
    {
     "name": "stdin",
     "output_type": "stream",
     "text": [
      "Please enter the number of numbers:  8\n",
      "Please enter integer number 1 ->  33\n",
      "Please enter integer number 2 ->  11\n",
      "Please enter integer number 3 ->  66\n",
      "Please enter integer number 4 ->  55\n",
      "Please enter integer number 5 ->  88\n",
      "Please enter integer number 6 ->  77\n",
      "Please enter integer number 7 ->  22\n",
      "Please enter integer number 8 ->  44\n"
     ]
    },
    {
     "name": "stdout",
     "output_type": "stream",
     "text": [
      "So the initial sorted list is [11, 22, 33, 44, 55, 66, 77, 88]\n",
      "So the even list is [22, 44, 66, 88]\n",
      "So the odd list is [11, 33, 55, 77]\n",
      "End of the program...\n"
     ]
    }
   ],
   "source": [
    "n = int(input(\"Please enter the number of numbers: \"))\n",
    "main_list = []\n",
    "for i in range(n):\n",
    "    num = int(input(f\"Please enter integer number {i + 1} -> \"))\n",
    "    main_list.append(num)\n",
    "main_list.sort()\n",
    "print (\"So the initial sorted list is\", main_list)\n",
    "even_list = []\n",
    "odd_list = []\n",
    "for item in main_list:\n",
    "    if (item % 2 == 0): even_list.append(item)\n",
    "    else: odd_list.append(item)\n",
    "print (\"So the even list is\", even_list)\n",
    "print (\"So the odd list is\", odd_list)\n",
    "print (\"End of the program...\")"
   ]
  },
  {
   "cell_type": "markdown",
   "id": "ac0a3874-966f-4c77-b660-8ecaa5911afb",
   "metadata": {},
   "source": [
    "### Tuple Processing"
   ]
  },
  {
   "cell_type": "code",
   "execution_count": 120,
   "id": "b5002f9e-5914-487c-8899-a4ea6c8eb00f",
   "metadata": {},
   "outputs": [
    {
     "name": "stdout",
     "output_type": "stream",
     "text": [
      "(100, 400, 300, 200, 700) 9 <class 'tuple'> 2239126148736\n",
      "700 100\n",
      "1700 340.0\n"
     ]
    }
   ],
   "source": [
    "tuple1 = (100, 400, 300, 200, 700)\n",
    "print (tuple1, len(list1), type(tuple1), id(tuple1))\n",
    "print (max(tuple1), min(tuple1))\n",
    "print (sum(tuple1), sum(tuple1) / len(tuple1))"
   ]
  },
  {
   "cell_type": "code",
   "execution_count": 121,
   "id": "b00d277a-d196-49e4-a1ea-6acf4d379ed0",
   "metadata": {},
   "outputs": [
    {
     "name": "stdout",
     "output_type": "stream",
     "text": [
      "(100, 400, True, 300, 200, False, 700) 9 <class 'tuple'> 2239112337248\n",
      "700 False\n",
      "1701 243.0\n"
     ]
    }
   ],
   "source": [
    "tuple1 = (100, 400, True, 300, 200, False, 700)\n",
    "print (tuple1, len(list1), type(tuple1), id(tuple1))\n",
    "print (max(tuple1), min(tuple1))\n",
    "print (sum(tuple1), sum(tuple1) / len(tuple1))"
   ]
  },
  {
   "cell_type": "code",
   "execution_count": 122,
   "id": "ea224eeb-9252-49d8-ad25-692e59c0a998",
   "metadata": {},
   "outputs": [
    {
     "name": "stdout",
     "output_type": "stream",
     "text": [
      "('sunday', 'monday', 'friday', 'saturday', 'Tuesday') 9 <class 'tuple'> 2239126148736\n",
      "sunday Tuesday\n"
     ]
    },
    {
     "ename": "TypeError",
     "evalue": "unsupported operand type(s) for +: 'int' and 'str'",
     "output_type": "error",
     "traceback": [
      "\u001b[1;31m---------------------------------------------------------------------------\u001b[0m",
      "\u001b[1;31mTypeError\u001b[0m                                 Traceback (most recent call last)",
      "\u001b[1;32m<ipython-input-122-351d3e3dd768>\u001b[0m in \u001b[0;36m<module>\u001b[1;34m\u001b[0m\n\u001b[0;32m      2\u001b[0m \u001b[0mprint\u001b[0m \u001b[1;33m(\u001b[0m\u001b[0mtuple1\u001b[0m\u001b[1;33m,\u001b[0m \u001b[0mlen\u001b[0m\u001b[1;33m(\u001b[0m\u001b[0mlist1\u001b[0m\u001b[1;33m)\u001b[0m\u001b[1;33m,\u001b[0m \u001b[0mtype\u001b[0m\u001b[1;33m(\u001b[0m\u001b[0mtuple1\u001b[0m\u001b[1;33m)\u001b[0m\u001b[1;33m,\u001b[0m \u001b[0mid\u001b[0m\u001b[1;33m(\u001b[0m\u001b[0mtuple1\u001b[0m\u001b[1;33m)\u001b[0m\u001b[1;33m)\u001b[0m\u001b[1;33m\u001b[0m\u001b[1;33m\u001b[0m\u001b[0m\n\u001b[0;32m      3\u001b[0m \u001b[0mprint\u001b[0m \u001b[1;33m(\u001b[0m\u001b[0mmax\u001b[0m\u001b[1;33m(\u001b[0m\u001b[0mtuple1\u001b[0m\u001b[1;33m)\u001b[0m\u001b[1;33m,\u001b[0m \u001b[0mmin\u001b[0m\u001b[1;33m(\u001b[0m\u001b[0mtuple1\u001b[0m\u001b[1;33m)\u001b[0m\u001b[1;33m)\u001b[0m\u001b[1;33m\u001b[0m\u001b[1;33m\u001b[0m\u001b[0m\n\u001b[1;32m----> 4\u001b[1;33m \u001b[0mprint\u001b[0m \u001b[1;33m(\u001b[0m\u001b[0msum\u001b[0m\u001b[1;33m(\u001b[0m\u001b[0mtuple1\u001b[0m\u001b[1;33m)\u001b[0m\u001b[1;33m,\u001b[0m \u001b[0msum\u001b[0m\u001b[1;33m(\u001b[0m\u001b[0mtuple1\u001b[0m\u001b[1;33m)\u001b[0m \u001b[1;33m/\u001b[0m \u001b[0mlen\u001b[0m\u001b[1;33m(\u001b[0m\u001b[0mtuple1\u001b[0m\u001b[1;33m)\u001b[0m\u001b[1;33m)\u001b[0m\u001b[1;33m\u001b[0m\u001b[1;33m\u001b[0m\u001b[0m\n\u001b[0m",
      "\u001b[1;31mTypeError\u001b[0m: unsupported operand type(s) for +: 'int' and 'str'"
     ]
    }
   ],
   "source": [
    "tuple1 = (\"sunday\", \"monday\", 'friday', 'saturday', 'Tuesday')\n",
    "print (tuple1, len(list1), type(tuple1), id(tuple1))\n",
    "print (max(tuple1), min(tuple1))\n",
    "print (sum(tuple1), sum(tuple1) / len(tuple1))"
   ]
  },
  {
   "cell_type": "code",
   "execution_count": 123,
   "id": "c01bcfd2-2a2f-4283-b01f-17215872dbbd",
   "metadata": {},
   "outputs": [
    {
     "name": "stdout",
     "output_type": "stream",
     "text": [
      "(100, 400, True, 'Tuesday', 300, 'Wednesday', 200, False, 700) 9 <class 'tuple'> 2239112971424\n"
     ]
    },
    {
     "ename": "TypeError",
     "evalue": "'>' not supported between instances of 'str' and 'int'",
     "output_type": "error",
     "traceback": [
      "\u001b[1;31m---------------------------------------------------------------------------\u001b[0m",
      "\u001b[1;31mTypeError\u001b[0m                                 Traceback (most recent call last)",
      "\u001b[1;32m<ipython-input-123-934488ff202f>\u001b[0m in \u001b[0;36m<module>\u001b[1;34m\u001b[0m\n\u001b[0;32m      1\u001b[0m \u001b[0mtuple1\u001b[0m \u001b[1;33m=\u001b[0m \u001b[1;33m(\u001b[0m\u001b[1;36m100\u001b[0m\u001b[1;33m,\u001b[0m \u001b[1;36m400\u001b[0m\u001b[1;33m,\u001b[0m \u001b[1;32mTrue\u001b[0m\u001b[1;33m,\u001b[0m \u001b[1;34m\"Tuesday\"\u001b[0m\u001b[1;33m,\u001b[0m \u001b[1;36m300\u001b[0m\u001b[1;33m,\u001b[0m \u001b[1;34m\"Wednesday\"\u001b[0m\u001b[1;33m,\u001b[0m \u001b[1;36m200\u001b[0m\u001b[1;33m,\u001b[0m \u001b[1;32mFalse\u001b[0m\u001b[1;33m,\u001b[0m \u001b[1;36m700\u001b[0m\u001b[1;33m)\u001b[0m\u001b[1;33m\u001b[0m\u001b[1;33m\u001b[0m\u001b[0m\n\u001b[0;32m      2\u001b[0m \u001b[0mprint\u001b[0m \u001b[1;33m(\u001b[0m\u001b[0mtuple1\u001b[0m\u001b[1;33m,\u001b[0m \u001b[0mlen\u001b[0m\u001b[1;33m(\u001b[0m\u001b[0mlist1\u001b[0m\u001b[1;33m)\u001b[0m\u001b[1;33m,\u001b[0m \u001b[0mtype\u001b[0m\u001b[1;33m(\u001b[0m\u001b[0mtuple1\u001b[0m\u001b[1;33m)\u001b[0m\u001b[1;33m,\u001b[0m \u001b[0mid\u001b[0m\u001b[1;33m(\u001b[0m\u001b[0mtuple1\u001b[0m\u001b[1;33m)\u001b[0m\u001b[1;33m)\u001b[0m\u001b[1;33m\u001b[0m\u001b[1;33m\u001b[0m\u001b[0m\n\u001b[1;32m----> 3\u001b[1;33m \u001b[0mprint\u001b[0m \u001b[1;33m(\u001b[0m\u001b[0mmax\u001b[0m\u001b[1;33m(\u001b[0m\u001b[0mtuple1\u001b[0m\u001b[1;33m)\u001b[0m\u001b[1;33m,\u001b[0m \u001b[0mmin\u001b[0m\u001b[1;33m(\u001b[0m\u001b[0mtuple1\u001b[0m\u001b[1;33m)\u001b[0m\u001b[1;33m)\u001b[0m\u001b[1;33m\u001b[0m\u001b[1;33m\u001b[0m\u001b[0m\n\u001b[0m\u001b[0;32m      4\u001b[0m \u001b[0mprint\u001b[0m \u001b[1;33m(\u001b[0m\u001b[0msum\u001b[0m\u001b[1;33m(\u001b[0m\u001b[0mtuple1\u001b[0m\u001b[1;33m)\u001b[0m\u001b[1;33m,\u001b[0m \u001b[0msum\u001b[0m\u001b[1;33m(\u001b[0m\u001b[0mtuple1\u001b[0m\u001b[1;33m)\u001b[0m \u001b[1;33m/\u001b[0m \u001b[0mlen\u001b[0m\u001b[1;33m(\u001b[0m\u001b[0mtuple1\u001b[0m\u001b[1;33m)\u001b[0m\u001b[1;33m)\u001b[0m\u001b[1;33m\u001b[0m\u001b[1;33m\u001b[0m\u001b[0m\n",
      "\u001b[1;31mTypeError\u001b[0m: '>' not supported between instances of 'str' and 'int'"
     ]
    }
   ],
   "source": [
    "tuple1 = (100, 400, True, \"Tuesday\", 300, \"Wednesday\", 200, False, 700)\n",
    "print (tuple1, len(list1), type(tuple1), id(tuple1))\n",
    "print (max(tuple1), min(tuple1))\n",
    "print (sum(tuple1), sum(tuple1) / len(tuple1))"
   ]
  },
  {
   "cell_type": "code",
   "execution_count": 143,
   "id": "9b6f4dd6-992d-4b9d-b69c-60c8dce38466",
   "metadata": {},
   "outputs": [
    {
     "name": "stdout",
     "output_type": "stream",
     "text": [
      "('Monday', 'Tuesday', 'Wednesday', 'Thursday', 'Friday') 5 <class 'tuple'> 2239113087472\n",
      "Wednesday Wednesday Thursday Thursday\n",
      "nes nes\n",
      "('Wednesday', 'Thursday', 'Friday') ('Wednesday', 'Thursday', 'Friday')\n",
      "('Monday', 'Tuesday', 'Wednesday') ('Monday', 'Tuesday', 'Wednesday')\n"
     ]
    }
   ],
   "source": [
    "# Indexing and slicing\n",
    "# L ro R ->   0         1          2            3           4\n",
    "tuple1 =    (\"Monday\", \"Tuesday\", \"Wednesday\", \"Thursday\", \"Friday\")\n",
    "# R to L ->  -5        -4         -3           -2          -1\n",
    "print (tuple1, len(tuple1), type(tuple1), id(tuple1))\n",
    "print (tuple1[2], tuple1[-3], tuple1[3], tuple1[-2])\n",
    "print (tuple1[2][3:6], tuple1[-3][-6:-3])\n",
    "print (tuple1[2:], tuple1[-3:])\n",
    "print (tuple1[:3], tuple1[:-2])"
   ]
  },
  {
   "cell_type": "code",
   "execution_count": 144,
   "id": "7fa40085-d183-41ba-bfb0-d001a677b8d0",
   "metadata": {},
   "outputs": [
    {
     "name": "stdout",
     "output_type": "stream",
     "text": [
      "('Monday', 'Tuesday', 'Wednesday', 'Thursday', 'Friday') 5 <class 'tuple'> 2239127249520\n",
      "('Mango', 'Pineapple', 'Guava', 'Lime') 4 <class 'tuple'> 2239117504000\n",
      "('Monday', 'Tuesday', 'Wednesday', 'Thursday', 'Friday', 'Mango', 'Pineapple', 'Guava', 'Lime') 9 <class 'tuple'> 2239112971424\n"
     ]
    }
   ],
   "source": [
    "tuple1 = (\"Monday\", \"Tuesday\", \"Wednesday\", \"Thursday\", \"Friday\")\n",
    "tuple2 = (\"Mango\", \"Pineapple\", \"Guava\", \"Lime\")\n",
    "print (tuple1, len(tuple1), type(tuple1), id(tuple1))\n",
    "print (tuple2, len(tuple2), type(tuple2), id(tuple2))\n",
    "tuple3 = tuple1 + tuple2      # tuple concatenation\n",
    "print (tuple3, len(tuple3), type(tuple3), id(tuple3))"
   ]
  },
  {
   "cell_type": "code",
   "execution_count": 220,
   "id": "1d1026ec-8147-49fe-a50b-5a26bfa61bb2",
   "metadata": {},
   "outputs": [
    {
     "name": "stdout",
     "output_type": "stream",
     "text": [
      "('Monday', 'Tuesday', 'Wednesday', 'Thursday', 'Friday') 5 <class 'tuple'> 2239095997360\n",
      "('Mango', 'Pineapple', 'Guava', 'Lime') 4 <class 'tuple'> 2239108703632\n",
      "(('Monday', 'Tuesday', 'Wednesday', 'Thursday', 'Friday'), ('Mango', 'Pineapple', 'Guava', 'Lime')) 2 <class 'tuple'> 2239115644352\n",
      "5 4\n",
      "('Pineapple', 'Guava') ('Wednesday', 'Thursday')\n",
      "nes\n"
     ]
    }
   ],
   "source": [
    "tuple1 = (\"Monday\", \"Tuesday\", \"Wednesday\", \"Thursday\", \"Friday\")\n",
    "tuple2 = (\"Mango\", \"Pineapple\", \"Guava\", \"Lime\")\n",
    "print (tuple1, len(tuple1), type(tuple1), id(tuple1))\n",
    "print (tuple2, len(tuple2), type(tuple2), id(tuple2))\n",
    "tuple3 = (tuple1, tuple2)      # tuple of tuples\n",
    "print (tuple3, len(tuple3), type(tuple3), id(tuple3))\n",
    "print (len(tuple3[0]), len(tuple3[1]))\n",
    "print (tuple3[1][1:3], tuple3[0][2:4])\n",
    "print (tuple3[0][2][3:6])"
   ]
  },
  {
   "cell_type": "code",
   "execution_count": 169,
   "id": "b59f4937-28cb-405e-b87d-fca3ffee5915",
   "metadata": {},
   "outputs": [
    {
     "name": "stdout",
     "output_type": "stream",
     "text": [
      "10 <class 'int'>\n",
      "(10,) <class 'tuple'>\n"
     ]
    }
   ],
   "source": [
    "var1 = (10)\n",
    "print (var1, type(var1))\n",
    "var1 = (10,)   # singleton representation of a tuple\n",
    "print (var1, type(var1))"
   ]
  },
  {
   "cell_type": "code",
   "execution_count": 182,
   "id": "5513e7d2-d811-451d-9145-c7de4d19caaa",
   "metadata": {},
   "outputs": [
    {
     "name": "stdout",
     "output_type": "stream",
     "text": [
      "('Monday', 'Tuesday', 'Wednesday', 'Thursday', 'Friday') 5 <class 'tuple'> 2239125774064\n",
      "['Monday', 'Tuesday', 'Wednesday', 'Thursday', 'Friday'] 5 <class 'list'> 2239115925696\n",
      "['Monday', 'Saturday', 'Wednesday', 'Thursday', 'Friday'] 5 <class 'list'> 2239115925696\n",
      "('Monday', 'Saturday', 'Wednesday', 'Thursday', 'Friday') 5 <class 'tuple'> 2239113086672\n"
     ]
    }
   ],
   "source": [
    "tuple1 = (\"Monday\", \"Tuesday\", \"Wednesday\", \"Thursday\", \"Friday\")\n",
    "print (tuple1, len(tuple1), type(tuple1), id(tuple1))\n",
    "# tuple1[1] = 'Saturday'\n",
    "list1 = list(tuple1)\n",
    "print (list1, len(list1), type(list1), id(list1))\n",
    "list1[1] = 'Saturday'\n",
    "print (list1, len(list1), type(list1), id(list1))\n",
    "tuple1 = tuple(list1)\n",
    "print (tuple1, len(tuple1), type(tuple1), id(tuple1))"
   ]
  },
  {
   "cell_type": "code",
   "execution_count": 200,
   "id": "e6553f08-fb7c-4dc0-a568-e2953e64c984",
   "metadata": {},
   "outputs": [
    {
     "name": "stdout",
     "output_type": "stream",
     "text": [
      "('Monday', 'Tuesday', 'Wednesday', 'Thursday', 'Friday') 5 <class 'tuple'> 2239113086992\n",
      "('Friday', 'Monday', 'Thursday', 'Tuesday', 'Wednesday') 5 <class 'tuple'> 2239120082400\n"
     ]
    }
   ],
   "source": [
    "tuple1 = (\"Monday\", \"Tuesday\", \"Wednesday\", \"Thursday\", \"Friday\")\n",
    "print (tuple1, len(tuple1), type(tuple1), id(tuple1))\n",
    "tuple2 = tuple(sorted(tuple1))\n",
    "print (tuple2, len(tuple2), type(tuple2), id(tuple2))"
   ]
  },
  {
   "cell_type": "code",
   "execution_count": 208,
   "id": "a920b82c-62c8-4061-8b29-8b617d5322be",
   "metadata": {},
   "outputs": [
    {
     "name": "stdout",
     "output_type": "stream",
     "text": [
      "mississippi 11 <class 'str'> 2239118918064\n",
      "('m', 'i', 's', 's', 'i', 's', 's', 'i', 'p', 'p', 'i') 11 <class 'tuple'> 2239119883328\n"
     ]
    }
   ],
   "source": [
    "mystr = \"mississippi\"\n",
    "print (mystr, len(mystr), type(mystr), id(mystr))\n",
    "tuple1 = tuple(mystr)\n",
    "print (tuple1, len(tuple1), type(tuple1), id(tuple1))"
   ]
  },
  {
   "cell_type": "code",
   "execution_count": 209,
   "id": "071d2b92-a8f7-4b08-8405-5794de86cd6a",
   "metadata": {},
   "outputs": [
    {
     "name": "stdout",
     "output_type": "stream",
     "text": [
      "True False\n",
      "True True\n"
     ]
    }
   ],
   "source": [
    "tuple1 = (True, False, True, True)\n",
    "print (any(tuple1), all(tuple1))\n",
    "tuple1 = (True, True, True, True)\n",
    "print (any(tuple1), all(tuple1))"
   ]
  },
  {
   "cell_type": "code",
   "execution_count": 210,
   "id": "069830dd-357b-4e39-b914-d6a65a9c6e0d",
   "metadata": {},
   "outputs": [
    {
     "name": "stdout",
     "output_type": "stream",
     "text": [
      "('Mango', 'Pineapple', 'Coconut', 'Banana', 'Pineapple', 'Coconut', 'Banana', 'Lime') 8 <class 'tuple'> 2239112951616\n",
      "2\n",
      "1\n",
      "2\n",
      "0\n"
     ]
    }
   ],
   "source": [
    "tuple1 = ('Mango', 'Pineapple', 'Coconut', 'Banana', 'Pineapple', 'Coconut', 'Banana', 'Lime')\n",
    "print (tuple1, len(tuple1), type(tuple1), id(tuple1))\n",
    "print (tuple1.count('Pineapple'))\n",
    "print (tuple1.count('Mango'))\n",
    "print (tuple1.count('Coconut'))\n",
    "print (tuple1.count('coconut'))"
   ]
  },
  {
   "cell_type": "code",
   "execution_count": 211,
   "id": "7c77cfe9-9f73-4233-bcfd-831b3b0ac448",
   "metadata": {},
   "outputs": [
    {
     "name": "stdout",
     "output_type": "stream",
     "text": [
      "('Mango', 'Pineapple', 'Coconut', 'Banana', 'Pineapple', 'Coconut', 'Banana', 'Lime') 8 <class 'tuple'> 2239120651760\n",
      "1\n",
      "1\n",
      "4\n"
     ]
    },
    {
     "ename": "ValueError",
     "evalue": "tuple.index(x): x not in tuple",
     "output_type": "error",
     "traceback": [
      "\u001b[1;31m---------------------------------------------------------------------------\u001b[0m",
      "\u001b[1;31mValueError\u001b[0m                                Traceback (most recent call last)",
      "\u001b[1;32m<ipython-input-211-c64d3f4af45a>\u001b[0m in \u001b[0;36m<module>\u001b[1;34m\u001b[0m\n\u001b[0;32m      4\u001b[0m \u001b[0mprint\u001b[0m \u001b[1;33m(\u001b[0m\u001b[0mtuple1\u001b[0m\u001b[1;33m.\u001b[0m\u001b[0mindex\u001b[0m\u001b[1;33m(\u001b[0m\u001b[1;34m\"Pineapple\"\u001b[0m\u001b[1;33m,\u001b[0m \u001b[1;36m0\u001b[0m\u001b[1;33m)\u001b[0m\u001b[1;33m)\u001b[0m\u001b[1;33m\u001b[0m\u001b[1;33m\u001b[0m\u001b[0m\n\u001b[0;32m      5\u001b[0m \u001b[0mprint\u001b[0m \u001b[1;33m(\u001b[0m\u001b[0mtuple1\u001b[0m\u001b[1;33m.\u001b[0m\u001b[0mindex\u001b[0m\u001b[1;33m(\u001b[0m\u001b[1;34m\"Pineapple\"\u001b[0m\u001b[1;33m,\u001b[0m \u001b[1;36m2\u001b[0m\u001b[1;33m)\u001b[0m\u001b[1;33m)\u001b[0m\u001b[1;33m\u001b[0m\u001b[1;33m\u001b[0m\u001b[0m\n\u001b[1;32m----> 6\u001b[1;33m \u001b[0mprint\u001b[0m \u001b[1;33m(\u001b[0m\u001b[0mtuple1\u001b[0m\u001b[1;33m.\u001b[0m\u001b[0mindex\u001b[0m\u001b[1;33m(\u001b[0m\u001b[1;34m\"Pineapple\"\u001b[0m\u001b[1;33m,\u001b[0m \u001b[1;36m5\u001b[0m\u001b[1;33m)\u001b[0m\u001b[1;33m)\u001b[0m\u001b[1;33m\u001b[0m\u001b[1;33m\u001b[0m\u001b[0m\n\u001b[0m",
      "\u001b[1;31mValueError\u001b[0m: tuple.index(x): x not in tuple"
     ]
    }
   ],
   "source": [
    "tuple1 = ('Mango', 'Pineapple', 'Coconut', 'Banana', 'Pineapple', 'Coconut', 'Banana', 'Lime')\n",
    "print (tuple1, len(tuple1), type(tuple1), id(tuple1))\n",
    "print (tuple1.index(\"Pineapple\"))\n",
    "print (tuple1.index(\"Pineapple\", 0))\n",
    "print (tuple1.index(\"Pineapple\", 2))\n",
    "print (tuple1.index(\"Pineapple\", 5))"
   ]
  },
  {
   "cell_type": "code",
   "execution_count": null,
   "id": "3bf2d818-cd85-4dfb-97b3-a1fdfc693fde",
   "metadata": {},
   "outputs": [],
   "source": []
  },
  {
   "cell_type": "markdown",
   "id": "5663121d-763e-4a33-aaa5-9b6f7b215382",
   "metadata": {},
   "source": [
    "### Dictionary Processing"
   ]
  },
  {
   "cell_type": "code",
   "execution_count": 225,
   "id": "1ccfb4ea-d2ad-44f6-b10e-5d0a41722e19",
   "metadata": {},
   "outputs": [
    {
     "name": "stdout",
     "output_type": "stream",
     "text": [
      "{'apple': 'red', 'pineapple': 'yellow', 'mango': 'green', 'orange': 'orange'} 4 <class 'dict'> 2239120508160\n",
      "dict_keys(['apple', 'pineapple', 'mango', 'orange'])\n",
      "dict_values(['red', 'yellow', 'green', 'orange'])\n",
      "dict_items([('apple', 'red'), ('pineapple', 'yellow'), ('mango', 'green'), ('orange', 'orange')])\n"
     ]
    }
   ],
   "source": [
    "dict1 = {\"apple\":\"red\", \"pineapple\":\"yellow\", \"mango\":\"green\", \"orange\":\"orange\"}\n",
    "print (dict1, len(dict1), type(dict1), id(dict1))\n",
    "print (dict1.keys())   # returns list of keys\n",
    "print (dict1.values())   # returns list of values\n",
    "print (dict1.items())   # returns list of tuples"
   ]
  },
  {
   "cell_type": "code",
   "execution_count": 229,
   "id": "d552abe2-81f6-432e-941d-40b67b7ae7b7",
   "metadata": {},
   "outputs": [
    {
     "name": "stdout",
     "output_type": "stream",
     "text": [
      "{'apple': 'red', 'pineapple': 'yellow', 'mango': 'red', 'orange': 'orange', 'lime': 'green'} 5 <class 'dict'> 2239120509888\n"
     ]
    }
   ],
   "source": [
    "dict1 = {\"apple\":\"red\", \"pineapple\":\"yellow\", \"mango\":\"green\", \"orange\":\"orange\", \"lime\":\"green\", \"mango\":\"red\"}\n",
    "print (dict1, len(dict1), type(dict1), id(dict1))"
   ]
  },
  {
   "cell_type": "code",
   "execution_count": 237,
   "id": "c0292624-b1fa-4629-9665-6e0cda14b717",
   "metadata": {},
   "outputs": [
    {
     "name": "stdout",
     "output_type": "stream",
     "text": [
      "{'apple': 'red', 'pineapple': 'yellow', 'mango': 'green', 'orange': 'orange'} 4 <class 'dict'> 2239116525376\n",
      "red\n",
      "yellow\n",
      "green\n",
      "green\n",
      "Not Available\n",
      "None\n"
     ]
    },
    {
     "ename": "KeyError",
     "evalue": "'yellow'",
     "output_type": "error",
     "traceback": [
      "\u001b[1;31m---------------------------------------------------------------------------\u001b[0m",
      "\u001b[1;31mKeyError\u001b[0m                                  Traceback (most recent call last)",
      "\u001b[1;32m<ipython-input-237-1ac159f8bd58>\u001b[0m in \u001b[0;36m<module>\u001b[1;34m\u001b[0m\n\u001b[0;32m      7\u001b[0m \u001b[0mprint\u001b[0m \u001b[1;33m(\u001b[0m\u001b[0mdict1\u001b[0m\u001b[1;33m.\u001b[0m\u001b[0mget\u001b[0m\u001b[1;33m(\u001b[0m\u001b[1;34m'banana'\u001b[0m\u001b[1;33m,\u001b[0m \u001b[1;34m\"Not Available\"\u001b[0m\u001b[1;33m)\u001b[0m\u001b[1;33m)\u001b[0m\u001b[1;33m\u001b[0m\u001b[1;33m\u001b[0m\u001b[0m\n\u001b[0;32m      8\u001b[0m \u001b[0mprint\u001b[0m \u001b[1;33m(\u001b[0m\u001b[0mdict1\u001b[0m\u001b[1;33m.\u001b[0m\u001b[0mget\u001b[0m\u001b[1;33m(\u001b[0m\u001b[1;34m'banana'\u001b[0m\u001b[1;33m)\u001b[0m\u001b[1;33m)\u001b[0m\u001b[1;33m\u001b[0m\u001b[1;33m\u001b[0m\u001b[0m\n\u001b[1;32m----> 9\u001b[1;33m \u001b[0mprint\u001b[0m \u001b[1;33m(\u001b[0m\u001b[0mdict1\u001b[0m\u001b[1;33m[\u001b[0m\u001b[1;34m'yellow'\u001b[0m\u001b[1;33m]\u001b[0m\u001b[1;33m)\u001b[0m\u001b[1;33m\u001b[0m\u001b[1;33m\u001b[0m\u001b[0m\n\u001b[0m",
      "\u001b[1;31mKeyError\u001b[0m: 'yellow'"
     ]
    }
   ],
   "source": [
    "dict1 = {\"apple\":\"red\", \"pineapple\":\"yellow\", \"mango\":\"green\", \"orange\":\"orange\"}\n",
    "print (dict1, len(dict1), type(dict1), id(dict1))\n",
    "print (dict1['apple'])\n",
    "print (dict1['pineapple'])\n",
    "print (dict1.get('mango'))\n",
    "print (dict1.get('mango', \"Not Available\"))\n",
    "print (dict1.get('banana', \"Not Available\"))\n",
    "print (dict1.get('banana'))\n",
    "print (dict1['yellow'])"
   ]
  },
  {
   "cell_type": "code",
   "execution_count": 240,
   "id": "c46a4874-be26-4abd-9747-2b9dafae6ba8",
   "metadata": {},
   "outputs": [
    {
     "name": "stdout",
     "output_type": "stream",
     "text": [
      "{'apple': 'red', 'pineapple': 'yellow', 'mango': 'green', 'orange': 'orange'} 4 <class 'dict'> 2239115865472\n",
      "{'apple': 'red', 'pineapple': 'yellow', 'mango': 'green', 'orange': 'orange', 'banana': 'yellow'} 5 <class 'dict'> 2239115865472\n",
      "{'apple': 'red', 'pineapple': 'yellow', 'mango': 'green', 'orange': 'orange', 'banana': 'yellow', 'coconut': 'brown'} 6 <class 'dict'> 2239115865472\n",
      "{'apple': 'red', 'pineapple': 'yellow', 'mango': 'red', 'orange': 'orange', 'banana': 'yellow', 'coconut': 'brown'} 6 <class 'dict'> 2239115865472\n"
     ]
    }
   ],
   "source": [
    "# insert and update operations on a dictionary\n",
    "dict1 = {\"apple\":\"red\", \"pineapple\":\"yellow\", \"mango\":\"green\", \"orange\":\"orange\"}\n",
    "print (dict1, len(dict1), type(dict1), id(dict1))\n",
    "dict1['banana'] = 'yellow'    # insert operation\n",
    "print (dict1, len(dict1), type(dict1), id(dict1))\n",
    "dict1['coconut'] = 'brown'    # insert operation\n",
    "print (dict1, len(dict1), type(dict1), id(dict1))\n",
    "dict1['mango'] = 'red'    # update operation\n",
    "print (dict1, len(dict1), type(dict1), id(dict1))"
   ]
  },
  {
   "cell_type": "code",
   "execution_count": 242,
   "id": "b5a40d64-37a6-43d1-a39e-70a041bfe087",
   "metadata": {},
   "outputs": [
    {
     "name": "stdout",
     "output_type": "stream",
     "text": [
      "{'apple': 'red', 'pineapple': 'yellow', 'mango': 'green', 'orange': 'orange'} 4 <class 'dict'> 2239119920896\n",
      "{} 0 <class 'dict'> 2239119920896\n"
     ]
    }
   ],
   "source": [
    "# delete operation on dictionary\n",
    "dict1 = {\"apple\":\"red\", \"pineapple\":\"yellow\", \"mango\":\"green\", \"orange\":\"orange\"}\n",
    "print (dict1, len(dict1), type(dict1), id(dict1))\n",
    "dict1.clear()\n",
    "print (dict1, len(dict1), type(dict1), id(dict1))"
   ]
  },
  {
   "cell_type": "code",
   "execution_count": 251,
   "id": "3ca92010-1aa6-4151-9fc7-610162214bfe",
   "metadata": {},
   "outputs": [
    {
     "name": "stdout",
     "output_type": "stream",
     "text": [
      "{'apple': 'red', 'pineapple': 'yellow', 'mango': 'green', 'orange': 'orange'} 4 <class 'dict'> 2239116934912\n"
     ]
    },
    {
     "ename": "NameError",
     "evalue": "name 'dict1' is not defined",
     "output_type": "error",
     "traceback": [
      "\u001b[1;31m---------------------------------------------------------------------------\u001b[0m",
      "\u001b[1;31mNameError\u001b[0m                                 Traceback (most recent call last)",
      "\u001b[1;32m<ipython-input-251-cd3be10d9d7e>\u001b[0m in \u001b[0;36m<module>\u001b[1;34m\u001b[0m\n\u001b[0;32m      2\u001b[0m \u001b[0mprint\u001b[0m \u001b[1;33m(\u001b[0m\u001b[0mdict1\u001b[0m\u001b[1;33m,\u001b[0m \u001b[0mlen\u001b[0m\u001b[1;33m(\u001b[0m\u001b[0mdict1\u001b[0m\u001b[1;33m)\u001b[0m\u001b[1;33m,\u001b[0m \u001b[0mtype\u001b[0m\u001b[1;33m(\u001b[0m\u001b[0mdict1\u001b[0m\u001b[1;33m)\u001b[0m\u001b[1;33m,\u001b[0m \u001b[0mid\u001b[0m\u001b[1;33m(\u001b[0m\u001b[0mdict1\u001b[0m\u001b[1;33m)\u001b[0m\u001b[1;33m)\u001b[0m\u001b[1;33m\u001b[0m\u001b[1;33m\u001b[0m\u001b[0m\n\u001b[0;32m      3\u001b[0m \u001b[1;32mdel\u001b[0m \u001b[0mdict1\u001b[0m\u001b[1;33m\u001b[0m\u001b[1;33m\u001b[0m\u001b[0m\n\u001b[1;32m----> 4\u001b[1;33m \u001b[0mprint\u001b[0m \u001b[1;33m(\u001b[0m\u001b[0mdict1\u001b[0m\u001b[1;33m,\u001b[0m \u001b[0mlen\u001b[0m\u001b[1;33m(\u001b[0m\u001b[0mdict1\u001b[0m\u001b[1;33m)\u001b[0m\u001b[1;33m,\u001b[0m \u001b[0mtype\u001b[0m\u001b[1;33m(\u001b[0m\u001b[0mdict1\u001b[0m\u001b[1;33m)\u001b[0m\u001b[1;33m,\u001b[0m \u001b[0mid\u001b[0m\u001b[1;33m(\u001b[0m\u001b[0mdict1\u001b[0m\u001b[1;33m)\u001b[0m\u001b[1;33m)\u001b[0m\u001b[1;33m\u001b[0m\u001b[1;33m\u001b[0m\u001b[0m\n\u001b[0m",
      "\u001b[1;31mNameError\u001b[0m: name 'dict1' is not defined"
     ]
    }
   ],
   "source": [
    "dict1 = {\"apple\":\"red\", \"pineapple\":\"yellow\", \"mango\":\"green\", \"orange\":\"orange\"}\n",
    "print (dict1, len(dict1), type(dict1), id(dict1))\n",
    "del dict1\n",
    "print (dict1, len(dict1), type(dict1), id(dict1))"
   ]
  },
  {
   "cell_type": "code",
   "execution_count": 246,
   "id": "101360e3-8541-4f10-b556-8777cf289e5c",
   "metadata": {},
   "outputs": [
    {
     "name": "stdout",
     "output_type": "stream",
     "text": [
      "{'apple': 'red', 'pineapple': 'yellow', 'mango': 'green', 'orange': 'orange'} 4 <class 'dict'> 2239122830656\n",
      "yellow\n",
      "{'apple': 'red', 'mango': 'green', 'orange': 'orange'} 3 <class 'dict'> 2239122830656\n",
      "red\n",
      "{'mango': 'green', 'orange': 'orange'} 2 <class 'dict'> 2239122830656\n",
      "orange\n",
      "{'mango': 'green'} 1 <class 'dict'> 2239122830656\n"
     ]
    }
   ],
   "source": [
    "dict1 = {\"apple\":\"red\", \"pineapple\":\"yellow\", \"mango\":\"green\", \"orange\":\"orange\"}\n",
    "print (dict1, len(dict1), type(dict1), id(dict1))\n",
    "print (dict1.pop('pineapple'))\n",
    "print (dict1, len(dict1), type(dict1), id(dict1))\n",
    "print (dict1.pop('apple'))\n",
    "print (dict1, len(dict1), type(dict1), id(dict1))\n",
    "print (dict1.pop('orange'))\n",
    "print (dict1, len(dict1), type(dict1), id(dict1))"
   ]
  },
  {
   "cell_type": "code",
   "execution_count": 250,
   "id": "fafc52ad-d504-4aec-9632-c458af84c865",
   "metadata": {},
   "outputs": [
    {
     "name": "stdout",
     "output_type": "stream",
     "text": [
      "{'apple': 'red', 'pineapple': 'yellow', 'mango': 'green', 'orange': 'orange'} 4 <class 'dict'> 2239119304320\n",
      "('orange', 'orange')\n",
      "{'apple': 'red', 'pineapple': 'yellow', 'mango': 'green'} 3 <class 'dict'> 2239119304320\n",
      "('mango', 'green')\n",
      "{'apple': 'red', 'pineapple': 'yellow'} 2 <class 'dict'> 2239119304320\n",
      "('pineapple', 'yellow')\n",
      "{'apple': 'red'} 1 <class 'dict'> 2239119304320\n"
     ]
    }
   ],
   "source": [
    "dict1 = {\"apple\":\"red\", \"pineapple\":\"yellow\", \"mango\":\"green\", \"orange\":\"orange\"}\n",
    "print (dict1, len(dict1), type(dict1), id(dict1))\n",
    "print (dict1.popitem())\n",
    "print (dict1, len(dict1), type(dict1), id(dict1))\n",
    "print (dict1.popitem())\n",
    "print (dict1, len(dict1), type(dict1), id(dict1))\n",
    "print (dict1.popitem())\n",
    "print (dict1, len(dict1), type(dict1), id(dict1))"
   ]
  },
  {
   "cell_type": "code",
   "execution_count": 252,
   "id": "6ffbb483-fd8b-4e2a-9f14-3581122f27dc",
   "metadata": {},
   "outputs": [
    {
     "name": "stdout",
     "output_type": "stream",
     "text": [
      "{'apple': 'red', 'pineapple': 'yellow'} 2 <class 'dict'> 2239119588288\n",
      "{'mango': 'green', 'orange': 'orange', 'lime': 'green'} 3 <class 'dict'> 2239123266816\n",
      "{'apple': 'red', 'pineapple': 'yellow', 'mango': 'green', 'orange': 'orange', 'lime': 'green'} 5 <class 'dict'> 2239119588288\n",
      "{'mango': 'green', 'orange': 'orange', 'lime': 'green'} 3 <class 'dict'> 2239123266816\n"
     ]
    }
   ],
   "source": [
    "# concatenation of dictionaries\n",
    "fruits1 = {\"apple\":\"red\", \"pineapple\":\"yellow\"}\n",
    "print (fruits1, len(fruits1), type(fruits1), id(fruits1))\n",
    "fruits2 = {\"mango\":\"green\", \"orange\":\"orange\", \"lime\":\"green\"}\n",
    "print (fruits2, len(fruits2), type(fruits2), id(fruits2))\n",
    "fruits1.update(fruits2)\n",
    "print (fruits1, len(fruits1), type(fruits1), id(fruits1))\n",
    "print (fruits2, len(fruits2), type(fruits2), id(fruits2))"
   ]
  },
  {
   "cell_type": "code",
   "execution_count": 253,
   "id": "eb3a6e28-e792-4ac4-b159-497dcbe4a7b9",
   "metadata": {},
   "outputs": [
    {
     "name": "stdout",
     "output_type": "stream",
     "text": [
      "{'apple': 'red', 'pineapple': 'yellow', 'mango': 'green', 'orange': 'orange'} 4 <class 'dict'> 2239118163776\n",
      "{'apple': 'red', 'pineapple': 'yellow', 'mango': 'green', 'orange': 'orange'} 4 <class 'dict'> 2239118163776\n",
      "{'apple': 'red', 'pineapple': 'yellow', 'mango': 'green', 'orange': 'orange'} 4 <class 'dict'> 2239118163776\n",
      "{'apple': 'red', 'pineapple': 'yellow', 'mango': 'green', 'orange': 'orange', 'banana': 'yellow'} 5 <class 'dict'> 2239118163776\n"
     ]
    }
   ],
   "source": [
    "dict1 = {\"apple\":\"red\", \"pineapple\":\"yellow\", \"mango\":\"green\", \"orange\":\"orange\"}\n",
    "print (dict1, len(dict1), type(dict1), id(dict1))\n",
    "dict1.setdefault(\"apple\", \"deep red\")\n",
    "print (dict1, len(dict1), type(dict1), id(dict1))\n",
    "dict1.setdefault(\"mango\", \"red\")\n",
    "print (dict1, len(dict1), type(dict1), id(dict1))\n",
    "dict1.setdefault(\"banana\", \"yellow\")\n",
    "print (dict1, len(dict1), type(dict1), id(dict1))"
   ]
  },
  {
   "cell_type": "code",
   "execution_count": 254,
   "id": "e0eef5ed-9a93-4daf-932b-f74ed195a5dc",
   "metadata": {},
   "outputs": [
    {
     "name": "stdout",
     "output_type": "stream",
     "text": [
      "{'mango': 900, 'pineapple': 900, 'cherry': 900, 'lime': 900} 4 <class 'dict'> 2239116631232\n"
     ]
    }
   ],
   "source": [
    "mykeys = [\"mango\", 'pineapple', \"cherry\", \"lime\"]\n",
    "price = 900\n",
    "dict1 = dict.fromkeys(mykeys, price)\n",
    "print (dict1, len(dict1), type(dict1), id(dict1))"
   ]
  },
  {
   "cell_type": "code",
   "execution_count": 263,
   "id": "6d9f1291-6bee-405d-87fc-41e7897d88e8",
   "metadata": {},
   "outputs": [
    {
     "name": "stdout",
     "output_type": "stream",
     "text": [
      "<zip object at 0x00000209562C2D40>\n",
      "[('mango', 100), ('pineapple', 300), ('cherry', 500), ('lime', 200), ('banana', 700)]\n",
      "(('mango', 100), ('pineapple', 300), ('cherry', 500), ('lime', 200), ('banana', 700))\n",
      "{'mango': 100, 'pineapple': 300, 'cherry': 500, 'lime': 200, 'banana': 700}\n",
      "{'mango': 100, 'pineapple': 300, 'cherry': 500, 'lime': 200, 'banana': 700}\n",
      "{'mango': 100, 'pineapple': 300, 'cherry': 500, 'lime': 200, 'banana': 700}\n"
     ]
    }
   ],
   "source": [
    "fruits = [\"mango\", 'pineapple', \"cherry\", \"lime\", \"banana\"]\n",
    "prices = [100, 300, 500, 200, 700, 900]\n",
    "print (zip(fruits, prices))\n",
    "print (list(zip(fruits, prices)))\n",
    "print (tuple(zip(fruits, prices)))\n",
    "print (dict(zip(fruits, prices)))\n",
    "print (dict(list(zip(fruits, prices))))\n",
    "print (dict(tuple(zip(fruits, prices))))"
   ]
  },
  {
   "cell_type": "code",
   "execution_count": 264,
   "id": "6bf1316b-953b-4fb6-b8fc-813edee2a388",
   "metadata": {},
   "outputs": [
    {
     "name": "stdout",
     "output_type": "stream",
     "text": [
      "March\n",
      "May\n",
      "October\n",
      "Invalid Month No.\n"
     ]
    }
   ],
   "source": [
    "def switch_case_demo(month_no):\n",
    "    switcher = {1:\"January\",\n",
    "                2:\"February\",\n",
    "                3:\"March\",\n",
    "                4:\"April\",\n",
    "                5:\"May\",\n",
    "                6:\"June\",\n",
    "                7:\"July\",\n",
    "                8:\"August\",\n",
    "                9:\"September\",\n",
    "               10:\"October\",\n",
    "               11:\"November\",\n",
    "               12:\"December\"}\n",
    "    return switcher.get(month_no, \"Invalid Month No.\")\n",
    "\n",
    "print (switch_case_demo(3))\n",
    "print (switch_case_demo(5))\n",
    "print (switch_case_demo(10))\n",
    "print (switch_case_demo(13))"
   ]
  },
  {
   "cell_type": "code",
   "execution_count": 266,
   "id": "0cdd058f-77f2-477f-aa16-32662d42fcb3",
   "metadata": {},
   "outputs": [
    {
     "name": "stdout",
     "output_type": "stream",
     "text": [
      "{'apple': 'red', 'pineapple': 'yellow', 'mango': 'green', 'orange': 'orange'} 4 <class 'dict'> 2239120529664\n",
      "{'apple': 'red', 'pineapple': 'yellow', 'mango': 'green', 'orange': 'orange'} 4 <class 'dict'> 2239122265216\n",
      "{'apple': 'red', 'pineapple': 'yellow', 'mango': 'red', 'orange': 'orange'} 4 <class 'dict'> 2239120529664\n",
      "{'apple': 'red', 'pineapple': 'yellow', 'mango': 'green', 'orange': 'orange'} 4 <class 'dict'> 2239122265216\n"
     ]
    }
   ],
   "source": [
    "dict1 = {\"apple\":\"red\", \"pineapple\":\"yellow\", \"mango\":\"green\", \"orange\":\"orange\"}\n",
    "print (dict1, len(dict1), type(dict1), id(dict1))\n",
    "dict2 = dict1.copy()\n",
    "print (dict2, len(dict2), type(dict2), id(dict2))\n",
    "dict1['mango'] = \"red\"\n",
    "print (dict1, len(dict1), type(dict1), id(dict1))\n",
    "print (dict2, len(dict2), type(dict2), id(dict2))"
   ]
  },
  {
   "cell_type": "code",
   "execution_count": null,
   "id": "7b95b11b-bffe-4e9c-8ba1-1c9830f62bf1",
   "metadata": {},
   "outputs": [],
   "source": []
  },
  {
   "cell_type": "markdown",
   "id": "d9658f02-c324-4f0c-a859-d2107b0996c0",
   "metadata": {},
   "source": [
    "### Set Processing"
   ]
  },
  {
   "cell_type": "code",
   "execution_count": 271,
   "id": "0007fa82-eb48-494c-a9bd-e5543d8e3cb5",
   "metadata": {},
   "outputs": [
    {
     "name": "stdout",
     "output_type": "stream",
     "text": [
      "['Amitava', True, 38.5, 70000, 'Chennai', True, 38.5, 70000, 'Chennai', True, 38.5, 70000, 'Chennai', True, 38.5] 15 <class 'list'> 2239111451520\n",
      "{True, 38.5, 'Chennai', 70000, 'Amitava'} 5 <class 'set'> 2239119469696\n",
      "('Amitava', True, 38.5, 70000, 'Chennai', True, 38.5, 70000, 'Chennai', True, 38.5, 70000, 'Chennai', True, 38.5) 15 <class 'tuple'> 2239115870272\n",
      "{True, 38.5, 'Chennai', 70000, 'Amitava'} 5 <class 'set'> 2239119467232\n",
      "{True, 38.5, 'Chennai', 70000, 'Amitava'} 5 <class 'set'> 2239119469696\n"
     ]
    }
   ],
   "source": [
    "# forming a set from a list\n",
    "list1 = ['Amitava', True, 38.5, 70000, \"Chennai\", True, 38.5, 70000, \"Chennai\", True, 38.5, 70000, \"Chennai\", True, 38.5]\n",
    "print (list1, len(list1), type(list1), id(list1))\n",
    "set1 = set(list1)\n",
    "print (set1, len(set1), type(set1), id(set1))\n",
    "\n",
    "# forming a set from a tuple\n",
    "tuple1 = ('Amitava', True, 38.5, 70000, \"Chennai\", True, 38.5, 70000, \"Chennai\", True, 38.5, 70000, \"Chennai\", True, 38.5)\n",
    "print (tuple1, len(tuple1), type(tuple1), id(tuple1))\n",
    "set1 = set(tuple1)\n",
    "print (set1, len(set1), type(set1), id(set1))\n",
    "\n",
    "# forming a set directly\n",
    "set1 = {'Amitava', True, 38.5, 70000, \"Chennai\", True, 38.5, 70000, \"Chennai\", True, 38.5, 70000, \"Chennai\", True, 38.5}\n",
    "print (set1, len(set1), type(set1), id(set1))"
   ]
  },
  {
   "attachments": {
    "SetOperations.png": {
     "image/png": "[encoded data removed]"
    }
   },
   "cell_type": "markdown",
   "id": "7c5db6c4",
   "metadata": {},
   "source": [
    "![SetOperations.png](attachment:SetOperations.png)"
   ]
  },
  {
   "cell_type": "code",
   "execution_count": 278,
   "id": "08815f2c-f24a-42c4-93ad-89aadbecf95f",
   "metadata": {},
   "outputs": [
    {
     "name": "stdout",
     "output_type": "stream",
     "text": [
      "{'python', 'cobra', 'viper'} 3 <class 'set'> 2239115017344\n",
      "{'python', 'c++', 'java'} 3 <class 'set'> 2239115015776\n",
      "{'python', 'cobra', 'c++', 'viper', 'java'} 5 <class 'set'> 2239115014880\n",
      "{'python', 'cobra', 'c++', 'viper', 'java'} 5 <class 'set'> 2239115014432\n",
      "\n",
      "{'python', 'cobra', 'viper'} 3 <class 'set'> 2239115017344\n",
      "{'python', 'c++', 'java'} 3 <class 'set'> 2239115015776\n"
     ]
    }
   ],
   "source": [
    "# set operations: union\n",
    "snakes = {'viper', 'python', 'cobra'}\n",
    "print (snakes, len(snakes), type(snakes), id(snakes))\n",
    "languages = {'java', 'c++', 'python'}\n",
    "print (languages, len(languages), type(languages), id(languages))\n",
    "result = snakes.union(languages)\n",
    "print (result, len(result), type(result), id(result))\n",
    "result = snakes | languages\n",
    "print (result, len(result), type(result), id(result))\n",
    "print ()\n",
    "print (snakes, len(snakes), type(snakes), id(snakes))\n",
    "print (languages, len(languages), type(languages), id(languages))"
   ]
  },
  {
   "cell_type": "code",
   "execution_count": 283,
   "id": "b1a898c5-3a3c-4a9f-ab58-b576499d2dd8",
   "metadata": {},
   "outputs": [
    {
     "name": "stdout",
     "output_type": "stream",
     "text": [
      "{'python', 'cobra', 'viper'} 3 <class 'set'> 2239126038560\n",
      "{'python', 'c++', 'java'} 3 <class 'set'> 2239126037216\n",
      "{'python'} 1 <class 'set'> 2239126039456\n",
      "{'python'} 1 <class 'set'> 2239126037440\n",
      "\n",
      "{'python', 'cobra', 'viper'} 3 <class 'set'> 2239126038560\n",
      "{'python', 'c++', 'java'} 3 <class 'set'> 2239126037216\n",
      "\n",
      "{'python'} 1 <class 'set'> 2239126038560\n",
      "{'python', 'c++', 'java'} 3 <class 'set'> 2239126037216\n"
     ]
    }
   ],
   "source": [
    "# set operations: intersection\n",
    "snakes = {'viper', 'python', 'cobra'}\n",
    "print (snakes, len(snakes), type(snakes), id(snakes))\n",
    "languages = {'java', 'c++', 'python'}\n",
    "print (languages, len(languages), type(languages), id(languages))\n",
    "result = snakes.intersection(languages)\n",
    "print (result, len(result), type(result), id(result))\n",
    "result = snakes & languages\n",
    "print (result, len(result), type(result), id(result))\n",
    "print ()\n",
    "print (snakes, len(snakes), type(snakes), id(snakes))\n",
    "print (languages, len(languages), type(languages), id(languages))\n",
    "snakes.intersection_update(languages)\n",
    "print ()\n",
    "print (snakes, len(snakes), type(snakes), id(snakes))\n",
    "print (languages, len(languages), type(languages), id(languages))"
   ]
  },
  {
   "cell_type": "code",
   "execution_count": 287,
   "id": "399428a3-778f-495e-b38e-ec839cd87140",
   "metadata": {},
   "outputs": [
    {
     "name": "stdout",
     "output_type": "stream",
     "text": [
      "{'python', 'cobra', 'viper'} 3 <class 'set'> 2239125015456\n",
      "{'python', 'c++', 'java'} 3 <class 'set'> 2239125016352\n",
      "{'cobra', 'viper'} 2 <class 'set'> 2239125014560\n",
      "{'cobra', 'viper'} 2 <class 'set'> 2239124996832\n",
      "\n",
      "{'python', 'cobra', 'viper'} 3 <class 'set'> 2239125015456\n",
      "{'python', 'c++', 'java'} 3 <class 'set'> 2239125016352\n",
      "\n",
      "{'cobra', 'viper'} 2 <class 'set'> 2239125015456\n",
      "{'python', 'c++', 'java'} 3 <class 'set'> 2239125016352\n"
     ]
    }
   ],
   "source": [
    "# set operations: difference\n",
    "snakes = {'viper', 'python', 'cobra'}\n",
    "print (snakes, len(snakes), type(snakes), id(snakes))\n",
    "languages = {'java', 'c++', 'python'}\n",
    "print (languages, len(languages), type(languages), id(languages))\n",
    "result = snakes.difference(languages)\n",
    "print (result, len(result), type(result), id(result))\n",
    "result = snakes - languages\n",
    "print (result, len(result), type(result), id(result))\n",
    "print ()\n",
    "print (snakes, len(snakes), type(snakes), id(snakes))\n",
    "print (languages, len(languages), type(languages), id(languages))\n",
    "snakes.difference_update(languages)\n",
    "print ()\n",
    "print (snakes, len(snakes), type(snakes), id(snakes))\n",
    "print (languages, len(languages), type(languages), id(languages))"
   ]
  },
  {
   "cell_type": "code",
   "execution_count": 290,
   "id": "6942bd14-53f8-495e-aa12-8f77b2c8eb17",
   "metadata": {},
   "outputs": [
    {
     "name": "stdout",
     "output_type": "stream",
     "text": [
      "{'python', 'cobra', 'viper'} 3 <class 'set'> 2239125606176\n",
      "{'python', 'c++', 'java'} 3 <class 'set'> 2239125604832\n",
      "{'java', 'cobra', 'c++', 'viper'} 4 <class 'set'> 2239125603264\n",
      "{'java', 'cobra', 'c++', 'viper'} 4 <class 'set'> 2239125604384\n",
      "\n",
      "{'python', 'cobra', 'viper'} 3 <class 'set'> 2239125606176\n",
      "{'python', 'c++', 'java'} 3 <class 'set'> 2239125604832\n",
      "\n",
      "{'java', 'cobra', 'c++', 'viper'} 4 <class 'set'> 2239125606176\n",
      "{'python', 'c++', 'java'} 3 <class 'set'> 2239125604832\n"
     ]
    }
   ],
   "source": [
    "# set operations: symmetric difference\n",
    "snakes = {'viper', 'python', 'cobra'}\n",
    "print (snakes, len(snakes), type(snakes), id(snakes))\n",
    "languages = {'java', 'c++', 'python'}\n",
    "print (languages, len(languages), type(languages), id(languages))\n",
    "result = snakes.symmetric_difference(languages)\n",
    "print (result, len(result), type(result), id(result))\n",
    "result = snakes ^ languages\n",
    "print (result, len(result), type(result), id(result))\n",
    "print ()\n",
    "print (snakes, len(snakes), type(snakes), id(snakes))\n",
    "print (languages, len(languages), type(languages), id(languages))\n",
    "snakes.symmetric_difference_update(languages)\n",
    "print ()\n",
    "print (snakes, len(snakes), type(snakes), id(snakes))\n",
    "print (languages, len(languages), type(languages), id(languages))"
   ]
  },
  {
   "cell_type": "code",
   "execution_count": 300,
   "id": "cfc08f48-6565-4153-a4b4-12903f883507",
   "metadata": {},
   "outputs": [
    {
     "name": "stdout",
     "output_type": "stream",
     "text": [
      "{200, 100, 300} 3 <class 'set'> 2239118523520\n",
      "{800, 400, 500, 600, 700} 5 <class 'set'> 2239118377248\n",
      "{600, 800, 700} 3 <class 'set'> 2239118380608\n",
      "False True False\n",
      "False False True\n",
      "True False False\n"
     ]
    }
   ],
   "source": [
    "set1 = {100, 200, 300}\n",
    "set2 = {400, 500, 600, 700, 800}\n",
    "set3 = {600, 700, 800}\n",
    "print (set1, len(set1), type(set1), id(set1))\n",
    "print (set2, len(set2), type(set2), id(set2))\n",
    "print (set3, len(set3), type(set3), id(set3))\n",
    "print (set1.issuperset(set2), set2.issuperset(set3), set3.issuperset(set2))\n",
    "print (set1.issubset(set2), set2.issubset(set3), set3.issubset(set2))\n",
    "print (set1.isdisjoint(set2), set2.isdisjoint(set3), set3.isdisjoint(set2))"
   ]
  },
  {
   "cell_type": "code",
   "execution_count": 303,
   "id": "e73f9364-14c5-4f1d-af6e-0606bd557f9b",
   "metadata": {},
   "outputs": [
    {
     "name": "stdout",
     "output_type": "stream",
     "text": [
      "{200, 100, 300} 3 <class 'set'> 2239122871232\n",
      "{200, 100, 300} 3 <class 'set'> 2239121320416\n"
     ]
    }
   ],
   "source": [
    "set1 = {100, 200, 300}\n",
    "set2 = set1.copy()\n",
    "\n",
    "print (set1, len(set1), type(set1), id(set1))\n",
    "print (set2, len(set2), type(set2), id(set2))"
   ]
  },
  {
   "cell_type": "code",
   "execution_count": 305,
   "id": "fc3b344a-967f-441d-8bb8-704dcd500673",
   "metadata": {},
   "outputs": [
    {
     "name": "stdout",
     "output_type": "stream",
     "text": [
      "{200, 100, 300} 3 <class 'set'> 2239121318848\n",
      "{200, 100, 400, 300} 4 <class 'set'> 2239121318848\n",
      "{100, 200, 300, 400, 500} 5 <class 'set'> 2239121318848\n",
      "{100, 200, 300, 400, 500, 600} 6 <class 'set'> 2239121318848\n",
      "{100, 200, 300, 400, 500, 600} 6 <class 'set'> 2239121318848\n",
      "{100, 200, 300, 400, 500, 600, 700} 7 <class 'set'> 2239121318848\n"
     ]
    }
   ],
   "source": [
    "# insert operation on a set\n",
    "set1 = {100, 200, 300}\n",
    "print (set1, len(set1), type(set1), id(set1))\n",
    "set1.add(400)\n",
    "print (set1, len(set1), type(set1), id(set1))\n",
    "set1.add(500)\n",
    "print (set1, len(set1), type(set1), id(set1))\n",
    "set1.add(600)\n",
    "print (set1, len(set1), type(set1), id(set1))\n",
    "set1.add(400)\n",
    "print (set1, len(set1), type(set1), id(set1))\n",
    "set1.add(700)\n",
    "print (set1, len(set1), type(set1), id(set1))"
   ]
  },
  {
   "cell_type": "code",
   "execution_count": 308,
   "id": "8a5fa6cd-4e16-4423-8894-2d6852233223",
   "metadata": {},
   "outputs": [
    {
     "name": "stdout",
     "output_type": "stream",
     "text": [
      "{100, 200, 300, 400, 500, 600, 700} 7 <class 'set'> 2239121320864\n",
      "{100, 200, 400, 500, 600, 700} 6 <class 'set'> 2239121320864\n",
      "{100, 200, 400, 500, 600} 5 <class 'set'> 2239121320864\n",
      "{100, 200, 400, 600} 4 <class 'set'> 2239121320864\n"
     ]
    },
    {
     "ename": "KeyError",
     "evalue": "300",
     "output_type": "error",
     "traceback": [
      "\u001b[1;31m---------------------------------------------------------------------------\u001b[0m",
      "\u001b[1;31mKeyError\u001b[0m                                  Traceback (most recent call last)",
      "\u001b[1;32m<ipython-input-308-1f01e4065b05>\u001b[0m in \u001b[0;36m<module>\u001b[1;34m\u001b[0m\n\u001b[0;32m      8\u001b[0m \u001b[0mset1\u001b[0m\u001b[1;33m.\u001b[0m\u001b[0mremove\u001b[0m\u001b[1;33m(\u001b[0m\u001b[1;36m500\u001b[0m\u001b[1;33m)\u001b[0m\u001b[1;33m\u001b[0m\u001b[1;33m\u001b[0m\u001b[0m\n\u001b[0;32m      9\u001b[0m \u001b[0mprint\u001b[0m \u001b[1;33m(\u001b[0m\u001b[0mset1\u001b[0m\u001b[1;33m,\u001b[0m \u001b[0mlen\u001b[0m\u001b[1;33m(\u001b[0m\u001b[0mset1\u001b[0m\u001b[1;33m)\u001b[0m\u001b[1;33m,\u001b[0m \u001b[0mtype\u001b[0m\u001b[1;33m(\u001b[0m\u001b[0mset1\u001b[0m\u001b[1;33m)\u001b[0m\u001b[1;33m,\u001b[0m \u001b[0mid\u001b[0m\u001b[1;33m(\u001b[0m\u001b[0mset1\u001b[0m\u001b[1;33m)\u001b[0m\u001b[1;33m)\u001b[0m\u001b[1;33m\u001b[0m\u001b[1;33m\u001b[0m\u001b[0m\n\u001b[1;32m---> 10\u001b[1;33m \u001b[0mset1\u001b[0m\u001b[1;33m.\u001b[0m\u001b[0mremove\u001b[0m\u001b[1;33m(\u001b[0m\u001b[1;36m300\u001b[0m\u001b[1;33m)\u001b[0m\u001b[1;33m\u001b[0m\u001b[1;33m\u001b[0m\u001b[0m\n\u001b[0m\u001b[0;32m     11\u001b[0m \u001b[0mprint\u001b[0m \u001b[1;33m(\u001b[0m\u001b[0mset1\u001b[0m\u001b[1;33m,\u001b[0m \u001b[0mlen\u001b[0m\u001b[1;33m(\u001b[0m\u001b[0mset1\u001b[0m\u001b[1;33m)\u001b[0m\u001b[1;33m,\u001b[0m \u001b[0mtype\u001b[0m\u001b[1;33m(\u001b[0m\u001b[0mset1\u001b[0m\u001b[1;33m)\u001b[0m\u001b[1;33m,\u001b[0m \u001b[0mid\u001b[0m\u001b[1;33m(\u001b[0m\u001b[0mset1\u001b[0m\u001b[1;33m)\u001b[0m\u001b[1;33m)\u001b[0m\u001b[1;33m\u001b[0m\u001b[1;33m\u001b[0m\u001b[0m\n",
      "\u001b[1;31mKeyError\u001b[0m: 300"
     ]
    }
   ],
   "source": [
    "# delete operation on a set\n",
    "set1 = {100, 200, 300, 600, 700, 500, 400}\n",
    "print (set1, len(set1), type(set1), id(set1))\n",
    "set1.remove(300)\n",
    "print (set1, len(set1), type(set1), id(set1))\n",
    "set1.remove(700)\n",
    "print (set1, len(set1), type(set1), id(set1))\n",
    "set1.remove(500)\n",
    "print (set1, len(set1), type(set1), id(set1))\n",
    "set1.remove(300)\n",
    "print (set1, len(set1), type(set1), id(set1))"
   ]
  },
  {
   "cell_type": "code",
   "execution_count": 313,
   "id": "cd0fca51-2f8f-4336-b411-cd2d161504d3",
   "metadata": {},
   "outputs": [
    {
     "name": "stdout",
     "output_type": "stream",
     "text": [
      "{100, 200, 300, 400, 500, 600, 700} 7 <class 'set'> 2239120686432\n",
      "{100, 200, 400, 500, 600, 700} 6 <class 'set'> 2239120686432\n",
      "{100, 200, 400, 500, 600} 5 <class 'set'> 2239120686432\n",
      "{100, 200, 400, 600} 4 <class 'set'> 2239120686432\n",
      "{100, 200, 400, 600} 4 <class 'set'> 2239120686432\n"
     ]
    }
   ],
   "source": [
    "# delete operation on a set\n",
    "set1 = {100, 200, 300, 600, 700, 500, 400}\n",
    "print (set1, len(set1), type(set1), id(set1))\n",
    "set1.discard(300)\n",
    "print (set1, len(set1), type(set1), id(set1))\n",
    "set1.discard(700)\n",
    "print (set1, len(set1), type(set1), id(set1))\n",
    "set1.discard(500)\n",
    "print (set1, len(set1), type(set1), id(set1))\n",
    "set1.discard(300)\n",
    "print (set1, len(set1), type(set1), id(set1))\n",
    "set1."
   ]
  },
  {
   "cell_type": "code",
   "execution_count": 315,
   "id": "bd24efe4-5f0c-4756-927f-d1686053e53c",
   "metadata": {},
   "outputs": [
    {
     "name": "stdout",
     "output_type": "stream",
     "text": [
      "{100, 200, 300, 400, 500, 600, 700} 7 <class 'set'> 2239114531328\n",
      "100\n",
      "{200, 300, 400, 500, 600, 700} 6 <class 'set'> 2239114531328\n",
      "200\n",
      "{300, 400, 500, 600, 700} 5 <class 'set'> 2239114531328\n",
      "300\n",
      "{400, 500, 600, 700} 4 <class 'set'> 2239114531328\n",
      "400\n",
      "{500, 600, 700} 3 <class 'set'> 2239114531328\n"
     ]
    }
   ],
   "source": [
    "# delete operation on a set\n",
    "set1 = {100, 200, 300, 600, 700, 500, 400}\n",
    "print (set1, len(set1), type(set1), id(set1))\n",
    "print (set1.pop())\n",
    "print (set1, len(set1), type(set1), id(set1))\n",
    "print (set1.pop())\n",
    "print (set1, len(set1), type(set1), id(set1))\n",
    "print (set1.pop())\n",
    "print (set1, len(set1), type(set1), id(set1))\n",
    "print (set1.pop())\n",
    "print (set1, len(set1), type(set1), id(set1))"
   ]
  },
  {
   "cell_type": "code",
   "execution_count": 309,
   "id": "98439b61-fe4e-471f-8f49-863a0f476077",
   "metadata": {},
   "outputs": [
    {
     "name": "stdout",
     "output_type": "stream",
     "text": [
      "{100, 200, 300, 400, 500, 600, 700} 7 <class 'set'> 2239121695680\n",
      "set() 0 <class 'set'> 2239121695680\n"
     ]
    }
   ],
   "source": [
    "set1 = {100, 200, 300, 600, 700, 500, 400}\n",
    "print (set1, len(set1), type(set1), id(set1))\n",
    "set1.clear()\n",
    "print (set1, len(set1), type(set1), id(set1))"
   ]
  },
  {
   "cell_type": "code",
   "execution_count": 310,
   "id": "1e3148c1-7476-4bb1-a83c-727cd35e80aa",
   "metadata": {},
   "outputs": [
    {
     "name": "stdout",
     "output_type": "stream",
     "text": [
      "{100, 200, 300, 400, 500, 600, 700} 7 <class 'set'> 2239121697024\n"
     ]
    },
    {
     "ename": "NameError",
     "evalue": "name 'set1' is not defined",
     "output_type": "error",
     "traceback": [
      "\u001b[1;31m---------------------------------------------------------------------------\u001b[0m",
      "\u001b[1;31mNameError\u001b[0m                                 Traceback (most recent call last)",
      "\u001b[1;32m<ipython-input-310-732f604b3e79>\u001b[0m in \u001b[0;36m<module>\u001b[1;34m\u001b[0m\n\u001b[0;32m      2\u001b[0m \u001b[0mprint\u001b[0m \u001b[1;33m(\u001b[0m\u001b[0mset1\u001b[0m\u001b[1;33m,\u001b[0m \u001b[0mlen\u001b[0m\u001b[1;33m(\u001b[0m\u001b[0mset1\u001b[0m\u001b[1;33m)\u001b[0m\u001b[1;33m,\u001b[0m \u001b[0mtype\u001b[0m\u001b[1;33m(\u001b[0m\u001b[0mset1\u001b[0m\u001b[1;33m)\u001b[0m\u001b[1;33m,\u001b[0m \u001b[0mid\u001b[0m\u001b[1;33m(\u001b[0m\u001b[0mset1\u001b[0m\u001b[1;33m)\u001b[0m\u001b[1;33m)\u001b[0m\u001b[1;33m\u001b[0m\u001b[1;33m\u001b[0m\u001b[0m\n\u001b[0;32m      3\u001b[0m \u001b[1;32mdel\u001b[0m \u001b[0mset1\u001b[0m\u001b[1;33m\u001b[0m\u001b[1;33m\u001b[0m\u001b[0m\n\u001b[1;32m----> 4\u001b[1;33m \u001b[0mprint\u001b[0m \u001b[1;33m(\u001b[0m\u001b[0mset1\u001b[0m\u001b[1;33m,\u001b[0m \u001b[0mlen\u001b[0m\u001b[1;33m(\u001b[0m\u001b[0mset1\u001b[0m\u001b[1;33m)\u001b[0m\u001b[1;33m,\u001b[0m \u001b[0mtype\u001b[0m\u001b[1;33m(\u001b[0m\u001b[0mset1\u001b[0m\u001b[1;33m)\u001b[0m\u001b[1;33m,\u001b[0m \u001b[0mid\u001b[0m\u001b[1;33m(\u001b[0m\u001b[0mset1\u001b[0m\u001b[1;33m)\u001b[0m\u001b[1;33m)\u001b[0m\u001b[1;33m\u001b[0m\u001b[1;33m\u001b[0m\u001b[0m\n\u001b[0m",
      "\u001b[1;31mNameError\u001b[0m: name 'set1' is not defined"
     ]
    }
   ],
   "source": [
    "set1 = {100, 200, 300, 600, 700, 500, 400}\n",
    "print (set1, len(set1), type(set1), id(set1))\n",
    "del set1\n",
    "print (set1, len(set1), type(set1), id(set1))"
   ]
  },
  {
   "cell_type": "code",
   "execution_count": 312,
   "id": "e046a055-f97b-456c-9c4a-15099bd77f2c",
   "metadata": {},
   "outputs": [
    {
     "name": "stdout",
     "output_type": "stream",
     "text": [
      "{100, 200, 300, 400, 500, 600, 700} 7 <class 'set'> 2239121696128\n",
      "{100, 200, 300, 400, 500, 700} 6 <class 'set'> 2239121696128\n",
      "{1600, 100, 200, 300, 400, 500, 700} 7 <class 'set'> 2239121696128\n"
     ]
    }
   ],
   "source": [
    "# update operation on a set\n",
    "set1 = {100, 200, 300, 600, 700, 500, 400}\n",
    "print (set1, len(set1), type(set1), id(set1))\n",
    "set1.remove(600)   # deleting the item\n",
    "print (set1, len(set1), type(set1), id(set1))\n",
    "set1.add(1600)   # inserting the item\n",
    "print (set1, len(set1), type(set1), id(set1))"
   ]
  },
  {
   "cell_type": "code",
   "execution_count": 319,
   "id": "419fe449-4242-4d95-860b-69fb11933f03",
   "metadata": {},
   "outputs": [
    {
     "name": "stdout",
     "output_type": "stream",
     "text": [
      "{200, 100, 300} 3 <class 'set'> 2239126119360\n",
      "{300, 400, 500, 600, 700} 5 <class 'set'> 2239119814208\n",
      "{100, 200, 300, 400, 500, 600, 700} 7 <class 'set'> 2239126119360\n",
      "{300, 400, 500, 600, 700} 5 <class 'set'> 2239119814208\n"
     ]
    }
   ],
   "source": [
    "# concatenating two sets\n",
    "set1 = {100, 200, 300}\n",
    "print (set1, len(set1), type(set1), id(set1))\n",
    "set2 = {300, 600, 700, 500, 400}\n",
    "print (set2, len(set2), type(set2), id(set2))\n",
    "set1.update(set2)\n",
    "print (set1, len(set1), type(set1), id(set1))\n",
    "print (set2, len(set2), type(set2), id(set2))"
   ]
  },
  {
   "cell_type": "code",
   "execution_count": null,
   "id": "92f9ef2f-9747-4d6d-998b-1af96260d158",
   "metadata": {},
   "outputs": [],
   "source": []
  },
  {
   "cell_type": "markdown",
   "id": "95a9a68c-83b6-44f1-99dc-68f8b735f91d",
   "metadata": {},
   "source": [
    "### Frozen-Set Processing"
   ]
  },
  {
   "cell_type": "code",
   "execution_count": 273,
   "id": "f66811db-894a-4626-a3f6-61279e59ebe7",
   "metadata": {},
   "outputs": [
    {
     "name": "stdout",
     "output_type": "stream",
     "text": [
      "['Amitava', True, 38.5, 70000, 'Chennai', True, 38.5, 70000, 'Chennai', True, 38.5, 70000, 'Chennai', True, 38.5] 15 <class 'list'> 2239113091328\n",
      "frozenset({True, 38.5, 'Chennai', 70000, 'Amitava'}) 5 <class 'frozenset'> 2239116385632\n",
      "('Amitava', True, 38.5, 70000, 'Chennai', True, 38.5, 70000, 'Chennai', True, 38.5, 70000, 'Chennai', True, 38.5) 15 <class 'tuple'> 2239115870752\n",
      "frozenset({True, 38.5, 'Chennai', 70000, 'Amitava'}) 5 <class 'frozenset'> 2239116382720\n",
      "frozenset({70000, True, 38.5, 'Amitava', 'Chennai'}) 5 <class 'frozenset'> 2239116385408\n"
     ]
    }
   ],
   "source": [
    "# forming a set from a list\n",
    "list1 = ['Amitava', True, 38.5, 70000, \"Chennai\", True, 38.5, 70000, \"Chennai\", True, 38.5, 70000, \"Chennai\", True, 38.5]\n",
    "print (list1, len(list1), type(list1), id(list1))\n",
    "set1 = frozenset(list1)\n",
    "print (set1, len(set1), type(set1), id(set1))\n",
    "\n",
    "# forming a set from a tuple\n",
    "tuple1 = ('Amitava', True, 38.5, 70000, \"Chennai\", True, 38.5, 70000, \"Chennai\", True, 38.5, 70000, \"Chennai\", True, 38.5)\n",
    "print (tuple1, len(tuple1), type(tuple1), id(tuple1))\n",
    "set1 = frozenset(tuple1)\n",
    "print (set1, len(set1), type(set1), id(set1))\n",
    "\n",
    "# forming a set directly\n",
    "set1 = frozenset({'Amitava', True, 38.5, 70000, \"Chennai\", True, 38.5, 70000, \"Chennai\", True, 38.5, \"Chennai\", True, 38.5})\n",
    "print (set1, len(set1), type(set1), id(set1))"
   ]
  },
  {
   "cell_type": "code",
   "execution_count": 279,
   "id": "c9df0733-6644-4266-9bc9-a06ee082fd98",
   "metadata": {},
   "outputs": [
    {
     "name": "stdout",
     "output_type": "stream",
     "text": [
      "frozenset({'python', 'cobra', 'viper'}) 3 <class 'frozenset'> 2239124653888\n",
      "frozenset({'python', 'c++', 'java'}) 3 <class 'frozenset'> 2239124655232\n",
      "frozenset({'python', 'cobra', 'c++', 'viper', 'java'}) 5 <class 'frozenset'> 2239124654336\n",
      "frozenset({'python', 'cobra', 'c++', 'viper', 'java'}) 5 <class 'frozenset'> 2239124655456\n",
      "\n",
      "frozenset({'python', 'cobra', 'viper'}) 3 <class 'frozenset'> 2239124653888\n",
      "frozenset({'python', 'c++', 'java'}) 3 <class 'frozenset'> 2239124655232\n"
     ]
    }
   ],
   "source": [
    "# frozen-set operations: union\n",
    "snakes = frozenset({'viper', 'python', 'cobra'})\n",
    "print (snakes, len(snakes), type(snakes), id(snakes))\n",
    "languages = frozenset({'java', 'c++', 'python'})\n",
    "print (languages, len(languages), type(languages), id(languages))\n",
    "result = snakes.union(languages)\n",
    "print (result, len(result), type(result), id(result))\n",
    "result = snakes | languages\n",
    "print (result, len(result), type(result), id(result))\n",
    "print ()\n",
    "print (snakes, len(snakes), type(snakes), id(snakes))\n",
    "print (languages, len(languages), type(languages), id(languages))"
   ]
  },
  {
   "cell_type": "code",
   "execution_count": 286,
   "id": "24f45fb3-75d0-4096-80f7-54b216c5a7b1",
   "metadata": {},
   "outputs": [
    {
     "name": "stdout",
     "output_type": "stream",
     "text": [
      "frozenset({'python', 'cobra', 'viper'}) 3 <class 'frozenset'> 2239117422656\n",
      "frozenset({'python', 'c++', 'java'}) 3 <class 'frozenset'> 2239124363968\n",
      "frozenset({'python'}) 1 <class 'frozenset'> 2239112330368\n",
      "frozenset({'python'}) 1 <class 'frozenset'> 2239124365088\n",
      "\n",
      "frozenset({'python', 'cobra', 'viper'}) 3 <class 'frozenset'> 2239117422656\n",
      "frozenset({'python', 'c++', 'java'}) 3 <class 'frozenset'> 2239124363968\n"
     ]
    }
   ],
   "source": [
    "# frozen-set operations: intersection\n",
    "snakes = frozenset({'viper', 'python', 'cobra'})\n",
    "print (snakes, len(snakes), type(snakes), id(snakes))\n",
    "languages = frozenset({'java', 'c++', 'python'})\n",
    "print (languages, len(languages), type(languages), id(languages))\n",
    "result = snakes.intersection(languages)\n",
    "print (result, len(result), type(result), id(result))\n",
    "result = snakes & languages\n",
    "print (result, len(result), type(result), id(result))\n",
    "print ()\n",
    "print (snakes, len(snakes), type(snakes), id(snakes))\n",
    "print (languages, len(languages), type(languages), id(languages))"
   ]
  },
  {
   "cell_type": "code",
   "execution_count": 289,
   "id": "cfa423bf-faf3-41d1-bd58-528733272afd",
   "metadata": {},
   "outputs": [
    {
     "name": "stdout",
     "output_type": "stream",
     "text": [
      "frozenset({'python', 'cobra', 'viper'}) 3 <class 'frozenset'> 2239119712544\n",
      "frozenset({'python', 'c++', 'java'}) 3 <class 'frozenset'> 2239119716128\n",
      "frozenset({'cobra', 'viper'}) 2 <class 'frozenset'> 2239125014560\n",
      "frozenset({'cobra', 'viper'}) 2 <class 'frozenset'> 2239119713888\n",
      "\n",
      "frozenset({'python', 'cobra', 'viper'}) 3 <class 'frozenset'> 2239119712544\n",
      "frozenset({'python', 'c++', 'java'}) 3 <class 'frozenset'> 2239119716128\n"
     ]
    }
   ],
   "source": [
    "# frozen-set operations: difference\n",
    "snakes = frozenset({'viper', 'python', 'cobra'})\n",
    "print (snakes, len(snakes), type(snakes), id(snakes))\n",
    "languages = frozenset({'java', 'c++', 'python'})\n",
    "print (languages, len(languages), type(languages), id(languages))\n",
    "result = snakes.difference(languages)\n",
    "print (result, len(result), type(result), id(result))\n",
    "result = snakes - languages\n",
    "print (result, len(result), type(result), id(result))\n",
    "print ()\n",
    "print (snakes, len(snakes), type(snakes), id(snakes))\n",
    "print (languages, len(languages), type(languages), id(languages))"
   ]
  },
  {
   "cell_type": "code",
   "execution_count": 293,
   "id": "66537c1b-f5e7-4aa4-a32b-588328e2ed94",
   "metadata": {},
   "outputs": [
    {
     "name": "stdout",
     "output_type": "stream",
     "text": [
      "frozenset({'python', 'cobra', 'viper'}) 3 <class 'frozenset'> 2239117888192\n",
      "frozenset({'python', 'c++', 'java'}) 3 <class 'frozenset'> 2239117886400\n",
      "frozenset({'java', 'cobra', 'c++', 'viper'}) 4 <class 'frozenset'> 2239120683072\n",
      "frozenset({'java', 'cobra', 'c++', 'viper'}) 4 <class 'frozenset'> 2239120683296\n",
      "\n",
      "frozenset({'python', 'cobra', 'viper'}) 3 <class 'frozenset'> 2239117888192\n",
      "frozenset({'python', 'c++', 'java'}) 3 <class 'frozenset'> 2239117886400\n"
     ]
    }
   ],
   "source": [
    "# frozen-set operations: symmetric difference\n",
    "snakes = frozenset({'viper', 'python', 'cobra'})\n",
    "print (snakes, len(snakes), type(snakes), id(snakes))\n",
    "languages = frozenset({'java', 'c++', 'python'})\n",
    "print (languages, len(languages), type(languages), id(languages))\n",
    "result = snakes.symmetric_difference(languages)\n",
    "print (result, len(result), type(result), id(result))\n",
    "result = snakes ^ languages\n",
    "print (result, len(result), type(result), id(result))\n",
    "print ()\n",
    "print (snakes, len(snakes), type(snakes), id(snakes))\n",
    "print (languages, len(languages), type(languages), id(languages))"
   ]
  },
  {
   "cell_type": "code",
   "execution_count": 301,
   "id": "8e820f8b-8fc6-4242-89a7-977684d51087",
   "metadata": {},
   "outputs": [
    {
     "name": "stdout",
     "output_type": "stream",
     "text": [
      "frozenset({200, 100, 300}) 3 <class 'frozenset'> 2239121319072\n",
      "frozenset({800, 400, 500, 600, 700}) 5 <class 'frozenset'> 2239121318624\n",
      "frozenset({600, 800, 700}) 3 <class 'frozenset'> 2239121319968\n",
      "False True False\n",
      "False False True\n",
      "True False False\n"
     ]
    }
   ],
   "source": [
    "set1 = frozenset({100, 200, 300})\n",
    "set2 = frozenset({400, 500, 600, 700, 800})\n",
    "set3 = frozenset({600, 700, 800})\n",
    "print (set1, len(set1), type(set1), id(set1))\n",
    "print (set2, len(set2), type(set2), id(set2))\n",
    "print (set3, len(set3), type(set3), id(set3))\n",
    "print (set1.issuperset(set2), set2.issuperset(set3), set3.issuperset(set2))\n",
    "print (set1.issubset(set2), set2.issubset(set3), set3.issubset(set2))\n",
    "print (set1.isdisjoint(set2), set2.isdisjoint(set3), set3.isdisjoint(set2))"
   ]
  },
  {
   "cell_type": "code",
   "execution_count": 302,
   "id": "3ae82afc-d8c3-42ec-a047-77fa0dc459cd",
   "metadata": {},
   "outputs": [
    {
     "name": "stdout",
     "output_type": "stream",
     "text": [
      "frozenset({200, 100, 300}) 3 <class 'frozenset'> 2239115708896\n",
      "frozenset({200, 100, 300}) 3 <class 'frozenset'> 2239115708896\n"
     ]
    }
   ],
   "source": [
    "set1 = frozenset({100, 200, 300})\n",
    "set2 = set1.copy()\n",
    "\n",
    "print (set1, len(set1), type(set1), id(set1))\n",
    "print (set2, len(set2), type(set2), id(set2))"
   ]
  },
  {
   "cell_type": "code",
   "execution_count": 324,
   "id": "8978d38d-967a-4799-bfb5-54423d538ff2",
   "metadata": {},
   "outputs": [
    {
     "name": "stdout",
     "output_type": "stream",
     "text": [
      "mississippi <class 'str'>\n",
      "['m', 'i', 's', 's', 'i', 's', 's', 'i', 'p', 'p', 'i']\n",
      "('m', 'i', 's', 's', 'i', 's', 's', 'i', 'p', 'p', 'i')\n",
      "{'p', 's', 'm', 'i'}\n",
      "frozenset({'p', 's', 'm', 'i'})\n"
     ]
    }
   ],
   "source": [
    "mystr = \"mississippi\"\n",
    "print (mystr, type(mystr))\n",
    "print (list(mystr))\n",
    "print (tuple(mystr))\n",
    "print (set(mystr))\n",
    "print (frozenset(mystr))"
   ]
  }
 ],
 "metadata": {
  "kernelspec": {
   "display_name": "Python 3",
   "language": "python",
   "name": "python3"
  },
  "language_info": {
   "codemirror_mode": {
    "name": "ipython",
    "version": 3
   },
   "file_extension": ".py",
   "mimetype": "text/x-python",
   "name": "python",
   "nbconvert_exporter": "python",
   "pygments_lexer": "ipython3",
   "version": "3.8.8"
  }
 },
 "nbformat": 4,
 "nbformat_minor": 5
}
