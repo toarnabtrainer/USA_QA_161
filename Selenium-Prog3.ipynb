{
 "cells": [
  {
   "cell_type": "markdown",
   "id": "881c8bd5-f94f-4013-94ec-b7d0d4029917",
   "metadata": {},
   "source": [
    "### Selenium locators to select different HTML and CSS components using Python"
   ]
  },
  {
   "cell_type": "code",
   "execution_count": 6,
   "id": "63138ad4-0bc9-49a7-ba3d-f02c8db81d89",
   "metadata": {},
   "outputs": [
    {
     "name": "stdout",
     "output_type": "stream",
     "text": [
      "4.1.3\n"
     ]
    }
   ],
   "source": [
    "# importing required modules\n",
    "from selenium import webdriver\n",
    "\n",
    "# check the version of selenium\n",
    "print (webdriver.__version__)"
   ]
  },
  {
   "cell_type": "code",
   "execution_count": 13,
   "id": "6812fb17-12c9-4c79-94ff-697ddbb55055",
   "metadata": {},
   "outputs": [
    {
     "name": "stderr",
     "output_type": "stream",
     "text": [
      "<ipython-input-13-fcd9fe7da27c>:3: DeprecationWarning: executable_path has been deprecated, please pass in a Service object\n",
      "  driver = webdriver.Chrome(executable_path=\"./chromedriver.exe\")\n"
     ]
    }
   ],
   "source": [
    "# To check whether the chrome driver is present or not\n",
    "# check the chrome driver is present in the same folder or not, if not present then provide the relative or absolute path\n",
    "driver = webdriver.Chrome(executable_path=\"./chromedriver.exe\")\n",
    "\n",
    "# start wikipedia page\n",
    "driver.get(\"https://www.calculator.net/currency-calculator.html\")"
   ]
  },
  {
   "cell_type": "code",
   "execution_count": 14,
   "id": "50b73784-2a1f-4455-b465-7c3d96e98e37",
   "metadata": {},
   "outputs": [
    {
     "name": "stderr",
     "output_type": "stream",
     "text": [
      "<ipython-input-14-814d106df855>:2: DeprecationWarning: find_element_by_xpath is deprecated. Please use find_element(by=By.XPATH, value=xpath) instead\n",
      "  from_currency = Select(driver.find_element_by_xpath('//*[@id=\"efrom\"]'))\n",
      "<ipython-input-14-814d106df855>:4: DeprecationWarning: find_element_by_xpath is deprecated. Please use find_element(by=By.XPATH, value=xpath) instead\n",
      "  to_currency = Select(driver.find_element_by_xpath('//*[@id=\"eto\"]'))\n"
     ]
    }
   ],
   "source": [
    "from selenium.webdriver.support.ui import Select\n",
    "from_currency = Select(driver.find_element_by_xpath('//*[@id=\"efrom\"]'))\n",
    "from_currency.select_by_visible_text(\"INR: Indian Rupee\")\n",
    "to_currency = Select(driver.find_element_by_xpath('//*[@id=\"eto\"]'))\n",
    "to_currency.select_by_value(\"USD\")"
   ]
  },
  {
   "cell_type": "code",
   "execution_count": 17,
   "id": "4bdc8a78-b268-4074-b9b3-146264373da3",
   "metadata": {},
   "outputs": [
    {
     "name": "stderr",
     "output_type": "stream",
     "text": [
      "<ipython-input-17-6ae42067f907>:1: DeprecationWarning: find_element_by_xpath is deprecated. Please use find_element(by=By.XPATH, value=xpath) instead\n",
      "  amount_textbox = driver.find_element_by_xpath('//*[@id=\"eamount\"]')\n"
     ]
    }
   ],
   "source": [
    "amount_textbox = driver.find_element_by_xpath('//*[@id=\"eamount\"]')\n",
    "amount_textbox.clear()\n",
    "amount_textbox.send_keys('750')"
   ]
  },
  {
   "cell_type": "code",
   "execution_count": 18,
   "id": "b4df6c5e-b0a8-4723-9ff7-7482207a1135",
   "metadata": {},
   "outputs": [
    {
     "name": "stderr",
     "output_type": "stream",
     "text": [
      "<ipython-input-18-8609125d2444>:1: DeprecationWarning: find_element_by_xpath is deprecated. Please use find_element(by=By.XPATH, value=xpath) instead\n",
      "  calculate_button = driver.find_element_by_xpath('//*[@id=\"standard\"]/tbody/tr[5]/td[2]/input[2]')\n"
     ]
    }
   ],
   "source": [
    "calculate_button = driver.find_element_by_xpath('//*[@id=\"standard\"]/tbody/tr[5]/td[2]/input[2]')\n",
    "calculate_button.click()"
   ]
  },
  {
   "cell_type": "code",
   "execution_count": 20,
   "id": "c13e02af-4494-4cac-a027-f355c73025d6",
   "metadata": {},
   "outputs": [
    {
     "name": "stderr",
     "output_type": "stream",
     "text": [
      "<ipython-input-20-ce9556a85fec>:1: DeprecationWarning: find_element_by_xpath is deprecated. Please use find_element(by=By.XPATH, value=xpath) instead\n",
      "  checkbox = driver.find_element_by_xpath('//*[@id=\"ccmajorccsettingbox\"]')\n"
     ]
    }
   ],
   "source": [
    "checkbox = driver.find_element_by_xpath('//*[@id=\"ccmajorccsettingbox\"]')\n",
    "\n",
    "if checkbox.is_selected():\n",
    "    driver.execute_script(\"arguments[0].click();\", checkbox)"
   ]
  },
  {
   "cell_type": "code",
   "execution_count": 25,
   "id": "1d9cc109-cb51-4cef-818c-f951f0cf5a94",
   "metadata": {},
   "outputs": [
    {
     "name": "stderr",
     "output_type": "stream",
     "text": [
      "<ipython-input-25-ee0d6fbdf124>:1: DeprecationWarning: find_element_by_xpath is deprecated. Please use find_element(by=By.XPATH, value=xpath) instead\n",
      "  from_currency = Select(driver.find_element_by_xpath('//*[@id=\"efrom\"]'))\n"
     ]
    }
   ],
   "source": [
    "from_currency = Select(driver.find_element_by_xpath('//*[@id=\"efrom\"]'))\n",
    "from_currency.select_by_value('ZWL')"
   ]
  },
  {
   "cell_type": "code",
   "execution_count": 27,
   "id": "e0117935-c814-4108-9857-f69c2241eb18",
   "metadata": {},
   "outputs": [
    {
     "name": "stderr",
     "output_type": "stream",
     "text": [
      "<ipython-input-27-ab48be51b5a1>:1: DeprecationWarning: find_element_by_xpath is deprecated. Please use find_element(by=By.XPATH, value=xpath) instead\n",
      "  amount_textbox = driver.find_element_by_xpath('//*[@id=\"eamount\"]')\n"
     ]
    }
   ],
   "source": [
    "amount_textbox = driver.find_element_by_xpath('//*[@id=\"eamount\"]')\n",
    "amount_textbox.clear()\n",
    "amount_textbox.send_keys('970')"
   ]
  },
  {
   "cell_type": "code",
   "execution_count": 29,
   "id": "e6d793c7-1460-45a8-b7c7-426dd9be9de7",
   "metadata": {},
   "outputs": [
    {
     "name": "stderr",
     "output_type": "stream",
     "text": [
      "<ipython-input-29-8609125d2444>:1: DeprecationWarning: find_element_by_xpath is deprecated. Please use find_element(by=By.XPATH, value=xpath) instead\n",
      "  calculate_button = driver.find_element_by_xpath('//*[@id=\"standard\"]/tbody/tr[5]/td[2]/input[2]')\n"
     ]
    }
   ],
   "source": [
    "calculate_button = driver.find_element_by_xpath('//*[@id=\"standard\"]/tbody/tr[5]/td[2]/input[2]')\n",
    "calculate_button.click()"
   ]
  },
  {
   "cell_type": "code",
   "execution_count": null,
   "id": "9427313d-f44a-489f-810b-6e5a9f9a8fb6",
   "metadata": {},
   "outputs": [],
   "source": []
  },
  {
   "cell_type": "code",
   "execution_count": null,
   "id": "18e5ebc7-ceb5-45e3-bc58-102631902170",
   "metadata": {},
   "outputs": [],
   "source": []
  },
  {
   "cell_type": "code",
   "execution_count": null,
   "id": "3925a714-3dac-4960-952c-b57a9c1e54f9",
   "metadata": {},
   "outputs": [],
   "source": []
  },
  {
   "cell_type": "code",
   "execution_count": null,
   "id": "4f49e2df-7a7d-4d2f-bea7-75a682968f2b",
   "metadata": {},
   "outputs": [],
   "source": []
  },
  {
   "cell_type": "code",
   "execution_count": null,
   "id": "1d3d1f61-7792-4f5d-8c2a-c06a12a02ac7",
   "metadata": {},
   "outputs": [],
   "source": []
  }
 ],
 "metadata": {
  "kernelspec": {
   "display_name": "Python 3",
   "language": "python",
   "name": "python3"
  },
  "language_info": {
   "codemirror_mode": {
    "name": "ipython",
    "version": 3
   },
   "file_extension": ".py",
   "mimetype": "text/x-python",
   "name": "python",
   "nbconvert_exporter": "python",
   "pygments_lexer": "ipython3",
   "version": "3.8.8"
  }
 },
 "nbformat": 4,
 "nbformat_minor": 5
}
