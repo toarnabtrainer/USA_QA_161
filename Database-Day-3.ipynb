{
 "cells": [
  {
   "cell_type": "markdown",
   "id": "4467d8b7-258b-48d8-9353-aed07ad3b123",
   "metadata": {},
   "source": [
    "### Dealing with SQLite Database with Python"
   ]
  },
  {
   "cell_type": "code",
   "execution_count": 1,
   "id": "709652cc-35df-446f-bafa-4f16882acaf7",
   "metadata": {},
   "outputs": [],
   "source": [
    "# importing required modules\n",
    "import sqlite3"
   ]
  },
  {
   "cell_type": "code",
   "execution_count": 3,
   "id": "9870fc8e-c8c8-4621-a262-b4066b3ea10e",
   "metadata": {},
   "outputs": [
    {
     "name": "stdout",
     "output_type": "stream",
     "text": [
      "Your Database Connectivity has been established successfully...\n"
     ]
    }
   ],
   "source": [
    "# creation of a database if it does not pre-exist or use the existing one\n",
    "try:\n",
    "    connection = sqlite3.connect(\"myemp.db\")     # .db extension indicates that it is a database file\n",
    "    print (\"Your Database Connectivity has been established successfully...\")\n",
    "except:\n",
    "    print (\"Some exception has taken place...!!!\")\n",
    "    print (\"Please check your database connectivity...\")"
   ]
  },
  {
   "cell_type": "markdown",
   "id": "dc4b2b87-6cdf-4cea-a7b5-6c92ce464da0",
   "metadata": {},
   "source": [
    "> Now search on Google with the search string \"SQLite Manager online\". And click on the following URL -\n",
    "> https://extendsclass.com/sqlite-browser.html"
   ]
  },
  {
   "cell_type": "code",
   "execution_count": 4,
   "id": "4f56828c-2e8b-40ea-be45-cb09c01ffc04",
   "metadata": {},
   "outputs": [
    {
     "name": "stdout",
     "output_type": "stream",
     "text": [
      "Database table has been created successfully...\n"
     ]
    }
   ],
   "source": [
    "# create employee table as employee(emp_id, emp_name, emp_city, emp_salary)\n",
    "sqlStr = '''\n",
    "         CREATE TABLE employee (\n",
    "         emp_id INTEGER PRIMARY KEY,\n",
    "         emp_name TEXT,\n",
    "         emp_city TEXT,\n",
    "         emp_salary REAL);\n",
    "         '''\n",
    "try:    # create the table if it does not pre-exist\n",
    "    connection.execute(sqlStr)\n",
    "    print (\"Database table has been created successfully...\")\n",
    "except:\n",
    "    print (\"Some exception has taken place...!!!\")\n",
    "    print (\"Please check your database connectivity and the SQL query...\")"
   ]
  },
  {
   "cell_type": "code",
   "execution_count": 8,
   "id": "fcc142ac-7946-45ba-b24d-b692601326d1",
   "metadata": {},
   "outputs": [
    {
     "name": "stdout",
     "output_type": "stream",
     "text": [
      "<sqlite3.Cursor object at 0x000002722D05E650>\n",
      "[(0, 'emp_id', 'INTEGER', 0, None, 1), (1, 'emp_name', 'TEXT', 0, None, 0), (2, 'emp_city', 'TEXT', 0, None, 0), (3, 'emp_salary', 'REAL', 0, None, 0)]\n",
      "\n",
      "(0, 'emp_id', 'INTEGER', 0, None, 1)\n",
      "(1, 'emp_name', 'TEXT', 0, None, 0)\n",
      "(2, 'emp_city', 'TEXT', 0, None, 0)\n",
      "(3, 'emp_salary', 'REAL', 0, None, 0)\n"
     ]
    }
   ],
   "source": [
    "# displaying the table structure or schema of the database table employee\n",
    "print (connection.execute(\"pragma table_info(employee)\"))\n",
    "print (list(connection.execute(\"pragma table_info(employee)\")))\n",
    "print ()\n",
    "for row in list(connection.execute(\"pragma table_info(employee)\")):\n",
    "    print (row)"
   ]
  },
  {
   "cell_type": "code",
   "execution_count": 19,
   "id": "612d294c-129e-4410-b3a9-74c1555659ac",
   "metadata": {},
   "outputs": [
    {
     "name": "stdout",
     "output_type": "stream",
     "text": [
      "<_csv.reader object at 0x000002722D4A0F40>\n",
      "[['1001', 'Dhiman', 'Kolkata', '39000'], ['1002', 'Anupam', 'Kolkata', '25000'], ['1003', 'Subham', 'Mumbai', '36000'], ['1004', 'Dinesh', 'Chennai', '28000'], ['1005', 'Kakali', 'Mumbai', '25000'], ['1006', 'Bimal', 'Hyderabad', '30000'], ['1007', 'Tarun', 'Chennai', '17000'], ['1008', 'Rittik', 'Durgapur', '45000'], ['1009', 'Barun', 'Hyderabad', '39000'], ['1010', 'Utpal', 'Lucknow', '20000']]\n",
      "()\n",
      "0\n"
     ]
    }
   ],
   "source": [
    "# inserting records reading from the csv file and writing it to the database table employee\n",
    "import csv   # importing the required module\n",
    "sqlStr = \"\"\"\n",
    "         INSERT INTO employee\n",
    "         VALUES('{emp_id}', '{emp_name}', '{emp_city}', '{emp_salary}');\n",
    "         \"\"\"\n",
    "# read line from the csv file and store them into the table\n",
    "with open('emp_data.csv') as data_file:\n",
    "    csv_reader = csv.reader(data_file)  # creating a buffer space to hold read data temporarily\n",
    "    print (csv_reader)\n",
    "    print (list(csv_reader))\n",
    "    print (tuple(csv_reader))\n",
    "    print (len(list(csv_reader)))"
   ]
  },
  {
   "cell_type": "code",
   "execution_count": 20,
   "id": "d9d47f36-12eb-4432-bab4-53da2cceabff",
   "metadata": {},
   "outputs": [
    {
     "name": "stdout",
     "output_type": "stream",
     "text": [
      "All data records got inserted successfully...\n"
     ]
    }
   ],
   "source": [
    "# inserting records reading from the csv file and writing it to the database table employee\n",
    "import csv   # importing the required module\n",
    "sqlStr = \"\"\"\n",
    "         INSERT INTO employee\n",
    "         VALUES('{emp_id}', '{emp_name}', '{emp_city}', '{emp_salary}');\n",
    "         \"\"\"\n",
    "# read line from the csv file and store them into the table\n",
    "with open('emp_data.csv') as data_file:\n",
    "    csv_reader = csv.reader(data_file)  # creating a buffer space to hold read data temporarily\n",
    "    for row in csv_reader:\n",
    "        connection.execute(sqlStr.format(emp_id = row[0], emp_name = row[1], emp_city = row[2], emp_salary = row[3]))\n",
    "        \n",
    "connection.commit()    # to make the change permanent\n",
    "print (\"All data records got inserted successfully...\")"
   ]
  },
  {
   "cell_type": "code",
   "execution_count": 21,
   "id": "f9e0a6b7-8c39-4baa-ae1f-bf67c55447c8",
   "metadata": {},
   "outputs": [
    {
     "ename": "ValueError",
     "evalue": "I/O operation on closed file.",
     "output_type": "error",
     "traceback": [
      "\u001b[1;31m---------------------------------------------------------------------------\u001b[0m",
      "\u001b[1;31mValueError\u001b[0m                                Traceback (most recent call last)",
      "\u001b[1;32m<ipython-input-21-ff2ce7d9bd23>\u001b[0m in \u001b[0;36m<module>\u001b[1;34m\u001b[0m\n\u001b[1;32m----> 1\u001b[1;33m \u001b[0mcsv_reader\u001b[0m \u001b[1;33m=\u001b[0m \u001b[0mcsv\u001b[0m\u001b[1;33m.\u001b[0m\u001b[0mreader\u001b[0m\u001b[1;33m(\u001b[0m\u001b[0mdata_file\u001b[0m\u001b[1;33m)\u001b[0m\u001b[1;33m\u001b[0m\u001b[1;33m\u001b[0m\u001b[0m\n\u001b[0m",
      "\u001b[1;31mValueError\u001b[0m: I/O operation on closed file."
     ]
    }
   ],
   "source": [
    "csv_reader = csv.reader(data_file)"
   ]
  },
  {
   "cell_type": "code",
   "execution_count": 26,
   "id": "a8f99ca8-8d6b-4dc8-9ff8-8de1053baa1f",
   "metadata": {},
   "outputs": [
    {
     "name": "stdout",
     "output_type": "stream",
     "text": [
      "Emp_ID: 1001, Emp_Name: Dhiman, Emp_City: Kolkata and Emp_Salary: 39000.0...\n",
      "Emp_ID: 1002, Emp_Name: Anupam, Emp_City: Kolkata and Emp_Salary: 25000.0...\n",
      "Emp_ID: 1003, Emp_Name: Subham, Emp_City: Mumbai and Emp_Salary: 36000.0...\n",
      "Emp_ID: 1004, Emp_Name: Dinesh, Emp_City: Chennai and Emp_Salary: 28000.0...\n",
      "Emp_ID: 1005, Emp_Name: Kakali, Emp_City: Mumbai and Emp_Salary: 25000.0...\n",
      "Emp_ID: 1006, Emp_Name: Bimal, Emp_City: Hyderabad and Emp_Salary: 30000.0...\n",
      "Emp_ID: 1007, Emp_Name: Tarun, Emp_City: Chennai and Emp_Salary: 17000.0...\n",
      "Emp_ID: 1008, Emp_Name: Rittik, Emp_City: Durgapur and Emp_Salary: 45000.0...\n",
      "Emp_ID: 1009, Emp_Name: Barun, Emp_City: Hyderabad and Emp_Salary: 39000.0...\n",
      "Emp_ID: 1010, Emp_Name: Utpal, Emp_City: Lucknow and Emp_Salary: 20000.0...\n"
     ]
    }
   ],
   "source": [
    "# retrieving records from the database table\n",
    "# SQL for fetching all the records from the table\n",
    "sqlStr =\"SELECT * FROM employee;\"\n",
    "\n",
    "# read from table and point the cursor into the variable cur_table\n",
    "cur_table = connection.execute(sqlStr)\n",
    "# print (list(cur_table))\n",
    "# print (len(list(cur_table)))\n",
    "for row in cur_table:\n",
    "    print (f\"Emp_ID: {row[0]}, Emp_Name: {row[1]}, Emp_City: {row[2]} and Emp_Salary: {row[3]}...\")"
   ]
  },
  {
   "cell_type": "code",
   "execution_count": null,
   "id": "83b935f0-b460-461d-8a4b-b181eb159bf8",
   "metadata": {},
   "outputs": [],
   "source": [
    "Class Assignment - 2 / Day-3\n",
    "============================\n",
    "Fetch employee name, salary and salary * 10% as TDS against salaries of all employees in the employee table. "
   ]
  },
  {
   "cell_type": "code",
   "execution_count": 31,
   "id": "9f5b7a30-d2b0-4cf2-8ab9-c3efcb8119cf",
   "metadata": {},
   "outputs": [
    {
     "name": "stdout",
     "output_type": "stream",
     "text": [
      "Emp-Name: Dhiman, Emp-Salary: 39000.0 and Emp-TDS: 3900.0...\n",
      "Emp-Name: Anupam, Emp-Salary: 25000.0 and Emp-TDS: 2500.0...\n",
      "Emp-Name: Subham, Emp-Salary: 36000.0 and Emp-TDS: 3600.0...\n",
      "Emp-Name: Dinesh, Emp-Salary: 30000.0 and Emp-TDS: 3000.0...\n",
      "Emp-Name: Kakali, Emp-Salary: 25000.0 and Emp-TDS: 2500.0...\n",
      "Emp-Name: Bimal, Emp-Salary: 30000.0 and Emp-TDS: 3000.0...\n",
      "Emp-Name: Tarun, Emp-Salary: 30000.0 and Emp-TDS: 3000.0...\n",
      "Emp-Name: Rittik, Emp-Salary: 45000.0 and Emp-TDS: 4500.0...\n",
      "Emp-Name: Barun, Emp-Salary: 39000.0 and Emp-TDS: 3900.0...\n",
      "Emp-Name: Utpal, Emp-Salary: 20000.0 and Emp-TDS: 2000.0...\n",
      "End of the query processing...\n"
     ]
    }
   ],
   "source": [
    "sqlStr = \"SELECT emp_name, emp_salary, emp_salary * 0.10 FROM employee;\"\n",
    "cur_table = connection.execute(sqlStr)\n",
    "for row in cur_table:\n",
    "    print (f\"Emp-Name: {row[0]}, Emp-Salary: {row[1]} and Emp-TDS: {row[2]}...\")\n",
    "print (\"End of the query processing...\")"
   ]
  },
  {
   "cell_type": "code",
   "execution_count": null,
   "id": "e10389c9-b5f3-429c-b48b-7382e8db5507",
   "metadata": {},
   "outputs": [],
   "source": [
    "Class Assignment - 3 / Day-3\n",
    "============================\n",
    "Display city wise average salaries from the employee table for all employees."
   ]
  },
  {
   "cell_type": "code",
   "execution_count": 32,
   "id": "f93c8baf-eb23-463d-bce1-4f4a71481096",
   "metadata": {},
   "outputs": [
    {
     "name": "stdout",
     "output_type": "stream",
     "text": [
      "Emp-City: Chennai, Average-City-Salary: 30000.0...\n",
      "Emp-City: Durgapur, Average-City-Salary: 45000.0...\n",
      "Emp-City: Hyderabad, Average-City-Salary: 34500.0...\n",
      "Emp-City: Kolkata, Average-City-Salary: 32000.0...\n",
      "Emp-City: Lucknow, Average-City-Salary: 20000.0...\n",
      "Emp-City: Mumbai, Average-City-Salary: 30500.0...\n",
      "End of the query processing...\n"
     ]
    }
   ],
   "source": [
    "sqlStr = \"SELECT emp_city, avg(emp_salary) FROM employee group by emp_city;\"\n",
    "cur_table = connection.execute(sqlStr)\n",
    "for row in cur_table:\n",
    "    print (f\"Emp-City: {row[0]}, Average-City-Salary: {row[1]}...\")\n",
    "print (\"End of the query processing...\")"
   ]
  },
  {
   "cell_type": "code",
   "execution_count": null,
   "id": "4b711736-e19d-4e13-a495-9cd410be8123",
   "metadata": {},
   "outputs": [],
   "source": [
    "# update operation on the records of the employee table\n",
    "# update salary to 30,000 for all employees where city is 'Chennai'.\n",
    "sqlStr = \"UPDATE employee SET emp_salary = 30000 WHERE emp_city = 'Chennai';\"\n",
    "table = connection.execute(sqlStr)\n",
    "connection.commit()   # to make the change permanent\n",
    "print (f\"So the total number of records got updated is {table.rowcount}...\")"
   ]
  },
  {
   "cell_type": "code",
   "execution_count": 28,
   "id": "26086674-6e80-42fd-950e-95a4c57e6cfc",
   "metadata": {},
   "outputs": [
    {
     "name": "stdout",
     "output_type": "stream",
     "text": [
      "Emp-ID: 1001, Emp-Name: Dhiman, Emp-City: Kolkata, Emp-Salary: 39000.0...\n",
      "Emp-ID: 1002, Emp-Name: Anupam, Emp-City: Kolkata, Emp-Salary: 25000.0...\n",
      "Emp-ID: 1003, Emp-Name: Subham, Emp-City: Mumbai, Emp-Salary: 36000.0...\n",
      "Emp-ID: 1004, Emp-Name: Dinesh, Emp-City: Chennai, Emp-Salary: 30000.0...\n",
      "Emp-ID: 1005, Emp-Name: Kakali, Emp-City: Mumbai, Emp-Salary: 25000.0...\n",
      "Emp-ID: 1006, Emp-Name: Bimal, Emp-City: Hyderabad, Emp-Salary: 30000.0...\n",
      "Emp-ID: 1007, Emp-Name: Tarun, Emp-City: Chennai, Emp-Salary: 30000.0...\n",
      "Emp-ID: 1008, Emp-Name: Rittik, Emp-City: Durgapur, Emp-Salary: 45000.0...\n",
      "Emp-ID: 1009, Emp-Name: Barun, Emp-City: Hyderabad, Emp-Salary: 39000.0...\n",
      "Emp-ID: 1010, Emp-Name: Utpal, Emp-City: Lucknow, Emp-Salary: 20000.0...\n",
      "End of the update operation...\n"
     ]
    }
   ],
   "source": [
    "# now fetching all the reords from the employee table for verification\n",
    "sqlStr = \"SELECT * FROM employee;\"\n",
    "# read from table and point the cursor into the variable cur_table\n",
    "cur_table = connection.execute(sqlStr)\n",
    "for row in cur_table:\n",
    "    print (f\"Emp-ID: {row[0]}, Emp-Name: {row[1]}, Emp-City: {row[2]}, Emp-Salary: {row[3]}...\")\n",
    "print (\"End of the display operation...\")"
   ]
  },
  {
   "cell_type": "code",
   "execution_count": 33,
   "id": "ddf12ad9-25c2-4c79-9086-f3d73343abbd",
   "metadata": {},
   "outputs": [
    {
     "name": "stdout",
     "output_type": "stream",
     "text": [
      "So the total number of records got deleted is 2\n"
     ]
    }
   ],
   "source": [
    "# deleting records from the table\n",
    "# delete those records where emp_city = 'Kolkata'\n",
    "\n",
    "sqlStr = \"DELETE FROM employee WHERE emp_city = 'Kolkata';\"\n",
    "table = connection.execute(sqlStr)\n",
    "connection.commit()    # to make the change permanent\n",
    "print (f\"So the total number of records got deleted is {table.rowcount}\")"
   ]
  },
  {
   "cell_type": "code",
   "execution_count": 34,
   "id": "e04f9ca7-21e3-4dc3-9838-916c3ffa3912",
   "metadata": {},
   "outputs": [
    {
     "name": "stdout",
     "output_type": "stream",
     "text": [
      "Emp-ID: 1003, Emp-Name: Subham, Emp-City: Mumbai, Emp-Salary: 36000.0...\n",
      "Emp-ID: 1004, Emp-Name: Dinesh, Emp-City: Chennai, Emp-Salary: 30000.0...\n",
      "Emp-ID: 1005, Emp-Name: Kakali, Emp-City: Mumbai, Emp-Salary: 25000.0...\n",
      "Emp-ID: 1006, Emp-Name: Bimal, Emp-City: Hyderabad, Emp-Salary: 30000.0...\n",
      "Emp-ID: 1007, Emp-Name: Tarun, Emp-City: Chennai, Emp-Salary: 30000.0...\n",
      "Emp-ID: 1008, Emp-Name: Rittik, Emp-City: Durgapur, Emp-Salary: 45000.0...\n",
      "Emp-ID: 1009, Emp-Name: Barun, Emp-City: Hyderabad, Emp-Salary: 39000.0...\n",
      "Emp-ID: 1010, Emp-Name: Utpal, Emp-City: Lucknow, Emp-Salary: 20000.0...\n",
      "End of the display operation...\n"
     ]
    }
   ],
   "source": [
    "# now fetching all the reords from the employee table for verification\n",
    "sqlStr = \"SELECT * FROM employee;\"\n",
    "# read from table and point the cursor into the variable cur_table\n",
    "cur_table = connection.execute(sqlStr)\n",
    "for row in cur_table:\n",
    "    print (f\"Emp-ID: {row[0]}, Emp-Name: {row[1]}, Emp-City: {row[2]}, Emp-Salary: {row[3]}...\")\n",
    "print (\"End of the display operation...\")"
   ]
  },
  {
   "cell_type": "markdown",
   "id": "ac1537d5-bdde-4723-ab6e-1659fb425a80",
   "metadata": {},
   "source": [
    "### Dealing with SQLite Database and Pandas DataFrame"
   ]
  },
  {
   "cell_type": "code",
   "execution_count": 36,
   "id": "0c2721f2-b251-4cea-8a17-d5750ddd3078",
   "metadata": {},
   "outputs": [
    {
     "data": {
      "text/html": [
       "<div>\n",
       "<style scoped>\n",
       "    .dataframe tbody tr th:only-of-type {\n",
       "        vertical-align: middle;\n",
       "    }\n",
       "\n",
       "    .dataframe tbody tr th {\n",
       "        vertical-align: top;\n",
       "    }\n",
       "\n",
       "    .dataframe thead th {\n",
       "        text-align: right;\n",
       "    }\n",
       "</style>\n",
       "<table border=\"1\" class=\"dataframe\">\n",
       "  <thead>\n",
       "    <tr style=\"text-align: right;\">\n",
       "      <th></th>\n",
       "      <th>EMP-ID</th>\n",
       "      <th>EMP-NAME</th>\n",
       "      <th>EMP-CITY</th>\n",
       "      <th>EMP-SALARY</th>\n",
       "    </tr>\n",
       "  </thead>\n",
       "  <tbody>\n",
       "    <tr>\n",
       "      <th>0</th>\n",
       "      <td>1003</td>\n",
       "      <td>Subham</td>\n",
       "      <td>Mumbai</td>\n",
       "      <td>36000.0</td>\n",
       "    </tr>\n",
       "    <tr>\n",
       "      <th>1</th>\n",
       "      <td>1004</td>\n",
       "      <td>Dinesh</td>\n",
       "      <td>Chennai</td>\n",
       "      <td>30000.0</td>\n",
       "    </tr>\n",
       "    <tr>\n",
       "      <th>2</th>\n",
       "      <td>1005</td>\n",
       "      <td>Kakali</td>\n",
       "      <td>Mumbai</td>\n",
       "      <td>25000.0</td>\n",
       "    </tr>\n",
       "    <tr>\n",
       "      <th>3</th>\n",
       "      <td>1006</td>\n",
       "      <td>Bimal</td>\n",
       "      <td>Hyderabad</td>\n",
       "      <td>30000.0</td>\n",
       "    </tr>\n",
       "    <tr>\n",
       "      <th>4</th>\n",
       "      <td>1007</td>\n",
       "      <td>Tarun</td>\n",
       "      <td>Chennai</td>\n",
       "      <td>30000.0</td>\n",
       "    </tr>\n",
       "    <tr>\n",
       "      <th>5</th>\n",
       "      <td>1008</td>\n",
       "      <td>Rittik</td>\n",
       "      <td>Durgapur</td>\n",
       "      <td>45000.0</td>\n",
       "    </tr>\n",
       "    <tr>\n",
       "      <th>6</th>\n",
       "      <td>1009</td>\n",
       "      <td>Barun</td>\n",
       "      <td>Hyderabad</td>\n",
       "      <td>39000.0</td>\n",
       "    </tr>\n",
       "    <tr>\n",
       "      <th>7</th>\n",
       "      <td>1010</td>\n",
       "      <td>Utpal</td>\n",
       "      <td>Lucknow</td>\n",
       "      <td>20000.0</td>\n",
       "    </tr>\n",
       "  </tbody>\n",
       "</table>\n",
       "</div>"
      ],
      "text/plain": [
       "   EMP-ID EMP-NAME   EMP-CITY  EMP-SALARY\n",
       "0    1003   Subham     Mumbai     36000.0\n",
       "1    1004   Dinesh    Chennai     30000.0\n",
       "2    1005   Kakali     Mumbai     25000.0\n",
       "3    1006    Bimal  Hyderabad     30000.0\n",
       "4    1007    Tarun    Chennai     30000.0\n",
       "5    1008   Rittik   Durgapur     45000.0\n",
       "6    1009    Barun  Hyderabad     39000.0\n",
       "7    1010    Utpal    Lucknow     20000.0"
      ]
     },
     "execution_count": 36,
     "metadata": {},
     "output_type": "execute_result"
    }
   ],
   "source": [
    "# importing required modules\n",
    "import pandas as pd\n",
    "sqlStr = \"SELECT * FROM employee;\"\n",
    "table = connection.execute(sqlStr)\n",
    "records_df = pd.DataFrame(data = list(table), columns = [\"EMP-ID\", \"EMP-NAME\", \"EMP-CITY\", \"EMP-SALARY\"])\n",
    "records_df"
   ]
  },
  {
   "cell_type": "code",
   "execution_count": 37,
   "id": "6c00b7ec-378e-4d24-9541-e6b04ba4d34d",
   "metadata": {},
   "outputs": [
    {
     "data": {
      "text/html": [
       "<div>\n",
       "<style scoped>\n",
       "    .dataframe tbody tr th:only-of-type {\n",
       "        vertical-align: middle;\n",
       "    }\n",
       "\n",
       "    .dataframe tbody tr th {\n",
       "        vertical-align: top;\n",
       "    }\n",
       "\n",
       "    .dataframe thead th {\n",
       "        text-align: right;\n",
       "    }\n",
       "</style>\n",
       "<table border=\"1\" class=\"dataframe\">\n",
       "  <thead>\n",
       "    <tr style=\"text-align: right;\">\n",
       "      <th></th>\n",
       "      <th>emp_id</th>\n",
       "      <th>emp_name</th>\n",
       "      <th>emp_city</th>\n",
       "      <th>emp_salary</th>\n",
       "    </tr>\n",
       "  </thead>\n",
       "  <tbody>\n",
       "    <tr>\n",
       "      <th>0</th>\n",
       "      <td>1003</td>\n",
       "      <td>Subham</td>\n",
       "      <td>Mumbai</td>\n",
       "      <td>36000.0</td>\n",
       "    </tr>\n",
       "    <tr>\n",
       "      <th>1</th>\n",
       "      <td>1004</td>\n",
       "      <td>Dinesh</td>\n",
       "      <td>Chennai</td>\n",
       "      <td>30000.0</td>\n",
       "    </tr>\n",
       "    <tr>\n",
       "      <th>2</th>\n",
       "      <td>1005</td>\n",
       "      <td>Kakali</td>\n",
       "      <td>Mumbai</td>\n",
       "      <td>25000.0</td>\n",
       "    </tr>\n",
       "    <tr>\n",
       "      <th>3</th>\n",
       "      <td>1006</td>\n",
       "      <td>Bimal</td>\n",
       "      <td>Hyderabad</td>\n",
       "      <td>30000.0</td>\n",
       "    </tr>\n",
       "    <tr>\n",
       "      <th>4</th>\n",
       "      <td>1007</td>\n",
       "      <td>Tarun</td>\n",
       "      <td>Chennai</td>\n",
       "      <td>30000.0</td>\n",
       "    </tr>\n",
       "    <tr>\n",
       "      <th>5</th>\n",
       "      <td>1008</td>\n",
       "      <td>Rittik</td>\n",
       "      <td>Durgapur</td>\n",
       "      <td>45000.0</td>\n",
       "    </tr>\n",
       "    <tr>\n",
       "      <th>6</th>\n",
       "      <td>1009</td>\n",
       "      <td>Barun</td>\n",
       "      <td>Hyderabad</td>\n",
       "      <td>39000.0</td>\n",
       "    </tr>\n",
       "    <tr>\n",
       "      <th>7</th>\n",
       "      <td>1010</td>\n",
       "      <td>Utpal</td>\n",
       "      <td>Lucknow</td>\n",
       "      <td>20000.0</td>\n",
       "    </tr>\n",
       "  </tbody>\n",
       "</table>\n",
       "</div>"
      ],
      "text/plain": [
       "   emp_id emp_name   emp_city  emp_salary\n",
       "0    1003   Subham     Mumbai     36000.0\n",
       "1    1004   Dinesh    Chennai     30000.0\n",
       "2    1005   Kakali     Mumbai     25000.0\n",
       "3    1006    Bimal  Hyderabad     30000.0\n",
       "4    1007    Tarun    Chennai     30000.0\n",
       "5    1008   Rittik   Durgapur     45000.0\n",
       "6    1009    Barun  Hyderabad     39000.0\n",
       "7    1010    Utpal    Lucknow     20000.0"
      ]
     },
     "execution_count": 37,
     "metadata": {},
     "output_type": "execute_result"
    }
   ],
   "source": [
    "records_df = pd.read_sql_query(sqlStr, connection)\n",
    "records_df"
   ]
  },
  {
   "cell_type": "code",
   "execution_count": 43,
   "id": "dda87ebc-d0bf-408d-b595-91e8b72010a2",
   "metadata": {},
   "outputs": [
    {
     "data": {
      "image/png": "[encoded data removed]",
      "text/plain": [
       "<Figure size 432x288 with 1 Axes>"
      ]
     },
     "metadata": {
      "needs_background": "light"
     },
     "output_type": "display_data"
    }
   ],
   "source": [
    "# basic plots\n",
    "import matplotlib.pyplot as plt\n",
    "plt.scatter(records_df['emp_id'], records_df['emp_salary'], s = 100)\n",
    "plt.xlabel(\"Employee ID\")\n",
    "plt.ylabel(\"Employee Salary (In INR)\")\n",
    "plt.title(\"Employee ID vs. Employee Salary (In INR)\")\n",
    "plt.show()"
   ]
  },
  {
   "cell_type": "markdown",
   "id": "4602f3b6-b06c-4382-853f-1359b494b74a",
   "metadata": {},
   "source": [
    "### Reading User I/P and Inserting Records"
   ]
  },
  {
   "cell_type": "markdown",
   "id": "2035549d-6c99-402b-8de1-ed446b5df648",
   "metadata": {},
   "source": [
    "### Approach - 1"
   ]
  },
  {
   "cell_type": "code",
   "execution_count": 44,
   "id": "f25e272d-2f11-49f3-b424-88a00dce2b64",
   "metadata": {},
   "outputs": [
    {
     "name": "stdin",
     "output_type": "stream",
     "text": [
      "Please enter the number of records:  2\n",
      "Please enter the EMP-ID (Numeric):  1011\n",
      "Please enter the EMP-Name (Text):  Bidhun\n",
      "Please enter the EMP-City (Text):  Kolkata\n",
      "Please enter the EMP-Salary (Numeric):  65000\n",
      "Please enter the EMP-ID (Numeric):  1012\n",
      "Please enter the EMP-Name (Text):  Sharmistha\n",
      "Please enter the EMP-City (Text):  Noida\n",
      "Please enter the EMP-Salary (Numeric):  70000\n"
     ]
    },
    {
     "name": "stdout",
     "output_type": "stream",
     "text": [
      "All data records got inserted successfully...\n"
     ]
    }
   ],
   "source": [
    "sqlStr = \"\"\"\n",
    "         INSERT INTO employee\n",
    "         VALUES('{emp_id}', '{emp_name}', '{emp_city}', '{emp_salary}');\n",
    "         \"\"\"\n",
    "n = int(input(\"Please enter the number of records: \"))\n",
    "for i in range(n):\n",
    "    emp_id_uip = int(input(\"Please enter the EMP-ID (Numeric): \"))\n",
    "    emp_name_uip = input(\"Please enter the EMP-Name (Text): \")\n",
    "    emp_city_uip = input(\"Please enter the EMP-City (Text): \")\n",
    "    emp_salary_uip = int(input(\"Please enter the EMP-Salary (Numeric): \"))\n",
    "    connection.execute(sqlStr.format(emp_id = emp_id_uip, emp_name = emp_name_uip, emp_city = emp_city_uip, emp_salary = emp_salary_uip))\n",
    "        \n",
    "connection.commit()    # to make the change permanent\n",
    "print (\"All data records got inserted successfully...\")"
   ]
  },
  {
   "cell_type": "code",
   "execution_count": 45,
   "id": "6d2cd0b3-f3c8-4b46-bc65-ea5bcd5c0ae8",
   "metadata": {},
   "outputs": [
    {
     "name": "stdout",
     "output_type": "stream",
     "text": [
      "Emp-ID: 1003, Emp-Name: Subham, Emp-City: Mumbai, Emp-Salary: 36000.0...\n",
      "Emp-ID: 1004, Emp-Name: Dinesh, Emp-City: Chennai, Emp-Salary: 30000.0...\n",
      "Emp-ID: 1005, Emp-Name: Kakali, Emp-City: Mumbai, Emp-Salary: 25000.0...\n",
      "Emp-ID: 1006, Emp-Name: Bimal, Emp-City: Hyderabad, Emp-Salary: 30000.0...\n",
      "Emp-ID: 1007, Emp-Name: Tarun, Emp-City: Chennai, Emp-Salary: 30000.0...\n",
      "Emp-ID: 1008, Emp-Name: Rittik, Emp-City: Durgapur, Emp-Salary: 45000.0...\n",
      "Emp-ID: 1009, Emp-Name: Barun, Emp-City: Hyderabad, Emp-Salary: 39000.0...\n",
      "Emp-ID: 1010, Emp-Name: Utpal, Emp-City: Lucknow, Emp-Salary: 20000.0...\n",
      "Emp-ID: 1011, Emp-Name: Bidhun, Emp-City: Kolkata, Emp-Salary: 65000.0...\n",
      "Emp-ID: 1012, Emp-Name: Sharmistha, Emp-City: Noida, Emp-Salary: 70000.0...\n",
      "End of the display operation...\n"
     ]
    }
   ],
   "source": [
    "# now fetching all the reords from the employee table for verification\n",
    "sqlStr = \"SELECT * FROM employee;\"\n",
    "# read from table and point the cursor into the variable cur_table\n",
    "cur_table = connection.execute(sqlStr)\n",
    "for row in cur_table:\n",
    "    print (f\"Emp-ID: {row[0]}, Emp-Name: {row[1]}, Emp-City: {row[2]}, Emp-Salary: {row[3]}...\")\n",
    "print (\"End of the display operation...\")"
   ]
  },
  {
   "cell_type": "markdown",
   "id": "c6c41ab9-5bf6-4f06-9f2f-378f3e91041b",
   "metadata": {},
   "source": [
    "### Approach - 2"
   ]
  },
  {
   "cell_type": "code",
   "execution_count": 46,
   "id": "ab2bb22d-59eb-4ed3-ba8e-6e2eaacc5b1f",
   "metadata": {},
   "outputs": [
    {
     "name": "stdin",
     "output_type": "stream",
     "text": [
      "Please enter the number of records:  2\n",
      "Please enter the EMP-ID (Numeric):  1013\n",
      "Please enter the EMP-Name (Text):  Sanjib\n",
      "Please enter the EMP-City (Text):  Varanasi\n",
      "Please enter the EMP-Salary (Numeric):  72000\n",
      "Please enter the EMP-ID (Numeric):  1014\n",
      "Please enter the EMP-Name (Text):  Samrat\n",
      "Please enter the EMP-City (Text):  Hyderabad\n",
      "Please enter the EMP-Salary (Numeric):  80000\n"
     ]
    },
    {
     "name": "stdout",
     "output_type": "stream",
     "text": [
      "All data records got inserted successfully...\n"
     ]
    }
   ],
   "source": [
    "n = int(input(\"Please enter the number of records: \"))\n",
    "cursor = connection.cursor()\n",
    "for i in range(n):\n",
    "    emp_id_uip = int(input(\"Please enter the EMP-ID (Numeric): \"))\n",
    "    emp_name_uip = input(\"Please enter the EMP-Name (Text): \")\n",
    "    emp_city_uip = input(\"Please enter the EMP-City (Text): \")\n",
    "    emp_salary_uip = int(input(\"Please enter the EMP-Salary (Numeric): \"))\n",
    "    cursor.execute(\"INSERT INTO employee VALUES (?, ?, ?, ?)\", (emp_id_uip, emp_name_uip, emp_city_uip, emp_salary_uip))\n",
    "    \n",
    "connection.commit()    # to make the change permanent\n",
    "print (\"All data records got inserted successfully...\")"
   ]
  },
  {
   "cell_type": "code",
   "execution_count": 47,
   "id": "6d1f2310-87e2-4cb1-aabe-eaeea3cd37bf",
   "metadata": {},
   "outputs": [
    {
     "name": "stdout",
     "output_type": "stream",
     "text": [
      "Emp-ID: 1003, Emp-Name: Subham, Emp-City: Mumbai, Emp-Salary: 36000.0...\n",
      "Emp-ID: 1004, Emp-Name: Dinesh, Emp-City: Chennai, Emp-Salary: 30000.0...\n",
      "Emp-ID: 1005, Emp-Name: Kakali, Emp-City: Mumbai, Emp-Salary: 25000.0...\n",
      "Emp-ID: 1006, Emp-Name: Bimal, Emp-City: Hyderabad, Emp-Salary: 30000.0...\n",
      "Emp-ID: 1007, Emp-Name: Tarun, Emp-City: Chennai, Emp-Salary: 30000.0...\n",
      "Emp-ID: 1008, Emp-Name: Rittik, Emp-City: Durgapur, Emp-Salary: 45000.0...\n",
      "Emp-ID: 1009, Emp-Name: Barun, Emp-City: Hyderabad, Emp-Salary: 39000.0...\n",
      "Emp-ID: 1010, Emp-Name: Utpal, Emp-City: Lucknow, Emp-Salary: 20000.0...\n",
      "Emp-ID: 1011, Emp-Name: Bidhun, Emp-City: Kolkata, Emp-Salary: 65000.0...\n",
      "Emp-ID: 1012, Emp-Name: Sharmistha, Emp-City: Noida, Emp-Salary: 70000.0...\n",
      "Emp-ID: 1013, Emp-Name: Sanjib, Emp-City: Varanasi, Emp-Salary: 72000.0...\n",
      "Emp-ID: 1014, Emp-Name: Samrat, Emp-City: Hyderabad, Emp-Salary: 80000.0...\n",
      "End of the display operation...\n"
     ]
    }
   ],
   "source": [
    "# now fetching all the reords from the employee table for verification\n",
    "sqlStr = \"SELECT * FROM employee;\"\n",
    "# read from table and point the cursor into the variable cur_table\n",
    "cur_table = connection.execute(sqlStr)\n",
    "for row in cur_table:\n",
    "    print (f\"Emp-ID: {row[0]}, Emp-Name: {row[1]}, Emp-City: {row[2]}, Emp-Salary: {row[3]}...\")\n",
    "print (\"End of the display operation...\")"
   ]
  },
  {
   "cell_type": "code",
   "execution_count": null,
   "id": "6602c66e-76cd-4150-8400-b7ff9aa90e90",
   "metadata": {},
   "outputs": [],
   "source": []
  }
 ],
 "metadata": {
  "kernelspec": {
   "display_name": "Python 3",
   "language": "python",
   "name": "python3"
  },
  "language_info": {
   "codemirror_mode": {
    "name": "ipython",
    "version": 3
   },
   "file_extension": ".py",
   "mimetype": "text/x-python",
   "name": "python",
   "nbconvert_exporter": "python",
   "pygments_lexer": "ipython3",
   "version": "3.8.8"
  }
 },
 "nbformat": 4,
 "nbformat_minor": 5
}
