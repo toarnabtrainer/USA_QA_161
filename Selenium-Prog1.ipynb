{
 "cells": [
  {
   "cell_type": "markdown",
   "id": "7c7ee4ae-8a9f-428b-bf91-4319e08f4d50",
   "metadata": {},
   "source": [
    "#### Start Chrome Driver using executable path and start any webpage with get() function"
   ]
  },
  {
   "cell_type": "code",
   "execution_count": 5,
   "id": "e397a660-d1b2-4e4d-aa15-756b22f5bb3a",
   "metadata": {},
   "outputs": [
    {
     "name": "stdout",
     "output_type": "stream",
     "text": [
      "4.1.3\n"
     ]
    }
   ],
   "source": [
    "# importing required module\n",
    "from selenium import webdriver\n",
    "\n",
    "# check the version of Selenium\n",
    "print (webdriver.__version__)"
   ]
  },
  {
   "cell_type": "code",
   "execution_count": 6,
   "id": "87fb0d83-2a9a-4254-bdf0-8ec919cdcb00",
   "metadata": {},
   "outputs": [
    {
     "name": "stderr",
     "output_type": "stream",
     "text": [
      "<ipython-input-6-f35b5fa43f80>:3: DeprecationWarning: executable_path has been deprecated, please pass in a Service object\n",
      "  driver = webdriver.Chrome(executable_path = \"./chromedriver.exe\")\n"
     ]
    }
   ],
   "source": [
    "# check chromedriver.exe is present in the same directory or not\n",
    "# otherwise we shall have to provide relative path to the chromedriver.exe file\n",
    "driver = webdriver.Chrome(executable_path = \"./chromedriver.exe\")"
   ]
  },
  {
   "cell_type": "code",
   "execution_count": 7,
   "id": "257ddeec-3084-49c9-800c-2ac303d414b8",
   "metadata": {},
   "outputs": [],
   "source": [
    "# start wikipedia page\n",
    "driver.get(\"https://en.wikipedia.org/wiki/Main_Page\")"
   ]
  },
  {
   "cell_type": "code",
   "execution_count": 8,
   "id": "bbca5ae7-7c7a-466f-9fcc-b0b7d565f46d",
   "metadata": {},
   "outputs": [
    {
     "name": "stdout",
     "output_type": "stream",
     "text": [
      "https://en.wikipedia.org/wiki/Main_Page\n",
      "Wikipedia, the free encyclopedia\n"
     ]
    }
   ],
   "source": [
    "# get the current URL and the current title\n",
    "print (driver.current_url)\n",
    "print (driver.title)"
   ]
  },
  {
   "cell_type": "code",
   "execution_count": 9,
   "id": "cd747171-1902-4f21-aadc-afe4dc8a3f7b",
   "metadata": {},
   "outputs": [
    {
     "name": "stdout",
     "output_type": "stream",
     "text": [
      "https://www.google.com/\n",
      "Google\n"
     ]
    }
   ],
   "source": [
    "# now we shall open Google page\n",
    "driver.get(\"https://www.google.com/\")\n",
    "print (driver.current_url)\n",
    "print (driver.title)"
   ]
  },
  {
   "cell_type": "code",
   "execution_count": 10,
   "id": "f73173a8-2f3c-47b7-8ff5-1480bbcb4557",
   "metadata": {},
   "outputs": [
    {
     "name": "stdout",
     "output_type": "stream",
     "text": [
      "https://en.wikipedia.org/wiki/Main_Page\n",
      "Wikipedia, the free encyclopedia\n"
     ]
    }
   ],
   "source": [
    "# to return back to the previous page using the back() function\n",
    "driver.back()\n",
    "print (driver.current_url)\n",
    "print (driver.title)"
   ]
  },
  {
   "cell_type": "code",
   "execution_count": 11,
   "id": "21a98909-9bf0-4878-b5b6-249d88e3be4a",
   "metadata": {},
   "outputs": [
    {
     "name": "stdout",
     "output_type": "stream",
     "text": [
      "https://www.google.com/\n",
      "Google\n"
     ]
    }
   ],
   "source": [
    "# now to go to the Google page once again\n",
    "driver.forward()\n",
    "print (driver.current_url)\n",
    "print (driver.title)"
   ]
  },
  {
   "cell_type": "code",
   "execution_count": 12,
   "id": "ee011e61-ad3a-4fb1-b9df-325a0a3342d9",
   "metadata": {},
   "outputs": [],
   "source": [
    "# close all windows which were opened by the driver\n",
    "driver.quit()"
   ]
  },
  {
   "cell_type": "code",
   "execution_count": null,
   "id": "bab79424-5a8c-4709-8f68-5c0f5a781f09",
   "metadata": {},
   "outputs": [],
   "source": []
  },
  {
   "cell_type": "code",
   "execution_count": null,
   "id": "24629aad-96e6-4100-bfee-db31bc43a662",
   "metadata": {},
   "outputs": [],
   "source": []
  }
 ],
 "metadata": {
  "kernelspec": {
   "display_name": "Python 3",
   "language": "python",
   "name": "python3"
  },
  "language_info": {
   "codemirror_mode": {
    "name": "ipython",
    "version": 3
   },
   "file_extension": ".py",
   "mimetype": "text/x-python",
   "name": "python",
   "nbconvert_exporter": "python",
   "pygments_lexer": "ipython3",
   "version": "3.8.8"
  }
 },
 "nbformat": 4,
 "nbformat_minor": 5
}
