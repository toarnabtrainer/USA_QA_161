{
 "cells": [
  {
   "cell_type": "code",
   "execution_count": 1,
   "id": "ea4ea49f-55ba-4131-a0b9-45a6544ac25d",
   "metadata": {},
   "outputs": [
    {
     "name": "stdout",
     "output_type": "stream",
     "text": [
      "4.1.3\n"
     ]
    }
   ],
   "source": [
    "# importing required modules\n",
    "from selenium import webdriver\n",
    "\n",
    "# check the current version of selenium\n",
    "print (webdriver.__version__)"
   ]
  },
  {
   "cell_type": "code",
   "execution_count": 3,
   "id": "804a9ec8-b05a-4b60-9f1c-198be48d6e16",
   "metadata": {},
   "outputs": [
    {
     "name": "stderr",
     "output_type": "stream",
     "text": [
      "<ipython-input-3-986cf1e3db41>:2: DeprecationWarning: executable_path has been deprecated, please pass in a Service object\n",
      "  driver = webdriver.Chrome(executable_path = \"./chromedriver.exe\")\n"
     ]
    }
   ],
   "source": [
    "# open one instance of the chrome driver\n",
    "driver = webdriver.Chrome(executable_path = \"./chromedriver.exe\")"
   ]
  },
  {
   "cell_type": "code",
   "execution_count": 4,
   "id": "cdb32ae0-14c5-460c-a684-5d7beed46940",
   "metadata": {},
   "outputs": [],
   "source": [
    "# start a page to calculate the nCr operations\n",
    "URL = \"https://www.calculatorsoup.com/calculators/discretemathematics/combinations.php\"\n",
    "driver.get(URL)"
   ]
  },
  {
   "cell_type": "code",
   "execution_count": 5,
   "id": "c995ab1d-4b87-4ad7-a5c5-170727c1f739",
   "metadata": {},
   "outputs": [
    {
     "name": "stderr",
     "output_type": "stream",
     "text": [
      "<ipython-input-5-83e5c018f444>:2: DeprecationWarning: find_element_by_xpath is deprecated. Please use find_element(by=By.XPATH, value=xpath) instead\n",
      "  n_input = driver.find_element_by_xpath('//*[@id=\"n\"]')\n"
     ]
    }
   ],
   "source": [
    "# inside this page, put the value of n\n",
    "n_input = driver.find_element_by_xpath('//*[@id=\"n\"]')\n",
    "n_input.send_keys('10')"
   ]
  },
  {
   "cell_type": "code",
   "execution_count": 6,
   "id": "65fe82b3-bfe6-4fb5-b4fe-687678950d2a",
   "metadata": {},
   "outputs": [
    {
     "name": "stderr",
     "output_type": "stream",
     "text": [
      "<ipython-input-6-834d98ea855a>:2: DeprecationWarning: find_element_by_xpath is deprecated. Please use find_element(by=By.XPATH, value=xpath) instead\n",
      "  r_input = driver.find_element_by_xpath('//*[@id=\"r\"]')\n"
     ]
    }
   ],
   "source": [
    "# inside this page, put the value of r\n",
    "r_input = driver.find_element_by_xpath('//*[@id=\"r\"]')\n",
    "r_input.send_keys('6')"
   ]
  },
  {
   "cell_type": "code",
   "execution_count": 7,
   "id": "17448d57-f382-4412-8ea4-41200495cad9",
   "metadata": {},
   "outputs": [
    {
     "name": "stderr",
     "output_type": "stream",
     "text": [
      "<ipython-input-7-5333d474e06b>:2: DeprecationWarning: find_element_by_xpath is deprecated. Please use find_element(by=By.XPATH, value=xpath) instead\n",
      "  calculate_button = driver.find_element_by_xpath('//*[@id=\"calculateButton\"]')\n"
     ]
    }
   ],
   "source": [
    "# now go to the calculate command button and click on it \n",
    "calculate_button = driver.find_element_by_xpath('//*[@id=\"calculateButton\"]')\n",
    "calculate_button.click()"
   ]
  },
  {
   "cell_type": "code",
   "execution_count": 12,
   "id": "1a3282c3-2c2f-4085-87f3-1468fd3adabe",
   "metadata": {},
   "outputs": [
    {
     "name": "stdout",
     "output_type": "stream",
     "text": [
      "= 210\n",
      "So the final answer is 210\n"
     ]
    },
    {
     "name": "stderr",
     "output_type": "stream",
     "text": [
      "<ipython-input-12-c7e63839e72d>:2: DeprecationWarning: find_element_by_xpath is deprecated. Please use find_element(by=By.XPATH, value=xpath) instead\n",
      "  result_area = driver.find_element_by_xpath('//*[@id=\"answer\"]/div[1]')\n"
     ]
    }
   ],
   "source": [
    "# read the answer from the result area\n",
    "result_area = driver.find_element_by_xpath('//*[@id=\"answer\"]/div[1]')\n",
    "result = result_area.text\n",
    "print (result)\n",
    "answer = result.split('=')[1].strip()\n",
    "print (\"So the final answer is\", answer)"
   ]
  },
  {
   "cell_type": "code",
   "execution_count": 13,
   "id": "4439e130-94f1-4da6-8002-795277335f57",
   "metadata": {},
   "outputs": [],
   "source": [
    "# close all windows which were opened by the driver\n",
    "driver.quit()"
   ]
  },
  {
   "cell_type": "code",
   "execution_count": null,
   "id": "603440c2-5c74-43f7-807b-eaeb8b9cef59",
   "metadata": {},
   "outputs": [],
   "source": []
  },
  {
   "cell_type": "code",
   "execution_count": null,
   "id": "0b68672a-4003-4e1f-8ad0-09b1effd2395",
   "metadata": {},
   "outputs": [],
   "source": []
  },
  {
   "cell_type": "code",
   "execution_count": null,
   "id": "c3514d47-ec96-4088-93ee-908f2741dcea",
   "metadata": {},
   "outputs": [],
   "source": []
  }
 ],
 "metadata": {
  "kernelspec": {
   "display_name": "Python 3",
   "language": "python",
   "name": "python3"
  },
  "language_info": {
   "codemirror_mode": {
    "name": "ipython",
    "version": 3
   },
   "file_extension": ".py",
   "mimetype": "text/x-python",
   "name": "python",
   "nbconvert_exporter": "python",
   "pygments_lexer": "ipython3",
   "version": "3.8.8"
  }
 },
 "nbformat": 4,
 "nbformat_minor": 5
}
