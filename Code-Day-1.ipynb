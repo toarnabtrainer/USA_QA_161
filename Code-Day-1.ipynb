{
 "cells": [
  {
   "cell_type": "code",
   "execution_count": 6,
   "id": "1e35882a-ed88-4004-ac73-57ff0dd13d78",
   "metadata": {},
   "outputs": [],
   "source": [
    "# This is a comment line\n",
    "# This is another comment line\n",
    "# to comment or uncomment a block of codes use ctrl+'/'"
   ]
  },
  {
   "cell_type": "markdown",
   "id": "52c24644-bf2b-416f-94ed-b0f860ab51ad",
   "metadata": {},
   "source": [
    "#### Python Inputs and Outputs"
   ]
  },
  {
   "cell_type": "code",
   "execution_count": 8,
   "id": "4b7ac7a6-dac6-4985-b08d-b2ce6e6be24a",
   "metadata": {},
   "outputs": [
    {
     "name": "stdin",
     "output_type": "stream",
     "text": [
      "Please enter the first number:  300\n",
      "Please enter the second number:  200\n"
     ]
    },
    {
     "name": "stdout",
     "output_type": "stream",
     "text": [
      "300 <class 'str'> 2228582443440\n",
      "200 <class 'str'> 2228582444016\n",
      "So the total is 300200\n",
      "End of the program...\n"
     ]
    }
   ],
   "source": [
    "num1 = input(\"Please enter the first number: \")\n",
    "num2 = input(\"Please enter the second number: \")\n",
    "print (num1, type(num1), id(num1))\n",
    "print (num2, type(num2), id(num2))\n",
    "total = num1 + num2  # here + is acting as a string concatenation operator\n",
    "print (\"So the total is\", total)\n",
    "print (\"End of the program...\")"
   ]
  },
  {
   "cell_type": "code",
   "execution_count": 9,
   "id": "65b78b2f-1f06-4ae5-8d4a-e0cd37726f3c",
   "metadata": {},
   "outputs": [
    {
     "name": "stdin",
     "output_type": "stream",
     "text": [
      "Please enter the first number:  200\n",
      "Please enter the second number:  300\n"
     ]
    },
    {
     "name": "stdout",
     "output_type": "stream",
     "text": [
      "200 <class 'int'> 140709088215056\n",
      "300 <class 'int'> 2228582412336\n",
      "So the total is 500\n",
      "End of the program...\n"
     ]
    }
   ],
   "source": [
    "num1 = int(input(\"Please enter the first number: \"))\n",
    "num2 = int(input(\"Please enter the second number: \"))\n",
    "print (num1, type(num1), id(num1))\n",
    "print (num2, type(num2), id(num2))\n",
    "total = num1 + num2  # here + is acting as an algebraic addition operator\n",
    "print (\"So the total is\", total)\n",
    "print (\"End of the program...\")"
   ]
  },
  {
   "cell_type": "code",
   "execution_count": 195,
   "id": "bdc4eeae-4f29-421e-ab88-581fffabec28",
   "metadata": {},
   "outputs": [
    {
     "name": "stdout",
     "output_type": "stream",
     "text": [
      "So 100 + 0 = 500\n",
      "So 100 + 0 = 500\n",
      "So 100 + 0 = 500\n",
      "So 100 + 0 = 500\n",
      "So 100 + 0 = 500\n",
      "So 100 + 0 = 500\n",
      "So 100 + 0 = 500\n",
      "So 100 + 0 = 500\n",
      "So 100 + 0.000000 = 500\n",
      "So 100 +    0.000 = 500\n",
      "So 100 + 0 = 500\n"
     ]
    }
   ],
   "source": [
    "print (\"So\", num1, \"+\", num2, \"=\", total)\n",
    "print (\"So \" + str(num1) + \" + \" + str(num2) + \" = \" + str(total))\n",
    "print (\"So {} + {} = {}\".format(num1, num2, total))   # here {} denotes variable placeholder\n",
    "print (\"So {0} + {1} = {2}\".format(num1, num2, total))   # indexed place holder\n",
    "print (\"So {2} + {1} = {0}\".format(total, num2, num1))\n",
    "print (\"So {fnum} + {snum} = {tot}\".format(fnum = num1, snum = num2, tot = total))  # labelled placeholder\n",
    "print (\"So {fnum} + {snum} = {tot}\".format(tot = total, snum = num2, fnum = num1))\n",
    "print (\"So %d + %d = %d\"%(num1, num2, total))   # %d stands for decimal\n",
    "print (\"So %d + %f = %d\"%(num1, num2, total))   # %f stands for float\n",
    "print (\"So %d + %8.3f = %d\"%(num1, num2, total))\n",
    "print (f\"So {num1} + {num2} = {total}\")   # smart formatting available from Python 3.7 onwards"
   ]
  },
  {
   "cell_type": "code",
   "execution_count": 31,
   "id": "12524f56-1f27-4305-b157-47395d9f7b67",
   "metadata": {},
   "outputs": [
    {
     "name": "stdout",
     "output_type": "stream",
     "text": [
      "100 <class 'int'> 140709088211856\n",
      "100.5 <class 'float'> 2228582414000\n",
      "Punch <class 'str'> 2228582295984\n",
      "P <class 'str'> 2228509753456\n",
      "Punch <class 'str'> 2228582295984\n",
      "P <class 'str'> 2228509753456\n",
      "True <class 'bool'> 140709087926096\n",
      "False <class 'bool'> 140709087926128\n"
     ]
    }
   ],
   "source": [
    "# dynamic variable datatypes\n",
    "var1 = 100\n",
    "print (var1, type(var1), id(var1))\n",
    "var1 = 100.5\n",
    "print (var1, type(var1), id(var1))\n",
    "var1 = \"Punch\"\n",
    "print (var1, type(var1), id(var1))\n",
    "var1 = \"P\"\n",
    "print (var1, type(var1), id(var1))\n",
    "var1 = 'Punch'\n",
    "print (var1, type(var1), id(var1))\n",
    "var1 = 'P'\n",
    "print (var1, type(var1), id(var1))\n",
    "var1 = True\n",
    "print (var1, type(var1), id(var1))\n",
    "var1 = False\n",
    "print (var1, type(var1), id(var1))"
   ]
  },
  {
   "cell_type": "code",
   "execution_count": 32,
   "id": "e110159f-bf26-4d56-b238-c288306b624d",
   "metadata": {},
   "outputs": [
    {
     "name": "stdout",
     "output_type": "stream",
     "text": [
      "100 <class 'int'> 140709088211856\n",
      "100 <class 'int'> 140709088211856\n",
      "100 <class 'int'> 140709088211856\n"
     ]
    }
   ],
   "source": [
    "# If values assigned to the variables ranging from -5 to 256, will have same id for variables\n",
    "var1 = 100\n",
    "var2 = 100\n",
    "var3 = var1\n",
    "print (var1, type(var1), id(var1))\n",
    "print (var2, type(var2), id(var2))\n",
    "print (var3, type(var3), id(var3))"
   ]
  },
  {
   "cell_type": "code",
   "execution_count": 34,
   "id": "4e89c2b6-2e0d-475f-808b-01e55dcd8989",
   "metadata": {},
   "outputs": [
    {
     "name": "stdout",
     "output_type": "stream",
     "text": [
      "257 <class 'int'> 2228582415600\n",
      "257 <class 'int'> 2228582415632\n",
      "257 <class 'int'> 2228582415600\n"
     ]
    }
   ],
   "source": [
    "var1 = 257\n",
    "var2 = 257\n",
    "var3 = var1\n",
    "print (var1, type(var1), id(var1))\n",
    "print (var2, type(var2), id(var2))\n",
    "print (var3, type(var3), id(var3))"
   ]
  },
  {
   "cell_type": "code",
   "execution_count": 36,
   "id": "a715d7b4-1f2b-4bd3-b1c9-6e70a5ade923",
   "metadata": {},
   "outputs": [
    {
     "name": "stdout",
     "output_type": "stream",
     "text": [
      "-6 <class 'int'> 2228582415568\n",
      "-6 <class 'int'> 2228582415760\n",
      "-6 <class 'int'> 2228582415568\n"
     ]
    }
   ],
   "source": [
    "var1 = -6\n",
    "var2 = -6\n",
    "var3 = var1\n",
    "print (var1, type(var1), id(var1))\n",
    "print (var2, type(var2), id(var2))\n",
    "print (var3, type(var3), id(var3))"
   ]
  },
  {
   "cell_type": "markdown",
   "id": "20525ee6-e9aa-40e1-8524-08a79f82e2e5",
   "metadata": {},
   "source": [
    "#### Python Operators"
   ]
  },
  {
   "cell_type": "code",
   "execution_count": 49,
   "id": "eebf836e-9237-4709-a605-1eb58f2453ba",
   "metadata": {},
   "outputs": [
    {
     "name": "stdout",
     "output_type": "stream",
     "text": [
      "140\n",
      "60\n",
      "4000\n",
      "2.5\n",
      "2\n",
      "100000000\n",
      "125\n",
      "20\n"
     ]
    }
   ],
   "source": [
    "# Arithmetic Operators: + - * / // ** %\n",
    "print (100 + 40)\n",
    "print (100 - 40)\n",
    "print (100 * 40)\n",
    "print (100 / 40)   # float division\n",
    "print (100 // 40)  # integer division\n",
    "print (100 ** 4)   # exponentiation, to the power of \n",
    "print (5 ** 3)     # exponentiation, to the power of \n",
    "print (100 % 40)   # remainder of the division"
   ]
  },
  {
   "cell_type": "code",
   "execution_count": 39,
   "id": "b134236f-8a24-4050-af72-ad40bbb47922",
   "metadata": {},
   "outputs": [
    {
     "name": "stdout",
     "output_type": "stream",
     "text": [
      "False True\n",
      "False True\n",
      "True False\n",
      "True False\n",
      "True False\n",
      "False True\n"
     ]
    }
   ],
   "source": [
    "# Conditional Operators: > >= < <= != ==\n",
    "print (100 < 40, 40 < 100)\n",
    "print (100 <= 40, 40 <= 100)\n",
    "print (100 > 40, 40 > 100)\n",
    "print (100 >= 40, 40 >= 100)\n",
    "print (100 != 40, 40 != 40)\n",
    "print (100 == 40, 40 == 40)"
   ]
  },
  {
   "cell_type": "code",
   "execution_count": 43,
   "id": "f8baf074-e55b-4016-b21a-0d3d020eeedc",
   "metadata": {},
   "outputs": [
    {
     "name": "stdout",
     "output_type": "stream",
     "text": [
      "False False False True\n",
      "False False False True\n",
      "False True True True\n",
      "False True True True\n",
      "False True\n"
     ]
    }
   ],
   "source": [
    "# Logical Operators: and or not\n",
    "print (False and False, False and True, True and False, True and True)\n",
    "print (5 > 10 and 5 > 20, 5 > 10 and 5 < 10, 5 > 2 and 5 > 10, 5 > 3 and 5 > 4)\n",
    "print (False or False, False or True, True or False, True or True)\n",
    "print (5 > 10 or 5 > 20, 5 > 10 or 5 < 10, 5 > 2 or 5 > 10, 5 > 3 or 5 > 4)\n",
    "print (not True, not False)"
   ]
  },
  {
   "cell_type": "code",
   "execution_count": 45,
   "id": "b5c7b99b-4c34-4e1f-9578-60d2a1b2dcdb",
   "metadata": {},
   "outputs": [
    {
     "name": "stdout",
     "output_type": "stream",
     "text": [
      "100\n",
      "200\n",
      "150\n",
      "1500\n",
      "125\n",
      "8.333333333333334\n"
     ]
    }
   ],
   "source": [
    "# Assignment Operator: = \n",
    "# Special Assignment Operators: += -= *= /= //= **= %=\n",
    "var = 100\n",
    "print (var)\n",
    "var += 100\n",
    "print (var)\n",
    "var -= 50\n",
    "print (var)\n",
    "var *= 10\n",
    "print (var)\n",
    "var //= 12\n",
    "print (var)\n",
    "var /= 15\n",
    "print (var)"
   ]
  },
  {
   "cell_type": "code",
   "execution_count": 48,
   "id": "ab10305a-8fde-4e52-ad62-14604843402d",
   "metadata": {},
   "outputs": [
    {
     "name": "stdout",
     "output_type": "stream",
     "text": [
      "Even\n",
      "Odd\n"
     ]
    }
   ],
   "source": [
    "# Ternary Operator\n",
    "# Operators: Unary, Binary, Ternary\n",
    "# Unary Operators (Require only one operand): +100 -300\n",
    "# Binary Operators (Require only two operands): 700 + 100    900 - 300\n",
    "# Ternary Operator (Requires only three operands)\n",
    "num1 = 100\n",
    "result = \"Even\" if (num1 % 2 == 0) else \"Odd\"\n",
    "print (result)\n",
    "\n",
    "num1 = 101\n",
    "result = \"Even\" if (num1 % 2 == 0) else \"Odd\"\n",
    "print (result)"
   ]
  },
  {
   "cell_type": "code",
   "execution_count": 58,
   "id": "9e34bec2-b806-4854-94d1-52730fced4cc",
   "metadata": {},
   "outputs": [
    {
     "name": "stdout",
     "output_type": "stream",
     "text": [
      "Hello Hello Hello \n",
      "Welcome Welcome Welcome Welcome Welcome \n"
     ]
    }
   ],
   "source": [
    "print (\"Hello \" * 3)\n",
    "print (\"Welcome \" * 5)"
   ]
  },
  {
   "cell_type": "code",
   "execution_count": 53,
   "id": "8ba5076f-c8f4-48fd-bf17-8763a20b2505",
   "metadata": {},
   "outputs": [],
   "source": [
    "# ASCII (American Standard Code for Information Interchange) Codes\n",
    "# A => 65, B => 66, Z => 90\n",
    "# a => 97, b => 98, z => 122\n",
    "# 0 => 48, 1 => 49, 9 => 57\n",
    "# Space Bar/Blank => 32, Enter => 13, Esc => 27, Back Space => 9, Tab => 8\n",
    "# ASCII Code is 8 bits code ranging from 0 to 255\n",
    "# It can be divided into two categories:\n",
    "# 1. Normal ASCII Codes (0 to 127) - Printable\n",
    "# 2. Extended ASCII Codes (128 to 255) - Non-Printable"
   ]
  },
  {
   "cell_type": "code",
   "execution_count": 63,
   "id": "922c968a-ebd3-40b1-b625-46c00c0a9ea4",
   "metadata": {},
   "outputs": [
    {
     "name": "stdout",
     "output_type": "stream",
     "text": [
      "65 97 90 122\n",
      "A a Z z\n"
     ]
    }
   ],
   "source": [
    "print (ord('A'), ord('a'), ord('Z'), ord('z'))  # returns characters to ASCII Codes\n",
    "print (chr(65), chr(97), chr(90), chr(122))     # returns ASCII Codes to characters"
   ]
  },
  {
   "cell_type": "code",
   "execution_count": 64,
   "id": "fb1a57d0-b7e2-4a0f-a04b-e78d31a01e38",
   "metadata": {},
   "outputs": [
    {
     "name": "stdout",
     "output_type": "stream",
     "text": [
      "A a\n"
     ]
    }
   ],
   "source": [
    "# Bitwise Operators: & | ~ ^\n",
    "# A => 65 => 64 + 1      => 0100 0001\n",
    "#                        or 0010 0000 (32)\n",
    "#                           ---------\n",
    "# a => 97 => 64 + 32 + 1 => 0110 0001\n",
    "char1 = 'A'\n",
    "result = chr(ord(char1) | 32)\n",
    "print (char1, result)"
   ]
  },
  {
   "cell_type": "markdown",
   "id": "692e53dc-6ba4-4715-bdc2-2188ab32a440",
   "metadata": {},
   "source": [
    "#### Conditional Statements"
   ]
  },
  {
   "cell_type": "code",
   "execution_count": 77,
   "id": "9b8d0ebf-91df-474d-a243-5a7c76326ee9",
   "metadata": {},
   "outputs": [
    {
     "name": "stdin",
     "output_type": "stream",
     "text": [
      "Please enter the first integer:  200\n",
      "Please enter the second integer:  100\n",
      "Please enter the third integer:  300\n"
     ]
    },
    {
     "name": "stdout",
     "output_type": "stream",
     "text": [
      "The third number is the maximum number...\n",
      "So the maximum number is 300\n",
      "End of the program...\n"
     ]
    }
   ],
   "source": [
    "# Take three numbers from the user as input and find the maximum of these numbers\n",
    "num1 = int(input(\"Please enter the first integer: \"))\n",
    "num2 = int(input(\"Please enter the second integer: \"))\n",
    "num3 = int(input(\"Please enter the third integer: \"))\n",
    "if (num1 > num2):\n",
    "    if (num1 > num3):\n",
    "        print (\"The first number is the maximum number...\")\n",
    "        print (\"So the maximum number is\", num1)\n",
    "    else:\n",
    "        print (\"The third number is the maximum number...\")\n",
    "        print (\"So the maximum number is\", num3)\n",
    "elif (num2 > num3):\n",
    "    print (\"The second number is the maximum number...\")\n",
    "    print (\"So the maximum number is\", num2)\n",
    "else:\n",
    "    print (\"The third number is the maximum number...\")\n",
    "    print (\"So the maximum number is\", num3)\n",
    "print (\"End of the program...\")"
   ]
  },
  {
   "cell_type": "code",
   "execution_count": 83,
   "id": "5a531cf7-07e1-4cbd-ac76-61389ec7c4d9",
   "metadata": {},
   "outputs": [
    {
     "name": "stdin",
     "output_type": "stream",
     "text": [
      "Please enter the first integer:  100\n",
      "Please enter the second integer:  100\n",
      "Please enter the third integer:  100\n"
     ]
    },
    {
     "name": "stdout",
     "output_type": "stream",
     "text": [
      "The third number is the maximum number...\n",
      "So the maximum number is 100\n",
      "End of the program...\n"
     ]
    }
   ],
   "source": [
    "# Take three numbers from the user as input and find the maximum of these numbers\n",
    "num1 = int(input(\"Please enter the first integer: \"))\n",
    "num2 = int(input(\"Please enter the second integer: \"))\n",
    "num3 = int(input(\"Please enter the third integer: \"))\n",
    "if (num1 > num2 and num1 > num3):\n",
    "    print (\"The first number is the maximum number...\")\n",
    "    print (\"So the maximum number is\", num1)\n",
    "elif (num2 > num3):\n",
    "    print (\"The second number is the maximum number...\")\n",
    "    print (\"So the maximum number is\", num2)\n",
    "else:\n",
    "    print (\"The third number is the maximum number...\")\n",
    "    print (\"So the maximum number is\", num3)\n",
    "print (\"End of the program...\")"
   ]
  },
  {
   "cell_type": "code",
   "execution_count": 91,
   "id": "4bb8a807-712b-4b80-b1a9-fcd247a28d30",
   "metadata": {},
   "outputs": [
    {
     "name": "stdout",
     "output_type": "stream",
     "text": [
      "M A I N  M E N U ...\n",
      "~~~~~~~~~~~~~~~~~~~~\n",
      "1 >  A D D I T I O N  O P E R A T I O N ...\n",
      "2 >  S U B T R A C T I O N  O P E R A T I O N ...\n",
      "3 >  M U L T I P L I C A T I O N  O P E R A T I O N ...\n",
      "4 >  D I V I S I O N  O P E R A T I O N ...\n"
     ]
    },
    {
     "name": "stdin",
     "output_type": "stream",
     "text": [
      "Please enter youe choice integer (1 to 4):  4\n",
      "Please enter the first integer:  100\n",
      "Please enter the second integer:  0\n"
     ]
    },
    {
     "name": "stdout",
     "output_type": "stream",
     "text": [
      "Performing the division operation...\n",
      "Division by ZERO is Illegal !!!\n",
      "Division operation can not be carried out...\n",
      "End of the program...\n"
     ]
    }
   ],
   "source": [
    "# Calculator Program\n",
    "print (\"M A I N  M E N U ...\")\n",
    "print (\"~~~~~~~~~~~~~~~~~~~~\")\n",
    "print (\"1 >  A D D I T I O N  O P E R A T I O N ...\")\n",
    "print (\"2 >  S U B T R A C T I O N  O P E R A T I O N ...\")\n",
    "print (\"3 >  M U L T I P L I C A T I O N  O P E R A T I O N ...\")\n",
    "print (\"4 >  D I V I S I O N  O P E R A T I O N ...\")\n",
    "choice = int(input(\"Please enter youe choice integer (1 to 4): \"))\n",
    "num1 = int(input(\"Please enter the first integer: \"))\n",
    "num2 = int(input(\"Please enter the second integer: \"))\n",
    "if (choice == 1):\n",
    "    print (\"Performing the addition operation...\")\n",
    "    result = num1 + num2\n",
    "    print (f\"So {num1} + {num2} = {result}\")\n",
    "elif (choice == 2):\n",
    "    print (\"Performing the subtraction operation...\")\n",
    "    result = num1 - num2\n",
    "    print (f\"So {num1} - {num2} = {result}\")\n",
    "elif (choice == 3):\n",
    "    print (\"Performing the multiplication operation...\")\n",
    "    result = num1 * num2\n",
    "    print (f\"So {num1} * {num2} = {result}\")\n",
    "elif (choice == 4):\n",
    "    print (\"Performing the division operation...\")\n",
    "    if (num2 == 0):\n",
    "        print (\"Division by ZERO is Illegal !!!\")\n",
    "        print (\"Division operation can not be carried out...\")\n",
    "    else:\n",
    "        result = num1 / num2\n",
    "        print (f\"So {num1} / {num2} = {result}\")\n",
    "else:\n",
    "    print (\"Invalid choice number has been provided...\")\n",
    "    print (\"No operation could get carried out...\")\n",
    "print (\"End of the program...\")"
   ]
  },
  {
   "cell_type": "code",
   "execution_count": 97,
   "id": "4f2bb93e-564f-4d6f-88f2-47cdc154cc34",
   "metadata": {},
   "outputs": [
    {
     "name": "stdout",
     "output_type": "stream",
     "text": [
      "Hello to all\n",
      "Good afternoon\n"
     ]
    }
   ],
   "source": [
    "print (\"Hello\", \"to all\")\n",
    "print (\"Good afternoon\")"
   ]
  },
  {
   "cell_type": "code",
   "execution_count": 96,
   "id": "1c4ffccb-c851-453c-b2b1-0370e656a5fe",
   "metadata": {},
   "outputs": [
    {
     "name": "stdout",
     "output_type": "stream",
     "text": [
      "Help on built-in function print in module builtins:\n",
      "\n",
      "print(...)\n",
      "    print(value, ..., sep=' ', end='\\n', file=sys.stdout, flush=False)\n",
      "    \n",
      "    Prints the values to a stream, or to sys.stdout by default.\n",
      "    Optional keyword arguments:\n",
      "    file:  a file-like object (stream); defaults to the current sys.stdout.\n",
      "    sep:   string inserted between values, default a space.\n",
      "    end:   string appended after the last value, default a newline.\n",
      "    flush: whether to forcibly flush the stream.\n",
      "\n"
     ]
    }
   ],
   "source": [
    "help(print)   # ... means ellipsis operator"
   ]
  },
  {
   "cell_type": "code",
   "execution_count": 100,
   "id": "f81430c3-715f-4c72-8bcd-6b33305fabda",
   "metadata": {},
   "outputs": [
    {
     "name": "stdout",
     "output_type": "stream",
     "text": [
      "Hello - to all, Good afternoon\n"
     ]
    }
   ],
   "source": [
    "print (\"Hello\", \"to all\", sep = \" - \", end = \", \")\n",
    "print (\"Good afternoon\")"
   ]
  },
  {
   "cell_type": "markdown",
   "id": "4a7c2376-4d09-4863-b6c6-e862c0a0fb55",
   "metadata": {},
   "source": [
    "#### Python Loops"
   ]
  },
  {
   "cell_type": "code",
   "execution_count": 111,
   "id": "4eae902e-8bee-4ac7-8d2d-05174353e1b5",
   "metadata": {},
   "outputs": [
    {
     "name": "stdout",
     "output_type": "stream",
     "text": [
      "0, 1, 2, 3, 4, 5, 6, 7, 8, 9, \n",
      "5, 6, 7, 8, 9, \n",
      "1, 3, 5, 7, 9, \n",
      "1, 4, 7, \n",
      "10, 9, 8, 7, 6, 5, 4, 3, 2, 1, 0, -1, -2, -3, -4, -5, -6, -7, -8, -9, \n",
      "count = 20\n"
     ]
    }
   ],
   "source": [
    "for i in range(10):\n",
    "    print (i, end = \", \")\n",
    "print (\"\")\n",
    "for i in range(5, 10):\n",
    "    print (i, end = \", \")\n",
    "print (\"\")\n",
    "for i in range(1, 10, 2):\n",
    "    print (i, end = \", \")\n",
    "print (\"\")\n",
    "for i in range(1, 10, 3):\n",
    "    print (i, end = \", \")\n",
    "print (\"\")\n",
    "count = 0\n",
    "for i in range(10, -10, -1):\n",
    "    print (i, end = \", \")\n",
    "    count += 1\n",
    "print (\"\\ncount =\", count)"
   ]
  },
  {
   "cell_type": "code",
   "execution_count": null,
   "id": "7e69e2cf-0d03-4d8e-8b6e-f6acdab2e897",
   "metadata": {},
   "outputs": [],
   "source": [
    "# Pattern print - 1\n",
    "\n",
    "n = 6          i   .   *\n",
    "             -------------\n",
    ".....*         1   5   1        (i, n)\n",
    "....***        2   4   3   . => (n - i)\n",
    "...*****       3   3   5\n",
    "..*******      4   2   7   * => (2 * i - 1)\n",
    ".*********     5   1   9\n",
    "***********    6   0  11\n",
    "             -------------\n",
    "             Tracing Table"
   ]
  },
  {
   "cell_type": "code",
   "execution_count": 117,
   "id": "d648218b-8027-41b3-89d3-09197a552aaf",
   "metadata": {},
   "outputs": [
    {
     "name": "stdin",
     "output_type": "stream",
     "text": [
      "Please enter the number of layers:  6\n"
     ]
    },
    {
     "name": "stdout",
     "output_type": "stream",
     "text": [
      ".....*\n",
      "....***\n",
      "...*****\n",
      "..*******\n",
      ".*********\n",
      "***********\n",
      "End of the program...\n"
     ]
    }
   ],
   "source": [
    "n = int(input(\"Please enter the number of layers: \"))\n",
    "for i in range(1, n + 1):\n",
    "    print (\".\" * (n - i) + \"*\" * (2 * i - 1))\n",
    "print (\"End of the program...\")"
   ]
  },
  {
   "cell_type": "code",
   "execution_count": null,
   "id": "d36633e4-912f-4b78-8051-0d4fe64c4d95",
   "metadata": {},
   "outputs": [],
   "source": [
    "# Class Assignment - 1\n",
    "# Pattern print - 2\n",
    "\n",
    "n = 6          i   .   *\n",
    "             -------------\n",
    "***********    1   0  11        (i, n)\n",
    ".*********     2   1   9   . => (i - 1)\n",
    "..*******      3   2   7\n",
    "...*****       4   3   5   * => (2 * (n - i) + 1)\n",
    "....***        5   4   3\n",
    ".....*         6   5   1\n",
    "             -------------\n",
    "             Tracing Table (Update it to get the logic and implement in Python)"
   ]
  },
  {
   "cell_type": "code",
   "execution_count": 118,
   "id": "cd6ca997-4208-43b2-bc2d-6a9b920ff337",
   "metadata": {},
   "outputs": [
    {
     "name": "stdin",
     "output_type": "stream",
     "text": [
      "Please enter the number of layers:  11\n"
     ]
    },
    {
     "name": "stdout",
     "output_type": "stream",
     "text": [
      "*********************\n",
      ".*******************\n",
      "..*****************\n",
      "...***************\n",
      "....*************\n",
      ".....***********\n",
      "......*********\n",
      ".......*******\n",
      "........*****\n",
      ".........***\n",
      "..........*\n",
      "End of the program...\n"
     ]
    }
   ],
   "source": [
    "n = int(input(\"Please enter the number of layers: \"))\n",
    "for i in range(1, n + 1):\n",
    "    print (\".\" * (i - 1) + \"*\" * (2 * (n - i) + 1))\n",
    "print (\"End of the program...\")"
   ]
  },
  {
   "cell_type": "code",
   "execution_count": null,
   "id": "f290480d-bb5b-446b-860b-9d711ccd5cea",
   "metadata": {},
   "outputs": [],
   "source": [
    "# Pattern print - 3\n",
    "(User input must be an ODD number)\n",
    "n = 11         i   .   *     m = (n + 1) // 2 = 6\n",
    "             -------------\n",
    ".....*         1   5   1        (i, n, m)\n",
    "....***        2   4   3   . => (m - i)\n",
    "...*****       3   3   5\n",
    "..*******      4   2   7   * => (2 * i - 1)\n",
    ".*********     5   1   9\n",
    "***********  __6___0__11__\n",
    ".*********     7   1   9\n",
    "..*******      8   2   7   . => (i - m)\n",
    "...*****       9   3   5\n",
    "....***       10   4   3   * => (2 * (n - i) + 1)\n",
    ".....*        11   5   1\n",
    "             -------------\n",
    "             Tracing Table"
   ]
  },
  {
   "cell_type": "code",
   "execution_count": 122,
   "id": "8f6aa93e-0525-4b56-abd9-89399c88bea5",
   "metadata": {},
   "outputs": [
    {
     "name": "stdin",
     "output_type": "stream",
     "text": [
      "Please enter the ODD number of layers:  11\n"
     ]
    },
    {
     "name": "stdout",
     "output_type": "stream",
     "text": [
      ".....*\n",
      "....***\n",
      "...*****\n",
      "..*******\n",
      ".*********\n",
      "***********\n",
      ".*********\n",
      "..*******\n",
      "...*****\n",
      "....***\n",
      ".....*\n",
      "End of the program...\n"
     ]
    }
   ],
   "source": [
    "n = int(input(\"Please enter the ODD number of layers: \"))\n",
    "m = (n + 1) // 2\n",
    "for i in range(1, n + 1):\n",
    "    if (i > m):\n",
    "        b = (i - m)\n",
    "        s = (2 * (n - i) + 1)\n",
    "    else:\n",
    "        b = (m - i)\n",
    "        s = (2 * i - 1)\n",
    "    print (\".\" * b + \"*\" * s)\n",
    "print (\"End of the program...\")"
   ]
  },
  {
   "cell_type": "code",
   "execution_count": 124,
   "id": "da36c3a9-03e4-4b87-a0fd-f1c65576d7f1",
   "metadata": {},
   "outputs": [
    {
     "name": "stdin",
     "output_type": "stream",
     "text": [
      "Please enter the ODD number of layers:  13\n"
     ]
    },
    {
     "name": "stdout",
     "output_type": "stream",
     "text": [
      "......*\n",
      ".....***\n",
      "....*****\n",
      "...*******\n",
      "..*********\n",
      ".***********\n",
      "*************\n",
      ".***********\n",
      "..*********\n",
      "...*******\n",
      "....*****\n",
      ".....***\n",
      "......*\n",
      "End of the program...\n"
     ]
    }
   ],
   "source": [
    "n = int(input(\"Please enter the ODD number of layers: \"))\n",
    "m = (n + 1) // 2\n",
    "for i in range(1, n + 1):\n",
    "    if (i > m): b = (i - m); s = (2 * (n - i) + 1)\n",
    "    else: b = (m - i); s = (2 * i - 1)\n",
    "    print (\".\" * b + \"*\" * s)\n",
    "print (\"End of the program...\")"
   ]
  },
  {
   "cell_type": "code",
   "execution_count": 126,
   "id": "b3d73a42-1b49-46d4-a185-d6bbdc1061f0",
   "metadata": {},
   "outputs": [
    {
     "name": "stdout",
     "output_type": "stream",
     "text": [
      "0, 1, 2, 3, 4, 5, 6, 7, 8, 9, \n",
      "Executing the ELSE block...\n",
      "Had a smooth execution...\n",
      "\n",
      "End of the program...\n"
     ]
    }
   ],
   "source": [
    "for i in range(10):\n",
    "    print (i, end = \", \")\n",
    "else:\n",
    "    print (\"\\nExecuting the ELSE block...\")\n",
    "    print (\"Had a smooth execution...\")\n",
    "print (\"\\nEnd of the program...\")"
   ]
  },
  {
   "cell_type": "code",
   "execution_count": 131,
   "id": "20d116ed-95c0-4268-951b-1631e89e2131",
   "metadata": {},
   "outputs": [
    {
     "name": "stdout",
     "output_type": "stream",
     "text": [
      "0, 1, 2, 3, 4, 5, 6, 7, 8, 9, \n",
      "Executing the BREAK block...\n",
      "\n",
      "End of the program...\n"
     ]
    }
   ],
   "source": [
    "# use of 'break' statement\n",
    "for i in range(10):\n",
    "    print (i, end = \", \")\n",
    "    if (i == 9):\n",
    "        print (\"\\nExecuting the BREAK block...\")\n",
    "        break\n",
    "else:\n",
    "    print (\"\\nExecuting the ELSE block...\")\n",
    "    print (\"Had a smooth execution...\")\n",
    "print (\"\\nEnd of the program...\")"
   ]
  },
  {
   "cell_type": "code",
   "execution_count": 133,
   "id": "8e8fb2bf-2495-40ab-a58b-d7f7a3633fcd",
   "metadata": {},
   "outputs": [
    {
     "name": "stdin",
     "output_type": "stream",
     "text": [
      "Please enter one integer:  11\n"
     ]
    },
    {
     "name": "stdout",
     "output_type": "stream",
     "text": [
      "11 is a PRIME Number...\n",
      "End of the program...\n"
     ]
    }
   ],
   "source": [
    "# check whether one user given number if PRIME or not\n",
    "num = int(input(\"Please enter one integer: \"))\n",
    "for i in range(2, num):\n",
    "    if (num % i == 0):\n",
    "        print (f\"{num} is Not a PRIME Number...\")\n",
    "        break\n",
    "else:\n",
    "    print (f\"{num} is a PRIME Number...\")\n",
    "print (\"End of the program...\")"
   ]
  },
  {
   "cell_type": "code",
   "execution_count": 141,
   "id": "da8eddb6-363c-4870-b2bf-14bc49ad1595",
   "metadata": {},
   "outputs": [
    {
     "name": "stdout",
     "output_type": "stream",
     "text": [
      "0, 1, 2, 3, \n",
      "Executing the continue statement for i = 4...\n",
      "5, \n",
      "Executing the continue statement for i = 6...\n",
      "7, 8, 9, \n",
      "Executing the ELSE block...\n",
      "Had a smooth execution...\n",
      "\n",
      "End of the program...\n"
     ]
    }
   ],
   "source": [
    "# use of 'continue' statement\n",
    "for i in range(10):\n",
    "    if (i == 4 or i == 6):\n",
    "        print (f\"\\nExecuting the continue statement for i = {i}...\")\n",
    "        continue\n",
    "    else:\n",
    "        pass\n",
    "    print (i, end = \", \")\n",
    "else:\n",
    "    print (\"\\nExecuting the ELSE block...\")\n",
    "    print (\"Had a smooth execution...\")\n",
    "print (\"\\nEnd of the program...\")"
   ]
  },
  {
   "cell_type": "code",
   "execution_count": 140,
   "id": "a209a7fe-d16b-4124-be76-ed6c087d0158",
   "metadata": {},
   "outputs": [
    {
     "name": "stdin",
     "output_type": "stream",
     "text": [
      "Please enter one integer:  11\n"
     ]
    },
    {
     "name": "stdout",
     "output_type": "stream",
     "text": [
      "End of the program...\n"
     ]
    }
   ],
   "source": [
    "# check whether a given integer number is EVEN or not\n",
    "num = int(input(\"Please enter one integer: \"))\n",
    "if (num % 2 == 1):\n",
    "    pass   # statement placeholder\n",
    "else:\n",
    "    print (f\"{num} is an EVEN Number...\")\n",
    "print (\"End of the program...\")"
   ]
  },
  {
   "cell_type": "code",
   "execution_count": 134,
   "id": "cdee2004-6432-41ab-9df4-366dcb813017",
   "metadata": {},
   "outputs": [
    {
     "name": "stdout",
     "output_type": "stream",
     "text": [
      "i = 1, i = 2, i = 3, i = 4, i = 5, i = 6, i = 7, i = 8, i = 9, i = 10, \n",
      "Executing the ELSE Block...\n",
      "\n",
      "End of the program...\n"
     ]
    }
   ],
   "source": [
    "i = 1\n",
    "while (i <= 10):\n",
    "    print (\"i =\", i, end = \", \")\n",
    "    i += 1\n",
    "else:\n",
    "    print (\"\\nExecuting the ELSE Block...\")\n",
    "print (\"\\nEnd of the program...\")"
   ]
  },
  {
   "cell_type": "code",
   "execution_count": 143,
   "id": "8cd22aca-4ac4-4856-8d02-d6c96d745a60",
   "metadata": {},
   "outputs": [
    {
     "name": "stdout",
     "output_type": "stream",
     "text": [
      "Visit Doctor...\n",
      "Good Morning...\n",
      "Day Number -> 1 and Medicine Number -> 1...\n",
      "Day Number -> 1 and Medicine Number -> 2...\n",
      "Day Number -> 1 and Medicine Number -> 3...\n",
      "Good Night...\n",
      "----------------------------------------------------------------\n",
      "Good Morning...\n",
      "Day Number -> 2 and Medicine Number -> 1...\n",
      "Day Number -> 2 and Medicine Number -> 2...\n",
      "Day Number -> 2 and Medicine Number -> 3...\n",
      "Good Night...\n",
      "----------------------------------------------------------------\n",
      "Good Morning...\n",
      "Day Number -> 3 and Medicine Number -> 1...\n",
      "Day Number -> 3 and Medicine Number -> 2...\n",
      "Day Number -> 3 and Medicine Number -> 3...\n",
      "Good Night...\n",
      "----------------------------------------------------------------\n",
      "Good Morning...\n",
      "Day Number -> 4 and Medicine Number -> 1...\n",
      "Day Number -> 4 and Medicine Number -> 2...\n",
      "Day Number -> 4 and Medicine Number -> 3...\n",
      "Good Night...\n",
      "----------------------------------------------------------------\n",
      "Good Morning...\n",
      "Day Number -> 5 and Medicine Number -> 1...\n",
      "Day Number -> 5 and Medicine Number -> 2...\n",
      "Day Number -> 5 and Medicine Number -> 3...\n",
      "Good Night...\n",
      "----------------------------------------------------------------\n",
      "Thanks to Doctor...\n"
     ]
    }
   ],
   "source": [
    "# example of nested loop\n",
    "print (\"Visit Doctor...\")    # 1 time\n",
    "for day in range(1, 6):\n",
    "    print (\"Good Morning...\")    # 5 times\n",
    "    for medi in range(1, 4):\n",
    "        print (f\"Day Number -> {day} and Medicine Number -> {medi}...\")    # 15 times\n",
    "    print (\"Good Night...\")    # 5 times\n",
    "    print (\"----------------------------------------------------------------\")    # 5 times\n",
    "print (\"Thanks to Doctor...\")    # 1 time"
   ]
  },
  {
   "cell_type": "code",
   "execution_count": 146,
   "id": "223b5c73-3e1e-43e5-9d2a-e759f3904bcf",
   "metadata": {},
   "outputs": [
    {
     "name": "stdout",
     "output_type": "stream",
     "text": [
      "Visit Doctor...\n",
      "Good Morning...\n",
      "Day Number -> 1 and Medicine Number -> 1...\n",
      "Day Number -> 1 and Medicine Number -> 2...\n",
      "Day Number -> 1 and Medicine Number -> 3...\n",
      "Good Night...\n",
      "----------------------------------------------------------------\n",
      "Good Morning...\n",
      "Day Number -> 2 and Medicine Number -> 1...\n",
      "Day Number -> 2 and Medicine Number -> 2...\n",
      "Day Number -> 2 and Medicine Number -> 3...\n",
      "Good Night...\n",
      "----------------------------------------------------------------\n",
      "Good Morning...\n",
      "Day Number -> 3 and Medicine Number -> 1...\n",
      "Day Number -> 3 and Medicine Number -> 2...\n",
      "Day Number -> 3 and Medicine Number -> 3...\n",
      "Good Night...\n",
      "----------------------------------------------------------------\n",
      "Good Morning...\n",
      "Day Number -> 4 and Medicine Number -> 1...\n",
      "Day Number -> 4 and Medicine Number -> 2...\n",
      "Day Number -> 4 and Medicine Number -> 3...\n",
      "Good Night...\n",
      "----------------------------------------------------------------\n",
      "Good Morning...\n",
      "Day Number -> 5 and Medicine Number -> 1...\n",
      "Day Number -> 5 and Medicine Number -> 2...\n",
      "Day Number -> 5 and Medicine Number -> 3...\n",
      "Good Night...\n",
      "----------------------------------------------------------------\n",
      "So the total number of medicine consumed is 15...\n",
      "Thanks to Doctor...\n"
     ]
    }
   ],
   "source": [
    "# example of nested loop\n",
    "print (\"Visit Doctor...\")    # 1 time\n",
    "day = 1\n",
    "medicount = 0\n",
    "while (day <= 5):\n",
    "    print (\"Good Morning...\")    # 5 times\n",
    "    medi = 1\n",
    "    while (medi <= 3):\n",
    "        print (f\"Day Number -> {day} and Medicine Number -> {medi}...\")    # 15 times\n",
    "        medi += 1\n",
    "        medicount += 1\n",
    "    print (\"Good Night...\")    # 5 times\n",
    "    print (\"----------------------------------------------------------------\")    # 5 times\n",
    "    day += 1\n",
    "print (f\"So the total number of medicine consumed is {medicount}...\")\n",
    "print (\"Thanks to Doctor...\")    # 1 time"
   ]
  },
  {
   "cell_type": "code",
   "execution_count": 148,
   "id": "53fa3e8e-97e7-463f-a127-02eec4ab2ffb",
   "metadata": {},
   "outputs": [
    {
     "name": "stdin",
     "output_type": "stream",
     "text": [
      "Please enter your expression... 100 + (2 * 3 + 500) * 10\n"
     ]
    },
    {
     "name": "stdout",
     "output_type": "stream",
     "text": [
      "Result against the expression 100 + (2 * 3 + 500) * 10 is 5160...\n",
      "End of the program...\n"
     ]
    }
   ],
   "source": [
    "myexpr = input(\"Please enter your expression...\")\n",
    "result = eval(myexpr)\n",
    "print (f\"Result against the expression {myexpr} is {result}...\")\n",
    "print (\"End of the program...\")"
   ]
  },
  {
   "cell_type": "markdown",
   "id": "36f11517-fe2b-41a4-8df7-ef27aed074af",
   "metadata": {},
   "source": [
    "#### User Defined Functions (UDF)"
   ]
  },
  {
   "cell_type": "code",
   "execution_count": 150,
   "id": "12cab5e6-8e84-4eed-9b1f-81daab0a09d6",
   "metadata": {},
   "outputs": [
    {
     "name": "stdout",
     "output_type": "stream",
     "text": [
      "Welcome Welcome Welcome Welcome \n",
      "Welcome Welcome Welcome Welcome \n",
      "Welcome Welcome Welcome Welcome \n",
      "<class 'function'> 2228602939856\n"
     ]
    }
   ],
   "source": [
    "def funct1():\n",
    "    print (\"Welcome \" * 4)\n",
    "    \n",
    "funct1()\n",
    "funct1()\n",
    "funct1()\n",
    "print (type(funct1), id(funct1))"
   ]
  },
  {
   "cell_type": "code",
   "execution_count": 152,
   "id": "2695dc4a-d16e-489f-89fb-03484c0d7bf4",
   "metadata": {},
   "outputs": [
    {
     "name": "stdout",
     "output_type": "stream",
     "text": [
      "Hello Hello Hello Hello Hello Hello Hello Hello Hello Hello \n",
      "Good Bye !!! Good Bye !!! Good Bye !!! Good Bye !!! Good Bye !!! Good Bye !!! \n",
      "Hi !!! Hi !!! Hi !!! \n"
     ]
    }
   ],
   "source": [
    "def funct2(msg, times):   # msg and times are called as positional parameters\n",
    "    print (msg * times)\n",
    "    \n",
    "funct2 (\"Hello \", 10)   # \"Hello \" and 10 are called as positional arguments\n",
    "funct2(\"Good Bye !!! \", 6)\n",
    "funct2(\"Hi !!! \", 3)"
   ]
  },
  {
   "cell_type": "code",
   "execution_count": 156,
   "id": "dee08ce0-a8a6-480f-9967-83cc8ec175d7",
   "metadata": {},
   "outputs": [
    {
     "name": "stdout",
     "output_type": "stream",
     "text": [
      "Hello Hello Hello Hello Hello Hello Hello Hello Hello Hello \n",
      "Hi !!!Hi !!!Hi !!!Hi !!!Hi !!!\n",
      "<class 'str'> 2228609181696\n",
      "<class 'function'> 2228602938272\n",
      "5000\n",
      "<class 'int'> 2228602915376\n"
     ]
    }
   ],
   "source": [
    "def funct3(msg, times):\n",
    "    return msg * times\n",
    "\n",
    "result = funct3(\"Hello \", 10)\n",
    "print (result)\n",
    "result = funct3(\"Hi !!!\", 5)\n",
    "print (result)\n",
    "print (type(result), id(result))\n",
    "print (type(funct3), id(funct3))\n",
    "result = funct3(1000, 5)\n",
    "print (result)\n",
    "print (type(result), id(result))"
   ]
  },
  {
   "cell_type": "code",
   "execution_count": 170,
   "id": "70dba392-5a37-42ca-8533-09838500a3c6",
   "metadata": {},
   "outputs": [
    {
     "name": "stdout",
     "output_type": "stream",
     "text": [
      "par1 = 100, par2 = 200 and par3 = 300...\n",
      "par1 = 100, par2 = 200 and par3 = 333...\n",
      "par1 = 100, par2 = 222 and par3 = 333...\n",
      "par1 = 111, par2 = 222 and par3 = 333...\n",
      "par1 = 100, par2 = 222 and par3 = 300...\n",
      "par1 = 100, par2 = 222 and par3 = 300...\n",
      "par1 = 111, par2 = 200 and par3 = 333...\n",
      "par1 = 100.5, par2 = 222 and par3 = Amitava...\n"
     ]
    }
   ],
   "source": [
    "# function with default arguments\n",
    "def funct4(par1 = 111, par2 = 222, par3 = 333):    # positional parameters\n",
    "    print (f\"par1 = {par1}, par2 = {par2} and par3 = {par3}...\")\n",
    "    \n",
    "funct4(100, 200, 300)    # positional arguments\n",
    "funct4(100, 200)\n",
    "funct4(100)\n",
    "funct4()\n",
    "funct4(par1 = 100, par3 = 300)\n",
    "funct4(par3 = 300, par1 = 100)\n",
    "funct4(par2 = 200)\n",
    "funct4(par1 = 100.5, par3 = \"Amitava\")"
   ]
  },
  {
   "cell_type": "code",
   "execution_count": null,
   "id": "60d845a4-a851-4038-af45-e93114c77c2f",
   "metadata": {},
   "outputs": [],
   "source": [
    "Class Assignment - 2 / Day-1\n",
    "----------------------------\n",
    "Find the sum of first n terms of the following series, where n will be given by the user as input -\n",
    "total =   1 + 2 + 3 + 4 + 10 + 5 + 6 + 7 + 8 + 26 + 9 + 10 + ... n temrs\n",
    "term no.  1   2   3   4   5    6   7   8   9   10  11   12     \n",
    "if n = 4 then output = 10\n",
    "if n = 5 then output = 20\n",
    "if n = 10 then output = 72\n",
    "if n = 11 then output = 81\n",
    "\n",
    "Can you find the value of the 99th term of the series? Answer: 80"
   ]
  },
  {
   "cell_type": "code",
   "execution_count": null,
   "id": "e6bb539d-8d88-4782-8374-131a432e483e",
   "metadata": {},
   "outputs": [],
   "source": [
    "# Pseudo Code of the Series Problem\n",
    "input n\n",
    "temp_sum = 0, final_sum = 0, term = 1\n",
    "for i = 1 to n\n",
    "    if (i mod 5 = 0) then\n",
    "        final_sum = final_sum + temp_sum\n",
    "        temp_sum = 0\n",
    "    else\n",
    "        final_sum = final_sum + term\n",
    "        temp_sum = temp_sum + term\n",
    "        term = term + 1\n",
    "    end if\n",
    "end for\n",
    "print final_sum\n",
    "end"
   ]
  },
  {
   "cell_type": "code",
   "execution_count": 223,
   "id": "9a844631-38d5-4c64-913b-5fcf3731f54c",
   "metadata": {},
   "outputs": [
    {
     "name": "stdin",
     "output_type": "stream",
     "text": [
      "Please enter the number of terms of the series:  13\n"
     ]
    },
    {
     "name": "stdout",
     "output_type": "stream",
     "text": [
      "For i = 1 adding the term 1...\n",
      "For i = 2 adding the term 2...\n",
      "For i = 3 adding the term 3...\n",
      "For i = 4 adding the term 4...\n",
      "For i = 5 adding the temporary sum 10...\n",
      "For i = 6 adding the term 5...\n",
      "For i = 7 adding the term 6...\n",
      "For i = 8 adding the term 7...\n",
      "For i = 9 adding the term 8...\n",
      "For i = 10 adding the temporary sum 26...\n",
      "For i = 11 adding the term 9...\n",
      "For i = 12 adding the term 10...\n",
      "For i = 13 adding the term 11...\n",
      "So the final sum of the series is 102...\n"
     ]
    }
   ],
   "source": [
    "# Python implementation of the Series Problem\n",
    "n = int(input(\"Please enter the number of terms of the series: \"))\n",
    "temp_sum, final_sum, term = 0, 0, 1\n",
    "for i in range(1, n + 1):\n",
    "    if (i % 5 == 0):\n",
    "        final_sum = final_sum + temp_sum\n",
    "        print (f\"For i = {i} adding the temporary sum {temp_sum}...\")\n",
    "        temp_sum = 0\n",
    "    else:\n",
    "        final_sum = final_sum + term\n",
    "        temp_sum = temp_sum + term\n",
    "        print (f\"For i = {i} adding the term {term}...\")\n",
    "        term = term + 1\n",
    "print (f\"So the final sum of the series is {final_sum}...\")"
   ]
  },
  {
   "cell_type": "code",
   "execution_count": 176,
   "id": "6435584c-95bc-44de-9320-115a7fdefaa8",
   "metadata": {},
   "outputs": [
    {
     "name": "stdout",
     "output_type": "stream",
     "text": [
      "[100, 2.45, True, 'Food', 201] 5 <class 'list'> 2228582071488\n",
      "(100, 2.45, True, 'Food', 201) 5 <class 'tuple'> 2228609335520\n",
      "{'name': 'Bidisha', 'location': 'Noida', 'job': 'Developer', 'company': 'Accenture'} 4 <class 'dict'> 2228598223424\n",
      "{True, 2.45, 100, 201, 'Delhi', 'Food'} 6 <class 'set'> 2228603847392\n",
      "frozenset({True, 2.45, 100, 201, 'Delhi', 'Food'}) 6 <class 'frozenset'> 2228603848288\n"
     ]
    }
   ],
   "source": [
    "# different inbuilt collections\n",
    "var1 = [100, 2.45, True, \"Food\", 201]   # mutable\n",
    "print (var1, len(var1), type(var1), id(var1))\n",
    "var1 = (100, 2.45, True, \"Food\", 201)   # immutable, read only\n",
    "print (var1, len(var1), type(var1), id(var1))\n",
    "var1 = {'name':'Bidisha', 'location':'Noida', 'job':'Developer', 'company':'Accenture'}\n",
    "print (var1, len(var1), type(var1), id(var1))\n",
    "var1 = {\"Delhi\", 100, 2.45, True, \"Food\", 201, True, \"Food\", 201}\n",
    "print (var1, len(var1), type(var1), id(var1))\n",
    "var1 = frozenset([\"Delhi\", 100, 2.45, True, \"Food\", 201, True, \"Food\", 201])   # immutable, read only\n",
    "print (var1, len(var1), type(var1), id(var1))"
   ]
  },
  {
   "cell_type": "code",
   "execution_count": 178,
   "id": "a93a5d53-42da-4115-b4f2-3c2fd07663dd",
   "metadata": {},
   "outputs": [
    {
     "name": "stdout",
     "output_type": "stream",
     "text": [
      "700\n",
      "200\n"
     ]
    }
   ],
   "source": [
    "def funct5(num1, num2 = None):\n",
    "    # if (num2 == None):\n",
    "    if (num2 is None):\n",
    "        return 2 * num1\n",
    "    else:\n",
    "        return num1 + num2\n",
    "    \n",
    "result = funct5(100, 600)\n",
    "print (result)\n",
    "result = funct5(100)\n",
    "print (result)"
   ]
  },
  {
   "cell_type": "code",
   "execution_count": 193,
   "id": "5dadb596-6911-405f-9d4a-0111eb265c5a",
   "metadata": {},
   "outputs": [
    {
     "name": "stdout",
     "output_type": "stream",
     "text": [
      "Total = 140, Difference = 60, Product = 4000 and Quotient = 2.5...\n",
      "(140, 60, 4000, 2.5) 4 <class 'tuple'> 2228600752384\n",
      "Total = 140, Difference = 60, Product = 4000 and Quotient = 2.5...\n"
     ]
    }
   ],
   "source": [
    "def funct6(num1, num2):\n",
    "    total = num1 + num2\n",
    "    difference = num1 - num2\n",
    "    product = num1 * num2\n",
    "    quotient = num1 / num2\n",
    "    return total, difference, product, quotient\n",
    "\n",
    "tt, dd, pp, qq = funct6(100, 40)\n",
    "print (f\"Total = {tt}, Difference = {dd}, Product = {pp} and Quotient = {qq}...\")\n",
    "result = funct6(100, 40)\n",
    "print (result, len(result), type(result), id(result))\n",
    "print (f\"Total = {result[0]}, Difference = {result[1]}, Product = {result[2]} and Quotient = {result[3]}...\")"
   ]
  },
  {
   "cell_type": "code",
   "execution_count": 197,
   "id": "e166edd3-1ca1-4f64-a919-bb8acb7757ea",
   "metadata": {},
   "outputs": [
    {
     "name": "stdout",
     "output_type": "stream",
     "text": [
      "('Amitava', 'Developer', 65000) 3 <class 'tuple'> 2228600793408\n",
      "('Amitava', 'Developer', 65000, 'Pune') 4 <class 'tuple'> 2228602849296\n",
      "('Amitava', 'Developer', 65000, 'Pune', 'Masters') 5 <class 'tuple'> 2228596647072\n"
     ]
    }
   ],
   "source": [
    "# function with variable number of arguments\n",
    "def funct7(*arg):    # *arg1 means forcefully defining arg1 as a tuple\n",
    "    print (arg, len(arg), type(arg), id(arg))\n",
    "    \n",
    "funct7(\"Amitava\", \"Developer\", 65000)\n",
    "funct7(\"Amitava\", \"Developer\", 65000, \"Pune\")\n",
    "funct7(\"Amitava\", \"Developer\", 65000, \"Pune\", \"Masters\")"
   ]
  },
  {
   "cell_type": "code",
   "execution_count": 201,
   "id": "f3401e8c-9a13-42f6-91ae-e760e7d893e0",
   "metadata": {},
   "outputs": [
    {
     "name": "stdout",
     "output_type": "stream",
     "text": [
      "{'name': 'Amitava', 'job': 'Developer', 'salary': 65000} 3 <class 'dict'> 2228601128512\n",
      "{'name': 'Amitava', 'job': 'Developer', 'salary': 65000, 'location': 'Pune'} 4 <class 'dict'> 2228599609280\n",
      "{'name': 'Amitava', 'job': 'Developer', 'salary': 65000, 'location': 'Pune', 'qualification': 'Masters'} 5 <class 'dict'> 2228610262144\n"
     ]
    }
   ],
   "source": [
    "# function with variable number of arguments\n",
    "def funct8(**kwarg):    # **kwarg means forcefully defining kwarg as a dictionary type key-word argument\n",
    "    print (kwarg, len(kwarg), type(kwarg), id(kwarg))\n",
    "    \n",
    "funct8(name = \"Amitava\", job = \"Developer\", salary = 65000)\n",
    "funct8(name = \"Amitava\", job = \"Developer\", salary = 65000, location = \"Pune\")\n",
    "funct8(name = \"Amitava\", job = \"Developer\", salary = 65000, location = \"Pune\", qualification = \"Masters\")"
   ]
  },
  {
   "cell_type": "code",
   "execution_count": 205,
   "id": "b96fbc63-9d13-4f24-9ef2-022b1e906d82",
   "metadata": {},
   "outputs": [
    {
     "name": "stdout",
     "output_type": "stream",
     "text": [
      "('Amitava', 'Developer', 65000) 3 <class 'tuple'> 2228600902272\n",
      "{'location': 'Pune', 'qualification': 'Masters', 'hobby': 'drawing'} 3 <class 'dict'> 2228600053184\n",
      "\n",
      "('Amitava', 'Developer', 65000) 3 <class 'tuple'> 2228600914688\n",
      "{} 0 <class 'dict'> 2228600052992\n",
      "\n",
      "() 0 <class 'tuple'> 2228505804864\n",
      "{'location': 'Pune', 'qualification': 'Masters', 'hobby': 'drawing'} 3 <class 'dict'> 2228599936960\n"
     ]
    }
   ],
   "source": [
    "# function with variable number of arguments\n",
    "def funct8(*arg, **kwarg):\n",
    "    print (arg, len(arg), type(arg), id(arg))\n",
    "    print (kwarg, len(kwarg), type(kwarg), id(kwarg))\n",
    "    \n",
    "funct8(\"Amitava\", \"Developer\", 65000, location = \"Pune\", qualification = \"Masters\", hobby = 'drawing')\n",
    "print ()\n",
    "funct8(\"Amitava\", \"Developer\", 65000)\n",
    "print ()\n",
    "funct8(location = \"Pune\", qualification = \"Masters\", hobby = 'drawing')"
   ]
  },
  {
   "cell_type": "code",
   "execution_count": 211,
   "id": "d74e734c-3dcf-43ea-bf0c-b7024f52257b",
   "metadata": {},
   "outputs": [
    {
     "name": "stdout",
     "output_type": "stream",
     "text": [
      "Executing for i = 2...\n",
      "Executing for i = 3...\n",
      "Executing for i = 4...\n",
      "So factorial of 5 is 120...\n",
      "\n",
      "Executing for i = 2...\n",
      "Executing for i = 3...\n",
      "Executing for i = 4...\n",
      "Executing for i = 5...\n",
      "So factorial of 6 is 720...\n"
     ]
    }
   ],
   "source": [
    "# non-recursive factorial calculating function\n",
    "# 5! = 1 * 2 * 3 * 4 * 5 = 5 * 4 * 3 * 2 * 1 = 120\n",
    "def factorial_nr(num):\n",
    "    if (num == 0 or num == 1): return 1\n",
    "    fact = num\n",
    "    for i in range(2, num):\n",
    "        print (f\"Executing for i = {i}...\")\n",
    "        fact *= i\n",
    "    return fact\n",
    "\n",
    "n = 5\n",
    "result = factorial_nr(n)\n",
    "print (f\"So factorial of {n} is {result}...\")\n",
    "print ()\n",
    "n = 6\n",
    "result = factorial_nr(n)\n",
    "print (f\"So factorial of {n} is {result}...\")"
   ]
  },
  {
   "cell_type": "code",
   "execution_count": 213,
   "id": "692e394c-9acc-4dfa-9288-45c0c6bfaa3a",
   "metadata": {},
   "outputs": [
    {
     "name": "stdout",
     "output_type": "stream",
     "text": [
      "So factorial of 5 is 120...\n",
      "\n",
      "So factorial of 6 is 720...\n"
     ]
    }
   ],
   "source": [
    "# recursive factorial calculating function\n",
    "# 5! = 1 * 2 * 3 * 4 * 5 = 5 * 4 * 3 * 2 * 1 = 120\n",
    "def factorial_r(num):\n",
    "    if (num == 0 or num == 1): return 1    # base case: for certain input values outputs are pre-known to us\n",
    "    return num * factorial_r(num - 1)    # reursive case: the function will call itself\n",
    "\n",
    "n = 5\n",
    "result = factorial_r(n)\n",
    "print (f\"So factorial of {n} is {result}...\")\n",
    "print ()\n",
    "n = 6\n",
    "result = factorial_r(n)\n",
    "print (f\"So factorial of {n} is {result}...\")"
   ]
  },
  {
   "cell_type": "code",
   "execution_count": null,
   "id": "bac87854-e8b3-4db2-a975-0580813984ae",
   "metadata": {},
   "outputs": [],
   "source": [
    "5! = 5 * 4!\n",
    "         4 * 3!\n",
    "             3 * 2!\n",
    "                 2 * 1!\n",
    "                     1\n",
    "                 2\n",
    "             6\n",
    "         24\n",
    "     120"
   ]
  },
  {
   "cell_type": "code",
   "execution_count": 215,
   "id": "94beb92a-c8cd-40fd-bff2-3082768e240b",
   "metadata": {},
   "outputs": [
    {
     "name": "stdout",
     "output_type": "stream",
     "text": [
      "<function <lambda> at 0x00000206E2F3ECA0> <class 'function'> 2228600695968\n",
      "25\n",
      "36\n"
     ]
    }
   ],
   "source": [
    "# lambda function\n",
    "my_square = lambda num: num * num\n",
    "\n",
    "print (my_square, type(my_square), id(my_square))\n",
    "\n",
    "print (my_square(5))\n",
    "\n",
    "result = my_square(6)\n",
    "print (result)"
   ]
  },
  {
   "cell_type": "code",
   "execution_count": 216,
   "id": "f33788e6-cacc-45df-b0b5-82b185393075",
   "metadata": {},
   "outputs": [
    {
     "name": "stdout",
     "output_type": "stream",
     "text": [
      "<function <lambda> at 0x00000206E3162820> <class 'function'> 2228602939424\n",
      "900\n",
      "800\n"
     ]
    }
   ],
   "source": [
    "my_addition = lambda num1, num2: num1 + num2\n",
    "\n",
    "print (my_addition, type(my_addition), id(my_addition))\n",
    "\n",
    "print (my_addition(500, 400))\n",
    "\n",
    "result = my_addition(300, 500)\n",
    "print (result)"
   ]
  },
  {
   "cell_type": "code",
   "execution_count": null,
   "id": "bd71c829-4c7a-4da7-b42e-03a9b23eaaf5",
   "metadata": {},
   "outputs": [],
   "source": [
    "num1 = num1 * 10  # assignment statement"
   ]
  },
  {
   "cell_type": "code",
   "execution_count": 217,
   "id": "5203780d-736e-46f7-8c41-85c8fea2055a",
   "metadata": {},
   "outputs": [
    {
     "name": "stdout",
     "output_type": "stream",
     "text": [
      "<function <lambda> at 0x00000206E2F3E040> <class 'function'> 2228600692800\n",
      "120\n",
      "720\n"
     ]
    }
   ],
   "source": [
    "my_factorial = lambda num1: 1 if (num1 == 0 or num1 == 1) else num1 * my_factorial(num1 - 1)\n",
    "\n",
    "print (my_factorial, type(my_factorial), id(my_factorial))\n",
    "\n",
    "print (my_factorial(5))\n",
    "\n",
    "result = my_factorial(6)\n",
    "print (result)"
   ]
  },
  {
   "cell_type": "code",
   "execution_count": 219,
   "id": "414b224a-9974-44a6-8693-27503d77f967",
   "metadata": {},
   "outputs": [
    {
     "name": "stdout",
     "output_type": "stream",
     "text": [
      "30\n",
      "80\n",
      "150\n"
     ]
    }
   ],
   "source": [
    "def funct9(num):\n",
    "    myproduct = lambda n: n * num\n",
    "    return myproduct\n",
    "\n",
    "var10 = funct9(10)\n",
    "var20 = funct9(20)\n",
    "print (var10(3))\n",
    "print (var20(4))\n",
    "print (funct9(30)(5))"
   ]
  },
  {
   "cell_type": "code",
   "execution_count": 220,
   "id": "164aefb1-4867-4cbe-a6b1-0ce62324d5a1",
   "metadata": {},
   "outputs": [
    {
     "name": "stdout",
     "output_type": "stream",
     "text": [
      "10 140709088208976\n",
      "100 140709088211856\n",
      "10 140709088208976\n"
     ]
    }
   ],
   "source": [
    "# using the global keyword\n",
    "i = 10\n",
    "def funct10():\n",
    "    i = 100\n",
    "    print (i, id(i))\n",
    "    \n",
    "print (i, id(i))\n",
    "funct10()\n",
    "print (i, id(i))"
   ]
  },
  {
   "cell_type": "code",
   "execution_count": 221,
   "id": "a23bb16c-62f3-4916-924c-3de8e2849440",
   "metadata": {},
   "outputs": [
    {
     "name": "stdout",
     "output_type": "stream",
     "text": [
      "10 140709088208976\n",
      "100 140709088211856\n",
      "100 140709088211856\n"
     ]
    }
   ],
   "source": [
    "i = 10\n",
    "def funct10():\n",
    "    global i\n",
    "    i = 100\n",
    "    print (i, id(i))\n",
    "    \n",
    "print (i, id(i))\n",
    "funct10()\n",
    "print (i, id(i))"
   ]
  },
  {
   "cell_type": "code",
   "execution_count": null,
   "id": "65c3270c-841a-41da-8ddd-0073bb4c50e7",
   "metadata": {},
   "outputs": [],
   "source": []
  }
 ],
 "metadata": {
  "kernelspec": {
   "display_name": "Python 3",
   "language": "python",
   "name": "python3"
  },
  "language_info": {
   "codemirror_mode": {
    "name": "ipython",
    "version": 3
   },
   "file_extension": ".py",
   "mimetype": "text/x-python",
   "name": "python",
   "nbconvert_exporter": "python",
   "pygments_lexer": "ipython3",
   "version": "3.8.8"
  }
 },
 "nbformat": 4,
 "nbformat_minor": 5
}
